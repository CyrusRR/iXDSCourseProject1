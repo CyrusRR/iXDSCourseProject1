{
 "cells": [
  {
   "cell_type": "markdown",
   "metadata": {},
   "source": [
    "- age\n",
    "    - younger vs. older people and decile scores, hypothesize with equivalent means\n",
    "    - age-specific, using percentage of those who reoffend and see where each age compares to the mean of all people\n",
    "    \n",
    "- decile score\n",
    "\n",
    "- years between offenses\n",
    "\n",
    "- race\n",
    "    - compared with decile score and violent decile score in more depth\n",
    "\n",
    "\n"
   ]
  },
  {
   "cell_type": "code",
   "execution_count": 1996,
   "metadata": {},
   "outputs": [],
   "source": [
    "import numpy as np\n",
    "import pandas as pd\n",
    "\n",
    "from IPython.display import Image\n",
    "\n",
    "import warnings\n",
    "warnings.simplefilter(\"ignore\")"
   ]
  },
  {
   "cell_type": "code",
   "execution_count": 1997,
   "metadata": {},
   "outputs": [],
   "source": [
    "compas = pd.read_csv(\"Compas.csv\")"
   ]
  },
  {
   "cell_type": "code",
   "execution_count": 1998,
   "metadata": {},
   "outputs": [
    {
     "data": {
      "text/html": [
       "<div>\n",
       "<style scoped>\n",
       "    .dataframe tbody tr th:only-of-type {\n",
       "        vertical-align: middle;\n",
       "    }\n",
       "\n",
       "    .dataframe tbody tr th {\n",
       "        vertical-align: top;\n",
       "    }\n",
       "\n",
       "    .dataframe thead th {\n",
       "        text-align: right;\n",
       "    }\n",
       "</style>\n",
       "<table border=\"1\" class=\"dataframe\">\n",
       "  <thead>\n",
       "    <tr style=\"text-align: right;\">\n",
       "      <th></th>\n",
       "      <th>id</th>\n",
       "      <th>first</th>\n",
       "      <th>last</th>\n",
       "      <th>sex</th>\n",
       "      <th>age</th>\n",
       "      <th>age_cat</th>\n",
       "      <th>race</th>\n",
       "      <th>juv_fel_count</th>\n",
       "      <th>decile_score</th>\n",
       "      <th>juv_misd_count</th>\n",
       "      <th>juv_other_count</th>\n",
       "      <th>priors_count</th>\n",
       "      <th>is_recid</th>\n",
       "      <th>is_violent_recid</th>\n",
       "      <th>v_decile_score</th>\n",
       "      <th>v_score_text</th>\n",
       "      <th>decile_score.1</th>\n",
       "      <th>score_text</th>\n",
       "    </tr>\n",
       "  </thead>\n",
       "  <tbody>\n",
       "    <tr>\n",
       "      <th>0</th>\n",
       "      <td>1</td>\n",
       "      <td>miguel</td>\n",
       "      <td>hernandez</td>\n",
       "      <td>Male</td>\n",
       "      <td>69</td>\n",
       "      <td>Greater than 45</td>\n",
       "      <td>Other</td>\n",
       "      <td>0</td>\n",
       "      <td>1</td>\n",
       "      <td>0</td>\n",
       "      <td>0</td>\n",
       "      <td>0</td>\n",
       "      <td>0</td>\n",
       "      <td>0</td>\n",
       "      <td>1</td>\n",
       "      <td>Low</td>\n",
       "      <td>1</td>\n",
       "      <td>Low</td>\n",
       "    </tr>\n",
       "    <tr>\n",
       "      <th>1</th>\n",
       "      <td>2</td>\n",
       "      <td>michael</td>\n",
       "      <td>ryan</td>\n",
       "      <td>Male</td>\n",
       "      <td>31</td>\n",
       "      <td>25 - 45</td>\n",
       "      <td>Caucasian</td>\n",
       "      <td>0</td>\n",
       "      <td>5</td>\n",
       "      <td>0</td>\n",
       "      <td>0</td>\n",
       "      <td>0</td>\n",
       "      <td>-1</td>\n",
       "      <td>0</td>\n",
       "      <td>2</td>\n",
       "      <td>Low</td>\n",
       "      <td>5</td>\n",
       "      <td>Medium</td>\n",
       "    </tr>\n",
       "    <tr>\n",
       "      <th>2</th>\n",
       "      <td>3</td>\n",
       "      <td>kevon</td>\n",
       "      <td>dixon</td>\n",
       "      <td>Male</td>\n",
       "      <td>34</td>\n",
       "      <td>25 - 45</td>\n",
       "      <td>African-American</td>\n",
       "      <td>0</td>\n",
       "      <td>3</td>\n",
       "      <td>0</td>\n",
       "      <td>0</td>\n",
       "      <td>0</td>\n",
       "      <td>1</td>\n",
       "      <td>1</td>\n",
       "      <td>1</td>\n",
       "      <td>Low</td>\n",
       "      <td>3</td>\n",
       "      <td>Low</td>\n",
       "    </tr>\n",
       "    <tr>\n",
       "      <th>3</th>\n",
       "      <td>4</td>\n",
       "      <td>ed</td>\n",
       "      <td>philo</td>\n",
       "      <td>Male</td>\n",
       "      <td>24</td>\n",
       "      <td>Less than 25</td>\n",
       "      <td>African-American</td>\n",
       "      <td>0</td>\n",
       "      <td>4</td>\n",
       "      <td>0</td>\n",
       "      <td>1</td>\n",
       "      <td>4</td>\n",
       "      <td>1</td>\n",
       "      <td>0</td>\n",
       "      <td>3</td>\n",
       "      <td>Low</td>\n",
       "      <td>4</td>\n",
       "      <td>Low</td>\n",
       "    </tr>\n",
       "    <tr>\n",
       "      <th>4</th>\n",
       "      <td>5</td>\n",
       "      <td>marcu</td>\n",
       "      <td>brown</td>\n",
       "      <td>Male</td>\n",
       "      <td>23</td>\n",
       "      <td>Less than 25</td>\n",
       "      <td>African-American</td>\n",
       "      <td>0</td>\n",
       "      <td>8</td>\n",
       "      <td>1</td>\n",
       "      <td>0</td>\n",
       "      <td>1</td>\n",
       "      <td>0</td>\n",
       "      <td>0</td>\n",
       "      <td>6</td>\n",
       "      <td>Medium</td>\n",
       "      <td>8</td>\n",
       "      <td>High</td>\n",
       "    </tr>\n",
       "    <tr>\n",
       "      <th>...</th>\n",
       "      <td>...</td>\n",
       "      <td>...</td>\n",
       "      <td>...</td>\n",
       "      <td>...</td>\n",
       "      <td>...</td>\n",
       "      <td>...</td>\n",
       "      <td>...</td>\n",
       "      <td>...</td>\n",
       "      <td>...</td>\n",
       "      <td>...</td>\n",
       "      <td>...</td>\n",
       "      <td>...</td>\n",
       "      <td>...</td>\n",
       "      <td>...</td>\n",
       "      <td>...</td>\n",
       "      <td>...</td>\n",
       "      <td>...</td>\n",
       "      <td>...</td>\n",
       "    </tr>\n",
       "    <tr>\n",
       "      <th>11752</th>\n",
       "      <td>11753</td>\n",
       "      <td>patrick</td>\n",
       "      <td>hamilton</td>\n",
       "      <td>Male</td>\n",
       "      <td>47</td>\n",
       "      <td>Greater than 45</td>\n",
       "      <td>Other</td>\n",
       "      <td>0</td>\n",
       "      <td>3</td>\n",
       "      <td>0</td>\n",
       "      <td>0</td>\n",
       "      <td>1</td>\n",
       "      <td>0</td>\n",
       "      <td>0</td>\n",
       "      <td>1</td>\n",
       "      <td>Low</td>\n",
       "      <td>3</td>\n",
       "      <td>Low</td>\n",
       "    </tr>\n",
       "    <tr>\n",
       "      <th>11753</th>\n",
       "      <td>11754</td>\n",
       "      <td>raymond</td>\n",
       "      <td>hernandez</td>\n",
       "      <td>Male</td>\n",
       "      <td>22</td>\n",
       "      <td>Less than 25</td>\n",
       "      <td>Caucasian</td>\n",
       "      <td>0</td>\n",
       "      <td>7</td>\n",
       "      <td>3</td>\n",
       "      <td>5</td>\n",
       "      <td>3</td>\n",
       "      <td>1</td>\n",
       "      <td>0</td>\n",
       "      <td>5</td>\n",
       "      <td>Medium</td>\n",
       "      <td>7</td>\n",
       "      <td>Medium</td>\n",
       "    </tr>\n",
       "    <tr>\n",
       "      <th>11754</th>\n",
       "      <td>11755</td>\n",
       "      <td>dieuseul</td>\n",
       "      <td>pierre-gilles</td>\n",
       "      <td>Male</td>\n",
       "      <td>35</td>\n",
       "      <td>25 - 45</td>\n",
       "      <td>Other</td>\n",
       "      <td>0</td>\n",
       "      <td>4</td>\n",
       "      <td>0</td>\n",
       "      <td>0</td>\n",
       "      <td>0</td>\n",
       "      <td>0</td>\n",
       "      <td>0</td>\n",
       "      <td>3</td>\n",
       "      <td>Low</td>\n",
       "      <td>4</td>\n",
       "      <td>Low</td>\n",
       "    </tr>\n",
       "    <tr>\n",
       "      <th>11755</th>\n",
       "      <td>11756</td>\n",
       "      <td>scott</td>\n",
       "      <td>lomagistro</td>\n",
       "      <td>Male</td>\n",
       "      <td>29</td>\n",
       "      <td>25 - 45</td>\n",
       "      <td>Caucasian</td>\n",
       "      <td>0</td>\n",
       "      <td>3</td>\n",
       "      <td>0</td>\n",
       "      <td>0</td>\n",
       "      <td>2</td>\n",
       "      <td>0</td>\n",
       "      <td>0</td>\n",
       "      <td>2</td>\n",
       "      <td>Low</td>\n",
       "      <td>3</td>\n",
       "      <td>Low</td>\n",
       "    </tr>\n",
       "    <tr>\n",
       "      <th>11756</th>\n",
       "      <td>11757</td>\n",
       "      <td>chin</td>\n",
       "      <td>yan</td>\n",
       "      <td>Male</td>\n",
       "      <td>34</td>\n",
       "      <td>25 - 45</td>\n",
       "      <td>Asian</td>\n",
       "      <td>0</td>\n",
       "      <td>1</td>\n",
       "      <td>0</td>\n",
       "      <td>0</td>\n",
       "      <td>0</td>\n",
       "      <td>0</td>\n",
       "      <td>0</td>\n",
       "      <td>1</td>\n",
       "      <td>Low</td>\n",
       "      <td>1</td>\n",
       "      <td>Low</td>\n",
       "    </tr>\n",
       "  </tbody>\n",
       "</table>\n",
       "<p>11757 rows × 18 columns</p>\n",
       "</div>"
      ],
      "text/plain": [
       "          id     first           last   sex  age          age_cat  \\\n",
       "0          1    miguel      hernandez  Male   69  Greater than 45   \n",
       "1          2   michael           ryan  Male   31          25 - 45   \n",
       "2          3     kevon          dixon  Male   34          25 - 45   \n",
       "3          4        ed          philo  Male   24     Less than 25   \n",
       "4          5     marcu          brown  Male   23     Less than 25   \n",
       "...      ...       ...            ...   ...  ...              ...   \n",
       "11752  11753   patrick       hamilton  Male   47  Greater than 45   \n",
       "11753  11754   raymond      hernandez  Male   22     Less than 25   \n",
       "11754  11755  dieuseul  pierre-gilles  Male   35          25 - 45   \n",
       "11755  11756     scott     lomagistro  Male   29          25 - 45   \n",
       "11756  11757      chin            yan  Male   34          25 - 45   \n",
       "\n",
       "                   race  juv_fel_count  decile_score  juv_misd_count  \\\n",
       "0                 Other              0             1               0   \n",
       "1             Caucasian              0             5               0   \n",
       "2      African-American              0             3               0   \n",
       "3      African-American              0             4               0   \n",
       "4      African-American              0             8               1   \n",
       "...                 ...            ...           ...             ...   \n",
       "11752             Other              0             3               0   \n",
       "11753         Caucasian              0             7               3   \n",
       "11754             Other              0             4               0   \n",
       "11755         Caucasian              0             3               0   \n",
       "11756             Asian              0             1               0   \n",
       "\n",
       "       juv_other_count  priors_count  is_recid  is_violent_recid  \\\n",
       "0                    0             0         0                 0   \n",
       "1                    0             0        -1                 0   \n",
       "2                    0             0         1                 1   \n",
       "3                    1             4         1                 0   \n",
       "4                    0             1         0                 0   \n",
       "...                ...           ...       ...               ...   \n",
       "11752                0             1         0                 0   \n",
       "11753                5             3         1                 0   \n",
       "11754                0             0         0                 0   \n",
       "11755                0             2         0                 0   \n",
       "11756                0             0         0                 0   \n",
       "\n",
       "       v_decile_score v_score_text  decile_score.1 score_text  \n",
       "0                   1          Low               1        Low  \n",
       "1                   2          Low               5     Medium  \n",
       "2                   1          Low               3        Low  \n",
       "3                   3          Low               4        Low  \n",
       "4                   6       Medium               8       High  \n",
       "...               ...          ...             ...        ...  \n",
       "11752               1          Low               3        Low  \n",
       "11753               5       Medium               7     Medium  \n",
       "11754               3          Low               4        Low  \n",
       "11755               2          Low               3        Low  \n",
       "11756               1          Low               1        Low  \n",
       "\n",
       "[11757 rows x 18 columns]"
      ]
     },
     "execution_count": 1998,
     "metadata": {},
     "output_type": "execute_result"
    }
   ],
   "source": [
    "compas.drop(compas.columns[0], axis = 1)"
   ]
  },
  {
   "cell_type": "code",
   "execution_count": 1999,
   "metadata": {},
   "outputs": [],
   "source": [
    "young = compas[compas.age_cat == \"Less than 25\"].v_decile_score\n",
    "middle = compas[compas.age_cat == \"25 - 45\"].v_decile_score\n",
    "old = compas[compas.age_cat == \"Greater than 45\"].v_decile_score"
   ]
  },
  {
   "cell_type": "code",
   "execution_count": 2000,
   "metadata": {},
   "outputs": [],
   "source": [
    "from statsmodels.stats.weightstats import ttest_ind\n",
    "from scipy import stats"
   ]
  },
  {
   "cell_type": "markdown",
   "metadata": {},
   "source": [
    "These tests are just checking if one age group has a higher risk of violence than the other"
   ]
  },
  {
   "cell_type": "code",
   "execution_count": 2001,
   "metadata": {},
   "outputs": [
    {
     "name": "stdout",
     "output_type": "stream",
     "text": [
      "6.049180327868853 3.3771995788840425 1.7897301349325336\n"
     ]
    }
   ],
   "source": [
    "print(young.mean(), middle.mean(), old.mean())"
   ]
  },
  {
   "cell_type": "code",
   "execution_count": 2002,
   "metadata": {},
   "outputs": [
    {
     "name": "stdout",
     "output_type": "stream",
     "text": [
      "56.21398274904184 0.0 5172.47658225915\n"
     ]
    }
   ],
   "source": [
    "tstat, pvalue, ddof = ttest_ind(\n",
    "                                young,\n",
    "                                middle,\n",
    "                                alternative=\"larger\",\n",
    "                                usevar=\"unequal\"\n",
    ")\n",
    "print(tstat, pvalue, ddof)"
   ]
  },
  {
   "cell_type": "code",
   "execution_count": 2003,
   "metadata": {},
   "outputs": [
    {
     "name": "stdout",
     "output_type": "stream",
     "text": [
      "38.63847158703123 5.2422454240000335e-297 7127.205606761121\n"
     ]
    }
   ],
   "source": [
    " tstat, pvalue, ddof = ttest_ind(\n",
    "                                middle,\n",
    "                                old,\n",
    "                                alternative=\"larger\",\n",
    "                                usevar=\"unequal\"\n",
    " )\n",
    "print(tstat, pvalue, ddof)    "
   ]
  },
  {
   "cell_type": "code",
   "execution_count": 2004,
   "metadata": {},
   "outputs": [
    {
     "name": "stdout",
     "output_type": "stream",
     "text": [
      "87.24747908351314 0.0 4723.302717729157\n"
     ]
    }
   ],
   "source": [
    "tstat, pvalue, ddof = ttest_ind(\n",
    "                                young,\n",
    "                                old,\n",
    "                                alternative=\"larger\",\n",
    "                                usevar=\"unequal\"\n",
    " )\n",
    "print(tstat, pvalue, ddof) "
   ]
  },
  {
   "cell_type": "code",
   "execution_count": 2005,
   "metadata": {},
   "outputs": [],
   "source": [
    "highrisk = compas[compas.score_text == \"High\"]\n",
    "highrisk = highrisk[(highrisk.is_recid != -1) & (highrisk.decile_score != -1)]\n",
    "## -1 = unknown, so those were deleted"
   ]
  },
  {
   "cell_type": "code",
   "execution_count": 2006,
   "metadata": {},
   "outputs": [],
   "source": [
    "highrisk[\"accuracy\"] = (highrisk.is_recid == 1)\n",
    "##checked if is_recid is True with high risk decile score to determine accuracy"
   ]
  },
  {
   "cell_type": "code",
   "execution_count": 2007,
   "metadata": {},
   "outputs": [],
   "source": [
    "young2 = highrisk[highrisk.age_cat == \"Less than 25\"].accuracy\n",
    "middle2 = highrisk[highrisk.age_cat == \"25 - 45\"].accuracy\n",
    "old2 = highrisk[highrisk.age_cat == \"Greater than 45\"].accuracy\n",
    "##subset by age"
   ]
  },
  {
   "cell_type": "code",
   "execution_count": 2008,
   "metadata": {},
   "outputs": [
    {
     "name": "stdout",
     "output_type": "stream",
     "text": [
      "0.5481927710843374 0.5325732899022801 0.4251207729468599\n"
     ]
    }
   ],
   "source": [
    "print(young2.mean(), middle2.mean(), old2.mean())"
   ]
  },
  {
   "cell_type": "code",
   "execution_count": 2009,
   "metadata": {},
   "outputs": [
    {
     "name": "stdout",
     "output_type": "stream",
     "text": [
      "0.6505547751165384 0.5154436817845576 1361.6788657477787\n"
     ]
    }
   ],
   "source": [
    " tstat, pvalue, ddof = ttest_ind(\n",
    "                                young2,\n",
    "                                middle2,\n",
    "                                alternative=\"two-sided\",\n",
    "                                usevar=\"unequal\"\n",
    " )\n",
    "print(tstat, pvalue, ddof) "
   ]
  },
  {
   "cell_type": "code",
   "execution_count": 2010,
   "metadata": {},
   "outputs": [
    {
     "name": "stdout",
     "output_type": "stream",
     "text": [
      "3.116051265304813 0.001986434026815587 345.5133605030412\n"
     ]
    }
   ],
   "source": [
    " tstat, pvalue, ddof = ttest_ind(\n",
    "                                young2,\n",
    "                                old2,\n",
    "                                alternative=\"two-sided\",\n",
    "                                usevar=\"unequal\"\n",
    " )\n",
    "print(tstat, pvalue, ddof) "
   ]
  },
  {
   "cell_type": "code",
   "execution_count": 2011,
   "metadata": {},
   "outputs": [
    {
     "name": "stdout",
     "output_type": "stream",
     "text": [
      "2.882869983424161 0.004244991793179706 281.10125290631083\n"
     ]
    }
   ],
   "source": [
    " tstat, pvalue, ddof = ttest_ind(\n",
    "                                middle2,\n",
    "                                old2,\n",
    "                                alternative=\"two-sided\",\n",
    "                                usevar=\"unequal\"\n",
    " )\n",
    "print(tstat, pvalue, ddof) "
   ]
  },
  {
   "cell_type": "markdown",
   "metadata": {},
   "source": [
    "These hypothesis tests were checking if there was a significant difference between the age groups accuracy. \n",
    "It seems as though there is a signifcant difference between the younger two groups and the oldest group.\n",
    "It would also be a good idea to look at low risk. "
   ]
  },
  {
   "cell_type": "code",
   "execution_count": 2012,
   "metadata": {},
   "outputs": [],
   "source": [
    "##same procedure but with low risk\n",
    "lowrisk = compas[compas.score_text == \"Low\"]\n",
    "lowrisk = lowrisk[(lowrisk.is_recid != -1) & (lowrisk.decile_score != -1)]"
   ]
  },
  {
   "cell_type": "code",
   "execution_count": 2013,
   "metadata": {},
   "outputs": [],
   "source": [
    "lowrisk[\"accuracy\"] = (lowrisk.is_recid == 0)\n",
    "##accurate if is_recid == 0"
   ]
  },
  {
   "cell_type": "code",
   "execution_count": 2014,
   "metadata": {},
   "outputs": [],
   "source": [
    "young3 = lowrisk[lowrisk.age_cat == \"Less than 25\"].accuracy\n",
    "middle3 = lowrisk[lowrisk.age_cat == \"25 - 45\"].accuracy\n",
    "old3 = lowrisk[lowrisk.age_cat == \"Greater than 45\"].accuracy"
   ]
  },
  {
   "cell_type": "code",
   "execution_count": 2015,
   "metadata": {},
   "outputs": [
    {
     "name": "stdout",
     "output_type": "stream",
     "text": [
      "0.690734055354994 0.7607060185185185 0.8178879310344828\n"
     ]
    }
   ],
   "source": [
    "print(young3.mean(), middle3.mean(), old3.mean())"
   ]
  },
  {
   "cell_type": "code",
   "execution_count": 2016,
   "metadata": {},
   "outputs": [
    {
     "name": "stdout",
     "output_type": "stream",
     "text": [
      "-3.9737509848699326 7.499325893430174e-05 1192.5917089874865\n"
     ]
    }
   ],
   "source": [
    " tstat, pvalue, ddof = ttest_ind(\n",
    "                                young3,\n",
    "                                middle3,\n",
    "                                alternative=\"two-sided\",\n",
    "                                usevar=\"unequal\"\n",
    " )\n",
    "print(tstat, pvalue, ddof) "
   ]
  },
  {
   "cell_type": "code",
   "execution_count": 2017,
   "metadata": {},
   "outputs": [
    {
     "name": "stdout",
     "output_type": "stream",
     "text": [
      "-6.919646610619877 6.9337001458953706e-12 1369.0461762834632\n"
     ]
    }
   ],
   "source": [
    " tstat, pvalue, ddof = ttest_ind(\n",
    "                                young3,\n",
    "                                old3,\n",
    "                                alternative=\"two-sided\",\n",
    "                                usevar=\"unequal\"\n",
    " )\n",
    "print(tstat, pvalue, ddof) "
   ]
  },
  {
   "cell_type": "code",
   "execution_count": 2018,
   "metadata": {},
   "outputs": [
    {
     "name": "stdout",
     "output_type": "stream",
     "text": [
      "-4.958642361248988 7.383646858476191e-07 4132.705113743328\n"
     ]
    }
   ],
   "source": [
    " tstat, pvalue, ddof = ttest_ind(\n",
    "                                middle3,\n",
    "                                old3,\n",
    "                                alternative=\"two-sided\",\n",
    "                                usevar=\"unequal\"\n",
    " )\n",
    "print(tstat, pvalue, ddof) "
   ]
  },
  {
   "cell_type": "markdown",
   "metadata": {},
   "source": [
    "The low risk accuracy for the oldest group is much higher.\n",
    "The differences in accuracy are significant between all groups. They likely do not have the same average accuracy. \n",
    "Since the average accuracy for the oldest group is significantly lower for high risk and higher for low risk, this may mean this algorithm may give the older group lower scores in general. "
   ]
  },
  {
   "cell_type": "markdown",
   "metadata": {},
   "source": [
    "# Comparing the accuracy of \"High\" predictive values across race and sex"
   ]
  },
  {
   "cell_type": "code",
   "execution_count": 2019,
   "metadata": {},
   "outputs": [],
   "source": [
    "compasrisk = compas[(compas.race == \"African-American\") | (compas.race == \"Caucasian\")]\n",
    "compasrisk = compasrisk[(compasrisk.is_recid != -1) & (compasrisk.decile_score != -1)]\n",
    "highriskrace = compasrisk[(compasrisk.score_text == \"High\")]\n",
    "lowriskrace  = compasrisk[(compasrisk.score_text == \"Low\")]\n",
    "highriskrace[\"accuracyhigh\"] = (compasrisk.is_recid == 1)\n",
    "lowriskrace[\"accuracylow\"] = (compasrisk.is_recid == 0)"
   ]
  },
  {
   "cell_type": "code",
   "execution_count": 2020,
   "metadata": {},
   "outputs": [],
   "source": [
    "HWhitt = highriskrace[(highriskrace.race==\"Caucasian\")&(highriskrace.score_text==\"High\")].accuracyhigh\n",
    "HWhitemen = highriskrace[(highriskrace.race==\"Caucasian\")&(highriskrace.sex==\"Male\")&(highriskrace.score_text==\"High\")].accuracyhigh\n",
    "HWhitewomen = highriskrace[(highriskrace.race==\"Caucasian\")&(highriskrace.sex==\"Female\")&(highriskrace.score_text==\"High\")].accuracyhigh\n",
    "HBlakk = highriskrace[(highriskrace.race==\"African-American\")&(highriskrace.score_text==\"High\")].accuracyhigh\n",
    "HBlackmen = highriskrace[(highriskrace.race==\"African-American\")&(highriskrace.sex==\"Male\")&(highriskrace.score_text==\"High\")].accuracyhigh\n",
    "HBlackwomen = highriskrace[(highriskrace.race==\"African-American\")&(highriskrace.sex==\"Female\")&(highriskrace.score_text==\"High\")].accuracyhigh\n",
    "\n",
    "LWhitt = lowriskrace[(lowriskrace.race==\"Caucasian\")&(lowriskrace.score_text==\"Low\")].accuracylow\n",
    "LWhitemen = lowriskrace[(lowriskrace.race==\"Caucasian\")&(lowriskrace.sex==\"Male\")&(lowriskrace.score_text==\"Low\")].accuracylow\n",
    "LWhitewomen = lowriskrace[(lowriskrace.race==\"Caucasian\")&(lowriskrace.sex==\"Female\")&(lowriskrace.score_text==\"Low\")].accuracylow\n",
    "LBlakk = lowriskrace[(lowriskrace.race==\"African-American\")&(lowriskrace.score_text==\"Low\")].accuracylow\n",
    "LBlackmen = lowriskrace[(lowriskrace.race==\"African-American\")&(lowriskrace.sex==\"Male\")&(lowriskrace.score_text==\"Low\")].accuracylow\n",
    "LBlackwomen = lowriskrace[(lowriskrace.race==\"African-American\")&(lowriskrace.sex==\"Female\")&(lowriskrace.score_text==\"Low\")].accuracylow"
   ]
  },
  {
   "cell_type": "code",
   "execution_count": 2021,
   "metadata": {},
   "outputs": [],
   "source": [
    "tstat, pvalue, ddof = ttest_ind(HWhitt,HBlakk,alternative=\"smaller\",usevar=\"unequal\")\n",
    "tstat1, pvalue1, ddof1 = ttest_ind(HWhitemen,HBlackmen,alternative=\"smaller\",usevar=\"unequal\")\n",
    "tstat2, pvalue2, ddof2 = ttest_ind(HWhitewomen,HBlackwomen,alternative=\"smaller\",usevar=\"unequal\")\n",
    "tstat3, pvalue3, ddof3 = ttest_ind(HBlackwomen,HWhitemen,alternative=\"smaller\",usevar=\"unequal\")\n",
    "tstat4, pvalue4, ddof4 = ttest_ind(HWhitewomen,HBlackmen,alternative=\"smaller\",usevar=\"unequal\")\n",
    "tstat5, pvalue5, ddof5 = ttest_ind(HWhitewomen,HWhitemen,alternative=\"smaller\",usevar=\"unequal\")\n",
    "tstat6, pvalue6, ddof6 = ttest_ind(HBlackwomen,HBlackmen,alternative=\"smaller\",usevar=\"unequal\")\n",
    "\n",
    "Ltstat, Lpvalue, Lddof = ttest_ind(LWhitt,LBlakk,alternative=\"larger\",usevar=\"unequal\")\n",
    "Ltstat1, Lpvalue1, Lddof1 = ttest_ind(LWhitemen,LBlackmen,alternative=\"larger\",usevar=\"unequal\")\n",
    "Ltstat2, Lpvalue2, Lddof2 = ttest_ind(LWhitewomen,LBlackwomen,alternative=\"larger\",usevar=\"unequal\")\n",
    "Ltstat3, Lpvalue3, Lddof3 = ttest_ind(LBlackwomen,LWhitemen,alternative=\"larger\",usevar=\"unequal\")\n",
    "Ltstat4, Lpvalue4, Lddof4 = ttest_ind(LWhitewomen,LBlackmen,alternative=\"larger\",usevar=\"unequal\")\n",
    "Ltstat5, Lpvalue5, Lddof4 = ttest_ind(LWhitewomen,LWhitemen,alternative=\"larger\",usevar=\"unequal\")\n",
    "Ltstat6, Lpvalue6, Lddof5 = ttest_ind(LBlackwomen,LBlackmen,alternative=\"larger\",usevar=\"unequal\")"
   ]
  },
  {
   "cell_type": "code",
   "execution_count": 2022,
   "metadata": {},
   "outputs": [
    {
     "name": "stdout",
     "output_type": "stream",
     "text": [
      "High risk accuracy p-value \n",
      " \n",
      "White and Black p-value: 0.0557 \n",
      "White men and Black men p-value: 0.251 \n",
      "White women and Black women p-value: 0.1496 \n",
      "Black women and White men p-value: 0.033 \n",
      "White women and Black men p-value: 0.0005 \n",
      "White women and White men p-value: 0.0048 \n",
      "Black women and Black men p-value: 0.0032 \n",
      "\n",
      "Low risk accuracy p-value \n",
      " \n",
      "White and Black p-value: 0.0 \n",
      "White men and Black men p-value: 0.0 \n",
      "White women and Black women p-value: 0.5392 \n",
      "Black women and White men p-value: 0.0031 \n",
      "White women and Black men p-value: 0.0 \n",
      "White women and White men p-value: 0.0035 \n",
      "Black women and Black men p-value: 0.0 \n",
      "\n"
     ]
    }
   ],
   "source": [
    "print(\"High risk accuracy p-value\", \"\\n\",\"\\n\"\n",
    "      \"White and Black p-value:\", round(pvalue, 4), \"\\n\" \n",
    "      \"White men and Black men p-value:\", round(pvalue1, 4),\"\\n\"\n",
    "      \"White women and Black women p-value:\", round(pvalue2, 4),\"\\n\"\n",
    "      \"Black women and White men p-value:\", round(pvalue3, 4), \"\\n\"\n",
    "      \"White women and Black men p-value:\",round(pvalue4, 4), \"\\n\"\n",
    "      \"White women and White men p-value:\", round(pvalue5, 4), \"\\n\"\n",
    "      \"Black women and Black men p-value:\", round(pvalue6, 4), \"\\n\" \"\\n\"\n",
    "      \"Low risk accuracy p-value\", \"\\n\",\"\\n\"\n",
    "      \"White and Black p-value:\", round(Lpvalue, 4), \"\\n\" \n",
    "      \"White men and Black men p-value:\", round(Lpvalue1, 4),\"\\n\"\n",
    "      \"White women and Black women p-value:\", round(Lpvalue2, 4),\"\\n\"\n",
    "      \"Black women and White men p-value:\", round(Lpvalue3, 4), \"\\n\"\n",
    "      \"White women and Black men p-value:\", round(Lpvalue4, 4), \"\\n\"\n",
    "      \"White women and White men p-value:\", round(Lpvalue5, 4), \"\\n\"\n",
    "      \"Black women and Black men p-value:\", round(Lpvalue6, 4), \"\\n\")"
   ]
  },
  {
   "cell_type": "markdown",
   "metadata": {},
   "source": [
    "# Findings\n",
    "\n",
    "### There is a statistically significant discrepancy in the accuracies of \"High\" predictive values for recidivism when comparing:\n",
    "- Black women and White men\n",
    "- White women and Black men \n",
    "- White women and White men  \n",
    "- Black women and Black men \n",
    "\n",
    "### There is a statistically significant discrepancy in the accuracies of \"Low\" predictive values for recidivism when comparing:\n",
    "- White and Black overall population\n",
    "- White men and Black men \n",
    "- White men and Black women \n",
    "- White women and Black men\n",
    "- White women and White men\n",
    "- Black women and Black men"
   ]
  },
  {
   "cell_type": "markdown",
   "metadata": {},
   "source": [
    "# Data being compared:"
   ]
  },
  {
   "cell_type": "code",
   "execution_count": 2023,
   "metadata": {},
   "outputs": [
    {
     "data": {
      "text/html": [
       "<div>\n",
       "<style scoped>\n",
       "    .dataframe tbody tr th:only-of-type {\n",
       "        vertical-align: middle;\n",
       "    }\n",
       "\n",
       "    .dataframe tbody tr th {\n",
       "        vertical-align: top;\n",
       "    }\n",
       "\n",
       "    .dataframe thead th {\n",
       "        text-align: right;\n",
       "    }\n",
       "</style>\n",
       "<table border=\"1\" class=\"dataframe\">\n",
       "  <thead>\n",
       "    <tr style=\"text-align: right;\">\n",
       "      <th></th>\n",
       "      <th></th>\n",
       "      <th></th>\n",
       "      <th>accuracyhigh</th>\n",
       "    </tr>\n",
       "    <tr>\n",
       "      <th>race</th>\n",
       "      <th>sex</th>\n",
       "      <th>score_text</th>\n",
       "      <th></th>\n",
       "    </tr>\n",
       "  </thead>\n",
       "  <tbody>\n",
       "    <tr>\n",
       "      <th rowspan=\"2\" valign=\"top\">African-American</th>\n",
       "      <th>Female</th>\n",
       "      <th>High</th>\n",
       "      <td>0.446701</td>\n",
       "    </tr>\n",
       "    <tr>\n",
       "      <th>Male</th>\n",
       "      <th>High</th>\n",
       "      <td>0.551416</td>\n",
       "    </tr>\n",
       "    <tr>\n",
       "      <th rowspan=\"2\" valign=\"top\">Caucasian</th>\n",
       "      <th>Female</th>\n",
       "      <th>High</th>\n",
       "      <td>0.384615</td>\n",
       "    </tr>\n",
       "    <tr>\n",
       "      <th>Male</th>\n",
       "      <th>High</th>\n",
       "      <td>0.530351</td>\n",
       "    </tr>\n",
       "  </tbody>\n",
       "</table>\n",
       "</div>"
      ],
      "text/plain": [
       "                                    accuracyhigh\n",
       "race             sex    score_text              \n",
       "African-American Female High            0.446701\n",
       "                 Male   High            0.551416\n",
       "Caucasian        Female High            0.384615\n",
       "                 Male   High            0.530351"
      ]
     },
     "execution_count": 2023,
     "metadata": {},
     "output_type": "execute_result"
    }
   ],
   "source": [
    "highvisual = highriskrace.groupby([\"race\", \"sex\", \"score_text\"])[[\"accuracyhigh\"]].mean()\n",
    "highvisual"
   ]
  },
  {
   "cell_type": "code",
   "execution_count": 2024,
   "metadata": {},
   "outputs": [
    {
     "data": {
      "text/html": [
       "<div>\n",
       "<style scoped>\n",
       "    .dataframe tbody tr th:only-of-type {\n",
       "        vertical-align: middle;\n",
       "    }\n",
       "\n",
       "    .dataframe tbody tr th {\n",
       "        vertical-align: top;\n",
       "    }\n",
       "\n",
       "    .dataframe thead th {\n",
       "        text-align: right;\n",
       "    }\n",
       "</style>\n",
       "<table border=\"1\" class=\"dataframe\">\n",
       "  <thead>\n",
       "    <tr style=\"text-align: right;\">\n",
       "      <th></th>\n",
       "      <th></th>\n",
       "      <th></th>\n",
       "      <th>accuracylow</th>\n",
       "    </tr>\n",
       "    <tr>\n",
       "      <th>race</th>\n",
       "      <th>sex</th>\n",
       "      <th>score_text</th>\n",
       "      <th></th>\n",
       "    </tr>\n",
       "  </thead>\n",
       "  <tbody>\n",
       "    <tr>\n",
       "      <th rowspan=\"2\" valign=\"top\">African-American</th>\n",
       "      <th>Female</th>\n",
       "      <th>Low</th>\n",
       "      <td>0.829175</td>\n",
       "    </tr>\n",
       "    <tr>\n",
       "      <th>Male</th>\n",
       "      <th>Low</th>\n",
       "      <td>0.698218</td>\n",
       "    </tr>\n",
       "    <tr>\n",
       "      <th rowspan=\"2\" valign=\"top\">Caucasian</th>\n",
       "      <th>Female</th>\n",
       "      <th>Low</th>\n",
       "      <td>0.826923</td>\n",
       "    </tr>\n",
       "    <tr>\n",
       "      <th>Male</th>\n",
       "      <th>Low</th>\n",
       "      <td>0.777157</td>\n",
       "    </tr>\n",
       "  </tbody>\n",
       "</table>\n",
       "</div>"
      ],
      "text/plain": [
       "                                    accuracylow\n",
       "race             sex    score_text             \n",
       "African-American Female Low            0.829175\n",
       "                 Male   Low            0.698218\n",
       "Caucasian        Female Low            0.826923\n",
       "                 Male   Low            0.777157"
      ]
     },
     "execution_count": 2024,
     "metadata": {},
     "output_type": "execute_result"
    }
   ],
   "source": [
    "lowvisual = lowriskrace.groupby([\"race\", \"sex\", \"score_text\"])[[\"accuracylow\"]].mean()\n",
    "lowvisual"
   ]
  },
  {
   "cell_type": "markdown",
   "metadata": {},
   "source": [
    "# Comparing the accuracy of \"Low\" predictive values across race and sex"
   ]
  },
  {
   "cell_type": "code",
   "execution_count": 2025,
   "metadata": {},
   "outputs": [
    {
     "name": "stdout",
     "output_type": "stream",
     "text": [
      "High risk accuracy p-value \n",
      " \n",
      "White and Black p-value: 0.0857 \n",
      "White men and Black men p-value: 0.0652 \n",
      "Black women and White women p-value: 0.3683 \n",
      "Black women and White men p-value: 0.3224 \n",
      "White women and Black men p-value: 0.3133 \n",
      "White men and White women p-value: 0.4626 \n",
      "Black women and Black men p-value: 0.0468 \n",
      "\n",
      "Low risk accuracy p-value \n",
      " \n",
      "White and Black p-value: 0.0025 \n",
      "White men and Black men p-value: 0.0332 \n",
      "White women and Black women p-value: 0.0052 \n",
      "White men and Black women p-value: 0.4338 \n",
      "White women and Black men p-value: 0.0 \n",
      "White women and White men p-value: 0.0006 \n",
      "Black women and Black men p-value: 0.1287 \n",
      "\n"
     ]
    }
   ],
   "source": [
    "import numpy as np\n",
    "import pandas as pd\n",
    "\n",
    "from IPython.display import Image\n",
    "\n",
    "import warnings\n",
    "\n",
    "from statsmodels.stats.weightstats import ttest_ind\n",
    "from scipy import stats\n",
    "vcompasrisk = compas[(compas.race == \"African-American\") | (compas.race == \"Caucasian\")]\n",
    "vcompasrisk = vcompasrisk[(vcompasrisk.is_violent_recid != -1) & (vcompasrisk.v_decile_score != -1)]\n",
    "vhighriskrace = vcompasrisk[(vcompasrisk.v_score_text == \"High\")]\n",
    "vlowriskrace  = vcompasrisk[(vcompasrisk.v_score_text == \"Low\")]\n",
    "vhighriskrace[\"vaccuracyhigh\"] = (vcompasrisk.is_violent_recid == 1)\n",
    "vlowriskrace[\"vaccuracylow\"] = (vcompasrisk.is_violent_recid == 0)\n",
    "\n",
    "VHWhitt = vhighriskrace[(vhighriskrace.race==\"Caucasian\")&(vhighriskrace.v_score_text==\"High\")].vaccuracyhigh\n",
    "VHWhitemen = vhighriskrace[(vhighriskrace.race==\"Caucasian\")&(vhighriskrace.sex==\"Male\")&(vhighriskrace.v_score_text==\"High\")].vaccuracyhigh\n",
    "VHWhitewomen = vhighriskrace[(vhighriskrace.race==\"Caucasian\")&(vhighriskrace.sex==\"Female\")&(vhighriskrace.v_score_text==\"High\")].vaccuracyhigh\n",
    "VHBlakk = vhighriskrace[(vhighriskrace.race==\"African-American\")&(vhighriskrace.v_score_text==\"High\")].vaccuracyhigh\n",
    "VHBlackmen = vhighriskrace[(vhighriskrace.race==\"African-American\")&(vhighriskrace.sex==\"Male\")&(vhighriskrace.v_score_text==\"High\")].vaccuracyhigh\n",
    "VHBlackwomen = vhighriskrace[(vhighriskrace.race==\"African-American\")&(vhighriskrace.sex==\"Female\")&(vhighriskrace.v_score_text==\"High\")].vaccuracyhigh\n",
    "\n",
    "VLWhitt = vlowriskrace[(vlowriskrace.race==\"Caucasian\")&(vlowriskrace.v_score_text==\"Low\")].vaccuracylow\n",
    "VLWhitemen = vlowriskrace[(vlowriskrace.race==\"Caucasian\")&(vlowriskrace.sex==\"Male\")&(vlowriskrace.v_score_text==\"Low\")].vaccuracylow\n",
    "VLWhitewomen = vlowriskrace[(vlowriskrace.race==\"Caucasian\")&(vlowriskrace.sex==\"Female\")&(vlowriskrace.v_score_text==\"Low\")].vaccuracylow\n",
    "VLBlakk = vlowriskrace[(vlowriskrace.race==\"African-American\")&(vlowriskrace.v_score_text==\"Low\")].vaccuracylow\n",
    "VLBlackmen = vlowriskrace[(vlowriskrace.race==\"African-American\")&(vlowriskrace.sex==\"Male\")&(vlowriskrace.v_score_text==\"Low\")].vaccuracylow\n",
    "VLBlackwomen = vlowriskrace[(vlowriskrace.race==\"African-American\")&(vlowriskrace.sex==\"Female\")&(vlowriskrace.v_score_text==\"Low\")].vaccuracylow\n",
    "Vtstat, Vpvalue, Vddof = ttest_ind(VHWhitt,VHBlakk,alternative=\"smaller\",usevar=\"unequal\")\n",
    "Vtstat1, Vpvalue1, Vddof1 = ttest_ind(VHWhitemen,VHBlackmen,alternative=\"smaller\",usevar=\"unequal\")\n",
    "Vtstat2, Vpvalue2, Vddof2 = ttest_ind(VHBlackwomen,VHWhitewomen,alternative=\"smaller\",usevar=\"unequal\")\n",
    "Vtstat3, Vpvalue3, Vddof3 = ttest_ind(VHBlackwomen,VHWhitemen,alternative=\"smaller\",usevar=\"unequal\")\n",
    "Vtstat4, Vpvalue4, Vddof4 = ttest_ind(VHWhitewomen,VHBlackmen,alternative=\"smaller\",usevar=\"unequal\")\n",
    "Vtstat5, Vpvalue5, Vddof5 = ttest_ind(VHWhitemen,VHWhitewomen,alternative=\"smaller\",usevar=\"unequal\")\n",
    "Vtstat6, Vpvalue6, Vddof6 = ttest_ind(VHBlackwomen,VHBlackmen,alternative=\"smaller\",usevar=\"unequal\")\n",
    "\n",
    "VLtstat, VLpvalue, VLddof = ttest_ind(VLWhitt,VLBlakk,alternative=\"larger\",usevar=\"unequal\")\n",
    "VLtstat1, VLpvalue1, VLddof1 = ttest_ind(VLWhitemen,VLBlackmen,alternative=\"larger\",usevar=\"unequal\")\n",
    "VLtstat2, VLpvalue2, VLddof2 = ttest_ind(VLWhitewomen,VLBlackwomen,alternative=\"larger\",usevar=\"unequal\")\n",
    "VLtstat3, VLpvalue3, VLddof3 = ttest_ind(VLWhitemen,VLBlackwomen,alternative=\"larger\",usevar=\"unequal\")\n",
    "VLtstat4, VLpvalue4, VLddof4 = ttest_ind(VLWhitewomen,VLBlackmen,alternative=\"larger\",usevar=\"unequal\")\n",
    "VLtstat5, VLpvalue5, VLddof4 = ttest_ind(VLWhitewomen,VLWhitemen,alternative=\"larger\",usevar=\"unequal\")\n",
    "VLtstat6, VLpvalue6, VLddof5 = ttest_ind(VLBlackwomen,VLBlackmen,alternative=\"larger\",usevar=\"unequal\")\n",
    "print(\"High risk accuracy p-value\", \"\\n\",\"\\n\"\n",
    "      \"White and Black p-value:\", round(Vpvalue, 4), \"\\n\" \n",
    "      \"White men and Black men p-value:\", round(Vpvalue1, 4),\"\\n\"\n",
    "      \"Black women and White women p-value:\", round(Vpvalue2, 4),\"\\n\"\n",
    "      \"Black women and White men p-value:\", round(Vpvalue3, 4), \"\\n\"\n",
    "      \"White women and Black men p-value:\",round(Vpvalue4, 4), \"\\n\"\n",
    "      \"White men and White women p-value:\", round(Vpvalue5, 4), \"\\n\"\n",
    "      \"Black women and Black men p-value:\", round(Vpvalue6, 4), \"\\n\" \"\\n\"\n",
    "\n",
    "      \"Low risk accuracy p-value\", \"\\n\",\"\\n\"\n",
    "      \"White and Black p-value:\", round(VLpvalue, 4), \"\\n\" \n",
    "      \"White men and Black men p-value:\", round(VLpvalue1, 4),\"\\n\"\n",
    "      \"White women and Black women p-value:\", round(VLpvalue2, 4),\"\\n\"\n",
    "      \"White men and Black women p-value:\", round(VLpvalue3, 4), \"\\n\"\n",
    "      \"White women and Black men p-value:\", round(VLpvalue4, 4), \"\\n\"\n",
    "      \"White women and White men p-value:\", round(VLpvalue5, 4), \"\\n\"\n",
    "      \"Black women and Black men p-value:\", round(VLpvalue6, 4), \"\\n\")\n"
   ]
  },
  {
   "cell_type": "markdown",
   "metadata": {},
   "source": [
    "# Findings\n",
    "\n",
    "### There is a statistically significant discrepancy in the accuracies of \"High\" predictive values for recidivism when comparing: \n",
    "- Black women and Black men \n",
    "\n",
    "### There is a statistically significant discrepancy in the accuracies of \"Low\" predictive values for recidivism when comparing:\n",
    "- White and Black overall population\n",
    "- White men and Black men\n",
    "- White women and Black women\n",
    "- White women and Black men\n",
    "- White women and White men"
   ]
  },
  {
   "cell_type": "markdown",
   "metadata": {},
   "source": [
    "# Data being compared:"
   ]
  },
  {
   "cell_type": "code",
   "execution_count": 2026,
   "metadata": {},
   "outputs": [
    {
     "data": {
      "text/html": [
       "<div>\n",
       "<style scoped>\n",
       "    .dataframe tbody tr th:only-of-type {\n",
       "        vertical-align: middle;\n",
       "    }\n",
       "\n",
       "    .dataframe tbody tr th {\n",
       "        vertical-align: top;\n",
       "    }\n",
       "\n",
       "    .dataframe thead th {\n",
       "        text-align: right;\n",
       "    }\n",
       "</style>\n",
       "<table border=\"1\" class=\"dataframe\">\n",
       "  <thead>\n",
       "    <tr style=\"text-align: right;\">\n",
       "      <th></th>\n",
       "      <th></th>\n",
       "      <th></th>\n",
       "      <th>vaccuracyhigh</th>\n",
       "    </tr>\n",
       "    <tr>\n",
       "      <th>race</th>\n",
       "      <th>sex</th>\n",
       "      <th>v_score_text</th>\n",
       "      <th></th>\n",
       "    </tr>\n",
       "  </thead>\n",
       "  <tbody>\n",
       "    <tr>\n",
       "      <th rowspan=\"2\" valign=\"top\">African-American</th>\n",
       "      <th>Female</th>\n",
       "      <th>High</th>\n",
       "      <td>0.108108</td>\n",
       "    </tr>\n",
       "    <tr>\n",
       "      <th>Male</th>\n",
       "      <th>High</th>\n",
       "      <td>0.173913</td>\n",
       "    </tr>\n",
       "    <tr>\n",
       "      <th rowspan=\"2\" valign=\"top\">Caucasian</th>\n",
       "      <th>Female</th>\n",
       "      <th>High</th>\n",
       "      <td>0.136364</td>\n",
       "    </tr>\n",
       "    <tr>\n",
       "      <th>Male</th>\n",
       "      <th>High</th>\n",
       "      <td>0.128834</td>\n",
       "    </tr>\n",
       "  </tbody>\n",
       "</table>\n",
       "</div>"
      ],
      "text/plain": [
       "                                      vaccuracyhigh\n",
       "race             sex    v_score_text               \n",
       "African-American Female High               0.108108\n",
       "                 Male   High               0.173913\n",
       "Caucasian        Female High               0.136364\n",
       "                 Male   High               0.128834"
      ]
     },
     "execution_count": 2026,
     "metadata": {},
     "output_type": "execute_result"
    }
   ],
   "source": [
    "Violenthighvisual = vhighriskrace.groupby([\"race\", \"sex\", \"v_score_text\"])[[\"vaccuracyhigh\"]].mean()\n",
    "Violenthighvisual"
   ]
  },
  {
   "cell_type": "code",
   "execution_count": 2027,
   "metadata": {},
   "outputs": [
    {
     "data": {
      "text/html": [
       "<div>\n",
       "<style scoped>\n",
       "    .dataframe tbody tr th:only-of-type {\n",
       "        vertical-align: middle;\n",
       "    }\n",
       "\n",
       "    .dataframe tbody tr th {\n",
       "        vertical-align: top;\n",
       "    }\n",
       "\n",
       "    .dataframe thead th {\n",
       "        text-align: right;\n",
       "    }\n",
       "</style>\n",
       "<table border=\"1\" class=\"dataframe\">\n",
       "  <thead>\n",
       "    <tr style=\"text-align: right;\">\n",
       "      <th></th>\n",
       "      <th></th>\n",
       "      <th></th>\n",
       "      <th>vaccuracylow</th>\n",
       "    </tr>\n",
       "    <tr>\n",
       "      <th>race</th>\n",
       "      <th>sex</th>\n",
       "      <th>v_score_text</th>\n",
       "      <th></th>\n",
       "    </tr>\n",
       "  </thead>\n",
       "  <tbody>\n",
       "    <tr>\n",
       "      <th rowspan=\"2\" valign=\"top\">African-American</th>\n",
       "      <th>Female</th>\n",
       "      <th>Low</th>\n",
       "      <td>0.946015</td>\n",
       "    </tr>\n",
       "    <tr>\n",
       "      <th>Male</th>\n",
       "      <th>Low</th>\n",
       "      <td>0.935263</td>\n",
       "    </tr>\n",
       "    <tr>\n",
       "      <th rowspan=\"2\" valign=\"top\">Caucasian</th>\n",
       "      <th>Female</th>\n",
       "      <th>Low</th>\n",
       "      <td>0.971640</td>\n",
       "    </tr>\n",
       "    <tr>\n",
       "      <th>Male</th>\n",
       "      <th>Low</th>\n",
       "      <td>0.947564</td>\n",
       "    </tr>\n",
       "  </tbody>\n",
       "</table>\n",
       "</div>"
      ],
      "text/plain": [
       "                                      vaccuracylow\n",
       "race             sex    v_score_text              \n",
       "African-American Female Low               0.946015\n",
       "                 Male   Low               0.935263\n",
       "Caucasian        Female Low               0.971640\n",
       "                 Male   Low               0.947564"
      ]
     },
     "execution_count": 2027,
     "metadata": {},
     "output_type": "execute_result"
    }
   ],
   "source": [
    "Violentlowvisual = vlowriskrace.groupby([\"race\", \"sex\", \"v_score_text\"])[[\"vaccuracylow\"]].mean()\n",
    "Violentlowvisual"
   ]
  },
  {
   "cell_type": "markdown",
   "metadata": {},
   "source": [
    "# Linear Regression Decile Score Entire DataSet"
   ]
  },
  {
   "cell_type": "code",
   "execution_count": 2028,
   "metadata": {},
   "outputs": [],
   "source": [
    "import pandas as pd\n",
    "import numpy as np\n",
    "import seaborn as sns\n",
    "import matplotlib.pyplot as plt\n",
    "from sklearn.linear_model import LinearRegression\n",
    "from sklearn.model_selection import train_test_split\n",
    "sns.set(rc={'figure.figsize':(6,6)}) \n",
    "%matplotlib inline"
   ]
  },
  {
   "cell_type": "code",
   "execution_count": 2029,
   "metadata": {},
   "outputs": [],
   "source": [
    "LinComp = compas.select_dtypes(np.number).fillna(0)\n",
    "cor = LinComp.corr()\n",
    "cor_target = abs(cor[\"decile_score\"])\n",
    "relevant_features = cor_target[cor_target > .5]"
   ]
  },
  {
   "cell_type": "code",
   "execution_count": 2030,
   "metadata": {},
   "outputs": [],
   "source": [
    "DROP = ['Unnamed: 0', \"priors_count\", 'id','decile_score.1', \"juv_fel_count\", \"juv_misd_count\", \"juv_other_count\",  \"is_recid\", \"is_violent_recid\"]\n",
    "LinComp = LinComp.drop(DROP, axis =1)"
   ]
  },
  {
   "cell_type": "code",
   "execution_count": 2031,
   "metadata": {},
   "outputs": [],
   "source": [
    "targetvariable = \"decile_score\"\n",
    "independentvariables = LinComp.drop(columns=targetvariable).columns"
   ]
  },
  {
   "cell_type": "code",
   "execution_count": 2032,
   "metadata": {},
   "outputs": [],
   "source": [
    "X_train, X_test, y_train, y_test = train_test_split(\n",
    "     LinComp[independentvariables],\n",
    "     LinComp[targetvariable], \n",
    "     test_size=0.2,\n",
    "    random_state = 13,)"
   ]
  },
  {
   "cell_type": "code",
   "execution_count": 2033,
   "metadata": {},
   "outputs": [
    {
     "data": {
      "text/plain": [
       "LinearRegression(copy_X=True, fit_intercept=True, n_jobs=None, normalize=False)"
      ]
     },
     "execution_count": 2033,
     "metadata": {},
     "output_type": "execute_result"
    }
   ],
   "source": [
    "model = LinearRegression()\n",
    "model.fit(X_train, y_train)"
   ]
  },
  {
   "cell_type": "code",
   "execution_count": 2034,
   "metadata": {},
   "outputs": [],
   "source": [
    "independentvariables = LinComp.columns\n",
    "targetvariables = \"targetvariables\""
   ]
  },
  {
   "cell_type": "code",
   "execution_count": 2035,
   "metadata": {},
   "outputs": [],
   "source": [
    "predictions = model.predict(X_test)"
   ]
  },
  {
   "cell_type": "code",
   "execution_count": 2036,
   "metadata": {},
   "outputs": [],
   "source": [
    "X = X_test.reset_index().copy() \n",
    "X[\"decile_score\"] = y_test.tolist()\n",
    "X[\"prediction\"] = predictions"
   ]
  },
  {
   "cell_type": "code",
   "execution_count": 2037,
   "metadata": {},
   "outputs": [
    {
     "data": {
      "text/plain": [
       "<seaborn.axisgrid.FacetGrid at 0x7fa28b893f50>"
      ]
     },
     "execution_count": 2037,
     "metadata": {},
     "output_type": "execute_result"
    },
    {
     "data": {
      "image/png": "[encoded data removed]",
      "text/plain": [
       "<Figure size 360x360 with 1 Axes>"
      ]
     },
     "metadata": {
      "needs_background": "light"
     },
     "output_type": "display_data"
    }
   ],
   "source": [
    "sns.relplot(x=\"decile_score\", y=\"prediction\", data=X, kind=\"scatter\")"
   ]
  },
  {
   "cell_type": "code",
   "execution_count": 2038,
   "metadata": {},
   "outputs": [
    {
     "data": {
      "text/plain": [
       "Text(0, 0.5, 'decile_score')"
      ]
     },
     "execution_count": 2038,
     "metadata": {},
     "output_type": "execute_result"
    },
    {
     "data": {
      "image/png": "[encoded data removed]",
      "text/plain": [
       "<Figure size 432x288 with 1 Axes>"
      ]
     },
     "metadata": {
      "needs_background": "light"
     },
     "output_type": "display_data"
    }
   ],
   "source": [
    "sns.scatterplot(x=X[\"age\"], y=X[\"decile_score\"], label = 'True')\n",
    "sns.scatterplot(x=X[\"age\"], y=X[\"prediction\"], label = 'Predictions')\n",
    "sns.mpl.pyplot.ylabel(\"decile_score\")"
   ]
  },
  {
   "cell_type": "code",
   "execution_count": 2039,
   "metadata": {},
   "outputs": [],
   "source": [
    "X[\"error\"] = abs(X[\"decile_score\"]-X[\"prediction\"])"
   ]
  },
  {
   "cell_type": "code",
   "execution_count": 2040,
   "metadata": {},
   "outputs": [
    {
     "data": {
      "text/html": [
       "<div>\n",
       "<style scoped>\n",
       "    .dataframe tbody tr th:only-of-type {\n",
       "        vertical-align: middle;\n",
       "    }\n",
       "\n",
       "    .dataframe tbody tr th {\n",
       "        vertical-align: top;\n",
       "    }\n",
       "\n",
       "    .dataframe thead th {\n",
       "        text-align: right;\n",
       "    }\n",
       "</style>\n",
       "<table border=\"1\" class=\"dataframe\">\n",
       "  <thead>\n",
       "    <tr style=\"text-align: right;\">\n",
       "      <th></th>\n",
       "      <th>index</th>\n",
       "      <th>age</th>\n",
       "      <th>v_decile_score</th>\n",
       "      <th>decile_score</th>\n",
       "      <th>prediction</th>\n",
       "      <th>error</th>\n",
       "    </tr>\n",
       "  </thead>\n",
       "  <tbody>\n",
       "    <tr>\n",
       "      <th>0</th>\n",
       "      <td>1070</td>\n",
       "      <td>37</td>\n",
       "      <td>1</td>\n",
       "      <td>1</td>\n",
       "      <td>1.970641</td>\n",
       "      <td>0.970641</td>\n",
       "    </tr>\n",
       "    <tr>\n",
       "      <th>1</th>\n",
       "      <td>11648</td>\n",
       "      <td>23</td>\n",
       "      <td>5</td>\n",
       "      <td>4</td>\n",
       "      <td>5.472164</td>\n",
       "      <td>1.472164</td>\n",
       "    </tr>\n",
       "    <tr>\n",
       "      <th>2</th>\n",
       "      <td>543</td>\n",
       "      <td>30</td>\n",
       "      <td>2</td>\n",
       "      <td>1</td>\n",
       "      <td>2.774430</td>\n",
       "      <td>1.774430</td>\n",
       "    </tr>\n",
       "    <tr>\n",
       "      <th>3</th>\n",
       "      <td>7788</td>\n",
       "      <td>34</td>\n",
       "      <td>1</td>\n",
       "      <td>2</td>\n",
       "      <td>1.909277</td>\n",
       "      <td>0.090723</td>\n",
       "    </tr>\n",
       "    <tr>\n",
       "      <th>4</th>\n",
       "      <td>4025</td>\n",
       "      <td>40</td>\n",
       "      <td>1</td>\n",
       "      <td>2</td>\n",
       "      <td>2.032005</td>\n",
       "      <td>0.032005</td>\n",
       "    </tr>\n",
       "  </tbody>\n",
       "</table>\n",
       "</div>"
      ],
      "text/plain": [
       "   index  age  v_decile_score  decile_score  prediction     error\n",
       "0   1070   37               1             1    1.970641  0.970641\n",
       "1  11648   23               5             4    5.472164  1.472164\n",
       "2    543   30               2             1    2.774430  1.774430\n",
       "3   7788   34               1             2    1.909277  0.090723\n",
       "4   4025   40               1             2    2.032005  0.032005"
      ]
     },
     "execution_count": 2040,
     "metadata": {},
     "output_type": "execute_result"
    }
   ],
   "source": [
    "X.head()"
   ]
  },
  {
   "cell_type": "code",
   "execution_count": 2041,
   "metadata": {},
   "outputs": [
    {
     "data": {
      "text/plain": [
       "count    2352.000000\n",
       "mean        1.441524\n",
       "std         1.095448\n",
       "min         0.008904\n",
       "25%         0.680493\n",
       "50%         1.237120\n",
       "75%         1.794885\n",
       "max         6.939204\n",
       "Name: error, dtype: float64"
      ]
     },
     "execution_count": 2041,
     "metadata": {},
     "output_type": "execute_result"
    }
   ],
   "source": [
    "X.error.describe()"
   ]
  },
  {
   "cell_type": "markdown",
   "metadata": {},
   "source": [
    "# Linear Regression Violent Decile Score Entire DataSet"
   ]
  },
  {
   "cell_type": "code",
   "execution_count": 2042,
   "metadata": {},
   "outputs": [],
   "source": [
    "VLinComp = compas.select_dtypes(np.number).fillna(0)"
   ]
  },
  {
   "cell_type": "code",
   "execution_count": 2043,
   "metadata": {},
   "outputs": [],
   "source": [
    "Vcor = VLinComp.corr()\n",
    "Vcor_target = abs(Vcor[\"v_decile_score\"])\n",
    "Vrelevant_features = Vcor_target[Vcor_target > .5]"
   ]
  },
  {
   "cell_type": "code",
   "execution_count": 2044,
   "metadata": {},
   "outputs": [],
   "source": [
    "DROP = ['Unnamed: 0', \"priors_count\", 'id','decile_score.1', \"juv_fel_count\", \"juv_misd_count\", \"juv_other_count\",  \"is_recid\", \"is_violent_recid\"]\n",
    "VLinComp = VLinComp.drop(DROP, axis =1)"
   ]
  },
  {
   "cell_type": "code",
   "execution_count": 2045,
   "metadata": {},
   "outputs": [],
   "source": [
    "Vtargetvariable = \"v_decile_score\"\n",
    "Vindependentvariables = VLinComp.drop(columns=Vtargetvariable).columns"
   ]
  },
  {
   "cell_type": "code",
   "execution_count": 2046,
   "metadata": {},
   "outputs": [],
   "source": [
    "VX_train, VX_test, Vy_train, Vy_test = train_test_split(\n",
    "     VLinComp[Vindependentvariables],\n",
    "     VLinComp[Vtargetvariable], \n",
    "     test_size=0.2,\n",
    "    random_state = 13,)"
   ]
  },
  {
   "cell_type": "code",
   "execution_count": 2047,
   "metadata": {},
   "outputs": [
    {
     "data": {
      "text/plain": [
       "LinearRegression(copy_X=True, fit_intercept=True, n_jobs=None, normalize=False)"
      ]
     },
     "execution_count": 2047,
     "metadata": {},
     "output_type": "execute_result"
    }
   ],
   "source": [
    "Vmodel = LinearRegression()\n",
    "Vmodel.fit(VX_train, Vy_train)"
   ]
  },
  {
   "cell_type": "code",
   "execution_count": 2048,
   "metadata": {},
   "outputs": [],
   "source": [
    "Vindependentvariables = VLinComp.columns\n",
    "Vtargetvariables = \"Vtargetvariables\""
   ]
  },
  {
   "cell_type": "code",
   "execution_count": 2049,
   "metadata": {},
   "outputs": [],
   "source": [
    "Vpredictions = Vmodel.predict(VX_test)"
   ]
  },
  {
   "cell_type": "code",
   "execution_count": 2050,
   "metadata": {},
   "outputs": [],
   "source": [
    "V = VX_test.reset_index().copy() \n",
    "V[\"V_decile_score\"] = Vy_test.tolist()\n",
    "V[\"prediction\"] = Vpredictions"
   ]
  },
  {
   "cell_type": "code",
   "execution_count": 2051,
   "metadata": {},
   "outputs": [
    {
     "data": {
      "text/plain": [
       "<seaborn.axisgrid.FacetGrid at 0x7fa28a6388d0>"
      ]
     },
     "execution_count": 2051,
     "metadata": {},
     "output_type": "execute_result"
    },
    {
     "data": {
      "image/png": "[encoded data removed]",
      "text/plain": [
       "<Figure size 360x360 with 1 Axes>"
      ]
     },
     "metadata": {
      "needs_background": "light"
     },
     "output_type": "display_data"
    }
   ],
   "source": [
    "sns.relplot(x=\"V_decile_score\", y=\"prediction\", data=V, kind=\"scatter\")"
   ]
  },
  {
   "cell_type": "code",
   "execution_count": 2052,
   "metadata": {},
   "outputs": [
    {
     "data": {
      "text/plain": [
       "Text(0, 0.5, 'Vdecile_score')"
      ]
     },
     "execution_count": 2052,
     "metadata": {},
     "output_type": "execute_result"
    },
    {
     "data": {
      "image/png": "[encoded data removed]",
      "text/plain": [
       "<Figure size 432x288 with 1 Axes>"
      ]
     },
     "metadata": {
      "needs_background": "light"
     },
     "output_type": "display_data"
    }
   ],
   "source": [
    "sns.scatterplot(x=V[\"age\"], y=V[\"V_decile_score\"], label = 'True')\n",
    "sns.scatterplot(x=V[\"age\"], y=V[\"prediction\"], label = 'Predictions')\n",
    "sns.mpl.pyplot.ylabel(\"Vdecile_score\")"
   ]
  },
  {
   "cell_type": "code",
   "execution_count": 2053,
   "metadata": {},
   "outputs": [],
   "source": [
    "V[\"error\"] = abs(V[\"V_decile_score\"]-V[\"prediction\"])"
   ]
  },
  {
   "cell_type": "code",
   "execution_count": 2054,
   "metadata": {},
   "outputs": [
    {
     "data": {
      "text/html": [
       "<div>\n",
       "<style scoped>\n",
       "    .dataframe tbody tr th:only-of-type {\n",
       "        vertical-align: middle;\n",
       "    }\n",
       "\n",
       "    .dataframe tbody tr th {\n",
       "        vertical-align: top;\n",
       "    }\n",
       "\n",
       "    .dataframe thead th {\n",
       "        text-align: right;\n",
       "    }\n",
       "</style>\n",
       "<table border=\"1\" class=\"dataframe\">\n",
       "  <thead>\n",
       "    <tr style=\"text-align: right;\">\n",
       "      <th></th>\n",
       "      <th>index</th>\n",
       "      <th>age</th>\n",
       "      <th>decile_score</th>\n",
       "      <th>V_decile_score</th>\n",
       "      <th>prediction</th>\n",
       "      <th>error</th>\n",
       "    </tr>\n",
       "  </thead>\n",
       "  <tbody>\n",
       "    <tr>\n",
       "      <th>0</th>\n",
       "      <td>1070</td>\n",
       "      <td>37</td>\n",
       "      <td>1</td>\n",
       "      <td>1</td>\n",
       "      <td>1.539418</td>\n",
       "      <td>0.539418</td>\n",
       "    </tr>\n",
       "    <tr>\n",
       "      <th>1</th>\n",
       "      <td>11648</td>\n",
       "      <td>23</td>\n",
       "      <td>4</td>\n",
       "      <td>5</td>\n",
       "      <td>4.168556</td>\n",
       "      <td>0.831444</td>\n",
       "    </tr>\n",
       "    <tr>\n",
       "      <th>2</th>\n",
       "      <td>543</td>\n",
       "      <td>30</td>\n",
       "      <td>1</td>\n",
       "      <td>2</td>\n",
       "      <td>2.001623</td>\n",
       "      <td>0.001623</td>\n",
       "    </tr>\n",
       "    <tr>\n",
       "      <th>3</th>\n",
       "      <td>7788</td>\n",
       "      <td>34</td>\n",
       "      <td>2</td>\n",
       "      <td>1</td>\n",
       "      <td>2.305749</td>\n",
       "      <td>1.305749</td>\n",
       "    </tr>\n",
       "    <tr>\n",
       "      <th>4</th>\n",
       "      <td>4025</td>\n",
       "      <td>40</td>\n",
       "      <td>2</td>\n",
       "      <td>1</td>\n",
       "      <td>1.909573</td>\n",
       "      <td>0.909573</td>\n",
       "    </tr>\n",
       "  </tbody>\n",
       "</table>\n",
       "</div>"
      ],
      "text/plain": [
       "   index  age  decile_score  V_decile_score  prediction     error\n",
       "0   1070   37             1               1    1.539418  0.539418\n",
       "1  11648   23             4               5    4.168556  0.831444\n",
       "2    543   30             1               2    2.001623  0.001623\n",
       "3   7788   34             2               1    2.305749  1.305749\n",
       "4   4025   40             2               1    1.909573  0.909573"
      ]
     },
     "execution_count": 2054,
     "metadata": {},
     "output_type": "execute_result"
    }
   ],
   "source": [
    "V.head()"
   ]
  },
  {
   "cell_type": "code",
   "execution_count": 2055,
   "metadata": {},
   "outputs": [
    {
     "data": {
      "text/plain": [
       "count    2352.000000\n",
       "mean        1.080619\n",
       "std         0.884090\n",
       "min         0.001623\n",
       "25%         0.384991\n",
       "50%         0.838410\n",
       "75%         1.569866\n",
       "max         4.755214\n",
       "Name: error, dtype: float64"
      ]
     },
     "execution_count": 2055,
     "metadata": {},
     "output_type": "execute_result"
    }
   ],
   "source": [
    "V.error.describe()"
   ]
  },
  {
   "cell_type": "markdown",
   "metadata": {},
   "source": [
    "# Lin Regression African Americans"
   ]
  },
  {
   "cell_type": "code",
   "execution_count": 2056,
   "metadata": {},
   "outputs": [],
   "source": [
    "import pandas as pd\n",
    "import numpy as np\n",
    "import seaborn as sns\n",
    "import matplotlib.pyplot as plt\n",
    "from sklearn.linear_model import LinearRegression\n",
    "from sklearn.model_selection import train_test_split\n",
    "sns.set(rc={'figure.figsize':(6,6)}) \n",
    "%matplotlib inline"
   ]
  },
  {
   "cell_type": "code",
   "execution_count": 2057,
   "metadata": {},
   "outputs": [
    {
     "data": {
      "text/plain": [
       "decile_score      1.000000\n",
       "v_decile_score    0.740446\n",
       "decile_score.1    1.000000\n",
       "Name: decile_score, dtype: float64"
      ]
     },
     "execution_count": 2057,
     "metadata": {},
     "output_type": "execute_result"
    }
   ],
   "source": [
    "compas = pd.read_csv(\"Compas.csv\")\n",
    "\n",
    "CompasAfricanAmericans = compas[(compas.race == \"African-American\")]\n",
    "LinCompAfr = CompasAfricanAmericans.select_dtypes(np.number).fillna(0)\n",
    "corAfr = LinCompAfr.corr()\n",
    "cor_targetAfr = abs(corAfr[\"decile_score\"])\n",
    "relevant_featuresAfr = cor_targetAfr[cor_targetAfr > .4]\n",
    "relevant_featuresAfr"
   ]
  },
  {
   "cell_type": "code",
   "execution_count": 2058,
   "metadata": {},
   "outputs": [],
   "source": [
    "DROP = ['Unnamed: 0', \"priors_count\", 'id','decile_score.1', \"juv_fel_count\", \"juv_misd_count\", \"juv_other_count\",  \"is_recid\", \"is_violent_recid\"]\n",
    "LinCompAfr = LinCompAfr.drop(DROP, axis =1)"
   ]
  },
  {
   "cell_type": "code",
   "execution_count": 2059,
   "metadata": {},
   "outputs": [],
   "source": [
    "targetvariablesAfr = \"decile_score\"\n",
    "independentvariablesAfr = LinCompAfr.drop(columns=targetvariablesAfr).columns"
   ]
  },
  {
   "cell_type": "code",
   "execution_count": 2060,
   "metadata": {},
   "outputs": [],
   "source": [
    "X_trainAfr, X_testAfr, y_trainAfr, y_testAfr = train_test_split(\n",
    "     LinCompAfr[independentvariablesAfr],   # X\n",
    "     LinCompAfr[targetvariablesAfr], # y\n",
    "     test_size=0.2,\n",
    "    random_state = 12)"
   ]
  },
  {
   "cell_type": "code",
   "execution_count": 2061,
   "metadata": {},
   "outputs": [
    {
     "data": {
      "text/plain": [
       "LinearRegression(copy_X=True, fit_intercept=True, n_jobs=None, normalize=False)"
      ]
     },
     "execution_count": 2061,
     "metadata": {},
     "output_type": "execute_result"
    }
   ],
   "source": [
    "modelAfr = LinearRegression()\n",
    "modelAfr.fit(X_trainAfr, y_trainAfr)"
   ]
  },
  {
   "cell_type": "code",
   "execution_count": 2062,
   "metadata": {},
   "outputs": [],
   "source": [
    "predictionsAfr = modelAfr.predict(X_testAfr)"
   ]
  },
  {
   "cell_type": "code",
   "execution_count": 2063,
   "metadata": {},
   "outputs": [],
   "source": [
    "Afr = X_testAfr.reset_index().copy() \n",
    "Afr[\"decile_score\"] = y_testAfr.tolist()\n",
    "Afr[\"prediction\"] = predictionsAfr"
   ]
  },
  {
   "cell_type": "code",
   "execution_count": 2064,
   "metadata": {},
   "outputs": [
    {
     "data": {
      "text/plain": [
       "<seaborn.axisgrid.FacetGrid at 0x7fa28b8a8b50>"
      ]
     },
     "execution_count": 2064,
     "metadata": {},
     "output_type": "execute_result"
    },
    {
     "data": {
      "image/png": "[encoded data removed]",
      "text/plain": [
       "<Figure size 360x360 with 1 Axes>"
      ]
     },
     "metadata": {
      "needs_background": "light"
     },
     "output_type": "display_data"
    }
   ],
   "source": [
    "sns.relplot(x=\"decile_score\", y=\"prediction\", data=Afr, kind=\"scatter\")"
   ]
  },
  {
   "cell_type": "code",
   "execution_count": 2065,
   "metadata": {},
   "outputs": [
    {
     "data": {
      "text/plain": [
       "Text(0, 0.5, 'decile_score')"
      ]
     },
     "execution_count": 2065,
     "metadata": {},
     "output_type": "execute_result"
    },
    {
     "data": {
      "image/png": "[encoded data removed]",
      "text/plain": [
       "<Figure size 432x288 with 1 Axes>"
      ]
     },
     "metadata": {
      "needs_background": "light"
     },
     "output_type": "display_data"
    }
   ],
   "source": [
    "sns.scatterplot(x=Afr[\"age\"], y=Afr[\"decile_score\"], label = 'True')\n",
    "sns.scatterplot(x=Afr[\"age\"], y=Afr[\"prediction\"], label = 'Predictions')\n",
    "sns.mpl.pyplot.ylabel(\"decile_score\")"
   ]
  },
  {
   "cell_type": "code",
   "execution_count": 2066,
   "metadata": {},
   "outputs": [],
   "source": [
    "Afr[\"error\"] = abs(Afr[\"decile_score\"]-Afr[\"prediction\"])"
   ]
  },
  {
   "cell_type": "code",
   "execution_count": 2067,
   "metadata": {},
   "outputs": [
    {
     "data": {
      "text/html": [
       "<div>\n",
       "<style scoped>\n",
       "    .dataframe tbody tr th:only-of-type {\n",
       "        vertical-align: middle;\n",
       "    }\n",
       "\n",
       "    .dataframe tbody tr th {\n",
       "        vertical-align: top;\n",
       "    }\n",
       "\n",
       "    .dataframe thead th {\n",
       "        text-align: right;\n",
       "    }\n",
       "</style>\n",
       "<table border=\"1\" class=\"dataframe\">\n",
       "  <thead>\n",
       "    <tr style=\"text-align: right;\">\n",
       "      <th></th>\n",
       "      <th>index</th>\n",
       "      <th>age</th>\n",
       "      <th>v_decile_score</th>\n",
       "      <th>decile_score</th>\n",
       "      <th>prediction</th>\n",
       "      <th>error</th>\n",
       "    </tr>\n",
       "  </thead>\n",
       "  <tbody>\n",
       "    <tr>\n",
       "      <th>0</th>\n",
       "      <td>5304</td>\n",
       "      <td>42</td>\n",
       "      <td>3</td>\n",
       "      <td>4</td>\n",
       "      <td>4.468156</td>\n",
       "      <td>0.468156</td>\n",
       "    </tr>\n",
       "    <tr>\n",
       "      <th>1</th>\n",
       "      <td>925</td>\n",
       "      <td>28</td>\n",
       "      <td>7</td>\n",
       "      <td>7</td>\n",
       "      <td>7.529444</td>\n",
       "      <td>0.529444</td>\n",
       "    </tr>\n",
       "    <tr>\n",
       "      <th>2</th>\n",
       "      <td>10800</td>\n",
       "      <td>20</td>\n",
       "      <td>8</td>\n",
       "      <td>5</td>\n",
       "      <td>8.102811</td>\n",
       "      <td>3.102811</td>\n",
       "    </tr>\n",
       "    <tr>\n",
       "      <th>3</th>\n",
       "      <td>759</td>\n",
       "      <td>29</td>\n",
       "      <td>6</td>\n",
       "      <td>7</td>\n",
       "      <td>6.657480</td>\n",
       "      <td>0.342520</td>\n",
       "    </tr>\n",
       "    <tr>\n",
       "      <th>4</th>\n",
       "      <td>5193</td>\n",
       "      <td>55</td>\n",
       "      <td>1</td>\n",
       "      <td>1</td>\n",
       "      <td>3.193452</td>\n",
       "      <td>2.193452</td>\n",
       "    </tr>\n",
       "  </tbody>\n",
       "</table>\n",
       "</div>"
      ],
      "text/plain": [
       "   index  age  v_decile_score  decile_score  prediction     error\n",
       "0   5304   42               3             4    4.468156  0.468156\n",
       "1    925   28               7             7    7.529444  0.529444\n",
       "2  10800   20               8             5    8.102811  3.102811\n",
       "3    759   29               6             7    6.657480  0.342520\n",
       "4   5193   55               1             1    3.193452  2.193452"
      ]
     },
     "execution_count": 2067,
     "metadata": {},
     "output_type": "execute_result"
    }
   ],
   "source": [
    "Afr.head()"
   ]
  },
  {
   "cell_type": "code",
   "execution_count": 2068,
   "metadata": {},
   "outputs": [
    {
     "data": {
      "text/plain": [
       "count    1163.000000\n",
       "mean        1.580950\n",
       "std         1.143392\n",
       "min         0.001001\n",
       "25%         0.683939\n",
       "50%         1.385044\n",
       "75%         2.201403\n",
       "max         6.401607\n",
       "Name: error, dtype: float64"
      ]
     },
     "execution_count": 2068,
     "metadata": {},
     "output_type": "execute_result"
    }
   ],
   "source": [
    "Afr.error.describe()"
   ]
  },
  {
   "cell_type": "markdown",
   "metadata": {},
   "source": [
    "# Lin Regression Decile Score White"
   ]
  },
  {
   "cell_type": "code",
   "execution_count": 2069,
   "metadata": {},
   "outputs": [
    {
     "data": {
      "text/plain": [
       "age               0.43710\n",
       "decile_score      1.00000\n",
       "v_decile_score    0.74415\n",
       "decile_score.1    1.00000\n",
       "Name: decile_score, dtype: float64"
      ]
     },
     "execution_count": 2069,
     "metadata": {},
     "output_type": "execute_result"
    }
   ],
   "source": [
    "CompasWhite = compas[(compas.race == \"Caucasian\")]\n",
    "LinCompWh = CompasWhite.select_dtypes(np.number).fillna(0)\n",
    "corWh = LinCompWh.corr()\n",
    "cor_targetWh = abs(corWh[\"decile_score\"])\n",
    "relevant_featuresWh = cor_targetWh[cor_targetWh > .4]\n",
    "relevant_featuresWh"
   ]
  },
  {
   "cell_type": "code",
   "execution_count": 2070,
   "metadata": {},
   "outputs": [],
   "source": [
    "DROP = ['Unnamed: 0', \"priors_count\", 'id','decile_score.1', \"juv_fel_count\", \"juv_misd_count\", \"juv_other_count\",  \"is_recid\", \"is_violent_recid\"]\n",
    "LinCompWh = LinCompWh.drop(DROP, axis =1)"
   ]
  },
  {
   "cell_type": "code",
   "execution_count": 2071,
   "metadata": {},
   "outputs": [],
   "source": [
    "targetvariablesWh = \"decile_score\"\n",
    "independentvariablesWh = LinCompWh.drop(columns=targetvariablesWh).columns"
   ]
  },
  {
   "cell_type": "code",
   "execution_count": 2072,
   "metadata": {},
   "outputs": [],
   "source": [
    "X_trainWh, X_testWh, y_trainWh, y_testWh = train_test_split(\n",
    "     LinCompWh[independentvariablesWh],\n",
    "     LinCompWh[targetvariablesWh],\n",
    "     test_size=0.2,\n",
    "    random_state = 12)"
   ]
  },
  {
   "cell_type": "code",
   "execution_count": 2073,
   "metadata": {},
   "outputs": [
    {
     "data": {
      "text/plain": [
       "LinearRegression(copy_X=True, fit_intercept=True, n_jobs=None, normalize=False)"
      ]
     },
     "execution_count": 2073,
     "metadata": {},
     "output_type": "execute_result"
    }
   ],
   "source": [
    "modelWh = LinearRegression()\n",
    "modelWh.fit(X_trainWh, y_trainWh)"
   ]
  },
  {
   "cell_type": "code",
   "execution_count": 2074,
   "metadata": {},
   "outputs": [],
   "source": [
    "predictionsWh = modelWh.predict(X_testWh)"
   ]
  },
  {
   "cell_type": "code",
   "execution_count": 2075,
   "metadata": {},
   "outputs": [],
   "source": [
    "Wh = X_testWh.reset_index().copy() \n",
    "Wh[\"decile_score\"] = y_testWh.tolist()\n",
    "Wh[\"prediction\"] = predictionsWh"
   ]
  },
  {
   "cell_type": "code",
   "execution_count": 2076,
   "metadata": {
    "scrolled": true
   },
   "outputs": [
    {
     "data": {
      "text/plain": [
       "<seaborn.axisgrid.FacetGrid at 0x7fa28b8abf10>"
      ]
     },
     "execution_count": 2076,
     "metadata": {},
     "output_type": "execute_result"
    },
    {
     "data": {
      "image/png": "[encoded data removed]",
      "text/plain": [
       "<Figure size 360x360 with 1 Axes>"
      ]
     },
     "metadata": {
      "needs_background": "light"
     },
     "output_type": "display_data"
    }
   ],
   "source": [
    "sns.relplot(x=\"decile_score\", y=\"prediction\", data=Wh, kind=\"scatter\")"
   ]
  },
  {
   "cell_type": "code",
   "execution_count": 2077,
   "metadata": {},
   "outputs": [
    {
     "data": {
      "text/plain": [
       "Text(0, 0.5, 'decile_score')"
      ]
     },
     "execution_count": 2077,
     "metadata": {},
     "output_type": "execute_result"
    },
    {
     "data": {
      "image/png": "[encoded data removed]",
      "text/plain": [
       "<Figure size 432x288 with 1 Axes>"
      ]
     },
     "metadata": {
      "needs_background": "light"
     },
     "output_type": "display_data"
    }
   ],
   "source": [
    "sns.scatterplot(x=Wh[\"age\"], y=Wh[\"decile_score\"], label = 'True')\n",
    "sns.scatterplot(x=Wh[\"age\"], y=Wh[\"prediction\"], label = 'Predictions')\n",
    "sns.mpl.pyplot.ylabel(\"decile_score\")"
   ]
  },
  {
   "cell_type": "code",
   "execution_count": 2078,
   "metadata": {},
   "outputs": [],
   "source": [
    "Wh[\"error\"] = abs(Wh[\"decile_score\"]-Wh[\"prediction\"])"
   ]
  },
  {
   "cell_type": "code",
   "execution_count": 2079,
   "metadata": {},
   "outputs": [
    {
     "data": {
      "text/html": [
       "<div>\n",
       "<style scoped>\n",
       "    .dataframe tbody tr th:only-of-type {\n",
       "        vertical-align: middle;\n",
       "    }\n",
       "\n",
       "    .dataframe tbody tr th {\n",
       "        vertical-align: top;\n",
       "    }\n",
       "\n",
       "    .dataframe thead th {\n",
       "        text-align: right;\n",
       "    }\n",
       "</style>\n",
       "<table border=\"1\" class=\"dataframe\">\n",
       "  <thead>\n",
       "    <tr style=\"text-align: right;\">\n",
       "      <th></th>\n",
       "      <th>index</th>\n",
       "      <th>age</th>\n",
       "      <th>v_decile_score</th>\n",
       "      <th>decile_score</th>\n",
       "      <th>prediction</th>\n",
       "      <th>error</th>\n",
       "    </tr>\n",
       "  </thead>\n",
       "  <tbody>\n",
       "    <tr>\n",
       "      <th>0</th>\n",
       "      <td>10844</td>\n",
       "      <td>50</td>\n",
       "      <td>1</td>\n",
       "      <td>1</td>\n",
       "      <td>1.984860</td>\n",
       "      <td>0.984860</td>\n",
       "    </tr>\n",
       "    <tr>\n",
       "      <th>1</th>\n",
       "      <td>11326</td>\n",
       "      <td>51</td>\n",
       "      <td>3</td>\n",
       "      <td>2</td>\n",
       "      <td>3.803674</td>\n",
       "      <td>1.803674</td>\n",
       "    </tr>\n",
       "    <tr>\n",
       "      <th>2</th>\n",
       "      <td>279</td>\n",
       "      <td>38</td>\n",
       "      <td>2</td>\n",
       "      <td>5</td>\n",
       "      <td>2.860664</td>\n",
       "      <td>2.139336</td>\n",
       "    </tr>\n",
       "    <tr>\n",
       "      <th>3</th>\n",
       "      <td>1864</td>\n",
       "      <td>36</td>\n",
       "      <td>1</td>\n",
       "      <td>1</td>\n",
       "      <td>1.947225</td>\n",
       "      <td>0.947225</td>\n",
       "    </tr>\n",
       "    <tr>\n",
       "      <th>4</th>\n",
       "      <td>7034</td>\n",
       "      <td>25</td>\n",
       "      <td>6</td>\n",
       "      <td>5</td>\n",
       "      <td>6.457968</td>\n",
       "      <td>1.457968</td>\n",
       "    </tr>\n",
       "  </tbody>\n",
       "</table>\n",
       "</div>"
      ],
      "text/plain": [
       "   index  age  v_decile_score  decile_score  prediction     error\n",
       "0  10844   50               1             1    1.984860  0.984860\n",
       "1  11326   51               3             2    3.803674  1.803674\n",
       "2    279   38               2             5    2.860664  2.139336\n",
       "3   1864   36               1             1    1.947225  0.947225\n",
       "4   7034   25               6             5    6.457968  1.457968"
      ]
     },
     "execution_count": 2079,
     "metadata": {},
     "output_type": "execute_result"
    }
   ],
   "source": [
    "Wh.head()"
   ]
  },
  {
   "cell_type": "code",
   "execution_count": 2080,
   "metadata": {},
   "outputs": [
    {
     "data": {
      "text/plain": [
       "count    817.000000\n",
       "mean       1.366638\n",
       "std        1.044426\n",
       "min        0.000989\n",
       "25%        0.831094\n",
       "50%        1.006366\n",
       "75%        1.836471\n",
       "max        6.158153\n",
       "Name: error, dtype: float64"
      ]
     },
     "execution_count": 2080,
     "metadata": {},
     "output_type": "execute_result"
    }
   ],
   "source": [
    "Wh.error.describe()"
   ]
  },
  {
   "cell_type": "markdown",
   "metadata": {},
   "source": []
  }
 ],
 "metadata": {
  "kernelspec": {
   "display_name": "Python 3",
   "language": "python",
   "name": "python3"
  },
  "language_info": {
   "codemirror_mode": {
    "name": "ipython",
    "version": 3
   },
   "file_extension": ".py",
   "mimetype": "text/x-python",
   "name": "python",
   "nbconvert_exporter": "python",
   "pygments_lexer": "ipython3",
   "version": "3.7.6"
  }
 },
 "nbformat": 4,
 "nbformat_minor": 4
}
