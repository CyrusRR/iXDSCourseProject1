{
 "cells": [
  {
   "cell_type": "markdown",
   "metadata": {},
   "source": [
    "- age\n",
    "    - younger vs. older people and decile scores, hypothesize with equivalent means\n",
    "    - age-specific, using percentage of those who reoffend and see where each age compares to the mean of all people\n",
    "    \n",
    "- decile score\n",
    "\n",
    "- years between offenses\n",
    "\n",
    "- race\n",
    "    - compared with decile score and violent decile score in more depth\n",
    "\n",
    "\n"
   ]
  },
  {
   "cell_type": "code",
<<<<<<< HEAD
   "execution_count": 438,
=======
   "execution_count": 1,
>>>>>>> f250a880cb3a3e8a96ad65aab4dcdb968de2b335
   "metadata": {},
   "outputs": [],
   "source": [
    "import numpy as np\n",
    "import pandas as pd\n",
    "\n",
    "from IPython.display import Image\n",
    "\n",
    "import warnings\n",
    "warnings.simplefilter(\"ignore\")"
   ]
  },
  {
   "cell_type": "code",
   "execution_count": 439,
   "metadata": {},
   "outputs": [],
   "source": [
    "compas = pd.read_csv(\"Compas.csv\")"
   ]
  },
  {
   "cell_type": "code",
   "execution_count": 440,
   "metadata": {},
   "outputs": [
    {
     "data": {
      "text/html": [
       "<div>\n",
       "<style scoped>\n",
       "    .dataframe tbody tr th:only-of-type {\n",
       "        vertical-align: middle;\n",
       "    }\n",
       "\n",
       "    .dataframe tbody tr th {\n",
       "        vertical-align: top;\n",
       "    }\n",
       "\n",
       "    .dataframe thead th {\n",
       "        text-align: right;\n",
       "    }\n",
       "</style>\n",
       "<table border=\"1\" class=\"dataframe\">\n",
       "  <thead>\n",
       "    <tr style=\"text-align: right;\">\n",
       "      <th></th>\n",
       "      <th>id</th>\n",
       "      <th>first</th>\n",
       "      <th>last</th>\n",
       "      <th>sex</th>\n",
       "      <th>age</th>\n",
       "      <th>age_cat</th>\n",
       "      <th>race</th>\n",
       "      <th>juv_fel_count</th>\n",
       "      <th>decile_score</th>\n",
       "      <th>juv_misd_count</th>\n",
       "      <th>juv_other_count</th>\n",
       "      <th>priors_count</th>\n",
       "      <th>is_recid</th>\n",
       "      <th>is_violent_recid</th>\n",
       "      <th>v_decile_score</th>\n",
       "      <th>v_score_text</th>\n",
       "      <th>decile_score.1</th>\n",
       "      <th>score_text</th>\n",
       "    </tr>\n",
       "  </thead>\n",
       "  <tbody>\n",
       "    <tr>\n",
       "      <th>0</th>\n",
       "      <td>1</td>\n",
       "      <td>miguel</td>\n",
       "      <td>hernandez</td>\n",
       "      <td>Male</td>\n",
       "      <td>69</td>\n",
       "      <td>Greater than 45</td>\n",
       "      <td>Other</td>\n",
       "      <td>0</td>\n",
       "      <td>1</td>\n",
       "      <td>0</td>\n",
       "      <td>0</td>\n",
       "      <td>0</td>\n",
       "      <td>0</td>\n",
       "      <td>0</td>\n",
       "      <td>1</td>\n",
       "      <td>Low</td>\n",
       "      <td>1</td>\n",
       "      <td>Low</td>\n",
       "    </tr>\n",
       "    <tr>\n",
       "      <th>1</th>\n",
       "      <td>2</td>\n",
       "      <td>michael</td>\n",
       "      <td>ryan</td>\n",
       "      <td>Male</td>\n",
       "      <td>31</td>\n",
       "      <td>25 - 45</td>\n",
       "      <td>Caucasian</td>\n",
       "      <td>0</td>\n",
       "      <td>5</td>\n",
       "      <td>0</td>\n",
       "      <td>0</td>\n",
       "      <td>0</td>\n",
       "      <td>-1</td>\n",
       "      <td>0</td>\n",
       "      <td>2</td>\n",
       "      <td>Low</td>\n",
       "      <td>5</td>\n",
       "      <td>Medium</td>\n",
       "    </tr>\n",
       "    <tr>\n",
       "      <th>2</th>\n",
       "      <td>3</td>\n",
       "      <td>kevon</td>\n",
       "      <td>dixon</td>\n",
       "      <td>Male</td>\n",
       "      <td>34</td>\n",
       "      <td>25 - 45</td>\n",
       "      <td>African-American</td>\n",
       "      <td>0</td>\n",
       "      <td>3</td>\n",
       "      <td>0</td>\n",
       "      <td>0</td>\n",
       "      <td>0</td>\n",
       "      <td>1</td>\n",
       "      <td>1</td>\n",
       "      <td>1</td>\n",
       "      <td>Low</td>\n",
       "      <td>3</td>\n",
       "      <td>Low</td>\n",
       "    </tr>\n",
       "    <tr>\n",
       "      <th>3</th>\n",
       "      <td>4</td>\n",
       "      <td>ed</td>\n",
       "      <td>philo</td>\n",
       "      <td>Male</td>\n",
       "      <td>24</td>\n",
       "      <td>Less than 25</td>\n",
       "      <td>African-American</td>\n",
       "      <td>0</td>\n",
       "      <td>4</td>\n",
       "      <td>0</td>\n",
       "      <td>1</td>\n",
       "      <td>4</td>\n",
       "      <td>1</td>\n",
       "      <td>0</td>\n",
       "      <td>3</td>\n",
       "      <td>Low</td>\n",
       "      <td>4</td>\n",
       "      <td>Low</td>\n",
       "    </tr>\n",
       "    <tr>\n",
       "      <th>4</th>\n",
       "      <td>5</td>\n",
       "      <td>marcu</td>\n",
       "      <td>brown</td>\n",
       "      <td>Male</td>\n",
       "      <td>23</td>\n",
       "      <td>Less than 25</td>\n",
       "      <td>African-American</td>\n",
       "      <td>0</td>\n",
       "      <td>8</td>\n",
       "      <td>1</td>\n",
       "      <td>0</td>\n",
       "      <td>1</td>\n",
       "      <td>0</td>\n",
       "      <td>0</td>\n",
       "      <td>6</td>\n",
       "      <td>Medium</td>\n",
       "      <td>8</td>\n",
       "      <td>High</td>\n",
       "    </tr>\n",
       "  </tbody>\n",
       "</table>\n",
       "</div>"
      ],
      "text/plain": [
       "   id    first       last   sex  age          age_cat              race  \\\n",
       "0   1   miguel  hernandez  Male   69  Greater than 45             Other   \n",
       "1   2  michael       ryan  Male   31          25 - 45         Caucasian   \n",
       "2   3    kevon      dixon  Male   34          25 - 45  African-American   \n",
       "3   4       ed      philo  Male   24     Less than 25  African-American   \n",
       "4   5    marcu      brown  Male   23     Less than 25  African-American   \n",
       "\n",
       "   juv_fel_count  decile_score  juv_misd_count  juv_other_count  priors_count  \\\n",
       "0              0             1               0                0             0   \n",
       "1              0             5               0                0             0   \n",
       "2              0             3               0                0             0   \n",
       "3              0             4               0                1             4   \n",
       "4              0             8               1                0             1   \n",
       "\n",
       "   is_recid  is_violent_recid  v_decile_score v_score_text  decile_score.1  \\\n",
       "0         0                 0               1          Low               1   \n",
       "1        -1                 0               2          Low               5   \n",
       "2         1                 1               1          Low               3   \n",
       "3         1                 0               3          Low               4   \n",
       "4         0                 0               6       Medium               8   \n",
       "\n",
       "  score_text  \n",
       "0        Low  \n",
       "1     Medium  \n",
       "2        Low  \n",
       "3        Low  \n",
       "4       High  "
      ]
     },
     "execution_count": 440,
     "metadata": {},
     "output_type": "execute_result"
    }
   ],
   "source": [
    "compas = compas.drop(compas.columns[0], axis = 1)\n",
    "compas.head()"
   ]
  },
  {
   "cell_type": "code",
   "execution_count": 441,
   "metadata": {},
   "outputs": [],
   "source": [
    "young = compas[compas.age_cat == \"Less than 25\"].v_decile_score\n",
    "middle = compas[compas.age_cat == \"25 - 45\"].v_decile_score\n",
    "old = compas[compas.age_cat == \"Greater than 45\"].v_decile_score"
   ]
  },
  {
   "cell_type": "code",
   "execution_count": 442,
   "metadata": {},
   "outputs": [],
   "source": [
    "from statsmodels.stats.weightstats import ttest_ind\n",
    "from scipy import stats"
   ]
  },
  {
   "cell_type": "markdown",
   "metadata": {},
   "source": [
    "These tests are just checking if one age group has a higher risk of violence than the other"
   ]
  },
  {
   "cell_type": "code",
   "execution_count": 443,
   "metadata": {},
   "outputs": [
    {
     "name": "stdout",
     "output_type": "stream",
     "text": [
      "6.049180327868853 3.3771995788840425 1.7897301349325336\n"
     ]
    }
   ],
   "source": [
    "print(young.mean(), middle.mean(), old.mean())"
   ]
  },
  {
   "cell_type": "code",
   "execution_count": 444,
   "metadata": {},
   "outputs": [
    {
     "name": "stdout",
     "output_type": "stream",
     "text": [
      "56.21398274904184 0.0 5172.47658225915\n"
     ]
    }
   ],
   "source": [
    "tstat, pvalue, ddof = ttest_ind(\n",
    "                                young,\n",
    "                                middle,\n",
    "                                alternative=\"larger\",\n",
    "                                usevar=\"unequal\"\n",
    ")\n",
    "print(tstat, pvalue, ddof)"
   ]
  },
  {
   "cell_type": "code",
   "execution_count": 445,
   "metadata": {},
   "outputs": [
    {
     "name": "stdout",
     "output_type": "stream",
     "text": [
      "38.63847158703123 5.2422454240000335e-297 7127.205606761121\n"
     ]
    }
   ],
   "source": [
    " tstat, pvalue, ddof = ttest_ind(\n",
    "                                middle,\n",
    "                                old,\n",
    "                                alternative=\"larger\",\n",
    "                                usevar=\"unequal\"\n",
    " )\n",
    "print(tstat, pvalue, ddof)    "
   ]
  },
  {
   "cell_type": "code",
   "execution_count": 446,
   "metadata": {},
   "outputs": [
    {
     "name": "stdout",
     "output_type": "stream",
     "text": [
      "87.24747908351314 0.0 4723.302717729157\n"
     ]
    }
   ],
   "source": [
    "tstat, pvalue, ddof = ttest_ind(\n",
    "                                young,\n",
    "                                old,\n",
    "                                alternative=\"larger\",\n",
    "                                usevar=\"unequal\"\n",
    " )\n",
    "print(tstat, pvalue, ddof) "
   ]
  },
  {
   "cell_type": "code",
   "execution_count": 447,
   "metadata": {},
   "outputs": [],
   "source": [
    "highrisk = compas[compas.score_text == \"High\"]\n",
    "highrisk = highrisk[(highrisk.is_recid != -1) & (highrisk.decile_score != -1)]\n",
    "## -1 = unknown, so those were deleted"
   ]
  },
  {
   "cell_type": "code",
   "execution_count": 448,
   "metadata": {},
   "outputs": [],
   "source": [
    "highrisk[\"accuracy\"] = (highrisk.is_recid == 1)\n",
    "##checked if is_recid is True with high risk decile score to determine accuracy"
   ]
  },
  {
   "cell_type": "code",
   "execution_count": 449,
   "metadata": {},
   "outputs": [],
   "source": [
    "young2 = highrisk[highrisk.age_cat == \"Less than 25\"].accuracy\n",
    "middle2 = highrisk[highrisk.age_cat == \"25 - 45\"].accuracy\n",
    "old2 = highrisk[highrisk.age_cat == \"Greater than 45\"].accuracy\n",
    "##subset by age"
   ]
  },
  {
   "cell_type": "code",
   "execution_count": 450,
   "metadata": {},
   "outputs": [
    {
     "name": "stdout",
     "output_type": "stream",
     "text": [
      "0.5481927710843374 0.5325732899022801 0.4251207729468599\n"
     ]
    }
   ],
   "source": [
    "print(young2.mean(), middle2.mean(), old2.mean())"
   ]
  },
  {
   "cell_type": "code",
   "execution_count": 451,
   "metadata": {},
   "outputs": [
    {
     "name": "stdout",
     "output_type": "stream",
     "text": [
      "0.6505547751165384 0.5154436817845576 1361.6788657477787\n"
     ]
    }
   ],
   "source": [
    " tstat, pvalue, ddof = ttest_ind(\n",
    "                                young2,\n",
    "                                middle2,\n",
    "                                alternative=\"two-sided\",\n",
    "                                usevar=\"unequal\"\n",
    " )\n",
    "print(tstat, pvalue, ddof) "
   ]
  },
  {
   "cell_type": "code",
   "execution_count": 452,
   "metadata": {},
   "outputs": [
    {
     "name": "stdout",
     "output_type": "stream",
     "text": [
      "3.116051265304813 0.001986434026815587 345.5133605030412\n"
     ]
    }
   ],
   "source": [
    " tstat, pvalue, ddof = ttest_ind(\n",
    "                                young2,\n",
    "                                old2,\n",
    "                                alternative=\"two-sided\",\n",
    "                                usevar=\"unequal\"\n",
    " )\n",
    "print(tstat, pvalue, ddof) "
   ]
  },
  {
   "cell_type": "code",
   "execution_count": 453,
   "metadata": {},
   "outputs": [
    {
     "name": "stdout",
     "output_type": "stream",
     "text": [
      "2.882869983424161 0.004244991793179706 281.10125290631083\n"
     ]
    }
   ],
   "source": [
    " tstat, pvalue, ddof = ttest_ind(\n",
    "                                middle2,\n",
    "                                old2,\n",
    "                                alternative=\"two-sided\",\n",
    "                                usevar=\"unequal\"\n",
    " )\n",
    "print(tstat, pvalue, ddof) "
   ]
  },
  {
   "cell_type": "markdown",
   "metadata": {},
   "source": [
    "These hypothesis tests were checking if there was a significant difference between the age groups accuracy. \n",
    "It seems as though there is a signifcant difference between the younger two groups and the oldest group.\n",
    "It would also be a good idea to look at low risk. "
   ]
  },
  {
   "cell_type": "code",
   "execution_count": 454,
   "metadata": {},
   "outputs": [],
   "source": [
    "##same procedure but with low risk\n",
    "lowrisk = compas[compas.score_text == \"Low\"]\n",
    "lowrisk = lowrisk[(lowrisk.is_recid != -1) & (lowrisk.decile_score != -1)]"
   ]
  },
  {
   "cell_type": "code",
   "execution_count": 455,
   "metadata": {},
   "outputs": [],
   "source": [
    "lowrisk[\"accuracy\"] = (lowrisk.is_recid == 0)\n",
    "##accurate if is_recid == 0"
   ]
  },
  {
   "cell_type": "code",
   "execution_count": 456,
   "metadata": {},
   "outputs": [],
   "source": [
    "young3 = lowrisk[lowrisk.age_cat == \"Less than 25\"].accuracy\n",
    "middle3 = lowrisk[lowrisk.age_cat == \"25 - 45\"].accuracy\n",
    "old3 = lowrisk[lowrisk.age_cat == \"Greater than 45\"].accuracy"
   ]
  },
  {
   "cell_type": "code",
   "execution_count": 457,
   "metadata": {},
   "outputs": [
    {
     "name": "stdout",
     "output_type": "stream",
     "text": [
      "0.690734055354994 0.7607060185185185 0.8178879310344828\n"
     ]
    }
   ],
   "source": [
    "print(young3.mean(), middle3.mean(), old3.mean())"
   ]
  },
  {
   "cell_type": "code",
   "execution_count": 458,
   "metadata": {},
   "outputs": [
    {
     "name": "stdout",
     "output_type": "stream",
     "text": [
      "-3.9737509848699326 7.499325893430174e-05 1192.5917089874865\n"
     ]
    }
   ],
   "source": [
    " tstat, pvalue, ddof = ttest_ind(\n",
    "                                young3,\n",
    "                                middle3,\n",
    "                                alternative=\"two-sided\",\n",
    "                                usevar=\"unequal\"\n",
    " )\n",
    "print(tstat, pvalue, ddof) "
   ]
  },
  {
   "cell_type": "code",
   "execution_count": 459,
   "metadata": {},
   "outputs": [
    {
     "name": "stdout",
     "output_type": "stream",
     "text": [
      "-6.919646610619877 6.9337001458953706e-12 1369.0461762834632\n"
     ]
    }
   ],
   "source": [
    " tstat, pvalue, ddof = ttest_ind(\n",
    "                                young3,\n",
    "                                old3,\n",
    "                                alternative=\"two-sided\",\n",
    "                                usevar=\"unequal\"\n",
    " )\n",
    "print(tstat, pvalue, ddof) "
   ]
  },
  {
   "cell_type": "code",
   "execution_count": 460,
   "metadata": {},
   "outputs": [
    {
     "name": "stdout",
     "output_type": "stream",
     "text": [
      "-4.958642361248988 7.383646858476191e-07 4132.705113743328\n"
     ]
    }
   ],
   "source": [
    " tstat, pvalue, ddof = ttest_ind(\n",
    "                                middle3,\n",
    "                                old3,\n",
    "                                alternative=\"two-sided\",\n",
    "                                usevar=\"unequal\"\n",
    " )\n",
    "print(tstat, pvalue, ddof) "
   ]
  },
  {
   "cell_type": "markdown",
   "metadata": {},
   "source": [
    "The low risk accuracy for the oldest group is much higher.\n",
    "The differences in accuracy are significant between all groups. They likely do not have the same average accuracy. \n",
    "Since the average accuracy for the oldest group is significantly lower for high risk and higher for low risk, this may mean this algorithm may give the older group lower scores in general. "
   ]
  },
  {
   "cell_type": "markdown",
   "metadata": {},
   "source": [
    "# Comparing the accuracy of \"High\" predictive values across race and sex"
   ]
  },
  {
   "cell_type": "code",
   "execution_count": 461,
   "metadata": {},
   "outputs": [],
   "source": [
    "compasrisk = compas[(compas.race == \"African-American\") | (compas.race == \"Caucasian\")]\n",
    "compasrisk = compasrisk[(compasrisk.is_recid != -1) & (compasrisk.decile_score != -1)]\n",
    "highriskrace = compasrisk[(compasrisk.score_text == \"High\")]\n",
    "lowriskrace  = compasrisk[(compasrisk.score_text == \"Low\")]\n",
    "highriskrace[\"accuracyhigh\"] = (compasrisk.is_recid == 1)\n",
    "lowriskrace[\"accuracylow\"] = (compasrisk.is_recid == 0)"
   ]
  },
  {
   "cell_type": "code",
   "execution_count": 462,
   "metadata": {},
   "outputs": [],
   "source": [
    "HWhitt = highriskrace[(highriskrace.race==\"Caucasian\")&(highriskrace.score_text==\"High\")].accuracyhigh\n",
    "HWhitemen = highriskrace[(highriskrace.race==\"Caucasian\")&(highriskrace.sex==\"Male\")&(highriskrace.score_text==\"High\")].accuracyhigh\n",
    "HWhitewomen = highriskrace[(highriskrace.race==\"Caucasian\")&(highriskrace.sex==\"Female\")&(highriskrace.score_text==\"High\")].accuracyhigh\n",
    "HBlakk = highriskrace[(highriskrace.race==\"African-American\")&(highriskrace.score_text==\"High\")].accuracyhigh\n",
    "HBlackmen = highriskrace[(highriskrace.race==\"African-American\")&(highriskrace.sex==\"Male\")&(highriskrace.score_text==\"High\")].accuracyhigh\n",
    "HBlackwomen = highriskrace[(highriskrace.race==\"African-American\")&(highriskrace.sex==\"Female\")&(highriskrace.score_text==\"High\")].accuracyhigh\n",
    "\n",
    "LWhitt = lowriskrace[(lowriskrace.race==\"Caucasian\")&(lowriskrace.score_text==\"Low\")].accuracylow\n",
    "LWhitemen = lowriskrace[(lowriskrace.race==\"Caucasian\")&(lowriskrace.sex==\"Male\")&(lowriskrace.score_text==\"Low\")].accuracylow\n",
    "LWhitewomen = lowriskrace[(lowriskrace.race==\"Caucasian\")&(lowriskrace.sex==\"Female\")&(lowriskrace.score_text==\"Low\")].accuracylow\n",
    "LBlakk = lowriskrace[(lowriskrace.race==\"African-American\")&(lowriskrace.score_text==\"Low\")].accuracylow\n",
    "LBlackmen = lowriskrace[(lowriskrace.race==\"African-American\")&(lowriskrace.sex==\"Male\")&(lowriskrace.score_text==\"Low\")].accuracylow\n",
    "LBlackwomen = lowriskrace[(lowriskrace.race==\"African-American\")&(lowriskrace.sex==\"Female\")&(lowriskrace.score_text==\"Low\")].accuracylow"
   ]
  },
  {
   "cell_type": "code",
   "execution_count": 463,
   "metadata": {},
   "outputs": [],
   "source": [
    "tstat, pvalue, ddof = ttest_ind(HWhitt,HBlakk,alternative=\"smaller\",usevar=\"unequal\")\n",
    "tstat1, pvalue1, ddof1 = ttest_ind(HWhitemen,HBlackmen,alternative=\"smaller\",usevar=\"unequal\")\n",
    "tstat2, pvalue2, ddof2 = ttest_ind(HWhitewomen,HBlackwomen,alternative=\"smaller\",usevar=\"unequal\")\n",
    "tstat3, pvalue3, ddof3 = ttest_ind(HBlackwomen,HWhitemen,alternative=\"smaller\",usevar=\"unequal\")\n",
    "tstat4, pvalue4, ddof4 = ttest_ind(HWhitewomen,HBlackmen,alternative=\"smaller\",usevar=\"unequal\")\n",
    "tstat5, pvalue5, ddof5 = ttest_ind(HWhitewomen,HWhitemen,alternative=\"smaller\",usevar=\"unequal\")\n",
    "tstat6, pvalue6, ddof6 = ttest_ind(HBlackwomen,HBlackmen,alternative=\"smaller\",usevar=\"unequal\")\n",
    "\n",
    "Ltstat, Lpvalue, Lddof = ttest_ind(LWhitt,LBlakk,alternative=\"larger\",usevar=\"unequal\")\n",
    "Ltstat1, Lpvalue1, Lddof1 = ttest_ind(LWhitemen,LBlackmen,alternative=\"larger\",usevar=\"unequal\")\n",
    "Ltstat2, Lpvalue2, Lddof2 = ttest_ind(LWhitewomen,LBlackwomen,alternative=\"larger\",usevar=\"unequal\")\n",
    "Ltstat3, Lpvalue3, Lddof3 = ttest_ind(LBlackwomen,LWhitemen,alternative=\"larger\",usevar=\"unequal\")\n",
    "Ltstat4, Lpvalue4, Lddof4 = ttest_ind(LWhitewomen,LBlackmen,alternative=\"larger\",usevar=\"unequal\")\n",
    "Ltstat5, Lpvalue5, Lddof4 = ttest_ind(LWhitewomen,LWhitemen,alternative=\"larger\",usevar=\"unequal\")\n",
    "Ltstat6, Lpvalue6, Lddof5 = ttest_ind(LBlackwomen,LBlackmen,alternative=\"larger\",usevar=\"unequal\")"
   ]
  },
  {
   "cell_type": "code",
   "execution_count": 464,
   "metadata": {},
   "outputs": [
    {
     "name": "stdout",
     "output_type": "stream",
     "text": [
      "High risk accuracy p-value \n",
      " \n",
      "White and Black p-value: 0.0557 \n",
      "White men and Black men p-value: 0.251 \n",
      "White women and Black women p-value: 0.1496 \n",
      "Black women and White men p-value: 0.033 \n",
      "White women and Black men p-value: 0.0005 \n",
      "White women and White men p-value: 0.0048 \n",
      "Black women and Black men p-value: 0.0032 \n",
      "\n",
      "Low risk accuracy p-value \n",
      " \n",
      "White and Black p-value: 0.0 \n",
      "White men and Black men p-value: 0.0 \n",
      "White women and Black women p-value: 0.5392 \n",
      "Black women and White men p-value: 0.0031 \n",
      "White women and Black men p-value: 0.0 \n",
      "White women and White men p-value: 0.0035 \n",
      "Black women and Black men p-value: 0.0 \n",
      "\n"
     ]
    }
   ],
   "source": [
    "print(\"High risk accuracy p-value\", \"\\n\",\"\\n\"\n",
    "      \"White and Black p-value:\", round(pvalue, 4), \"\\n\" \n",
    "      \"White men and Black men p-value:\", round(pvalue1, 4),\"\\n\"\n",
    "      \"White women and Black women p-value:\", round(pvalue2, 4),\"\\n\"\n",
    "      \"Black women and White men p-value:\", round(pvalue3, 4), \"\\n\"\n",
    "      \"White women and Black men p-value:\",round(pvalue4, 4), \"\\n\"\n",
    "      \"White women and White men p-value:\", round(pvalue5, 4), \"\\n\"\n",
    "      \"Black women and Black men p-value:\", round(pvalue6, 4), \"\\n\" \"\\n\"\n",
    "      \"Low risk accuracy p-value\", \"\\n\",\"\\n\"\n",
    "      \"White and Black p-value:\", round(Lpvalue, 4), \"\\n\" \n",
    "      \"White men and Black men p-value:\", round(Lpvalue1, 4),\"\\n\"\n",
    "      \"White women and Black women p-value:\", round(Lpvalue2, 4),\"\\n\"\n",
    "      \"Black women and White men p-value:\", round(Lpvalue3, 4), \"\\n\"\n",
    "      \"White women and Black men p-value:\", round(Lpvalue4, 4), \"\\n\"\n",
    "      \"White women and White men p-value:\", round(Lpvalue5, 4), \"\\n\"\n",
    "      \"Black women and Black men p-value:\", round(Lpvalue6, 4), \"\\n\")"
   ]
  },
  {
   "cell_type": "markdown",
   "metadata": {},
   "source": [
    "# Findings\n",
    "\n",
    "### There is a statistically significant discrepancy in the accuracies of \"High\" predictive values for recidivism when comparing:\n",
    "- Black women and White men\n",
    "- White women and Black men \n",
    "- White women and White men  \n",
    "- Black women and Black men \n",
    "\n",
    "### There is a statistically significant discrepancy in the accuracies of \"Low\" predictive values for recidivism when comparing:\n",
    "- White and Black overall population\n",
    "- White men and Black men \n",
    "- White men and Black women \n",
    "- White women and Black men\n",
    "- White women and White men\n",
    "- Black women and Black men"
   ]
  },
  {
   "cell_type": "markdown",
   "metadata": {},
   "source": [
    "# Data being compared:"
   ]
  },
  {
   "cell_type": "code",
   "execution_count": 465,
   "metadata": {},
   "outputs": [
    {
     "data": {
      "text/html": [
       "<div>\n",
       "<style scoped>\n",
       "    .dataframe tbody tr th:only-of-type {\n",
       "        vertical-align: middle;\n",
       "    }\n",
       "\n",
       "    .dataframe tbody tr th {\n",
       "        vertical-align: top;\n",
       "    }\n",
       "\n",
       "    .dataframe thead th {\n",
       "        text-align: right;\n",
       "    }\n",
       "</style>\n",
       "<table border=\"1\" class=\"dataframe\">\n",
       "  <thead>\n",
       "    <tr style=\"text-align: right;\">\n",
       "      <th></th>\n",
       "      <th></th>\n",
       "      <th></th>\n",
       "      <th>accuracyhigh</th>\n",
       "    </tr>\n",
       "    <tr>\n",
       "      <th>race</th>\n",
       "      <th>sex</th>\n",
       "      <th>score_text</th>\n",
       "      <th></th>\n",
       "    </tr>\n",
       "  </thead>\n",
       "  <tbody>\n",
       "    <tr>\n",
       "      <th rowspan=\"2\" valign=\"top\">African-American</th>\n",
       "      <th>Female</th>\n",
       "      <th>High</th>\n",
       "      <td>0.446701</td>\n",
       "    </tr>\n",
       "    <tr>\n",
       "      <th>Male</th>\n",
       "      <th>High</th>\n",
       "      <td>0.551416</td>\n",
       "    </tr>\n",
       "    <tr>\n",
       "      <th rowspan=\"2\" valign=\"top\">Caucasian</th>\n",
       "      <th>Female</th>\n",
       "      <th>High</th>\n",
       "      <td>0.384615</td>\n",
       "    </tr>\n",
       "    <tr>\n",
       "      <th>Male</th>\n",
       "      <th>High</th>\n",
       "      <td>0.530351</td>\n",
       "    </tr>\n",
       "  </tbody>\n",
       "</table>\n",
       "</div>"
      ],
      "text/plain": [
       "                                    accuracyhigh\n",
       "race             sex    score_text              \n",
       "African-American Female High            0.446701\n",
       "                 Male   High            0.551416\n",
       "Caucasian        Female High            0.384615\n",
       "                 Male   High            0.530351"
      ]
     },
     "execution_count": 465,
     "metadata": {},
     "output_type": "execute_result"
    }
   ],
   "source": [
    "highvisual = highriskrace.groupby([\"race\", \"sex\", \"score_text\"])[[\"accuracyhigh\"]].mean()\n",
    "highvisual"
   ]
  },
  {
   "cell_type": "code",
   "execution_count": 466,
   "metadata": {},
   "outputs": [
    {
     "data": {
      "text/html": [
       "<div>\n",
       "<style scoped>\n",
       "    .dataframe tbody tr th:only-of-type {\n",
       "        vertical-align: middle;\n",
       "    }\n",
       "\n",
       "    .dataframe tbody tr th {\n",
       "        vertical-align: top;\n",
       "    }\n",
       "\n",
       "    .dataframe thead th {\n",
       "        text-align: right;\n",
       "    }\n",
       "</style>\n",
       "<table border=\"1\" class=\"dataframe\">\n",
       "  <thead>\n",
       "    <tr style=\"text-align: right;\">\n",
       "      <th></th>\n",
       "      <th></th>\n",
       "      <th></th>\n",
       "      <th>accuracylow</th>\n",
       "    </tr>\n",
       "    <tr>\n",
       "      <th>race</th>\n",
       "      <th>sex</th>\n",
       "      <th>score_text</th>\n",
       "      <th></th>\n",
       "    </tr>\n",
       "  </thead>\n",
       "  <tbody>\n",
       "    <tr>\n",
       "      <th rowspan=\"2\" valign=\"top\">African-American</th>\n",
       "      <th>Female</th>\n",
       "      <th>Low</th>\n",
       "      <td>0.829175</td>\n",
       "    </tr>\n",
       "    <tr>\n",
       "      <th>Male</th>\n",
       "      <th>Low</th>\n",
       "      <td>0.698218</td>\n",
       "    </tr>\n",
       "    <tr>\n",
       "      <th rowspan=\"2\" valign=\"top\">Caucasian</th>\n",
       "      <th>Female</th>\n",
       "      <th>Low</th>\n",
       "      <td>0.826923</td>\n",
       "    </tr>\n",
       "    <tr>\n",
       "      <th>Male</th>\n",
       "      <th>Low</th>\n",
       "      <td>0.777157</td>\n",
       "    </tr>\n",
       "  </tbody>\n",
       "</table>\n",
       "</div>"
      ],
      "text/plain": [
       "                                    accuracylow\n",
       "race             sex    score_text             \n",
       "African-American Female Low            0.829175\n",
       "                 Male   Low            0.698218\n",
       "Caucasian        Female Low            0.826923\n",
       "                 Male   Low            0.777157"
      ]
     },
     "execution_count": 466,
     "metadata": {},
     "output_type": "execute_result"
    }
   ],
   "source": [
    "lowvisual = lowriskrace.groupby([\"race\", \"sex\", \"score_text\"])[[\"accuracylow\"]].mean()\n",
    "lowvisual"
   ]
  },
  {
   "cell_type": "markdown",
   "metadata": {},
   "source": [
    "# Comparing the accuracy of \"Low\" predictive values across race and sex"
   ]
  },
  {
   "cell_type": "code",
   "execution_count": 467,
   "metadata": {},
   "outputs": [
    {
     "name": "stdout",
     "output_type": "stream",
     "text": [
      "High risk accuracy p-value \n",
      " \n",
      "White and Black p-value: 0.0857 \n",
      "White men and Black men p-value: 0.0652 \n",
      "Black women and White women p-value: 0.3683 \n",
      "Black women and White men p-value: 0.3224 \n",
      "White women and Black men p-value: 0.3133 \n",
      "White men and White women p-value: 0.4626 \n",
      "Black women and Black men p-value: 0.0468 \n",
      "\n",
      "Low risk accuracy p-value \n",
      " \n",
      "White and Black p-value: 0.0025 \n",
      "White men and Black men p-value: 0.0332 \n",
      "White women and Black women p-value: 0.0052 \n",
      "White men and Black women p-value: 0.4338 \n",
      "White women and Black men p-value: 0.0 \n",
      "White women and White men p-value: 0.0006 \n",
      "Black women and Black men p-value: 0.1287 \n",
      "\n"
     ]
    }
   ],
   "source": [
    "import numpy as np\n",
    "import pandas as pd\n",
    "\n",
    "from IPython.display import Image\n",
    "\n",
    "import warnings\n",
    "\n",
    "from statsmodels.stats.weightstats import ttest_ind\n",
    "from scipy import stats\n",
    "vcompasrisk = compas[(compas.race == \"African-American\") | (compas.race == \"Caucasian\")]\n",
    "vcompasrisk = vcompasrisk[(vcompasrisk.is_violent_recid != -1) & (vcompasrisk.v_decile_score != -1)]\n",
    "vhighriskrace = vcompasrisk[(vcompasrisk.v_score_text == \"High\")]\n",
    "vlowriskrace  = vcompasrisk[(vcompasrisk.v_score_text == \"Low\")]\n",
    "vhighriskrace[\"vaccuracyhigh\"] = (vcompasrisk.is_violent_recid == 1)\n",
    "vlowriskrace[\"vaccuracylow\"] = (vcompasrisk.is_violent_recid == 0)\n",
    "\n",
    "VHWhitt = vhighriskrace[(vhighriskrace.race==\"Caucasian\")&(vhighriskrace.v_score_text==\"High\")].vaccuracyhigh\n",
    "VHWhitemen = vhighriskrace[(vhighriskrace.race==\"Caucasian\")&(vhighriskrace.sex==\"Male\")&(vhighriskrace.v_score_text==\"High\")].vaccuracyhigh\n",
    "VHWhitewomen = vhighriskrace[(vhighriskrace.race==\"Caucasian\")&(vhighriskrace.sex==\"Female\")&(vhighriskrace.v_score_text==\"High\")].vaccuracyhigh\n",
    "VHBlakk = vhighriskrace[(vhighriskrace.race==\"African-American\")&(vhighriskrace.v_score_text==\"High\")].vaccuracyhigh\n",
    "VHBlackmen = vhighriskrace[(vhighriskrace.race==\"African-American\")&(vhighriskrace.sex==\"Male\")&(vhighriskrace.v_score_text==\"High\")].vaccuracyhigh\n",
    "VHBlackwomen = vhighriskrace[(vhighriskrace.race==\"African-American\")&(vhighriskrace.sex==\"Female\")&(vhighriskrace.v_score_text==\"High\")].vaccuracyhigh\n",
    "\n",
    "VLWhitt = vlowriskrace[(vlowriskrace.race==\"Caucasian\")&(vlowriskrace.v_score_text==\"Low\")].vaccuracylow\n",
    "VLWhitemen = vlowriskrace[(vlowriskrace.race==\"Caucasian\")&(vlowriskrace.sex==\"Male\")&(vlowriskrace.v_score_text==\"Low\")].vaccuracylow\n",
    "VLWhitewomen = vlowriskrace[(vlowriskrace.race==\"Caucasian\")&(vlowriskrace.sex==\"Female\")&(vlowriskrace.v_score_text==\"Low\")].vaccuracylow\n",
    "VLBlakk = vlowriskrace[(vlowriskrace.race==\"African-American\")&(vlowriskrace.v_score_text==\"Low\")].vaccuracylow\n",
    "VLBlackmen = vlowriskrace[(vlowriskrace.race==\"African-American\")&(vlowriskrace.sex==\"Male\")&(vlowriskrace.v_score_text==\"Low\")].vaccuracylow\n",
    "VLBlackwomen = vlowriskrace[(vlowriskrace.race==\"African-American\")&(vlowriskrace.sex==\"Female\")&(vlowriskrace.v_score_text==\"Low\")].vaccuracylow\n",
    "Vtstat, Vpvalue, Vddof = ttest_ind(VHWhitt,VHBlakk,alternative=\"smaller\",usevar=\"unequal\")\n",
    "Vtstat1, Vpvalue1, Vddof1 = ttest_ind(VHWhitemen,VHBlackmen,alternative=\"smaller\",usevar=\"unequal\")\n",
    "Vtstat2, Vpvalue2, Vddof2 = ttest_ind(VHBlackwomen,VHWhitewomen,alternative=\"smaller\",usevar=\"unequal\")\n",
    "Vtstat3, Vpvalue3, Vddof3 = ttest_ind(VHBlackwomen,VHWhitemen,alternative=\"smaller\",usevar=\"unequal\")\n",
    "Vtstat4, Vpvalue4, Vddof4 = ttest_ind(VHWhitewomen,VHBlackmen,alternative=\"smaller\",usevar=\"unequal\")\n",
    "Vtstat5, Vpvalue5, Vddof5 = ttest_ind(VHWhitemen,VHWhitewomen,alternative=\"smaller\",usevar=\"unequal\")\n",
    "Vtstat6, Vpvalue6, Vddof6 = ttest_ind(VHBlackwomen,VHBlackmen,alternative=\"smaller\",usevar=\"unequal\")\n",
    "\n",
    "VLtstat, VLpvalue, VLddof = ttest_ind(VLWhitt,VLBlakk,alternative=\"larger\",usevar=\"unequal\")\n",
    "VLtstat1, VLpvalue1, VLddof1 = ttest_ind(VLWhitemen,VLBlackmen,alternative=\"larger\",usevar=\"unequal\")\n",
    "VLtstat2, VLpvalue2, VLddof2 = ttest_ind(VLWhitewomen,VLBlackwomen,alternative=\"larger\",usevar=\"unequal\")\n",
    "VLtstat3, VLpvalue3, VLddof3 = ttest_ind(VLWhitemen,VLBlackwomen,alternative=\"larger\",usevar=\"unequal\")\n",
    "VLtstat4, VLpvalue4, VLddof4 = ttest_ind(VLWhitewomen,VLBlackmen,alternative=\"larger\",usevar=\"unequal\")\n",
    "VLtstat5, VLpvalue5, VLddof4 = ttest_ind(VLWhitewomen,VLWhitemen,alternative=\"larger\",usevar=\"unequal\")\n",
    "VLtstat6, VLpvalue6, VLddof5 = ttest_ind(VLBlackwomen,VLBlackmen,alternative=\"larger\",usevar=\"unequal\")\n",
    "print(\"High risk accuracy p-value\", \"\\n\",\"\\n\"\n",
    "      \"White and Black p-value:\", round(Vpvalue, 4), \"\\n\" \n",
    "      \"White men and Black men p-value:\", round(Vpvalue1, 4),\"\\n\"\n",
    "      \"Black women and White women p-value:\", round(Vpvalue2, 4),\"\\n\"\n",
    "      \"Black women and White men p-value:\", round(Vpvalue3, 4), \"\\n\"\n",
    "      \"White women and Black men p-value:\",round(Vpvalue4, 4), \"\\n\"\n",
    "      \"White men and White women p-value:\", round(Vpvalue5, 4), \"\\n\"\n",
    "      \"Black women and Black men p-value:\", round(Vpvalue6, 4), \"\\n\" \"\\n\"\n",
    "\n",
    "      \"Low risk accuracy p-value\", \"\\n\",\"\\n\"\n",
    "      \"White and Black p-value:\", round(VLpvalue, 4), \"\\n\" \n",
    "      \"White men and Black men p-value:\", round(VLpvalue1, 4),\"\\n\"\n",
    "      \"White women and Black women p-value:\", round(VLpvalue2, 4),\"\\n\"\n",
    "      \"White men and Black women p-value:\", round(VLpvalue3, 4), \"\\n\"\n",
    "      \"White women and Black men p-value:\", round(VLpvalue4, 4), \"\\n\"\n",
    "      \"White women and White men p-value:\", round(VLpvalue5, 4), \"\\n\"\n",
    "      \"Black women and Black men p-value:\", round(VLpvalue6, 4), \"\\n\")\n"
   ]
  },
  {
   "cell_type": "markdown",
   "metadata": {},
   "source": [
    "# Findings\n",
    "\n",
    "### There is a statistically significant discrepancy in the accuracies of \"High\" predictive values for recidivism when comparing: \n",
    "- Black women and Black men \n",
    "\n",
    "### There is a statistically significant discrepancy in the accuracies of \"Low\" predictive values for recidivism when comparing:\n",
    "- White and Black overall population\n",
    "- White men and Black men\n",
    "- White women and Black women\n",
    "- White women and Black men\n",
    "- White women and White men"
   ]
  },
  {
   "cell_type": "markdown",
   "metadata": {},
   "source": [
    "# Data being compared:"
   ]
  },
  {
   "cell_type": "code",
   "execution_count": 468,
   "metadata": {},
   "outputs": [
    {
     "data": {
      "text/html": [
       "<div>\n",
       "<style scoped>\n",
       "    .dataframe tbody tr th:only-of-type {\n",
       "        vertical-align: middle;\n",
       "    }\n",
       "\n",
       "    .dataframe tbody tr th {\n",
       "        vertical-align: top;\n",
       "    }\n",
       "\n",
       "    .dataframe thead th {\n",
       "        text-align: right;\n",
       "    }\n",
       "</style>\n",
       "<table border=\"1\" class=\"dataframe\">\n",
       "  <thead>\n",
       "    <tr style=\"text-align: right;\">\n",
       "      <th></th>\n",
       "      <th></th>\n",
       "      <th></th>\n",
       "      <th>vaccuracyhigh</th>\n",
       "    </tr>\n",
       "    <tr>\n",
       "      <th>race</th>\n",
       "      <th>sex</th>\n",
       "      <th>v_score_text</th>\n",
       "      <th></th>\n",
       "    </tr>\n",
       "  </thead>\n",
       "  <tbody>\n",
       "    <tr>\n",
       "      <th rowspan=\"2\" valign=\"top\">African-American</th>\n",
       "      <th>Female</th>\n",
       "      <th>High</th>\n",
       "      <td>0.108108</td>\n",
       "    </tr>\n",
       "    <tr>\n",
       "      <th>Male</th>\n",
       "      <th>High</th>\n",
       "      <td>0.173913</td>\n",
       "    </tr>\n",
       "    <tr>\n",
       "      <th rowspan=\"2\" valign=\"top\">Caucasian</th>\n",
       "      <th>Female</th>\n",
       "      <th>High</th>\n",
       "      <td>0.136364</td>\n",
       "    </tr>\n",
       "    <tr>\n",
       "      <th>Male</th>\n",
       "      <th>High</th>\n",
       "      <td>0.128834</td>\n",
       "    </tr>\n",
       "  </tbody>\n",
       "</table>\n",
       "</div>"
      ],
      "text/plain": [
       "                                      vaccuracyhigh\n",
       "race             sex    v_score_text               \n",
       "African-American Female High               0.108108\n",
       "                 Male   High               0.173913\n",
       "Caucasian        Female High               0.136364\n",
       "                 Male   High               0.128834"
      ]
     },
     "execution_count": 468,
     "metadata": {},
     "output_type": "execute_result"
    }
   ],
   "source": [
    "Violenthighvisual = vhighriskrace.groupby([\"race\", \"sex\", \"v_score_text\"])[[\"vaccuracyhigh\"]].mean()\n",
    "Violenthighvisual"
   ]
  },
  {
   "cell_type": "code",
   "execution_count": 469,
   "metadata": {},
   "outputs": [
    {
     "data": {
      "text/html": [
       "<div>\n",
       "<style scoped>\n",
       "    .dataframe tbody tr th:only-of-type {\n",
       "        vertical-align: middle;\n",
       "    }\n",
       "\n",
       "    .dataframe tbody tr th {\n",
       "        vertical-align: top;\n",
       "    }\n",
       "\n",
       "    .dataframe thead th {\n",
       "        text-align: right;\n",
       "    }\n",
       "</style>\n",
       "<table border=\"1\" class=\"dataframe\">\n",
       "  <thead>\n",
       "    <tr style=\"text-align: right;\">\n",
       "      <th></th>\n",
       "      <th></th>\n",
       "      <th></th>\n",
       "      <th>vaccuracylow</th>\n",
       "    </tr>\n",
       "    <tr>\n",
       "      <th>race</th>\n",
       "      <th>sex</th>\n",
       "      <th>v_score_text</th>\n",
       "      <th></th>\n",
       "    </tr>\n",
       "  </thead>\n",
       "  <tbody>\n",
       "    <tr>\n",
       "      <th rowspan=\"2\" valign=\"top\">African-American</th>\n",
       "      <th>Female</th>\n",
       "      <th>Low</th>\n",
       "      <td>0.946015</td>\n",
       "    </tr>\n",
       "    <tr>\n",
       "      <th>Male</th>\n",
       "      <th>Low</th>\n",
       "      <td>0.935263</td>\n",
       "    </tr>\n",
       "    <tr>\n",
       "      <th rowspan=\"2\" valign=\"top\">Caucasian</th>\n",
       "      <th>Female</th>\n",
       "      <th>Low</th>\n",
       "      <td>0.971640</td>\n",
       "    </tr>\n",
       "    <tr>\n",
       "      <th>Male</th>\n",
       "      <th>Low</th>\n",
       "      <td>0.947564</td>\n",
       "    </tr>\n",
       "  </tbody>\n",
       "</table>\n",
       "</div>"
      ],
      "text/plain": [
       "                                      vaccuracylow\n",
       "race             sex    v_score_text              \n",
       "African-American Female Low               0.946015\n",
       "                 Male   Low               0.935263\n",
       "Caucasian        Female Low               0.971640\n",
       "                 Male   Low               0.947564"
      ]
     },
     "execution_count": 469,
     "metadata": {},
     "output_type": "execute_result"
    }
   ],
   "source": [
    "Violentlowvisual = vlowriskrace.groupby([\"race\", \"sex\", \"v_score_text\"])[[\"vaccuracylow\"]].mean()\n",
    "Violentlowvisual"
   ]
  },
  {
   "cell_type": "markdown",
   "metadata": {},
   "source": [
    "# Linear Regression Decile Score Entire DataSet"
   ]
  },
  {
   "cell_type": "code",
   "execution_count": 470,
   "metadata": {},
   "outputs": [],
   "source": [
    "import pandas as pd\n",
    "import numpy as np\n",
    "import seaborn as sns\n",
    "import matplotlib.pyplot as plt\n",
    "from sklearn.linear_model import LinearRegression\n",
    "from sklearn.model_selection import train_test_split\n",
    "sns.set(rc={'figure.figsize':(6,6)}) \n",
    "%matplotlib inline"
   ]
  },
  {
   "cell_type": "code",
   "execution_count": 471,
   "metadata": {},
   "outputs": [
    {
     "data": {
      "text/plain": [
       "decile_score      1.000000\n",
       "v_decile_score    0.773795\n",
       "decile_score.1    1.000000\n",
       "Name: decile_score, dtype: float64"
      ]
     },
     "execution_count": 471,
     "metadata": {},
     "output_type": "execute_result"
    }
   ],
   "source": [
    "LinComp = compas.select_dtypes(np.number).fillna(0)\n",
    "cor = LinComp.corr()\n",
    "cor_target = abs(cor[\"decile_score\"])\n",
    "relevant_features = cor_target[cor_target > .5]\n",
    "relevant_features"
   ]
  },
  {
   "cell_type": "code",
   "execution_count": 472,
   "metadata": {},
   "outputs": [],
   "source": [
    "#took out 'Unnamed: 0', it gave me errors when it was including in the set of DROP\n",
    "DROP = [\"priors_count\", 'id','decile_score.1', \"juv_fel_count\", \"juv_misd_count\", \"juv_other_count\",  \"is_recid\", \"is_violent_recid\"]\n",
    "LinComp = LinComp.drop(DROP, axis =1)"
   ]
  },
  {
   "cell_type": "code",
   "execution_count": 473,
   "metadata": {},
   "outputs": [],
   "source": [
    "targetvariable = \"decile_score\"\n",
    "independentvariables = LinComp.drop(columns=targetvariable).columns"
   ]
  },
  {
   "cell_type": "code",
   "execution_count": 474,
   "metadata": {},
   "outputs": [],
   "source": [
    "X_train, X_test, y_train, y_test = train_test_split(\n",
    "     LinComp[independentvariables],\n",
    "     LinComp[targetvariable], \n",
    "     test_size=0.2,\n",
    "    random_state = 13,)"
   ]
  },
  {
   "cell_type": "code",
   "execution_count": 475,
   "metadata": {
    "scrolled": true
   },
   "outputs": [
    {
     "data": {
      "text/plain": [
       "LinearRegression(copy_X=True, fit_intercept=True, n_jobs=None, normalize=False)"
      ]
     },
     "execution_count": 475,
     "metadata": {},
     "output_type": "execute_result"
    }
   ],
   "source": [
    "model = LinearRegression()\n",
    "model.fit(X_train, y_train)"
   ]
  },
  {
   "cell_type": "code",
   "execution_count": 476,
   "metadata": {},
   "outputs": [],
   "source": [
    "independentvariables = LinComp.columns\n",
    "targetvariables = \"targetvariables\""
   ]
  },
  {
   "cell_type": "code",
   "execution_count": 477,
   "metadata": {},
   "outputs": [],
   "source": [
    "predictions = model.predict(X_test)"
   ]
  },
  {
   "cell_type": "code",
   "execution_count": 478,
   "metadata": {},
   "outputs": [],
   "source": [
    "X = X_test.reset_index().copy() \n",
    "X[\"decile_score\"] = y_test.tolist()\n",
    "X[\"prediction\"] = predictions"
   ]
  },
  {
   "cell_type": "code",
   "execution_count": 479,
   "metadata": {},
   "outputs": [
    {
     "data": {
      "text/plain": [
       "<seaborn.axisgrid.FacetGrid at 0x7fd687b4ab50>"
      ]
     },
     "execution_count": 479,
     "metadata": {},
     "output_type": "execute_result"
    },
    {
     "data": {
      "image/png": "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\n",
      "text/plain": [
       "<Figure size 360x360 with 1 Axes>"
      ]
     },
     "metadata": {
      "needs_background": "light"
     },
     "output_type": "display_data"
    }
   ],
   "source": [
    "sns.relplot(x=\"decile_score\", y=\"prediction\", data=X, kind=\"scatter\")"
   ]
  },
  {
   "cell_type": "code",
   "execution_count": 480,
   "metadata": {},
   "outputs": [
    {
     "data": {
      "text/plain": [
       "Text(0, 0.5, 'decile_score')"
      ]
     },
     "execution_count": 480,
     "metadata": {},
     "output_type": "execute_result"
    },
    {
     "data": {
      "image/png": "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\n",
      "text/plain": [
       "<Figure size 432x288 with 1 Axes>"
      ]
     },
     "metadata": {
      "needs_background": "light"
     },
     "output_type": "display_data"
    }
   ],
   "source": [
    "sns.scatterplot(x=X[\"age\"], y=X[\"decile_score\"], label = 'True')\n",
    "sns.scatterplot(x=X[\"age\"], y=X[\"prediction\"], label = 'Predictions')\n",
    "sns.mpl.pyplot.ylabel(\"decile_score\")"
   ]
  },
  {
   "cell_type": "code",
   "execution_count": 481,
   "metadata": {},
   "outputs": [],
   "source": [
    "X[\"error\"] = abs(X[\"decile_score\"]-X[\"prediction\"])"
   ]
  },
  {
   "cell_type": "code",
   "execution_count": 482,
   "metadata": {},
   "outputs": [
    {
     "data": {
      "text/html": [
       "<div>\n",
       "<style scoped>\n",
       "    .dataframe tbody tr th:only-of-type {\n",
       "        vertical-align: middle;\n",
       "    }\n",
       "\n",
       "    .dataframe tbody tr th {\n",
       "        vertical-align: top;\n",
       "    }\n",
       "\n",
       "    .dataframe thead th {\n",
       "        text-align: right;\n",
       "    }\n",
       "</style>\n",
       "<table border=\"1\" class=\"dataframe\">\n",
       "  <thead>\n",
       "    <tr style=\"text-align: right;\">\n",
       "      <th></th>\n",
       "      <th>index</th>\n",
       "      <th>age</th>\n",
       "      <th>v_decile_score</th>\n",
       "      <th>decile_score</th>\n",
       "      <th>prediction</th>\n",
       "      <th>error</th>\n",
       "    </tr>\n",
       "  </thead>\n",
       "  <tbody>\n",
       "    <tr>\n",
       "      <th>0</th>\n",
       "      <td>1070</td>\n",
       "      <td>37</td>\n",
       "      <td>1</td>\n",
       "      <td>1</td>\n",
       "      <td>1.970641</td>\n",
       "      <td>0.970641</td>\n",
       "    </tr>\n",
       "    <tr>\n",
       "      <th>1</th>\n",
       "      <td>11648</td>\n",
       "      <td>23</td>\n",
       "      <td>5</td>\n",
       "      <td>4</td>\n",
       "      <td>5.472164</td>\n",
       "      <td>1.472164</td>\n",
       "    </tr>\n",
       "    <tr>\n",
       "      <th>2</th>\n",
       "      <td>543</td>\n",
       "      <td>30</td>\n",
       "      <td>2</td>\n",
       "      <td>1</td>\n",
       "      <td>2.774430</td>\n",
       "      <td>1.774430</td>\n",
       "    </tr>\n",
       "    <tr>\n",
       "      <th>3</th>\n",
       "      <td>7788</td>\n",
       "      <td>34</td>\n",
       "      <td>1</td>\n",
       "      <td>2</td>\n",
       "      <td>1.909277</td>\n",
       "      <td>0.090723</td>\n",
       "    </tr>\n",
       "    <tr>\n",
       "      <th>4</th>\n",
       "      <td>4025</td>\n",
       "      <td>40</td>\n",
       "      <td>1</td>\n",
       "      <td>2</td>\n",
       "      <td>2.032005</td>\n",
       "      <td>0.032005</td>\n",
       "    </tr>\n",
       "  </tbody>\n",
       "</table>\n",
       "</div>"
      ],
      "text/plain": [
       "   index  age  v_decile_score  decile_score  prediction     error\n",
       "0   1070   37               1             1    1.970641  0.970641\n",
       "1  11648   23               5             4    5.472164  1.472164\n",
       "2    543   30               2             1    2.774430  1.774430\n",
       "3   7788   34               1             2    1.909277  0.090723\n",
       "4   4025   40               1             2    2.032005  0.032005"
      ]
     },
     "execution_count": 482,
     "metadata": {},
     "output_type": "execute_result"
    }
   ],
   "source": [
    "X.head()"
   ]
  },
  {
   "cell_type": "code",
   "execution_count": 483,
   "metadata": {},
   "outputs": [
    {
     "data": {
      "text/plain": [
       "count    2352.000000\n",
       "mean        1.441524\n",
       "std         1.095448\n",
       "min         0.008904\n",
       "25%         0.680493\n",
       "50%         1.237120\n",
       "75%         1.794885\n",
       "max         6.939204\n",
       "Name: error, dtype: float64"
      ]
     },
     "execution_count": 483,
     "metadata": {},
     "output_type": "execute_result"
    }
   ],
   "source": [
    "X.error.describe()"
   ]
  },
  {
   "cell_type": "markdown",
   "metadata": {},
   "source": [
    "# Linear Regression Violent Decile Score Entire DataSet"
   ]
  },
  {
   "cell_type": "code",
   "execution_count": 484,
   "metadata": {},
   "outputs": [],
   "source": [
    "VLinComp = compas.select_dtypes(np.number).fillna(0)"
   ]
  },
  {
   "cell_type": "code",
   "execution_count": 485,
   "metadata": {},
   "outputs": [],
   "source": [
    "Vcor = VLinComp.corr()\n",
    "Vcor_target = abs(Vcor[\"v_decile_score\"])\n",
    "Vrelevant_features = Vcor_target[Vcor_target > .5]"
   ]
  },
  {
   "cell_type": "code",
   "execution_count": 486,
   "metadata": {},
   "outputs": [],
   "source": [
    "#took out Unnamed:0 again\n",
    "DROP = [\"priors_count\", 'id','decile_score.1', \"juv_fel_count\", \"juv_misd_count\", \"juv_other_count\",  \"is_recid\", \"is_violent_recid\"]\n",
    "VLinComp = VLinComp.drop(DROP, axis =1)"
   ]
  },
  {
   "cell_type": "code",
   "execution_count": 487,
   "metadata": {},
   "outputs": [],
   "source": [
    "Vtargetvariable = \"v_decile_score\"\n",
    "Vindependentvariables = VLinComp.drop(columns=Vtargetvariable).columns"
   ]
  },
  {
   "cell_type": "code",
   "execution_count": 488,
   "metadata": {},
   "outputs": [],
   "source": [
    "VX_train, VX_test, Vy_train, Vy_test = train_test_split(\n",
    "     VLinComp[Vindependentvariables],\n",
    "     VLinComp[Vtargetvariable], \n",
    "     test_size=0.2,\n",
    "    random_state = 13,)"
   ]
  },
  {
   "cell_type": "code",
   "execution_count": 489,
   "metadata": {},
   "outputs": [
    {
     "data": {
      "text/plain": [
       "LinearRegression(copy_X=True, fit_intercept=True, n_jobs=None, normalize=False)"
      ]
     },
     "execution_count": 489,
     "metadata": {},
     "output_type": "execute_result"
    }
   ],
   "source": [
    "Vmodel = LinearRegression()\n",
    "Vmodel.fit(VX_train, Vy_train)"
   ]
  },
  {
   "cell_type": "code",
   "execution_count": 490,
   "metadata": {},
   "outputs": [],
   "source": [
    "Vindependentvariables = VLinComp.columns\n",
    "Vtargetvariables = \"Vtargetvariables\""
   ]
  },
  {
   "cell_type": "code",
   "execution_count": 491,
   "metadata": {},
   "outputs": [],
   "source": [
    "Vpredictions = Vmodel.predict(VX_test)"
   ]
  },
  {
   "cell_type": "code",
   "execution_count": 492,
   "metadata": {},
   "outputs": [],
   "source": [
    "V = VX_test.reset_index().copy() \n",
    "V[\"V_decile_score\"] = Vy_test.tolist()\n",
    "V[\"prediction\"] = Vpredictions"
   ]
  },
  {
   "cell_type": "code",
   "execution_count": 493,
   "metadata": {},
   "outputs": [
    {
     "data": {
      "text/plain": [
       "<seaborn.axisgrid.FacetGrid at 0x7fd6841bb8d0>"
      ]
     },
     "execution_count": 493,
     "metadata": {},
     "output_type": "execute_result"
    },
    {
     "data": {
      "image/png": "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\n",
      "text/plain": [
       "<Figure size 360x360 with 1 Axes>"
      ]
     },
     "metadata": {
      "needs_background": "light"
     },
     "output_type": "display_data"
    }
   ],
   "source": [
    "sns.relplot(x=\"V_decile_score\", y=\"prediction\", data=V, kind=\"scatter\")"
   ]
  },
  {
   "cell_type": "code",
   "execution_count": 494,
   "metadata": {},
   "outputs": [
    {
     "data": {
      "text/plain": [
       "Text(0, 0.5, 'Vdecile_score')"
      ]
     },
     "execution_count": 494,
     "metadata": {},
     "output_type": "execute_result"
    },
    {
     "data": {
      "image/png": "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\n",
      "text/plain": [
       "<Figure size 432x288 with 1 Axes>"
      ]
     },
     "metadata": {
      "needs_background": "light"
     },
     "output_type": "display_data"
    }
   ],
   "source": [
    "sns.scatterplot(x=V[\"age\"], y=V[\"V_decile_score\"], label = 'True')\n",
    "sns.scatterplot(x=V[\"age\"], y=V[\"prediction\"], label = 'Predictions')\n",
    "sns.mpl.pyplot.ylabel(\"Vdecile_score\")"
   ]
  },
  {
   "cell_type": "code",
   "execution_count": 495,
   "metadata": {},
   "outputs": [],
   "source": [
    "V[\"error\"] = abs(V[\"V_decile_score\"]-V[\"prediction\"])"
   ]
  },
  {
   "cell_type": "code",
   "execution_count": 496,
   "metadata": {},
   "outputs": [
    {
     "data": {
      "text/html": [
       "<div>\n",
       "<style scoped>\n",
       "    .dataframe tbody tr th:only-of-type {\n",
       "        vertical-align: middle;\n",
       "    }\n",
       "\n",
       "    .dataframe tbody tr th {\n",
       "        vertical-align: top;\n",
       "    }\n",
       "\n",
       "    .dataframe thead th {\n",
       "        text-align: right;\n",
       "    }\n",
       "</style>\n",
       "<table border=\"1\" class=\"dataframe\">\n",
       "  <thead>\n",
       "    <tr style=\"text-align: right;\">\n",
       "      <th></th>\n",
       "      <th>index</th>\n",
       "      <th>age</th>\n",
       "      <th>decile_score</th>\n",
       "      <th>V_decile_score</th>\n",
       "      <th>prediction</th>\n",
       "      <th>error</th>\n",
       "    </tr>\n",
       "  </thead>\n",
       "  <tbody>\n",
       "    <tr>\n",
       "      <th>0</th>\n",
       "      <td>1070</td>\n",
       "      <td>37</td>\n",
       "      <td>1</td>\n",
       "      <td>1</td>\n",
       "      <td>1.539418</td>\n",
       "      <td>0.539418</td>\n",
       "    </tr>\n",
       "    <tr>\n",
       "      <th>1</th>\n",
       "      <td>11648</td>\n",
       "      <td>23</td>\n",
       "      <td>4</td>\n",
       "      <td>5</td>\n",
       "      <td>4.168556</td>\n",
       "      <td>0.831444</td>\n",
       "    </tr>\n",
       "    <tr>\n",
       "      <th>2</th>\n",
       "      <td>543</td>\n",
       "      <td>30</td>\n",
       "      <td>1</td>\n",
       "      <td>2</td>\n",
       "      <td>2.001623</td>\n",
       "      <td>0.001623</td>\n",
       "    </tr>\n",
       "    <tr>\n",
       "      <th>3</th>\n",
       "      <td>7788</td>\n",
       "      <td>34</td>\n",
       "      <td>2</td>\n",
       "      <td>1</td>\n",
       "      <td>2.305749</td>\n",
       "      <td>1.305749</td>\n",
       "    </tr>\n",
       "    <tr>\n",
       "      <th>4</th>\n",
       "      <td>4025</td>\n",
       "      <td>40</td>\n",
       "      <td>2</td>\n",
       "      <td>1</td>\n",
       "      <td>1.909573</td>\n",
       "      <td>0.909573</td>\n",
       "    </tr>\n",
       "  </tbody>\n",
       "</table>\n",
       "</div>"
      ],
      "text/plain": [
       "   index  age  decile_score  V_decile_score  prediction     error\n",
       "0   1070   37             1               1    1.539418  0.539418\n",
       "1  11648   23             4               5    4.168556  0.831444\n",
       "2    543   30             1               2    2.001623  0.001623\n",
       "3   7788   34             2               1    2.305749  1.305749\n",
       "4   4025   40             2               1    1.909573  0.909573"
      ]
     },
     "execution_count": 496,
     "metadata": {},
     "output_type": "execute_result"
    }
   ],
   "source": [
    "V.head()"
   ]
  },
  {
   "cell_type": "code",
   "execution_count": 497,
   "metadata": {},
   "outputs": [
    {
     "data": {
      "text/plain": [
       "count    2352.000000\n",
       "mean        1.080619\n",
       "std         0.884090\n",
       "min         0.001623\n",
       "25%         0.384991\n",
       "50%         0.838410\n",
       "75%         1.569866\n",
       "max         4.755214\n",
       "Name: error, dtype: float64"
      ]
     },
     "execution_count": 497,
     "metadata": {},
     "output_type": "execute_result"
    }
   ],
   "source": [
    "V.error.describe()"
   ]
  },
  {
   "cell_type": "markdown",
   "metadata": {},
   "source": [
    "# Lin Regression African Americans"
   ]
  },
  {
   "cell_type": "code",
   "execution_count": 498,
   "metadata": {},
   "outputs": [],
   "source": [
    "import pandas as pd\n",
    "import numpy as np\n",
    "import seaborn as sns\n",
    "import matplotlib.pyplot as plt\n",
    "from sklearn.linear_model import LinearRegression\n",
    "from sklearn.model_selection import train_test_split\n",
    "sns.set(rc={'figure.figsize':(6,6)}) \n",
    "%matplotlib inline"
   ]
  },
  {
   "cell_type": "code",
   "execution_count": 499,
   "metadata": {},
   "outputs": [
    {
     "data": {
      "text/plain": [
       "decile_score      1.000000\n",
       "v_decile_score    0.740446\n",
       "decile_score.1    1.000000\n",
       "Name: decile_score, dtype: float64"
      ]
     },
     "execution_count": 499,
     "metadata": {},
     "output_type": "execute_result"
    }
   ],
   "source": [
    "compas = pd.read_csv(\"Compas.csv\")\n",
    "\n",
    "CompasAfricanAmericans = compas[(compas.race == \"African-American\")]\n",
    "LinCompAfr = CompasAfricanAmericans.select_dtypes(np.number).fillna(0)\n",
    "corAfr = LinCompAfr.corr()\n",
    "cor_targetAfr = abs(corAfr[\"decile_score\"])\n",
    "relevant_featuresAfr = cor_targetAfr[cor_targetAfr > .4]\n",
    "relevant_featuresAfr"
   ]
  },
  {
   "cell_type": "code",
   "execution_count": 500,
   "metadata": {},
   "outputs": [],
   "source": [
    "DROP = ['Unnamed: 0', \"priors_count\", 'id','decile_score.1', \"juv_fel_count\", \"juv_misd_count\", \"juv_other_count\",  \"is_recid\", \"is_violent_recid\"]\n",
    "LinCompAfr = LinCompAfr.drop(DROP, axis =1)"
   ]
  },
  {
   "cell_type": "code",
   "execution_count": 501,
   "metadata": {},
   "outputs": [],
   "source": [
    "targetvariablesAfr = \"decile_score\"\n",
    "independentvariablesAfr = LinCompAfr.drop(columns=targetvariablesAfr).columns"
   ]
  },
  {
   "cell_type": "code",
   "execution_count": 502,
   "metadata": {},
   "outputs": [],
   "source": [
    "X_trainAfr, X_testAfr, y_trainAfr, y_testAfr = train_test_split(\n",
    "     LinCompAfr[independentvariablesAfr],   # X\n",
    "     LinCompAfr[targetvariablesAfr], # y\n",
    "     test_size=0.2,\n",
    "    random_state = 12)"
   ]
  },
  {
   "cell_type": "code",
   "execution_count": 503,
   "metadata": {},
   "outputs": [
    {
     "data": {
      "text/plain": [
       "LinearRegression(copy_X=True, fit_intercept=True, n_jobs=None, normalize=False)"
      ]
     },
     "execution_count": 503,
     "metadata": {},
     "output_type": "execute_result"
    }
   ],
   "source": [
    "modelAfr = LinearRegression()\n",
    "modelAfr.fit(X_trainAfr, y_trainAfr)"
   ]
  },
  {
   "cell_type": "code",
   "execution_count": 504,
   "metadata": {},
   "outputs": [],
   "source": [
    "predictionsAfr = modelAfr.predict(X_testAfr)"
   ]
  },
  {
   "cell_type": "code",
   "execution_count": 505,
   "metadata": {},
   "outputs": [],
   "source": [
    "Afr = X_testAfr.reset_index().copy() \n",
    "Afr[\"decile_score\"] = y_testAfr.tolist()\n",
    "Afr[\"prediction\"] = predictionsAfr"
   ]
  },
  {
   "cell_type": "code",
   "execution_count": 506,
   "metadata": {},
   "outputs": [
    {
     "data": {
      "text/plain": [
       "<seaborn.axisgrid.FacetGrid at 0x7fd687b7ec50>"
      ]
     },
     "execution_count": 506,
     "metadata": {},
     "output_type": "execute_result"
    },
    {
     "data": {
      "image/png": "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\n",
      "text/plain": [
       "<Figure size 360x360 with 1 Axes>"
      ]
     },
     "metadata": {
      "needs_background": "light"
     },
     "output_type": "display_data"
    }
   ],
   "source": [
    "sns.relplot(x=\"decile_score\", y=\"prediction\", data=Afr, kind=\"scatter\")"
   ]
  },
  {
   "cell_type": "code",
   "execution_count": 507,
   "metadata": {},
   "outputs": [
    {
     "data": {
      "text/plain": [
       "Text(0, 0.5, 'decile_score')"
      ]
     },
     "execution_count": 507,
     "metadata": {},
     "output_type": "execute_result"
    },
    {
     "data": {
      "image/png": "iVBORw0KGgoAAAANSUhEUgAAAYAAAAEJCAYAAACdePCvAAAABHNCSVQICAgIfAhkiAAAAAlwSFlzAAALEgAACxIB0t1+/AAAADh0RVh0U29mdHdhcmUAbWF0cGxvdGxpYiB2ZXJzaW9uMy4xLjMsIGh0dHA6Ly9tYXRwbG90bGliLm9yZy+AADFEAAAgAElEQVR4nOy9e5gdVZnv/62qXftS3bt3dyd9A8PgPGh5xFEZxw6CcRRh9IxzxpEOhEsYwvwMAwk6A0M6hCTQEJKQ4MCoEBCe0aigoiSjnnF0xPGKDIk6oqKHGn3UcwL0LUlfd+1rVf3+2Jfeq9a7dq/d3buv9X0eH8xKXVbV2nnXqne97+dVPM9DoECBAgVaeVIXugOBAgUKFGhhFEwAgQIFCrRCFUwAgQIFCrRCFUwAgQIFCrRCFUwAgQIFCrRCFVroDtSgCIC3AugH4CxwXwIFChRoqUgD0AXgRwAylX9R1wnANM0mAM8C+AvLsn5vmub1AD4MwAPwYwB/a1lWVvJybwXwg/r0NFCgQIGWvdYBeKayoW4TgGmaawE8BuC1xT+/FsA2AG8BMAHgMICtAB6QvGQ/AIyMJOG685e7sGpVI06dmpy3+9VbwfMsfi23ZwqeZ2GlqgpaWhqAog2tVD2/ADajYOA/W/xzBsAWy7LGAcA0zV8AOKuG6zkA4LrevE4ApXsuJwXPs/i13J4peJ5FIc51rtQ7E9g0zd8DeKdlWb+vaGtDwR+1ybKs70pe6mwAv5vb3gUKFCjQitGrAfy+smHeN4FN0zwTwNcB/HMNxr+sU6cm53X2bWuLY3h4Yt7uV28Fz7P4tdyeKXiehZWqKli1qpH+u/nsiGmar0NhU/jTlmXtmc97BwoUKFAgVvP2BWCaZhzANwHstCzrs9MdHyhQoECB6qv5dAF9EEAHgH8wTfMfim1ftSzrjnnsQ6BAgQIFKqruE4BlWWcX/+8DkA/5DBQoUKBAddZSygQOFCjQHEjTFBhKBoqXh6eEYHsROM6SDGsMNEsFE0CgQCtImqbAyAxj6MgB5MeGEUq0ob1nO+xIWzAJrEAFMLhAgVaQDCVTNv4AkB8rTAaGkpnmzEDLUcEEECjQCpLi5cvGv6T82DAUL79APQq0kAomgECBVpA8JYRQoo1pCyXa4CmBN3glKpgAAgVaQbK9CNp7tpcngfIegBdZ4J4FWggF036gQCtIjuPBjrSh/eq9QRRQoGACCBRopclxPEwgDCBcbAmM/0pV4AIKFChQoBWqYAIIFChQoBWqYAIIFChQoBWqYAIIFChQoBWqYBM40KJSwKkJFGj+FEwAgRaNAk7N4pJoMg4m6eWjYAIItGgk4tS0X723GLYYaL4kmowzRjsi9lAwSS8TBXsAgRaNAk7N4pFoMo55dgCTW0YKJoBAi0YBp2bxSDwZO8EkvYwUTACBFo0CTs3ikXgy1oJJehkpGLVAi0YBp2bxqDQZ+339KcUg2wuTdDBOS03BBLBEtFIiLwJOzeKQcDLOunCCSXrZKJgAloCC8MiloeU2SYsm42CSXj4K9gDmUeGwioSeRiKUREJPIxyWe/1BGb/Fr/Ik/cROvPzwFgw9sRNGZhiapix01wIFEir4ApilGhpU6Fkb8BxA0ZALG8jlgJg31ZZSDABA1B7EwJGD5VV8R08vYHQgm3Wr3qN6eGQQH78YFOQwBFqKqusEYJpmE4BnAfyFZVm/N03zYgD3A4gBeNKyrF31vL9fmqYiD8BxPWiqUn54f5vjuIgZOuyMi/6Tk9A0DUZEhap60DOTZcPuRBuhjLyC/iP3VRj1bdAiBgY+dxdj6JV4a9n4AwUDMXjkILquuQcZzYDjutBUFdGwCkUBUhm33IaQjlCijZkEQok2QNPhQWPOzaRy0MMasg7K7WEN0EMqkhXP0xBRkXc9ZHJe+biIrkBRFKSzLndN6t1pusqd77ked28AXFsu65BjFI6GpK5Zy/kqXEScqQk5oxUmaWrcZeV/xwrkJ2nqXdZy7/nSbPtZOn9oxAY0ddE+50pW3SYA0zTXAngMwGuLf44B+CSAPwVwAsDXTNP8n5Zlfb1efaiUpqkYsXPYd/g4hkZSaG+JoW/z+cjlXOytaLt9Uzc6W6LIOnm0qClAKRiNrGJAGx1gjH3X1X3lPwMlo34fOq/YxRv6jXtIA+E5eew49Ez5/juv60YopOKux54rt91704VY3bMdJyv2AFb3bMdIXsfOh6fO3VHs+8BIGvsrnom65o5N3WhJhJl777/pQoxP5phzd2zqRkdLFEMjaebd3XPjBUiOZZhj79x8PnJ5F/s+xb5PXefvvToe5ox4OBrCsO+aOzZ1oyEWwq6Hn5U6f9zOwh4ZQWNEwXjGw+rOVWhIDTNfXu09vUiFV2PHw88x/WwxdCkDpYc1nJzIMv386JY/JidpTw0BFd2kfoe13Hu+NNt+LpXnXOmq5x7AZgBbAbxS/HM3gF9blvU7y7LyAB4HcFkd788oD+ALT7+Imz9wDh656c24+QPnYNLOlI0/AAyNpLDv8HFAcWEkB9H/+G6cOLQV/Y/vRjg9gUGfsXcmR0mjDkXh2zyHjJ/OOmDuv/dTxzF02mba0hkXD3xjEOPv6kXkqvsx/q5ePPCNQbw0lGSO23/4OOyMWzZM1a65//BxODn23q4D7tz9h48jlXHL/5BL7fm8xx07dNouG//K90ndm1rAZ3L8NfcfPg4FYMbtyadfJM93XA+GPYjYt+5F5nO3IPate9GQGsbID77oc80chOHaXD9lU5myxHv66Fd+g1WX9jI5DA3vuwW2EmXOzQPcu6zl3vOl2fZzqTznSlfdvgAsy/ogAJimWWo6A0B/xSH9AF5V63VXrWqcUX9Oj9m4/k9bkfq3g8iMDaMp0YbVl25HazxS/pEChR9qOJvkVvZOkjf2jj1Gu2Y8NiqisBLU0H7pNgwdvY9ZiT72H68wxw6NpBANs8OiKsBzLwziuRcGmfb3v+Mc7lzHdZnnEV2zdGylPM8jz3Vcvl1VwLVFwyH5e3seutriTHv/yUm8+ZzVuPaiMxDWPGQdBd94fhSJ7DCy35kat+v//BZA9dDWWji/rXid1OgpDH/tfs7Yr7rkOqR+/aPyffJjwwip7BgNjaQARSlfq5r6Tya553zuhUEMXPxapN7VixZDw4jt4ONfPYFtf/0qtFdcc2jEJt+R/94y/ainZPtZr/MXu5bDMwDzuwmsgo0XUwDU/C146tQkXLf2sLNGPYvhf2ONw8mjB/DB99yGWx8bLR/X3hIDiHR3ytiP/+w76Fjfi8GnKjd2t8FTtfKxoUQb2i/dhpTagKM/GUDP5X1l49afC+P53/yGuU97SwzpLLtOcr1Ce+U/KOq49pYYNFWt6dhKKYpCnqupfDvVp3Q2Lzjfw/6/+aOyYfzK8SFoioKxsSSzWd5kNGDzOxIY+mJf+d39Zc82TPzy+8y4pf7tfrRt3IvhYRdtbXEMD08AAJpCtB9eMxJMWyjRhrzLfqUVxt0rX6uaNE0jn3NkMou7PvmL6tfU6PGpPK7ymRZMEv2s6/mLWItifGqQqirChfN8hoG+BKCr4s+dmHIP1V2qIJLmrLZY4YcJlP2UUPl095Kxr/zEb113GZxEB7o27sGaLQ+ha+MepOOdSIeb0LqhD2fc8CBaN/RhNNKGkKpi3XlrcPOjP8dl+47j5kd/Di0Uws7rupn777yuG+2tBtMWCinYsamb62eH77gdm7phRFTuWOqaOzZ1Q9PBtKkauHN3bOpGLKLidl871af2VgO3+57nrs1rcXZ0Ek3fOYjM525B03cO4ub3dqAhWoyKenw3Xjq0FQOP70Y4O1n+QiqNz9CR+5B400XcuKke4QNSddLNpjY0+/ASvbBVg3ufsquhMPGeqPGgrhkCuHdZy73nS7Pt51J5zpUuxfPqm8RhmubvAbwTwACAXwN4F4DfAfhXAJ+0LOtLkpc6G8DvZvoFEA9lMfTETs5d075xL8bdKBPpEIkAofGBss+/vLJvOQNaeioKKBdpRN7ho2ZUBbAroniMiIqUnUPU0JnonlhEheeBO98fBRSLFOZpmXOniwIqPWetUUDhsIqwl4bi5uGpIWSVKNSQilDOLrfldQNOno3YSWgpDH6Wf+9dG/eg//HdTPurbvg4XnrkQ9zY+dtDiUIm6kQ+zKzGNE2BkR3G0FMVCXPrt8OJt0PP1TcKKKwBruNJXXO66JrFssKcqyggKArgecsmCmixjI+sKr4AXg3g95V/N28TsmVZadM0NwE4AiAK4N8APDVf9xexTWw3AsVxCy/C8eAAsG3AaOpE18Y9ZaOR1Q3YE/li14vKFdwqCoov0nGQSTlcW8outKXtHNOetvljqfOp46qdm8s6THvOmWrrKv54beL8rFMwok1KBopazGbNRqBpCs+AX78d0HQMPXkP8z5zkTYojle+JgThkZSbDa5D7qkoWoh1qQnYM47jwQ4TmALb9Y2b63t2D3RQqVjUO5a9puO4s7r3fGm2/SydXzKYi/U5V7LqPgFYlnV2xf//DwBvqvc9KdUKGrNtFzaiU7N9bmmvXMJhFTHPRm4kiYReSE7zJ6CJkBOINfFJTk8dwKr3bp428alEleQ2yhWNax/72bfR0bPN9+XVi7TWID1uAaYgUCB5rSiX3Eo1DuGwKpWFLMpm7by6j1zFq3qUa/MnPom+vNKagY6eXgxW9Knp3HXIN3Wgc+MeKJ4Dr5hFnU27SK/AcQsUqN5aURPAUpZhqAhX+LGzugHblvsqiXk2mYXcuXEPshWuESFyQlHJVbybSzPHUlx44ZdX2oVrEMbe766pPVBs0Wu5QeMCLV0FE8AilN/YO1EDysgAh5wwmjrlJgFhFSfWKyty1ziKzq/ii3sAsr556ssrm3WZCWg5Gnu/ArJroMWkYAKYR1GreNcFok51Y991FY2c6Nq4Bzai09wVpL+9VN2pUsKNckcHiFU8gBXLhS/tqVQC/6aD+gEBNC7Q4lIwAdRBlKEHCqGl/lU8GpvL4ZDl8EiJLORSJI2MUgrvb+/o6S1SSqeM1nQb5dQqfrnvqVCGHgjIroGWh4IJoAY1NqoIZaaMQT5SNOyZ6d01qpEQrOLvZtrg8gZCiJzwreBFymZdgPK3E8ZqpW6UUxJtnitGk9SeCiWRmy2oqRtoIbTiC8LoYQ2epiGvKPA0DXqRXxwzNCT0NLIjA0joacTjGtTRAQYQp+bTXJsyMoDkiRc5Q08Z9sIq3meEixuulaKykDt6tiEfbWT6Ho4WjEg4GuLatZCGUbcBJ51GjLoN0EIaIjGdOS4S08k20TVjBntszNDJd0ydK+ynpsLT1GKbCk1ThedTMhpCTNEdo4G+poxinl3+apoay4NQBGOpeA73W/LfO6NG0b7eV/h+fW2F76nfrOgZqXbqfNk20f0ple49NGLX9N6rPWegudWKXnboYQ3pfB6Nro2Q6iHvKJj0DMQbwtDGXmFWfl0b7+ZW8Krj0Kv6q+/C6NOfLN+nQAilI2mgsP8oJn79Yy4WvhI5UfrSmFRjyKVd7Dj0w2lx0PfceAGSqTzTdvumboR1FX2PPVe1bcembnS1RNHvu+bBD78dwyM8urmzJYqUnSs/jwjxTPXzzs3nI593C/TSErL7+vOR9WGFd2zqRlsigmya5RsZDSFoY/0c+tk12rHj488yzymDJVYEm+eisfQUDTseeqbq++zbfD5UpRWpi29DY0TBZMbDSaUFBhTIfG1RKGoKmX37pm6siodxaiLLIdCztsu35VzuHVMY7vbmKIZG09z9/Xju2eKgRc9JYcADzVwr+gtAUYHmzDBOP9mHVx65Caef7ENzZhi6Y2PIt/LzHH7VB88VrOp5Gii0EDp6tnGreFfTmLaGNa/DkNvM8YU+9I8/xKV7nsWl9xzDpXuexa0fexauDyUtwkFT6OZ9h49j8DSPRPa37T98HEnimk6eRkfbGfYftwjxTPVz6LSN7/3XCTxw/Rvxpdu78cD1b0Q+l+cw3k8+/SIyOd5Y6tlJbtyGjhxE3E3NCEvsKTwTKpRog6eF0H4pO5btPb144gcD077PwdM27njsGG597Ge44cHncetjP8Odjx2bFYp6/+HjyOc97t5Zh0cyD562pdqoa+4/fBzpLD9uFN6bwq9/4ekXZ/2cge2fW63oL4CYk8SAHz52lPXLl0VgCoSreh8NtKNnG9JqBMf+r4o/rVjFf+/FSbz13Cg6rr4biufCU1SkQw3Y0vct5taPbL+IROv6OU4iHDSFbhZhmkXYaP/5Iuy047rMj6racf72zpYo3vAWg6GBdm3Yia3vXo3xr/pw0AqxWpYMdy0hrqf78U8qBo/wvnQbJt0Invj+GK6tILvakTiOfpcdN+p9ipDZMv0BxO9T9ZUeFr1j6v6iPslekxp3RQGHXy+Mm8RDVnlO/30CzU4r+12KPvE9VwpT4GoagS7YBifawLhrjv3OxmsjCj7/rV/jo19i8bjmq1dj48H/LLcd6r1ICr3c3hKDovBIYwoHXQtOWhYxLcJOa6paZABNHXf+Gzrw/u52FgdNnN8WyWHwCV8E1NgQxr/xGImDnvRHzUiGu5YQ15gmZDXvKPj8T2wG4f35Y8N434UKnv/NSXzzRyfKx1LjRr1PMTJ7+v4A4vfu5yOKxo26v6hPstekxr1RSXP4deG41fCc/vsEmp1WuAuI/sSHGkJ7D7vp2nTuOjjNnYxrJqdGkU+wbdmmTiSzwA0P/hSX3nMMNzz4U3S2JdBAYJp3bOpGKKRMi1mm2nZs6oaqgWujcNCyOGkRYprquxYCDtz0NhzZ9TYc2bkWR3a9DQduehuMCPuTikUU3PzeDgIHzV9TAT8hq3qUxlAQIbC5cCM3bu09vZhQeeS3zMonGuYR3uvOWyONx6beZ0ergZ2zwCRTKGrqd3T7pm6ENR7J3NFqkG13bV6Lj2x+Ex656c34yOY3oW/zWu6aOzZ1Ixqmf8f+/VkRfp3EeNfwnME+8Nyq7jjoOdTZmAUOmlIpzM8fH582OqCFFIRzyYpY/gYoKCGVCwjghqKx87d5oHHQhqFzx7rgMc8Kcb5C3IfCOWfTebIwuqYqxWsW0L5GRIVL4KQ1FdCzE1PI63AcdjLHXbMxpkAbfYX7+sk2diKdntoHEGK4r96LTMhgrtmi2ej/7C7m2I4Nt+NUxRdA5fl+HDRQ2AjWsxXI7nAjMml3xljjSEwn8dgUKlnVFClENFAdRT0dbrgWFLVMP6M6EE4OchjtbEMH0jn2PrmsQ97fvzFbbdwn8nL5DjL3WQgtJxz0ip4AgKlEH1F8/FIb7OlU+TzRqMpkIefCBrQxekL05ww062mO519KZBvNTcXCN2k2Xn54C9ePM288hHHHYNrICXnDTnhOnjVOFeiE5TY+wPS/ublmCc2FsSb7uEyRF0vtN7co6gEsVi1HHg2VvarrgJ4t4KCbdUHC2vpenPYVUBcmOAn3T+T4QlTikyhhzXG8FYuc8Bv7jBrlazPM0rDWIzu5MqtcU104rrqixm2paMVPAEtZ/hV8WiuyhfzZq9ftB8ZOE8b+S6yxf4ouoO6PogEg3HD1ZycL+UIENA4QT8grMTuZWkV3XtWHgTlmCdUrO7mUVd7WFsfo8ARWyrgtJQUTwCIUtYIPh+WQE0rTKg5ToObyfMKawNhTBdT9UTQAijx/PgIqrRlM8ZxaC/EEmhIFjnMFXKjZrNZrnaQDLR8FE8ACy2/sc7qB0LhvBX/FLsDOor+yjVrBFwmhfMIa7a6hjL1WLKBeDRoHoLDR28iWzUxrBrMBXNJy5AvNB9Ofcs2IuFCzWa0Hk/TKVTAB1EHxuAotza7WJyZcNDSo0LP+VTxr7AvoZ3YFnx8dZCJhqq3g4VEJa7S7Rmv0G/ttyEXjUtA4oDAJpIlau8td87XBSblmClyo7Rj0b4rPcrW+HCfpQNMrmABmKcrYU66ZeEsn2T7+y2fYxCfiE18UC0+t4KFqHPrZ1UN0wloszq/gk8u/ItdsNV9Mf8o107JuA9Kx9mC1HmhOFEwAApXQz6WomXzEgKJgWmNfrXgL1d65YScmjn21fF/qE9/NpaVX8GnVgGsY7Co+H4aeYN01ubCB5ITP2K+QFfxsNV9Mf6FrJusiG6zWA82BVvwEQPlyYzGlgHmuXDFfczdgT0wbSVOteAvZrrIbrCX08+BTUyv4UHMHUdBFsIIv+uD9kTTZLABEp2KYA2M/Y80n0z9wzQSqpxZkAjBNcyOAHcU/ft2yrFsXoh+apsDIDnMZkJrWyKOfPU8qkqZa8RaqXdFCzCq+dd3lcJvPQCezWo9DUz3G2DvRRuQcBeNuw1QWsa4CcMmMY6CQSdx/chKapqEhosIhMoEBvi2TypFZmYqqVMk4ZrOgKVEZywCk2pxcIbt3aMQGNLWc+SqbPSp7HJVJa3sRtK/fzmfOhmLwvLnNXKXekR+DXatks5jrkXVL3VuUsSybrR1o5pr3CcA0TQPAxwC8FsAogB+apnmxZVnfqn7m3MtQM+V/xEDRl/vUAXRd3cdH0rg0+tnvh6dW8AVAXFwAjmtE64a+Qj0CV0E6FsfwyTT2H/7pFEf9um7oIRV3PTbVRjH+Rez+qfOnZ/9TDHiK3b//pgsxPpbleP45givvrxEAFAxbKpvjajGEdQ2GM1FuS6uNGJvMc1z5cFhF36Ps86xORMjaA36GvCxrXsS0XxUP46SP6T+qr0JyLMs9+2z49aJaClQtBFlRz7Tzum6EfL+PerD3q71Pf92CWmoHBJq5FgIGpxXv2wBAL/4vVfWMOknkyy2t1hmpfKWuSj986c+t6y6D19zBAOImIqsxbrt4cSzGtL84FsO4DVx57zFctu84rrz3GFIZnoO+71PHMeTjylOMfxG7nzpfxP6nGPAUu98leO1DAq58Nu8iHsqiSbMRD2WhaYXiJ1wthuxJGJnTTFtjahDf/+kJvu+n+OcR1R7w2zBZ1nwePE+/xNm/08f0f2koST/7LOyn6HmoWgiyop5pL/H72H/4OFyAGLeZq9r7pNpn950TSEbz/gVgWdaEaZq7AbwIwAbwPQDPyp5fZFrMiVKjWdIt40SiPPpZUaQiafJRA5fv5D9mHt3xbux67Edke6U8b8oAl0Rx5UWMfxFHXZb9L8uA9zwPrfEIbv7AOWXMc6wxjPd0n4X3v7W1XN/gB1YSMXuQiWTpuOw2KFojX4vhyEGseu9mX9t96Lm8D0e/+9tp+y5kyHseutri5bb+k0mp44ZGbME75sdIyPn3XVNWbW1x9J+cFN5/JtcsnE8/k/99tsYjiKVYQFzHZbch3H4WFKX2dWNbW1z8PgW/eSgK2mb4nPXWYu1XrVoIF9AbAfwNgD8AMAbgcQC3ArhP5vy5hMFp4Sga3ncLkl+7v/wjb3jfLbCzGk6l4zjbFzWjRBp8fngDWz/yQ+bHe+cH1wo55kK+eYUURZHiyosY/6L7yLL/RQx4P9M/GlZw2192Ifm1qYIf7dfcjVf9kY7BJ+4ov891Pdv4Gslfupd0s+XHhqHqUa4trLGdqqVuQXtLDJqiMPAuTdOkjoMmGjN+jIScf/81JVTaqBf2U639mtM9k/99fvA9f4Dhp+7lxm0mgLhy4IHofQp+8/C8RQldW8IwOP7v5rkvAPAeAP9hWdaQZVkZAIcBvHMB+gE4QMroQOri2xC56n6kLr4NKaMDekiFoocZpv9kBnj5ZI5pGxpzpHjrIqb+jk3d0EIs018lOOi3X9eNdh9XXlQjgLoPdf7tm7rxmjVxHN19AY7uWoujuy/ARz58AZobVa6tIapyTP+YPYTsj44yBkLzvPIXUqlt8Mh9iL/mT5jXXnCz0S41N5fm2lQtxHP2V/HPE9Hpd+JnyMuy5kPgefq1cPZny68XPU9pY7xSmqZIuWuoZ9pJ/D7OaotVCXWdmWp5n7XUSAg0c807Dto0zT8DcBDAhSi4gB4GMGBZVt80p56NOuCgRdEHUxz4Qns0rEJTeCY/IF8PIGroHPvfybtc9IWqqVwkjufx7H9VVbjrpQV1B1QV0DJTnH83Gocy8jLr0rr6TiBtc24upaEZA5/hccGrLrkOg08dLLetufFBnHj4Ju4dr7nxIZx4eCtzbvtf74eSHGFDW9f3ApqOwSf3MiiKfKILyTQdBQRFATxvXqOAZDn7M42kYZDdRgihnA3FzcNTQ8jrBtI2a4RrzUyW6XtCS2Hws3ODiK58nuUQBbSEvwAWHgdtWdY3TdM8D8BPAOQAHAdw73z3oyTHcaGg+CIcD6V/rplUDgqAruJgZ1KFv5k61oFty7Wlim1pO8e0p4ljcw4AOEwbde+sU8hCjqo2oBRdUpqBNABFcdDia6eRE+xqXXEcDFBJbAJ3jT8CqrRRzoXA+mokt/dsh53XoRHoZwA8iiKZ55699D5K/xhL45bLOsT75CV7nOj3QbU7DjWW8irlpOTGhhEPqcioUejjA5xhz/kMe62ZyTJ9T6I+gLha3meg+mtBvrIsyzoA4MBC3Hu5KB5XpZETFF+ISliDogiiomjDrvrAcY6ikhvlWd0g0QWO45Ho5+VUn4FKNARAt/lW8R3rt+P0D56c1rDXm+cfICeWrwI32wKLYgkBPHJiYoI1hFralkZOUMaeSliD5wlW8CFyNZjS4qyBcCLQGw0+O9l2gRWQzSpVvGX9dkDTMfTkPcy7RKyJW8UPPnVAUJ+BNez15vkv93FbyQomgHkUTQP1V+XaDmgh9DN+8MLKnpkEqlTkkjH2VMKap2n0Cl6LICPJpHEcb0UQQmWMPbmCf+oAEep6AJ2SbjbKsAc8/0AzVTABzFLUCt5xgHBuqi2rF0FyYz7XDAWIIwxEaWXPgNuqVOSSMfat6y6Hm+hgVutZ3QDCTVybba+MqlyyjH9q05Uy9qIVPBXqqki62SjDHrhrAs1UwQRQg6TQzxt2IuTk0V+ZQNOzDWpjC2fs4dK+W8pA+GvtOlG6IhfVXspO5jZXJ2kaqL3MVvAyfvhaau1Sm64iY0+t4KlQV0fR5dxsAsMeuGsCzUQrfgKgyi9ms27Z2Fcrot618W7OqOfHhvjiLUfuQ9fGu4lNV3rVRxkIf63diQkX8ZZOLjFtYsJFQ5eNB8YAACAASURBVBX081QI29I37DIiQyQJP3wttXZFm66UsedW8MV7c6t6RweoIuoB+jlQHbWiJ4BwWOULqPf0ItLSQUbYpE/3MwbCc3hDICreAs/ljP3Er3/Mr+KLewB+zr8TNbjV+ISA55/0F3VZ4qt40SQtIzJEknCz1VJrV7TpSrlrqBU8AOGqfrkXUZ+PUpqB5CU1AZim2YhC2ObrAFwGYD+Af7Asa7KOfau7Yp7NFVAfPHJQWLyla+PdOFV5AZcvvygq3gKNr8rVsOZ18IhVPAByZb8SJZqkYXRITQKi1brfzVZLrV3RpivprhGs4FeCu4bKa5B1swWaH8l+AXwMQD+ADgBpAE0AHgVwVZ36NT+qIZKmtIqv1NjPvs0Z9VCinavZWoikiUFrafQZ9jgcBwzTv8EpZBf726KGxmX9quCzkG1BxrFXZP+X6gGI2P+KAjK7mMrUDIU17vx81uGO0yMqmc0aiWrQnVS5PafF4LpgMlINJLkchsEjB9G5cQ8ymsHVA/D301Pp1brfzUbW2q3C+M8Y7WjbuLfc94wSRZYw9rVkDJeOrXwm6ljX8bhrAphVhm0tmbjhsIqwly4/e1aJwnHY+0c0yEVFFd1sthZdMpnAy0myE8B5lmX9jWmaf25Zlm2a5tUAXqhnx+ZFokgadfoIm1CiDU3nvp1bwWfDBhRVZdom1RjC0PCSj/Pft/l8ZH38fBHnv6lRx45DP2TaWprC2HHomWnrAVCc/ts3dUPXWQb8/psuxPhkjrt3Z0sUgyNpniGfcziGfEtTGDs+NtWn+z58IbTxAQxXGILVPdvR0NwFjPYz7W3rt+Ok0oq+x46Vz3946xuFk3Tl+xBx5ffe+Da09Wxn7tO+fjs8nx8+sW4Dkka7FOO/LRHBybEM9h3+SVV+fS3s/alrVj/2zs3nI593Cwjnit9RLudi7ww5+5qmIuc5aKiozZBUDRhRDRGHdb0BgG4PsePWsx1j4dXY+fB/lu/z0S1/LJ/XAIesExDUA6i/ZGFw/sxsDctgFzGlGOjo6WV4/h09vXAiDejo2eZrL/jhK3n+TnMntn7kh7h0z7O49J5juHTPs/jw/T/EpO0xbbd+7FmS0z9I8PNFnH/XAdfm5Pk26j4Up3/fYZ4BTzH+S/UAvv/TE3jg+jfiS7d344Hr34jv/dcJaIqLQ1vfjCM71+LQ1jfjxd8Nc32KuWmc9BmCk0cOIJSZ4NqHnzoAe2SEOZ+qzVCajGW48i8NJXH/NwYx/q5eRK66H+Pv6sWo3ob7//Ulpu2BbwwimXKlGP+ZnCfFr6+FvU9dkzp26LRdNv6Vv6O9RH9EnH1oLOdfjwAJX22GRHYYem4cA4/vxkuHtmLg8d2I2oOIgh/P4SMHEHNTzH0mJmzpjXJX0YJ6AAsk2S+A75umeQBAzDTN9wC4CcB36tet+VE26wIEj8aedKHpqzg//GU+zv/+LRcKmfxUmwxDXsT590P7ZnsfigHveR6uvPg1+NPXNZaf+3svTiKkebjyLQaGvthXXvVdub4XijKBwSemEtYu6dmGtM72UxGEuorcbI0RlmI5qRhov3Qbho5OudnaL92GyeJqVObZn3thEM+9MFhue2T7RVwbAGx637lS701Yd8D1mH9QVN2AWmsZ+I+l+lStn28+ZzWuvegMhDUPWUfBN54fRcznmunaeDf6udoM96Hzil38/pggYU1X2N/iqck8miQ3yie8qNT7DDT3kn2/2wHchgK/fy+Afwewp16dmk8V/LYse0bTNOw4dJz5UR7qvUieAe9j/ItY9dT5Is6/oijkNWXv87d/9Xpc8oZEuVDL0y+MoSUewlO73lZuc2MK1v2Bi/7Hd5f/ga7r2QZFSfHFW57ii7dMJaxNSeSDF7nfJjPsBJJMu/jKT2z0XN5XNmKfPzaMi7tZgzMX79gPma02viJOPyo2M6m6AbXWMvAfS/VJ1E8jomLzOxLMxP1XV/Vh4HN9zLhR0Wz5seECaZVro0OXcx77W/zK8SHcsn47hp+afqPcE9a2YN9noLmXrAvobsuy9liWtdayrD+xLGunZVnp6U9bmqI47BR/v13AgNfDihSnn2LIizj/qgauzV9LoHSf+//+Qobpf+6r47jkHBWDT9yBlx7eisEn7sAl56hYHUoxbaF0kuT5KwIDIUpYq+xTSo1idc92xp22umc78pE41962fjuMlhbufaw7bw1ufvTnuGzfcdz86M+x7rw1CIXYd1yN079T8h37ryli/Ed0RYpfL8veL13zrs1r8ZHNb8IjN70ZH9n8Jtx9/Vr84ZlxHNn1NhzZuRZHdr0Nf3hmvHCNaZ7x9k3dMNxk+cupND5UuGspmo3pe6IN8H11hhJt8NQQP24925FSY8z9r7jkdcjG2tF+9V6suemRwkZvpA3ZrIuJfBjjjoGJfBiO4wnrBASr//pLqh6AaZq/sCzrj+ahP9V0NupQD0CkcDRU5O8Xoxp0BSFVkaoHQLXZdq6ixsBU1IxsjQFNA7T0BBNBBPBtrutAGxtgIpO6Nt6N/sfv4FZtnVfswkuf+Lty26tu+DheeuRD3LtYs/Vh8vxV792MwSf3MW1dG/dgxDXmLAoorAGKqnC1EET1AKhoFoCPkNF0lbum53rcvQG+P5UROzOJrgnpCvfc+ZwLIzvMlGBsv2IXlFyWrZnQsw35pk4kM9M/Y6MygZcObWX607G+F6ee/hQzlvG1f4mmc9f57tMLRGIY/NxdTFva6Cj8+5gmCqjyfcjw84N6APXTXNQD+K1pmt8E8AyAcuy/ZVn3z1EfF52y6TxTDyDrAFnMrB5Aqa1UY6Aa59+2HRiGSvD8+cQ0GPGyYS616UaCy2GQ/cSn8hqmchh6yeIt/oS1tGZAybksa76SBuoAyBXcGpm0gwzTLqqPwNdCKLX56wGIuPI8/94VXrPavUtt1H1ECWuVx0FTEJ7kY+HDsaay8S+NjzM6KMgq3wPbiU77jNDluFDxc9+BbGO7XG2GbAnZXTFuxXiQ2fD8g3oACyPZCeB08b+vrmgLnHM1imIJZTJgjIYTMaCO+pATV/PFWwqG4C6+jdikExp239cfldfQ0bMNWTWCPLFZrqrg0c/pxblqq7dkE9ZExVsoGqg4q1zOPJai3Con7tZ1lyPb0MEnrKVdluK6DGszBOIlNQFYlnUdAJim+QcAdMuyflPXXi1xiRj/1Co+2tiMgU9PbbqSPP9JGlMAXxSQaJNOZNg9VSKvoYIGShmD5YR+plbwAKQwFKKs8s6Ne5j3JizeQoybMKvcx4USSRTllk27SK+ATORA00sWBXEOgK8AOAOAaprmSQDvsyzrxXp2brFJtngLZehVo0mIl6hsk+X5FxLW2D18EXKCMuxpjUdOpDUDaQFfaLnJb+xzuoHQuG8FX3RzDfhqFJMYCkFYq+JbrYs4QhQNVGvu4F1vRTeb7LhQUW6BApUk6wJ6EMBBy7I+DQCmaV4H4BCAi+rVsYWWDA20Y8NOgEA/5/N53tAL4qf9eAlqBU/5bTt6tsFVFM4Hn1UjUGRooLnlt4IH5MBxlLuGKps5SIa68qt6AMKwVs+3WhcWbxHQQPVGJXCzBaqbZCeAjpLxBwDLsj5lmuYtderTvIoyGJEI766hXDNi9DMbC19wzYjwEuwq3n75v4U8/0pDkI8YcF0I3TXLfRXvB43ZXgSapkj54Sl3DVU2UxTq6l/VA7S/vaOnt+hGmrr3dMVb/DTQlVphLaCEzo9kJ4CQaZqtlmWdBgDTNFdjGTgORRt3KuJ88RbiE192ky6UaAN0nfTDuxrrh4+2ngG3ma/UZQtcM8uteEs0qiJawZ+hVrwk479nO9RYo5QfvhY3G1Wbwb+qB6r424n9gpVSvIWapGUrrAWU0PmR7ATwcQDPmab5JAq/1isAPFC3Xs2ThDhoKpKmxk06v2vG0XSAQD9nMkSonaBS13KT/+srHza4spkdPduAxk5mEhBF0ojcbNyKXbJsJh3qyq/qS1op/nZqta5pCjOWGc2AToS7ylZYExXjCTS3ko0CetQ0zV8DeC8KILgbLcv6j5ne1DTN/wXgTgANAL5pWdbfTXNKfSTCPhMGgnLNiNDPTjTOYZ8nJnIwDJ3DPCsaMJptYJLDDEPjEsEcj0c3e57HJTNl0/mKJDY+yan/ZBKapiGsAXpI5e6TyfA4Z8dxScS06/L3j+gKl5yWd1yEc8mKL5oGOHmP//pa34vTP/gS71K7Zg9S2tQ7UiDKaxDTXT1NK5+f1RvI8Ei3uQudzN5JI1zHZdoyWiGKhtJs0csUDlo2YY1Klsum89KJcVQb3XeFT1hbvx2KFmI2ywt7KrxR77hmL8YQY/suyFOhivHMl5ZSYtpsJBsFdCaAyyzL2mKapgnggGmav7Qsa6DWG5qm+YcAHgGwFsAggG+bpvk/Lcv6eq3XmrVEBoOoqxtt7SKKt8QBONyqPpX3cOuDU9jnqpjmvIt9PrSvHxFNoZtv39SNsK6iz4cV7myJYsB3nx2butEQC2HXw8+W2z7y9+u4/uzY1I1VzRHs+KcfMPfpIK555+bz0WSoaFFTUwlrOr1Rrjs5DFSsrNt7ehFpbKY3XQlcMFyHwV5/dMsf0+4aPYz2nl4MHWHvNaEYHDa7takDrRv6CvhjV0EyEsfpkxkG1337pm6Ewyr6HmXbKEwxhX6WRUSL0M1915+PLHGs/7dA4b53bOpGe3MUw6M+jHfx/Mrfzc5N3Whp0tHsJAHVBRQVE0oMGlTuOQ01wyWsURXWRHsqnpPnxmJNnI6MoorxzIdkx3I5SJYF9GkApZDP/wvguwA+OcN7fgDAk5ZlvWRZVg7ABgDHZnitWUmEg7ZzCtKN7Qz6Od3YjtEkGMzzuO1yOOitH/khctkpCuS0mGYC7SuDbt53+DgGCaywTdxn/+HjyOfZPuWyNHY6onl45KbzcHTXWjxy03mYnLRhZ1z8wIeDThgKYpOD6H98N04c2or+x3dDGRnA+C+f4TbKS26VUtvQkYOAYNVH4YI9qEw/P/qV36DNx6NpeN8tSOZ1fP7HSTRf3oczbngQzZf34fM/TiKZcvnxSLm48t5juGzfcVx57zEkU/x723f4OAZP8e+dwhRT6GdZRLQI3Tx4Su63QOG+9x8+jnTW5RHTxO/mV78bhpEcwECRCzXwxB1oTA1Bj/DPWWuFNf9YZhyFHwvE0O4bz/ae7eXymfMt2bFcDpKdYldblvUxAChC4P7JNM1rZ3jPcwBkTdP8KoCzAPwrgN2yJxeZFnMmN34Wuq65B3DzgBqCFm/G6dNpXL//29yxj+54N/NnMRZ45phmWXRzrVhh1Ud9cFyXQz+P5HVoo/3MCv51PdvgGgkOBy0qm9m5YScmjn21fJ9aaiSHEm3QGllccEfPNnz5R6eZ8597YRAT738Dxt/VixZDw4jt4ONfPYFbrj4DR7/7Wxz97m+Z4/9s7dnTvg8Rhpt6x1AUtLXFfe02eb7/WNFxjsejo2V/C9FwiMM+f/rbr0gjpi95QwKDT9zBjWXXxj2It7FGPDWaldosH//Zd7ivsdif34KTaf59ZvIeWjr/AGds2g/PyUPRQtAaEogqsuvTuZXMWPrHf6mqliigMyzLegUATNPsQAH9MdN7vgPAO1HgCn0VwLUADsucXB8YXKT4PwCnUtA0TQrJLMYCzxwHLUL7UghhEVb4ns1vxes79bJh/9VADo2GiqO7L6hwVakc+lnog9+4h+PFC/dPVDZCRrRR7qkhkvOfjcTRcfXdZUT1yVwY/378OPecmZyHHZ/8xbTvmMI8U20iRDT1juF5PAxMo+/NHSs4TlN4dLTsb6EhymOfN1+6DZmIHGJa8VxhNJv/ObVwtPC19bX7y/dKvH8btGiYmbhb1l2Gb/3GwdkVk/RnvzeE95zfxL1PTVFw8mQSBdNQNEmpJBZM04zlEobB8X8neY37ATxvmuZnTNP8NID/AnBwhv0ZAPAty7KGLctKAfgXAN0zvFZdROGgKSRzhEA814KDbm81cDuB9qXQuH6E8O2bumGeFWewz/f//YVoMlS8LpFiXDOvS6QRTZ9m2rTUOI9+fuogmt70LuZdiIx9KSqqUqFEGxQtxHzKFzbKe32f973IhxsxGmlD64aCu6Z1Qx9GI21IZoEtDz2Pnr3HsOWh5+F4KveOKHTz7Zu6EQ3T4+E/lmqjENG3b+pGxyr+vVOrJlmkcQjAP374Ambc/vHDF9Ao61Vyv4UzGxwO+zx09D4Yrs3jqDd1o8N3vqKKq65xcoCU0YHUxbchctX9SF18GybDqzGptzBjORnrwOtf3YYH/uU3uOHB5/HAv/wGV/7Z60gUdliObDFvWkl4aikcNACYpvlGAO9GwUX2HcuyZlQT2DTNtSjsKZwPYALAlwF82bKsf57m1LOxwDhoTVVgV0TCGBEVCuRx0IahS0X3hENy6Gdl5GUur0A1Euj/7C5uxe1HN5/x13vxymd2cs/tby+7e4pfCiWt+qubEW3t4vlCLWdKRQGlbIeMVgIgFfVSKozux0FXi4CarrA6FXFTwk7LRIPQETceEzLpRqIcrruEeM5kwD2TTBRQszLOYZ8BYM2WhzDhxaeN+GmIAKFxvk9ZX/ht9ecURxZVPg9V5D6Xdbh7LLSqRQEt4S+AGeOgAWDSsqwHTNP8CwAfME3zhGVZY7V2xrKsY6ZpHkQBLa0DeBrAp2q9Tr1F4aABFg2cqhEHbds5rj0eVxHLV6CfQ0QkzRW7gFy2HDVT1V0jiIUXbdLJ+OCdKJ/lKk5Yy4HNYcgBAFJMm8O842pI5ukwzX4ctMw1ecyzLCJ6OkyxhyYlA0UtGPuMGkXEHvaVX6T3TkqIZ/8zyWCrKexzKWHNyU+Px7ZtINrIs6JEyAlZ5HapjX0eeiwWm1YKnlo2DPQTxf/+E4BHUSgJ+UkAPTO5qWVZn8TMo4gWvSho3MSES7Zzxp4w7HmKCy8KmRSU7KM26Si+kBOLkxyhMJXlugIS1mQRBVQ2a+dVfRjwxcKjSo3kmUoWQ1FNaT8OehmOZSBesl8Ab0HBT38bgE9blrXDNM0f169bS0dSRr1nG+ItnVLGnjLsokgaKmQSIZ4G2tHTC+hsRivFF6qGnFhuWa4UA8pxWHdNYQU/82xWsvyiYIKWRTxTqgVDEShQpWQnANWyLNc0zUsAlBzJRp36tChUMhC5kSQS+hQkTsbYO4pKR9IQm67UKt5v2EWRNJS7JqdGAIIG6nkEOG6FoJ/9IhlQG3bCc/JMhmvH+u04/YMnuWxWClFAxcdTbraJX/+YLrqjyyOeKS23CRoIAHHzIdkJ4Demaf4bgD8E8F3TNJ8A8LP6dWthRRqIa/YAI+PTr+BFNFBB2CS1ivcb9pCAC0+6a5JiGqhN4KCXqkSgMRmYHMWAIsmuTx0gJ2gKUUBx/gtuNhYVYqx5PZxEexWK68qU39jX8vUVaOaSnQCuQyGD9xnLsnKmaf4AwGcAwDTN11iW9et6dXAhRBkI1XOlV/AkDVSAnSA3XX2GPR/hV/CVjP+ylrhRF6mhQYWetZn3oYzyxsFpakdofHqYXC1kVzIzmUAUUJz/lnUbkI618+jn5MoYN2qS1nWFm6BzOY/bP6nl6yvQzCULg0sCeLziz49U/PWTAP54jvu1sKLi3l06WYb0w1M0UIIvRBn70oYxbSCWl9GgPvEBMG1eNMrVSO7o2YasPcEZh2oRNswGJzEZi9xsagM7QU8hCthVqJDzn3WnCqgD3HnLVSTi+YpdUCZ90Ww92xBubMXg5w74FlfyX1+BZq65yG2YaUbw4hVhIKDSm3daAx02SRn1OIGDFhv75SPKLUOt+trXbwc0HUNP3iMVNlmpam42/xcZFTUTSrSjff12lnLZsx0pLS4s3uLXSuH8y4jaFHeoaDZfWdSSavn6CjRzzcXbXHa/cspAuIpKr+AN+RX8cjP2lGFXVSCcm36jPGw0Y9CPCyaokrJhk9XcbP4IG1HUjON4K3YFL7N3UouoTfFauVCyX1+BZq5gOiWUzbrQm89gOPD5cBxqhOf8Ow44xn/U0Dh2frqGTGBFAXe+Cj67OJd3yazKSEwX1g7oPzkJTdOEWbdUWzadRzyuk5nInL89YqD/c3dNreCv7qNX8JIJa9XCJv3GIavTbrZcpBGey2f4jsJgMj1VTcW4w7LqHUc+Pl82Q5bK7q1k91fWA6ilngClaFRFxGELtbgupArxaM1nYDIlV2PAf39qU1xYQEkNkXWSa/n6CjQzBRMAoaih45VTaYYN33f9+chmXezz8eL9bPYCTybKMc+pegA7NnWjpSnMHHvPjRcgmcpPy/O/c/P5yOdd7P0UexxVD4CqMXDn5vPRFGN5/kkvBk1T0KJOZSbbioF4XOeMfdfGu2ka6BW7mDZnkubCyyasicImnWgDV0AdGSAda0fn1XcDXoFrP6nGMDme42sphFX0Pfoc+45snqm/Oh6WQhVQDHmKvU8x/kXs/lrqCayO64i4acZY6roCfZKNZmvfsBNKPse0FYq30G62HYd+OqN+UpvimiCaLRuKIROJrtivr4VUMAEQShFM/cFTNh4+8nOOEX5jzxs5vvn+LW8n2yj+vv/YfJ7m9PdtfhvHgPf3R3SfwdM2ElEVj9x03tSqL6pB5VwzhYSx/i/sZf6Bqo0tnIHwBDx/+IipIuQE1BBHlYz/r1uhNUSZlX3srNfj/6UacHbFl9evBnLoigCKwxZQ9zQFOx78T47i6B8jatwGq7xPmU0uiiG/l7oP8Tsq3Ydi0N/3oQsRV7JThlGN4v/8bhiHtr65TEz90e/HcEbI5fYvVI2vkewQ4a7C4i2uI93P/VsuZN5T5aZ4eZJWo3j2/7yCSypor0+/MIbucwEl2D9ZEM3FBPDfc3CNRSVZdn81Jj/VJlM7QMSl9/Pro+EQ3tN9Ft7/1tbyP6av/Og0HNfFLVe8Ea9drfF++Mfvm2bVd5DzwYs26eA6tGH3wQVFyAlbieDer/bj2osrmP5fPoHev/4TZiU4gShuue9b8OvRHe/mfryOyzP1ZWspiMbXcV2pfySy9652n9Z4BDd/4Jzy+/jOL0YR88fCX92HS85Ry/z+UKINb+3ZhuT/e5GPiiLcbJQfXjRJez4ef/XfscePR9GolybpvOLhE1/+FT7xZfa4t/yPriW9El3KCWuyLKBGAAcAvA7AZQD2A/gHy7ImLcu6oo79WxDJsvurMfmpNpnaASIu/aomP88/htcYOmMI3t+zDV6jitZckjH2VMKaaNXn98GLNunGfvZt0jXjqaxvvnXdZRhyEgzjv7DqU3B6IsMx/T1PwYQztRL0NJ6TX35vPv+8ptLHytRSEI0vdR9Kontrqof9f/NHZaOuqR55XERXcdtfdiH5tYPIjA2jKdGGzVfeiaHP38WMm+rkMUDuqdyF0aen8FqFrzG5cFfRJP30CyzrsfrvWAGmMXridzT9uYtVZLjrEkpYk514PwagH0AHgDSAJhSgcFfVqV8LqliR3V/pRy+x2an6rKUfdclPGo3wbQ3ENXds6kaTAa5Qy0O3XjgtckLkg++6Rg45IVr1+X3woUQboPF8oaZz3w6vpYvxt48rMRgRjU1iizYiczKDLQ/9hHluQ/A+IrqCSpd7WAN5XFgDR5IscdwZP/x13QiF2PEo7QFUtpXqMPh989R9KJU4/w1uaiqSJmQgNDGE4Qqj3tazHXdtXos7HzvG/j6QxmDRHVYaN9hj/JeXoggiaVhjE0q0wQnxNZK1RDvnh29ddzkyjR3MWCZDDfgfr87xv+2wSv47CAHTEjOp8ZE9d7GKCnddSglrUvUATNP8qWVZ51X8VwXwgmVZr69/F8s6G/NYDyBq6MVInEKkgygSB0SbCz6KJ23nhJE0zCr6mrsBe4JtW9+L09//ImPAX3XDx/HSIx/i+r1my0M4QbDh/Zz/2GveitZ3XO5b9RX2AAZ9ewBOohOqqnF9T2foKCS/KEZ/Np0XtvulhzXhffxsdipCRZbzXwur3g+TcyIG1NGBacetMMb7MOZEmf5Ec+N4+eEtzD061vfi1NOfYgz+q/72oxj4wj3cxF1Zs6FyFarrijAKiA2BrT1aSSYKyT9GtZ4715oLd03l8zRpNjduAHDmjYcw7iwOXNpc1APw/yvQsBxoU1WULrL7S/UA0gLOf2OjykTN5FUDmgJEK9oczYAeV8mwyeQJ1nerep7UCl7ogxchJ3wx1SIaqKIQyImki8Jw85x/Gba7iNEvavcrl3WkGfIUx12e868wPH/boYuSU6woMtxVhApxclAcnelPJCTHEnKJr7ESTI4KmXQcj8Q8U+A42fc2G1b+QnL26+GuocJdl1LCmmwvv2+a5gEAMdM03wPgJgDfqV+3Fqf8qwfEoiTiGZqO/id9kTRGkyAenvXdyiInRD54IXLC4PlCkysEOUElOflj4TOaAX1SDj5GsaJE4a71YAnpjXG+eIvtAkEUTVXVw11DjdtSSliTnQC2o1ALYAzAXhQKwuypesYyE7V6ECKeqUgaQeKT33crRE74oHEFHzxRxWnCRWNzp9DYLxcaqEh+Y58vumaYSXrDTsAXC9/R04vxX/5AzjgQyAnZCmsyLKHK3AYqFl60qg9UXVR2cn5sdnwhIQNqCWwAA/IwuBwKBn9FGf1KUasHEXuGjKQRYQp8UTOuoswaGje5zCp1CVlCBGkyPMlntPrdbCT6+chBdG7YiYljXy3fV2gciLEURdLkIrWzhCpzG5abFjJksl7umqXMgKr65KZp/gJVnsayrDfOeY8WqajVg2w2ayjRBui60GXDGPaIAUQaViQ0DuANhBOOEojnXuh6GENfuIdZWWtaXMrNJmTSqCwzSGQcKFZU67rL4SaICmvJleGakTHsCx0yudTdNfXQdFPfTfPSiyUgavVgv/zfvFEv7gFUruo7erbB0XSgJhro8jH225x0hAAAIABJREFUfp5/aWPZMFQGHJcLG1DHWD88zRLi3WyixCfKzSZi0ihaSMpdIyzBuMy+vETyR0DJ7p8sdMjkUnfX1EPTTQCDlmW9aJrm8uL9z0DU6iHSeia8lnbO3+6PpJky9MByNxB+Y197jeQvSm2u0m42ATjO52YLEbHwHT29SGsN0sZhOZZg9IuqmwyAj4C6qg/9Eoa9Hj74WrWU3TX10HQTwEcA/AWAI8TfeSiUiFwREq4eVsAKHgC3Ws/qBvJ5NpLGpYx9lbKZc52w5mq0my0fMbjNctcFv4JPu0gHxgGAoCxqTy+UeCsfASXIKvcb9qUeMrkcVfXNW5b1F8X/vto0zbhlWROmaUYBNFmWNTQvPVxEWgmrB2rVFwqBLLUYihoYeGIa9HOVspkyYZP05movPD3MuWuSOR16IxEZJXDNLKcVvMgHP9NNVyrUdfDIQXRt3CMdAeU37IEPXl7ztVkuywK6HIXwz9cAOAvAM6Zp/n+WZf3vmd7YNM2PAFhtWdammV5jLiTKRi2x+0v8/IaICg+AXZHha0RUKOAzganjUjXUAyix+yv7pKkKd03H5Y8TZdhGdAVaegK5kSSa9VItA4dZ1RdCJvlVn9rYPCv083RlMyvb/WGTLe/YALe5i01Oi8SRTuX5kEnHA6AgVcn5d+U5/bJtjuNKX7MWnj9VD0CmTxENiKSGWBro+u3IxNqF7Rlnmn5Wqa4mEwFFGfbF4IOfzbjN9j70b0FQFnWeNstlv712AngXAFiW9d+mab4FwFcAzGgCME3z3QCuBfC1mZw/VwpHQxgey3CcGYrdT7H/79x8PnI5niHvZ/yLrkkx/an73L6pG2EfV/7Ozecjl3exj6gHoGkODKciE1lvgDLyCr+Cb25j8AEFXy616qNL9smin+mymQ2ku8bW40hdfBsaIwomMx5G9VVInkwzdRhKXPqJlMeETEoz+YvjttdXM8HfRp17+6ZurIqHcWoiy9yHOr8Wnv+qeBiO56DZS03VMlBiUFQVzU4SUIuMHq0BI+M55j4f3/rHZSNfGpuhpw6g65p70E+0r7rqHtxy6L+q9rNa2DIVAZVt6JAy7Av5FS37+yDfR433sXN5JEdG0BhRMJ7x0NDSAkMP+X4LdFQUjOZ52yxXpz+k0FfLsl4q/cGyrBM1nMvINM1WFL4m9s3k/LlUJkez95NEPYB9h49j6LTNMfn9bPT9h4/DyUPqmkOn7bLxr3affYePoy2h4ZGbzsPRXWvxyE3noT2hYXUT29aW0BDS3ALn//HdOHFoK/of3w0tNV42tMDUCl7NZKR8uSUaaKVCCTH6uXTsVBZyE7o27sGaLQ+ha+MeOIlOjNvAjwZCTHu2qRO3/NMPcetjP8MNDz6PWx/7GV4aSpLvOJ3l/3GKmPyDvvc5eNouG9BqbdS5+w4fR9bh70Odv+/wcfjJRlQf9x0+Di0ENKaGMPDEHXjp4a0YeOIONORGYdiDTJuRHMCvfjfMnC+qzeAJymmOT/DP5O9nSjPQfuk2ZizbL90GWzWQLkZArdnyEDo37kHa6EA67WIiH8a4Y2AiH16UkTWyvw/qfQAFgx0PZYu5J1lomqBShAbE7EHEvnUvMp+7BbFv3YuYPVgA6FRIFBWlebkqeypzK9kvgCHTNP8WwD+jMGVfC2Bwhvf8BApfFGtmcnIRajQn6j85KWSzz5btLnNN0flveHXcRwilIml6EaWKt8T54i3Cqly+urpCX66AP+NpbHRNy7rL8XIujjUV7pqfnshgje6ha/XUBKIDGLOTOPD488z9H93xbul35LgeutriAApwrkK7PeNxq6neg8ez/6PhEN58zmpce9EZCGseso6CT3/7FYQ0BU3hPDwnD0ULYdyJ0PfJJblxoxPW7sMlV9/NMPUdiGshU+2nJllDMjSSAhSl/B5L7/Iz3x/DtZf3lZ/nsW+/gg3v6UJ7iwGgoXyszJq08toLJdnfx9BIChFdgaFlADcPqCGojQnkT76MwS/dO/Vv4LLbEG4/C4qvbkJq9BSGfWTX5NfuR9vGvYi1rSoflxsbFoYtk1/S4TDaGuf2PcpOAH8L4AsAHkJhAvgJZoCCNk3zgwBOWJb1H6Zpbqr1fACYSxqopmlCBrwMV74qQ75CpbZP7XwnEmq2wpcdw6Fb3o7OBncG6Gf54i3Cqly+YumkL/fSbUgpBn4xkMTaCsN+7Hc2/uicBBtJozVg70ef4d7H/i1vZ4idonevKDwvXvyOFQwPT7A0UG3m41ZTvQdFwaXv/EP0rG0rG8d0SMfmdyQw9MW+8rvbfPlOIDWIVyp88G3rt+P8N3TguRcGmWtSPndRwprisQuMlyeAdl91tYb33YKU1sBVXVt1aS8+++9s/Ebh/h47RpqK539zEt/80QnmuA1/5nFjOZ38xNYFk6Zy43bk2DBXs+H3px1EJgfK7tCSe7Rk/IHiv7cv3Vtwy+TZKbApRH95qZ7DvId4iA5bdhS6RvJ4Voczg/dYQQPlJIuC+DWAt5im2QIgb1nWTEdzA4Au0zSfB9AKoNE0zQcsy7p5hteblSK6QrLmKXY/xf5vFzDkoxHg87etRUj1kHcVTKoGmgwVyshJdhV/1Z1oV1Pof7x6fVbRJ75s8RYRpsCNRJgVfOu6y5CNd6B1Q1+576OqgbiqorMtgRseZJ/Tc4Gx3FQfIiGa8R8Nq8ik2K8NivOvEm0iTj91TbIeADFuHa0Gdm7qZvzoHa0G7v/wBTAqeP62GgNUhfkaS6oxhDTgyj9pYIx9x/penH7GV3RnnF/BDz91AH931T347cvjzG8Lao4bN2HCmqoxz9NoRJBCB7N3ohgtaIKClMG2T0RW4cpLWrn7+5n8S53dT22u6jo/blf29AIRB0MVNRves/Fu9D9+h5R7lMphEIe7sgsuYVSUGwHmabNcth6AsCLYTG9c/AJ4Zw1RQGejDvUAposCKu3ii6J7VAVQskkobh6eGoISLWy4+pOMVCOO/s/uZn4UFNvdz+0HgFdd/08YKNJFSwol2rDqvZsx+OQ+pq3rmnvg2mO8u6blTI7n748CyuoGXGhkLYNqTP5KRWI6F9WUSeXId09dU1EVbjwURRFeU6YeADB9JE1jFNDGfDz/DTsBJ8dNnEpDMwY+s5Mfj0uuw+BTB8ttXUVD4teZWx7GmNfA9EfXgfCk3P3zTZ1IZuRqGdQjWqlW1fsLwM+KyuoGtHE+M1k14hj47C5u3Dqv2IWXPvF35Taq1gZVmyGUaCO/ADRNgZEd5qKv7DAfxTMf4Z5zUQ9g2VYEEzHpbV89AJuoB5DNuAQh9G46kobAFFDVnSh3DY1+LhRv4aJrIjEgEiMykXNgaaAFA2pz8fEsA75UB0GWyZ9J5Zjj/Kv0SomuWZ3dX/2aug7EKyKg0poBTUMhO1lhURSVXHo9m5b2wYuQE/5wV9EK3oMGxXF97H0ARA4DABL9zLP76doMIv6+DJN/Idn9AJ2TkvVt/kejqhQAsCoqxBfNRtXakA11BYrhrmG5FfxC5xbJTgDnWZb1N6Zp/rllWbZpmlcDeGE2N7Ys6zCAw7O5xkKL2sUXuWuoDTlqs4f6oVHoZyfKG4eVhJworZympYFedScwaXMGoiHRWSx0U1QNPngRcsIf7hpKtKN9/XZ2JVgl8SmddpEmkN3LCf0sY9RLx1GZyDA6mOOjji0FAKw2bv5otsKCSxzqyuee8Fpowy6roCLYLEQSQkWVuqIxbhXvkTHVfKWulQKNA2jkhKaBq5GMEf4TXwslOGOguA5dRH3jHjDvTrKAeiEWPkSyhLKROIeXcBxvxcLHSmNZSj4UJRr6jTogzkTu3LiHzeAWJqwRNZJVnRw3V2UhgPFz34FsY7sQFbKccN0zrQj2IQDfrVuvloiozR5q9dDR0ws7oyBCreKLMfIrEf0cj6ucYefCXa/bD4yc5lbwWXuC/8QnIqDERdTZNU1W5yuphRLt5OZ5VosgT9FAbd+4FddIS2ElWIuq1WcoTXRuJAptzBfNJkg05Iw6IDTsim/cZOtstPdsh53XoRHjRk7Sxa+xKS3Pf4MzqQh2D1ZgRTBK1C6+cPWQdZHNAst9FU+hnwFwbaoKkhLK1UjO5elP/I3sz08UASWKqfaHwNq2C6Opk+P5A+AZ//byYwlRor7GXBeEz52vz0CFLosjaYjdBYFh90fSpDW6BGq1GsnUuC23SVpW0xWE+Q7Yt2EX/3sBgK8DuKhO/VoSErJNVsjqQWoF39MLhIgayU2r5GokV2HSVCqUaIOr8jTQgpuNNxC5sMFNtrbtEpvi1Eb50hY1bp4HhDLTY7xVg3ezUTkp1F6YGBrnS5EFXXSno6e3iKSeGoN02iU3z4MayXKa7gvgweJ/PwAgAeCTKESQXQNgtI79WjJaKps9sqKMw8SEK2Xsa0tY46mSlO9W+Imv8J/4SSdC0kC1KOtmK0UBrQRJTdIbdkJxcuivdHWJMN6CSBp/TopsJA1l1IEqRXeIDeO0f8G1DCbp+dJ0OOgjAGCa5jYAF1iW5Rb//DUA/1n/7gWqp+RW8ILiLT3bkD7dLxUBRSesCTbL/TWSdRpD4UQNMiJDXDB9+RgIatwAYqMccm42MtxVhPGWLINKhS63rrsMbkLOqAMro+jOQkt2D2A1Cv+CSi6gOAqZvMtWpYSmEg46Gi7gHfwJSVSbpvCIaFuAg3YBLvHKIxDR1DVF2Ol4XOeSvgAXWjpZgYNugDLSP/PiLUXsxKnKlyaIgCJrJAtcM06UrYecUyNQW870bZTHkc64yHoxOLlCklJYAxyHTnyaTZKTKFFwNohpUTJV6V6l31wB4+1BSycrnp0Yt2v3ApOjvLuG4ELVUiOZxHiTXCi+PkP8De+A09TO75/4azMERn1BJTsBfA7AMdM0j6KQQ3IZColgy1KRmI6hUR7d7Ec/U5jme268AMlUXhoxHQ6r6Hv0ORZFEQth18PPltv2f+hCjE/kuP6simtoUacSnLKKgXhchzLyMveJD5lP/BqLt8DHpBEmrIWohLU43DBbqSsXMXBqLI++x6bQz/dsuQBJO4v9Phy0/x3t2NSNtkQEJ8cy3BjJIpn9x4lw4e3NUQyPpqfFQYsQ0Weu1rnVeianwvUctKipCow3/UXGbZQ7jnCClnGzicJdKYx3Vo3AbeQ3y0cm8wxy4qTSAiMNJB0+ryHQ4pEsC+gO0zR/AuDdxaZbLMv6ev26tbBKZ2l088NHfs5hY2/seSPTls/TiOn9W95OIqb95+8/fBwP3nohHrnpvCkDEQF0qGxbVBNs0jXJZbQKjH0txVv8fvimc9+OfII1Dr8ayGFNVyPX1hVxsePQDzn4Gvc+Bcjuvs1vI98xhVrev+VCVOZ6ipDM/uNEuHDqPoPE72PwtA1dcZlxy0d1ctwiLV1QRgZ9eyqCLy9uo9wVTtAybjZRuKvjC1GujICqdLN5LnDnY8cICCD7PgMtPkkX47Qs6ysoFIFZ9qoF3exHyaoKyONEiOmWxjBDImzvaC3w/H0GwmhsRv+nd0sYB36TrpZPfH9FrpK/XeSHZwxE2MAVu7/Fvc/9Wy7EjkPPMm0U+rmW96n6LEu1d+y4HvNDd1we50wfJ7qey6Gfx90o9t/QjZZQjt9TefzuqXGjymYK3GwQ8Pz5jXJBhqsq3j+pHLd81MBvX5rAayva/vukg1bdRcibfu9E9n0GWnwKxocQhYOWxQW7HqQR0+e/oQOd2ihOfWeKRNiycQ/6v1D9c76qW6aGjFbS2MfijHEYSKqI2ArUyGqmfcwNIzXmYsvBKcN+5wfXyiOVJZHbovfp5wFWu6amKkBF9q2m8thp+jgVj/ddBMNJTxFCtSgAlUM/l/3wX/AnPsnXZvC3iw27b6NcE+ynRAyMZjRm3E5lQ1BtBYpTuYJXcP8Xfk6s4N9ehBRVl+z7DLT4NKOqXstd0XABa9zeEgMABv1c2Xb7pm50tBpMWyikcOdWIqYr2//u/efg1NGDcobd528vGfpKhRJtgF6IhS/9XeUnfmVbpbEvVeTyWjoxkvRww4M/xaX3HMMND/4UWa9QD3nUZttHbQ+hkMI8T4fgHbX73tGOTd0wiPdBvk+dfp/+e+/Y1I2IrpD3969yQgA+dsuFOLr7AhzdtRZHd1+Aj91yISIaEA9l0aTZhf8aCqKTQ0x1tejkEIyQg6GjrGFXHYerukYlPpVi4blxU/nxnPj1j7mxrNwoL4+bHoXT3MlWXWvuRCanYDKrMOM2mS1smFcqInjHEV3OgVNCR0/33gMtPknhoBeJzkYdcNAiTWGNC9Eb9YgCalYm8dKhG5n7rtn6SLlOb0mlGPsTD00d23bFboSNOIF97gSgCaOAKqNJMjkevezkXDJqJWboXMSRS0QrUe+DKnIvKl7vuR6HNdZCKhcp5eTdwnGeB01RquKPYzE6yYl7d81tGPrnXtbNRo7FHpx46AZ23LY8hBOHtjJtFEI49pq3ovUdl3P+dq8YasuPZxc3bhMT/KpcFNUki/EWRTvJqlpU1aIpCDNHWmrPMxc46BWnEta4hIMuIYgpLPF0bSWUdAkxXWp3Q7y7Jn3qZfJz3vWVXwwbcZIQWuAI+VlCJR5/ZUQGgbfm0MtTCOCUr+8pAo8t+z5K9xGhuP1YYz82Om07iMdVNFRG0kQM5LIVxl7x+eElw13lvsb4cFfKXUMlPlWD/VEoCnvC8Y0l7ZIRoZtlMd6isZDVQqOjA81MwQSwgKJYQrqRgNfSzhkIQIR+Xj4JTiLNJmGNzE6uEu7KqApozI8poPzwlLHPhQ0kBeNWQlEEYZOB5kvBBLCAErKEVgj6mWLDRyJ8Ritl7Md/+YxUJI0oO1kU7lopp8rmagYGm9HqRkna60qZpAMtTQUTwAJrubGEKFEr+EwGfMGPa/cCI6NS7prODTv///bOPTqq6t7jn3mQkBAMAcLDe1spKFvFZRE1UtB7bUt19brqvRQVq6hBLSqlim959CoqpIqK0CpyRYgFscXn1aK9VKnvB0rFKtatVooij4BEHgkkmZlz/zgzYebMPsmZJDOTyfw+a7HI7Dlnn99vnz3nd87eZ39/7H37meZjuL5J47I62bTIKezIkcy+3S0MsyWrgbqrvQpC50QCgNBmTNLPfr+3O/jiXuVsXZb4BpRxRavbcI0/8W7dbcGaeXXy9YSLeyZd2OvrDbrwcgcvdGEkAAie8DQOf8GtUL835QnXZlxWtJqGa3yBYPIdvGHBmimdZqiwmH0uF/au/jQmCPFIAMhjTAk//P7EVyZDhcX4fAZVScOF3W9ZKU24enmTxnW4xiEaFxuaKenl/WIvCPmOBIA8wZlE3ZSyr/+466GwmK0rZiWUGZOAGC7sRLzfwXt9k8ZtuCY2uep8Y2afU21SLvaC4IoEgC6I886+qaAY/+7EJOpuWkIDzp3pSV/IdGHH73IHb5KckDdpBCHrZCUAKKVuBs6Jflyltb4hG3Z0BKaVlpGw5Xk1rY/kVcN4LDPlA/ARJrin9eQt7lpCPkOZt6GZiM9nvoMv6pWk5793bxOBgJ9vKE5op4YmPw2RHgdXpDb5KOjuT1qlCiRp56eyuth0jsC7nr9p5WuwIJC0CrphfxNO3Fbnxsq37qwjEAg0SzZ4WcnrthLXa96DVPqxV2LHrqmth4A/5fwIqR6nI+vMFzIeAJRSY4DTgOOwZ9n+pJQaq7V+KtO2tJduBQF27m1M1vh35AiYXlnBAEM+gJt/PpKmUIQ5SxM15BudeQcmVtAt6GfWgy3nDZhWWcFhPZu8JW9xExpzSIMES8sh6KIq6RiaORAsxt/LkdClsJitOw8wx6HnP7CsO9tqEzX1b79iFHUO/X1THgY33wdE63Tq9x9S0q1ZejpWZygUYXZcu8+orKCb47yZyqZXVtCnZwFf721MsGnGxAqCTeGkc9SvV/eEIGDqM7HtnDkoTH1hWmUFfXsWJAQBt/wGJjtNeQ9S6cfOfd0w2eTWnl7r9Hqc9taZT2RDDG4rcK3WulFr3QT8Hfh2FuxoN41hjBr/23fVJ5XVNZhzDMQu/rGy7bvqk7Xql66lxlFnVfVaQiErqYyINzG5+q8+MQqNWXGiZLGyULA7tYHeCWJjtYHefLhxLz+97Q1+evvb/PS2N9Bf7OXKu19PKPvon3uT/KmKtoez3JRLocbQHm6+1xvauKp6LZEwSXXOdrT7bMN5M5XNqV5LYzg5n8Bsl3N0wJHu0NRnYts5y019oSp6/ITzizm/gcnOOdVrcSr8pNKPvaoDmWxya0/vikPejtPeOvOJjD8BaK03xP5WSh2BPRQ02uv+UVGjjFJe3tNYvnVnnSdNezetelOOAa95B9w08b0mb2ks6odVnCg58fLH+6gYlnhXH9OFn3THK0n+V01OPG2p+GNqD5P2v9v+qeQDcAoeptLG5nNp1r9323ZgXP9x6zOp5KAIW4l11tTWu25nKsfnS+jTqfRj575uuNnUnjpTOU576vRCOuvOJFmbBFZKDQNWAddrrT/1ul+m1EBjtKT8FwgE2qV/b8ox4DXvgJsmfmNBD+NwzUfbmgh8/4bmxDPLXq7h9JGHMGvx2wn79yotSiqrmnyyJ5tS8cfUHibtf7f9U8kH4HPMa6TSxuZzada/d9s2vv+49ZlUclAEfIl1EnDJg+Az24llebLJ5I9zX1dcbGpXnSkcp111tkIOq4Emf5dhWwBQSo0GXgRu0lo/nA0bOoKCAJ407ae75APo17uY6RMTy4ya+hPNmvomTXwsP/U9+icM1xzoOYCSkmLmPfUZl/92PfOe+oxzf3Qk/fsk2+m03S2XgWlbr/7E6nSWm3IpmPIwuPluyjEwrbICf4CkOmc47Jxh8MdUNr2ygoJAsv79DJdzFJPIbqnPxLZzlru1nVPP302P32SnSac/lX7s9Y7RZJNbe7bnLlRyEbSPjOcDUEp9C/grMF5rvSaFXQeRwXwAMVqL9p3tLaD9hrwDifvbNvUo9BOBJJ19DGUH6pvalQ/A7zPbaXp7I9DN/Y0fc5m9b1d6Cyg+xwHk/ltA+HxgWV3mLaAcfgJIygeQjQAwH7gY+Edc8QNa6wda2XUQnTAA5BriT+enq/kk/mSXTpUQRmt9FXBVpo8rCIIgJCI5gQVBEPIUCQCCIAh5igQAQRCEPEUCgCAIQp4iAUAQBCFPkQAgCIKQp0gAEARByFNkxXQnxLQqE5JXhJrKmhrDLa7ajennu63aNZU17G+isKhbUnmoMexpNazPZ15dbPLT5/eltBLYmQ/AVGcw6E9qj3DESqoz3BRJ8qewMJC0qrrexfZuQX/StqbV1j5aXhkdr59vOr5pBbhpVXbD/ia6F3fzdHxTe5hWUDc1ho2rrU1tF+sL8X0uEo54WtkM3lf4prKK2W0VtpdjA0nnJ5XV1qn4mKnVzRIAOhluevFO/Xs3nfyBhrwD0yorKDukgGn3v9ZcVjVlNHv2NbWan6DVOhccrPPOK09O0rR30+431WnyaXpUQ36WQ0PeWTatsoL+Zd3Z7qizaspodjrK3PY/pKQb0357MG/AvKv/zei3yfbbrxiVdN5uv2IUdftDntsjKT/C5FHs8pDfwHQu3eycXllBQYGfW/7HkVuiOMjM+w/a5JaLwNTGpjpvnzyKXd8kn19nHgZTfgPwrvPv9fcyvbKCvqWF7HDkm/CaX+GWaN+c3cacCybam8ehI5AhoE6Gm168U//eTSfflHegqnot4VCiJn7EcBxTfoJU6gyHvNnuVqfJpznVyTr7prKq6rXsN9Rp8tNtf2fegAMufptsN+UyMJW11B5J+RGazPs77TT56GbnnOq1bP/akFuiKdEmt1wEpjY21Wmy3ZSHwZTfALzr/Hv9vcypXkuDS3t6ya+wfVd988U/vk6vORdMtDePQ0cgAaCT4aZp79S/T0VnP1Yej2XQim9vnV5td6uz/Tr9yXWa/HTb36mL1ZLfznJTLgNTWSrt4ba/0043H93s95JbItW+4KwzldwOzn4EuOZcCEe8naNU8kUk9+OO+G20rlfm7mPb60wVCQCdjJgufDz9ypL172Na8c7t3PYP+BNPtc/nS9quvXV6td2tTrfje9fpT67T5Kfb/s68AS357SyP5TJorSyV9nDb32mnm49u9nvJLZFqX3DWabK9pTqdxHIuJG/r7Rx5bWNzP+6I34YjAhlw97HtdaZKxtVA28Eg8kANNJ1zADcs6Pg5gBsccwC1e1q3PdNzAE4/U5kDqElhDsA53t8RcwB19cn7O+3sjHMAsy6roLZmO7u+2UfEsicyS0sKAdi9r6F5crO0pDDpbj1GxPK2rWk7nw++2evc10fEstpUZ6+SQiwX273amYqPbakzGCygrKycQMDxNNaZ5KDbwSDyIABAet8CinWorvIWkDMfQFd4CyhePz9X3wLaVbOF7t2LKSru2fzE4vf5ACvh7txvu+pK/Fdu1z9f9ILprNO0r9u2Xo/tZo8XO93oiDoty6Kubg8HDtTTt+/AhO8kALSDXNP+bg3xp/PTFXzatm0T/ft/G5/PRzDoJxRKX4KWTNNZ/bEsi+3bv2DAgMMSylsKADIHIAhCWnDOVQjppS3tLQFAEAQhT5GFYIIgdHnuvvsOPvjgfUKhJjZv/pJBgwYDcPbZ53LGGWdm2brsIQFAEIROQTrlD6699kYAtm7dwi9/eRnV1Ss6pN5cRwKAIAhZx6v0Q0fz0EOL2LDhQ2pqtjFu3HhefHE1F188iREjTmgOFo8//iy7dn3N3Llz2L59O4GAn0mTfsGJJ56UNrsyhcwBCIKQdbxKP6SDxsYGli9/jLFjz3LdZv78uzjjjDNZsmQ5c+fOY+7cOdTX12XAuvQiTwBZJhDwUexrwGeFsHxB6q1CwuGceTVXEDqElqQf0n2ROvroY1rd5t1317Jp0yYWL16EzwehUIivvtrMEUeoNFuXXrISAJRS5wH9trNhAAANTUlEQVQzgW7AvVrr+7JhR7YJBHwUN+yg5ok7CO3eQbC0nH7jbqS+sFyCgJBXxGQR4oNAs/xBmn8LhYWFzX/Hv0oZCh18/giHIyxYsJBDDiklGPSzbVsNZWVlabUrE2R8CEgp9S/AbOBkYDgwSSl1dKbt6AwU+xqaL/4Aod12MCj2NWTZMkHILEFgemVFswZObA4g03eopaW92LjxHwC8+upLzeXHH38CTz75GAAbN37OhReOp6HhQIat63iy8QQwBlijtd4FoJR6HDgLuDULtmQVnxVqvvjHCO3egc8KAQXZMUoQskA4HKGsuBtVk0enPQlKS5x//oXMnn0Lq1Y9wymnnNpcfvXVN3DnnbO56KJzAfjVr26luLhHRm1LBxmXglBKTQN6aK1nRj9fClRorSe1susgYGOazcsooX21bKmelhAEgqXlHFpZRbAk9x8vhfxlw4aPOPTQw1rfUOhQtmzZxLBhrgMqSVIQ2XgC8JOsc+Q5zHclLaBAoBv9xt2YNAewp7Eb4TQdsyvozMTT1fyBruFTJBJp1svprNo5baUz+xOJRJL6TpwWUBLZCACbgVPiPg8AtmTBjqwTDlvUF5bT7/zZ8haQIAgZJxsB4AXgFqVUOVAHjANaG/7psoTDFnsp4OCYv1z8BUHIDBl/C0hr/RUwA/gLsB5YobVem2k7BEEQ8p2srAPQWq8ARIxDEAQhi4gUhCAIQp4iAUAQhC7P1q1bOPXUkVRWnsfEiecxYcI5TJ06mZqa7W2q77nnnmX27FsAuO66K9m5c4frtg89tIj3338PgF//+jY+/vijNh0zHUgAEAQhL+jbt5zq6hUsXbqC5ctXMmTIEdx33/x213vXXQvo27fc9fv33ltHOBwG4KabfsWRR3Ye4QMRgxMEoVOQaWHEESNOYNGi33LWWT/h6KOP4dNPNfffv5i33nqDxx57lEjEQqkjueaaGyksLORPf1rFww8/RElJCf37D6CoqBiAs876Cb/5zSJ69+7DPffcwd/+tp5gMEhl5aU0Njai9d+5447bmTPnLubNu7NZbvp3v1vC6tXP4/f7OfHEkUyefCU1NduZPv06Bg8ewiefaHr37sNtt/2a4uIeVFXN4vPPbZmKsWPP5swzx7a7DeQJQBCErNMsjPjIDL5aOJmaR2ZQ3LCDQCA9eYVDoRAvvfQiw4YdC8DIkaN49NEnqa2t5dlnn2bhwiVUV6+grKw3jz66jJ07d7Bw4QLuu+9BHnywmvr6+qQ6n3jiD+zfv59HHnmce++9n6VLFzNmzOkodRQ33jiTIUMOb972zTdf57XXXmHx4mUsWfIIX331JU8//QQAn332KePHn8+yZSspKSlh9ern+eCD99mzZw9Ll65g7tz5zUNK7UWeAARByDpuwoj9zp8dXSfTfnbu3EFl5XkANDU1ctRRw7jiiim8885bzZLQ7733Lps3f8lll0207Qg1MXTokXzwwfscc8yx9O7dh2DQz2mn/Zh1695JqH/9+r9y5plj8fv99OnTl+XLV7rasm7dO4wZczrdu3cH4IwzzuT551cxatTJlJX1ZujQIwEYPPhw9uzZw+DBQ/jii01cc80URo4czS9+cVWHtIkEAEEQsk4mhBFjcwAmYpLQ4XCEH/xgDFOnXg9AfX094XCYdevWEi+bFggEkuoIBILYyjY2mzd/Sf/+A4zHs6yI4zOEw7b8dEFBgeM7i9LSXixbtpJ33nmbN998nYsvnsCyZSvp2bNny063ggwBpUAg4McK+An5fFgBP4FA+5svHXUKQq5h+YIESxMnUoOl5Vi+zN6jHnfc8bzyykvU1u7CsizuvruKlStXcOyxw9mw4W/s2FFDJBJhzZo/J+07fPhxrFnzZyzLorZ2F1OmTKKpqZFAINg8CRxjxIgTeeGF/6Oh4QChUIjnnnuGESNOcLXrtdde5rbb/ptRo05m6tTrKCoqavMbTPHIE4BH0pGzNFt5UAWhs1FvFRqFEeutQjIpj3LEEUOZOPHnXHnl5ViWxeGHD2XChEoKCwuZOvV6pk6dTFFREYcd9p2kfceOPZt7751LZeXPALj66uspLu7BSSd9j7vuqmLmzFnN244efQqffqq55JILCYdDVFSMZNy48ezYUWO0a+TI0bz00houuOAcCgoKOP30/0iYU2grGZeDbgeDgI3ZUgO1An6m3f96Usaiqsmj8bXxYp2OOlujKyhNxtPV/IGu4dO2bZsYMMCWg/aqnpkr6VE7sxpofLvHiFMD7RRy0DlJOnKWZjMPqiB0NkQYMfPIgLNHYjlL42nOWdqJ6hQEQfCKBACPpCNnaWfJgyoIQn4i1xqPpCNnaWfJgyoI6cCyLHw+eZrNFG2Zz5UngBQIhyP4whGCloUvHOmQC3U66hSEbBMMFlBXt6dNFyUhdSzLoq5uD8Fgamsm5AlAEIQOp6ysnNraHezb9w1+v59IpOvc2HRWf4LBAsrK3EXpjPukyRZBEPKYQCBI374Dga7xWms8XckfGQISBEHIUyQACIIg5Cm5NAQUAHtVW6bJxjHTifjT+elqPok/2SPO1iQFu1ySgjgZeDXbRgiCIOQopwCvxRfkUgAoBE4EtgLhVrYVBEEQbALAQOAdoCH+i1wKAIIgCEIHIpPAgiAIeYoEAEEQhDxFAoAgCEKeIgFAEAQhT5EAIAiCkKdIABAEQchTJAAIgiDkKRIABEEQ8pRc0gJKO0qpm4Fzoh9Xaa1vUEqNAe4BioA/aK1nZs3AFFFK3QqchZ1d+yGt9T257E8MpdRdQF+tdaVSajiwGDgEeAW4XGsdyqqBKaCU+gvQD2iKFl0GDAFmAt2Ae7XW92XJvJRRSv0EuBnoAazWWl+Vy31OKXUpMCWu6DvAMuBpctSneOQJIEq0k54GHAcMB45XSv0MWAL8J3AUcKJS6sfZs9I7Sql/B34AHAucAPxSKfVdctSfGEqpHwIXxRUtB6ZorYcCPuDnWTGsDSilfMBQ4Lta6+Fa6+HAZmA2tvbVcGCSUuroLJrpGaXUYOAB4L+w+92IaP/K2T6ntV4cd27OB2qAO8hhn+KRAHCQrcC1WutGrXUT8HfsH+enWuuN0bvK5cDZ2TTSK1rrl4HvR+3uh/2014sc9QdAKdUb++I4J/r5MKBIa/1WdJNqcsgfQEX/X62Uel8pNQUYA6zRWu/SWtcBj2M/xeUCY7HvhjdHf0PjgXpyuM85WAhMBwbTRXySABBFa70hdiFRSh2BPRQUwQ4MMbYC/5oF89qE1rpJKTUL+Ah4ETiUHPYHWATMAGqjn3PdnzLs8zIW+CFwOfBtctenw4GAUuoZpdR6YDK5f46A5hGCIq31Y3QRn0ACQBJKqWHAn4Hrgc+xx89j+LCDQs6gtb4ZKAe+hf1Ek5P+RMdiv9RavxhX7CdH/QHQWr+ptb5Qa71ba70TeAi4ldz1KYj9BHMJ8D3gJOy75Vz1J57LsMf8Icf7XTwyCRyHUmo08AQwVWv9++g4+sC4TQYAW7JiXIoopY4Eumut12ut65VST2IPJcRLaeeMP9jDCQOjd5a9gRLsH2FOnh8ApdTJQGFcUPMB/yR3fdoGvKC13gGglHoKe2gkV/scAEqpAuDfgcpo0WZy9xwlIAEgilLqW9gz++O11muixW/bX6nDgY3AediTP7nAYGBW9CJjYU9YLQLm5qI/Wusfxf5WSlUCp2qtJyqlPlRKjdZavw5cADyfLRvbQC/gVqXUKOw3fi4CJgDLlVLlQB0wDpiUPRNT4o/Aw0qpXsBe4MfYcxg35WKfi+NY4JPonAzk9nUhARkCOsh1QHfgHqXU+uidZmX03xPY4+gfY3foTo/W+jlgFfAesA54Q2v9e3LUnxY4H5inlPoY+6lgQZbt8YzW+o8knqMl0UA2A/gLsB5YobVemz0rvaO1fhu4Ezvr1EfAJuyJ00pyu88Nxr7rB0BrfYDc9wmQhDCCIAh5izwBCIIg5CkSAARBEPIUCQCCIAh5igQAQRCEPEUCgCAIQp4iAUAQBCFPkQAgCIKQp8hKYEFoBaWUH5gHjAR6Yks2XAp8AizF1u//GlsK4UOt9S1KqaOA+UAfIAAs0Frn5GpRoesiTwCC0DonYStAfk9rfTTwMHAT9qrjDVrro7A1b0YBKKWCRCUQtNbHY+vIXKeUGpkN4wXBDVkJLAgeUEop7AQ7Q4BTsbVuRgAjtNb/iG6zANgFrAT+ii0REKMUuFNrvTCDZgtCi8gQkCC0glLqDOzhnLuB/8W+sE8AQtjDQTFiqpcBYHc0i1Ssjv7A7owYLAgekSEgQWidHwHPRu/e38VOeRjAFnK7BEAp1Qc7sYsFaGC/UmpC9LtvAR8Cx2fedEFwR4aABKEVorkVHsV+Yg4Cq7Flmr+LnZD+cOxJYB/wR6313Gj+5fnYuQu6AfO11g9kwXxBcEUCgCC0EaXUZOA9rfWbSqlC4FXgZq11LuUkEPIYmQMQhLbzEfAbpVQAKAAek4u/kEvIE4AgCEKeIpPAgiAIeYoEAEEQhDxFAoAgCEKeIgFAEAQhT5EAIAiCkKf8PwJ5AFpsBsZqAAAAAElFTkSuQmCC\n",
      "text/plain": [
       "<Figure size 432x288 with 1 Axes>"
      ]
     },
     "metadata": {
      "needs_background": "light"
     },
     "output_type": "display_data"
    }
   ],
   "source": [
    "sns.scatterplot(x=Afr[\"age\"], y=Afr[\"decile_score\"], label = 'True')\n",
    "sns.scatterplot(x=Afr[\"age\"], y=Afr[\"prediction\"], label = 'Predictions')\n",
    "sns.mpl.pyplot.ylabel(\"decile_score\")"
   ]
  },
  {
   "cell_type": "code",
   "execution_count": 508,
   "metadata": {},
   "outputs": [],
   "source": [
    "Afr[\"error\"] = abs(Afr[\"decile_score\"]-Afr[\"prediction\"])"
   ]
  },
  {
   "cell_type": "code",
   "execution_count": 509,
   "metadata": {},
   "outputs": [
    {
     "data": {
      "text/html": [
       "<div>\n",
       "<style scoped>\n",
       "    .dataframe tbody tr th:only-of-type {\n",
       "        vertical-align: middle;\n",
       "    }\n",
       "\n",
       "    .dataframe tbody tr th {\n",
       "        vertical-align: top;\n",
       "    }\n",
       "\n",
       "    .dataframe thead th {\n",
       "        text-align: right;\n",
       "    }\n",
       "</style>\n",
       "<table border=\"1\" class=\"dataframe\">\n",
       "  <thead>\n",
       "    <tr style=\"text-align: right;\">\n",
       "      <th></th>\n",
       "      <th>index</th>\n",
       "      <th>age</th>\n",
       "      <th>v_decile_score</th>\n",
       "      <th>decile_score</th>\n",
       "      <th>prediction</th>\n",
       "      <th>error</th>\n",
       "    </tr>\n",
       "  </thead>\n",
       "  <tbody>\n",
       "    <tr>\n",
       "      <th>0</th>\n",
       "      <td>5304</td>\n",
       "      <td>42</td>\n",
       "      <td>3</td>\n",
       "      <td>4</td>\n",
       "      <td>4.468156</td>\n",
       "      <td>0.468156</td>\n",
       "    </tr>\n",
       "    <tr>\n",
       "      <th>1</th>\n",
       "      <td>925</td>\n",
       "      <td>28</td>\n",
       "      <td>7</td>\n",
       "      <td>7</td>\n",
       "      <td>7.529444</td>\n",
       "      <td>0.529444</td>\n",
       "    </tr>\n",
       "    <tr>\n",
       "      <th>2</th>\n",
       "      <td>10800</td>\n",
       "      <td>20</td>\n",
       "      <td>8</td>\n",
       "      <td>5</td>\n",
       "      <td>8.102811</td>\n",
       "      <td>3.102811</td>\n",
       "    </tr>\n",
       "    <tr>\n",
       "      <th>3</th>\n",
       "      <td>759</td>\n",
       "      <td>29</td>\n",
       "      <td>6</td>\n",
       "      <td>7</td>\n",
       "      <td>6.657480</td>\n",
       "      <td>0.342520</td>\n",
       "    </tr>\n",
       "    <tr>\n",
       "      <th>4</th>\n",
       "      <td>5193</td>\n",
       "      <td>55</td>\n",
       "      <td>1</td>\n",
       "      <td>1</td>\n",
       "      <td>3.193452</td>\n",
       "      <td>2.193452</td>\n",
       "    </tr>\n",
       "  </tbody>\n",
       "</table>\n",
       "</div>"
      ],
      "text/plain": [
       "   index  age  v_decile_score  decile_score  prediction     error\n",
       "0   5304   42               3             4    4.468156  0.468156\n",
       "1    925   28               7             7    7.529444  0.529444\n",
       "2  10800   20               8             5    8.102811  3.102811\n",
       "3    759   29               6             7    6.657480  0.342520\n",
       "4   5193   55               1             1    3.193452  2.193452"
      ]
     },
     "execution_count": 509,
     "metadata": {},
     "output_type": "execute_result"
    }
   ],
   "source": [
    "Afr.head()"
   ]
  },
  {
   "cell_type": "code",
   "execution_count": 510,
   "metadata": {},
   "outputs": [
    {
     "data": {
      "text/plain": [
       "count    1163.000000\n",
       "mean        1.580950\n",
       "std         1.143392\n",
       "min         0.001001\n",
       "25%         0.683939\n",
       "50%         1.385044\n",
       "75%         2.201403\n",
       "max         6.401607\n",
       "Name: error, dtype: float64"
      ]
     },
     "execution_count": 510,
     "metadata": {},
     "output_type": "execute_result"
    }
   ],
   "source": [
    "Afr.error.describe()"
   ]
  },
  {
   "cell_type": "markdown",
   "metadata": {},
   "source": [
    "# Lin Regression Decile Score White"
   ]
  },
  {
   "cell_type": "code",
   "execution_count": 511,
   "metadata": {},
   "outputs": [
    {
     "data": {
      "text/plain": [
       "age               0.43710\n",
       "decile_score      1.00000\n",
       "v_decile_score    0.74415\n",
       "decile_score.1    1.00000\n",
       "Name: decile_score, dtype: float64"
      ]
     },
     "execution_count": 511,
     "metadata": {},
     "output_type": "execute_result"
    }
   ],
   "source": [
    "CompasWhite = compas[(compas.race == \"Caucasian\")]\n",
    "LinCompWh = CompasWhite.select_dtypes(np.number).fillna(0)\n",
    "corWh = LinCompWh.corr()\n",
    "cor_targetWh = abs(corWh[\"decile_score\"])\n",
    "relevant_featuresWh = cor_targetWh[cor_targetWh > .4]\n",
    "relevant_featuresWh"
   ]
  },
  {
   "cell_type": "code",
   "execution_count": 512,
   "metadata": {},
   "outputs": [],
   "source": [
    "DROP = ['Unnamed: 0', \"priors_count\", 'id','decile_score.1', \"juv_fel_count\", \"juv_misd_count\", \"juv_other_count\",  \"is_recid\", \"is_violent_recid\"]\n",
    "LinCompWh = LinCompWh.drop(DROP, axis =1)"
   ]
  },
  {
   "cell_type": "code",
   "execution_count": 513,
   "metadata": {},
   "outputs": [],
   "source": [
    "targetvariablesWh = \"decile_score\"\n",
    "independentvariablesWh = LinCompWh.drop(columns=targetvariablesWh).columns"
   ]
  },
  {
   "cell_type": "code",
   "execution_count": 514,
   "metadata": {},
   "outputs": [],
   "source": [
    "X_trainWh, X_testWh, y_trainWh, y_testWh = train_test_split(\n",
    "     LinCompWh[independentvariablesWh],\n",
    "     LinCompWh[targetvariablesWh],\n",
    "     test_size=0.2,\n",
    "    random_state = 12)"
   ]
  },
  {
   "cell_type": "code",
   "execution_count": 515,
   "metadata": {},
   "outputs": [
    {
     "data": {
      "text/plain": [
       "LinearRegression(copy_X=True, fit_intercept=True, n_jobs=None, normalize=False)"
      ]
     },
     "execution_count": 515,
     "metadata": {},
     "output_type": "execute_result"
    }
   ],
   "source": [
    "modelWh = LinearRegression()\n",
    "modelWh.fit(X_trainWh, y_trainWh)"
   ]
  },
  {
   "cell_type": "code",
   "execution_count": 516,
   "metadata": {},
   "outputs": [],
   "source": [
    "predictionsWh = modelWh.predict(X_testWh)"
   ]
  },
  {
   "cell_type": "code",
   "execution_count": 517,
   "metadata": {},
   "outputs": [],
   "source": [
    "Wh = X_testWh.reset_index().copy() \n",
    "Wh[\"decile_score\"] = y_testWh.tolist()\n",
    "Wh[\"prediction\"] = predictionsWh"
   ]
  },
  {
   "cell_type": "code",
   "execution_count": 518,
   "metadata": {
    "scrolled": true
   },
   "outputs": [
    {
     "data": {
      "text/plain": [
       "<seaborn.axisgrid.FacetGrid at 0x7fd687b7f090>"
      ]
     },
     "execution_count": 518,
     "metadata": {},
     "output_type": "execute_result"
    },
    {
     "data": {
      "image/png": "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\n",
      "text/plain": [
       "<Figure size 360x360 with 1 Axes>"
      ]
     },
     "metadata": {
      "needs_background": "light"
     },
     "output_type": "display_data"
    }
   ],
   "source": [
    "sns.relplot(x=\"decile_score\", y=\"prediction\", data=Wh, kind=\"scatter\")"
   ]
  },
  {
   "cell_type": "code",
   "execution_count": 519,
   "metadata": {},
   "outputs": [
    {
     "data": {
      "text/plain": [
       "Text(0, 0.5, 'decile_score')"
      ]
     },
     "execution_count": 519,
     "metadata": {},
     "output_type": "execute_result"
    },
    {
     "data": {
      "image/png": "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\n",
      "text/plain": [
       "<Figure size 432x288 with 1 Axes>"
      ]
     },
     "metadata": {
      "needs_background": "light"
     },
     "output_type": "display_data"
    }
   ],
   "source": [
    "sns.scatterplot(x=Wh[\"age\"], y=Wh[\"decile_score\"], label = 'True')\n",
    "sns.scatterplot(x=Wh[\"age\"], y=Wh[\"prediction\"], label = 'Predictions')\n",
    "sns.mpl.pyplot.ylabel(\"decile_score\")"
   ]
  },
  {
   "cell_type": "code",
   "execution_count": 520,
   "metadata": {},
   "outputs": [],
   "source": [
    "Wh[\"error\"] = abs(Wh[\"decile_score\"]-Wh[\"prediction\"])"
   ]
  },
  {
   "cell_type": "code",
   "execution_count": 521,
   "metadata": {},
   "outputs": [
    {
     "data": {
      "text/html": [
       "<div>\n",
       "<style scoped>\n",
       "    .dataframe tbody tr th:only-of-type {\n",
       "        vertical-align: middle;\n",
       "    }\n",
       "\n",
       "    .dataframe tbody tr th {\n",
       "        vertical-align: top;\n",
       "    }\n",
       "\n",
       "    .dataframe thead th {\n",
       "        text-align: right;\n",
       "    }\n",
       "</style>\n",
       "<table border=\"1\" class=\"dataframe\">\n",
       "  <thead>\n",
       "    <tr style=\"text-align: right;\">\n",
       "      <th></th>\n",
       "      <th>index</th>\n",
       "      <th>age</th>\n",
       "      <th>v_decile_score</th>\n",
       "      <th>decile_score</th>\n",
       "      <th>prediction</th>\n",
       "      <th>error</th>\n",
       "    </tr>\n",
       "  </thead>\n",
       "  <tbody>\n",
       "    <tr>\n",
       "      <th>0</th>\n",
       "      <td>10844</td>\n",
       "      <td>50</td>\n",
       "      <td>1</td>\n",
       "      <td>1</td>\n",
       "      <td>1.984860</td>\n",
       "      <td>0.984860</td>\n",
       "    </tr>\n",
       "    <tr>\n",
       "      <th>1</th>\n",
       "      <td>11326</td>\n",
       "      <td>51</td>\n",
       "      <td>3</td>\n",
       "      <td>2</td>\n",
       "      <td>3.803674</td>\n",
       "      <td>1.803674</td>\n",
       "    </tr>\n",
       "    <tr>\n",
       "      <th>2</th>\n",
       "      <td>279</td>\n",
       "      <td>38</td>\n",
       "      <td>2</td>\n",
       "      <td>5</td>\n",
       "      <td>2.860664</td>\n",
       "      <td>2.139336</td>\n",
       "    </tr>\n",
       "    <tr>\n",
       "      <th>3</th>\n",
       "      <td>1864</td>\n",
       "      <td>36</td>\n",
       "      <td>1</td>\n",
       "      <td>1</td>\n",
       "      <td>1.947225</td>\n",
       "      <td>0.947225</td>\n",
       "    </tr>\n",
       "    <tr>\n",
       "      <th>4</th>\n",
       "      <td>7034</td>\n",
       "      <td>25</td>\n",
       "      <td>6</td>\n",
       "      <td>5</td>\n",
       "      <td>6.457968</td>\n",
       "      <td>1.457968</td>\n",
       "    </tr>\n",
       "  </tbody>\n",
       "</table>\n",
       "</div>"
      ],
      "text/plain": [
       "   index  age  v_decile_score  decile_score  prediction     error\n",
       "0  10844   50               1             1    1.984860  0.984860\n",
       "1  11326   51               3             2    3.803674  1.803674\n",
       "2    279   38               2             5    2.860664  2.139336\n",
       "3   1864   36               1             1    1.947225  0.947225\n",
       "4   7034   25               6             5    6.457968  1.457968"
      ]
     },
     "execution_count": 521,
     "metadata": {},
     "output_type": "execute_result"
    }
   ],
   "source": [
    "Wh.head()"
   ]
  },
  {
   "cell_type": "code",
   "execution_count": 522,
   "metadata": {},
   "outputs": [
    {
     "data": {
      "text/plain": [
       "count    817.000000\n",
       "mean       1.366638\n",
       "std        1.044426\n",
       "min        0.000989\n",
       "25%        0.831094\n",
       "50%        1.006366\n",
       "75%        1.836471\n",
       "max        6.158153\n",
       "Name: error, dtype: float64"
      ]
     },
     "execution_count": 522,
     "metadata": {},
     "output_type": "execute_result"
    }
   ],
   "source": [
    "Wh.error.describe()"
   ]
  },
  {
   "cell_type": "code",
   "execution_count": 523,
   "metadata": {},
   "outputs": [
    {
     "data": {
      "text/plain": [
       "<matplotlib.axes._subplots.AxesSubplot at 0x7fd687b612d0>"
      ]
     },
     "execution_count": 523,
     "metadata": {},
     "output_type": "execute_result"
    },
    {
     "data": {
      "image/png": "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\n",
      "text/plain": [
       "<Figure size 648x576 with 2 Axes>"
      ]
     },
     "metadata": {
      "needs_background": "light"
     },
     "output_type": "display_data"
    }
   ],
   "source": [
    "import seaborn as sns\n",
    "corrmat = compas.corr() \n",
    "  \n",
    "f, ax = plt.subplots(figsize =(9, 8)) \n",
    "sns.heatmap(corrmat, ax = ax, cmap =\"YlGnBu\", linewidths = 0.1) \n"
   ]
  },
  {
   "cell_type": "code",
   "execution_count": 524,
   "metadata": {},
   "outputs": [
    {
     "data": {
      "text/html": [
       "<div>\n",
       "<style scoped>\n",
       "    .dataframe tbody tr th:only-of-type {\n",
       "        vertical-align: middle;\n",
       "    }\n",
       "\n",
       "    .dataframe tbody tr th {\n",
       "        vertical-align: top;\n",
       "    }\n",
       "\n",
       "    .dataframe thead th {\n",
       "        text-align: right;\n",
       "    }\n",
       "</style>\n",
       "<table border=\"1\" class=\"dataframe\">\n",
       "  <thead>\n",
       "    <tr style=\"text-align: right;\">\n",
       "      <th></th>\n",
       "      <th>Unnamed: 0</th>\n",
       "      <th>id</th>\n",
       "      <th>age</th>\n",
       "      <th>juv_fel_count</th>\n",
       "      <th>decile_score</th>\n",
       "      <th>juv_misd_count</th>\n",
       "      <th>juv_other_count</th>\n",
       "      <th>priors_count</th>\n",
       "      <th>is_recid</th>\n",
       "      <th>is_violent_recid</th>\n",
       "      <th>v_decile_score</th>\n",
       "      <th>decile_score.1</th>\n",
       "    </tr>\n",
       "  </thead>\n",
       "  <tbody>\n",
       "    <tr>\n",
       "      <th>Unnamed: 0</th>\n",
       "      <td>1.000000</td>\n",
       "      <td>1.000000</td>\n",
       "      <td>0.001331</td>\n",
       "      <td>0.005323</td>\n",
       "      <td>0.007277</td>\n",
       "      <td>0.006339</td>\n",
       "      <td>0.002258</td>\n",
       "      <td>0.005788</td>\n",
       "      <td>0.002813</td>\n",
       "      <td>0.001125</td>\n",
       "      <td>0.005061</td>\n",
       "      <td>0.007277</td>\n",
       "    </tr>\n",
       "    <tr>\n",
       "      <th>id</th>\n",
       "      <td>1.000000</td>\n",
       "      <td>1.000000</td>\n",
       "      <td>0.001331</td>\n",
       "      <td>0.005323</td>\n",
       "      <td>0.007277</td>\n",
       "      <td>0.006339</td>\n",
       "      <td>0.002258</td>\n",
       "      <td>0.005788</td>\n",
       "      <td>0.002813</td>\n",
       "      <td>0.001125</td>\n",
       "      <td>0.005061</td>\n",
       "      <td>0.007277</td>\n",
       "    </tr>\n",
       "    <tr>\n",
       "      <th>age</th>\n",
       "      <td>0.001331</td>\n",
       "      <td>0.001331</td>\n",
       "      <td>1.000000</td>\n",
       "      <td>-0.061385</td>\n",
       "      <td>-0.376641</td>\n",
       "      <td>-0.104723</td>\n",
       "      <td>-0.147641</td>\n",
       "      <td>0.129566</td>\n",
       "      <td>-0.138273</td>\n",
       "      <td>-0.083107</td>\n",
       "      <td>-0.565021</td>\n",
       "      <td>-0.376641</td>\n",
       "    </tr>\n",
       "    <tr>\n",
       "      <th>juv_fel_count</th>\n",
       "      <td>0.005323</td>\n",
       "      <td>0.005323</td>\n",
       "      <td>-0.061385</td>\n",
       "      <td>1.000000</td>\n",
       "      <td>0.180830</td>\n",
       "      <td>0.102755</td>\n",
       "      <td>0.065665</td>\n",
       "      <td>0.197984</td>\n",
       "      <td>0.080481</td>\n",
       "      <td>0.050528</td>\n",
       "      <td>0.175257</td>\n",
       "      <td>0.180830</td>\n",
       "    </tr>\n",
       "    <tr>\n",
       "      <th>decile_score</th>\n",
       "      <td>0.007277</td>\n",
       "      <td>0.007277</td>\n",
       "      <td>-0.376641</td>\n",
       "      <td>0.180830</td>\n",
       "      <td>1.000000</td>\n",
       "      <td>0.198759</td>\n",
       "      <td>0.170072</td>\n",
       "      <td>0.424028</td>\n",
       "      <td>0.251125</td>\n",
       "      <td>0.150537</td>\n",
       "      <td>0.773795</td>\n",
       "      <td>1.000000</td>\n",
       "    </tr>\n",
       "    <tr>\n",
       "      <th>juv_misd_count</th>\n",
       "      <td>0.006339</td>\n",
       "      <td>0.006339</td>\n",
       "      <td>-0.104723</td>\n",
       "      <td>0.102755</td>\n",
       "      <td>0.198759</td>\n",
       "      <td>1.000000</td>\n",
       "      <td>0.294255</td>\n",
       "      <td>0.248409</td>\n",
       "      <td>0.106061</td>\n",
       "      <td>0.089695</td>\n",
       "      <td>0.187362</td>\n",
       "      <td>0.198759</td>\n",
       "    </tr>\n",
       "    <tr>\n",
       "      <th>juv_other_count</th>\n",
       "      <td>0.002258</td>\n",
       "      <td>0.002258</td>\n",
       "      <td>-0.147641</td>\n",
       "      <td>0.065665</td>\n",
       "      <td>0.170072</td>\n",
       "      <td>0.294255</td>\n",
       "      <td>1.000000</td>\n",
       "      <td>0.112558</td>\n",
       "      <td>0.102907</td>\n",
       "      <td>0.053004</td>\n",
       "      <td>0.193398</td>\n",
       "      <td>0.170072</td>\n",
       "    </tr>\n",
       "    <tr>\n",
       "      <th>priors_count</th>\n",
       "      <td>0.005788</td>\n",
       "      <td>0.005788</td>\n",
       "      <td>0.129566</td>\n",
       "      <td>0.197984</td>\n",
       "      <td>0.424028</td>\n",
       "      <td>0.248409</td>\n",
       "      <td>0.112558</td>\n",
       "      <td>1.000000</td>\n",
       "      <td>0.289822</td>\n",
       "      <td>0.102265</td>\n",
       "      <td>0.221316</td>\n",
       "      <td>0.424028</td>\n",
       "    </tr>\n",
       "    <tr>\n",
       "      <th>is_recid</th>\n",
       "      <td>0.002813</td>\n",
       "      <td>0.002813</td>\n",
       "      <td>-0.138273</td>\n",
       "      <td>0.080481</td>\n",
       "      <td>0.251125</td>\n",
       "      <td>0.106061</td>\n",
       "      <td>0.102907</td>\n",
       "      <td>0.289822</td>\n",
       "      <td>1.000000</td>\n",
       "      <td>0.380631</td>\n",
       "      <td>0.220425</td>\n",
       "      <td>0.251125</td>\n",
       "    </tr>\n",
       "    <tr>\n",
       "      <th>is_violent_recid</th>\n",
       "      <td>0.001125</td>\n",
       "      <td>0.001125</td>\n",
       "      <td>-0.083107</td>\n",
       "      <td>0.050528</td>\n",
       "      <td>0.150537</td>\n",
       "      <td>0.089695</td>\n",
       "      <td>0.053004</td>\n",
       "      <td>0.102265</td>\n",
       "      <td>0.380631</td>\n",
       "      <td>1.000000</td>\n",
       "      <td>0.155343</td>\n",
       "      <td>0.150537</td>\n",
       "    </tr>\n",
       "    <tr>\n",
       "      <th>v_decile_score</th>\n",
       "      <td>0.005061</td>\n",
       "      <td>0.005061</td>\n",
       "      <td>-0.565021</td>\n",
       "      <td>0.175257</td>\n",
       "      <td>0.773795</td>\n",
       "      <td>0.187362</td>\n",
       "      <td>0.193398</td>\n",
       "      <td>0.221316</td>\n",
       "      <td>0.220425</td>\n",
       "      <td>0.155343</td>\n",
       "      <td>1.000000</td>\n",
       "      <td>0.773795</td>\n",
       "    </tr>\n",
       "    <tr>\n",
       "      <th>decile_score.1</th>\n",
       "      <td>0.007277</td>\n",
       "      <td>0.007277</td>\n",
       "      <td>-0.376641</td>\n",
       "      <td>0.180830</td>\n",
       "      <td>1.000000</td>\n",
       "      <td>0.198759</td>\n",
       "      <td>0.170072</td>\n",
       "      <td>0.424028</td>\n",
       "      <td>0.251125</td>\n",
       "      <td>0.150537</td>\n",
       "      <td>0.773795</td>\n",
       "      <td>1.000000</td>\n",
       "    </tr>\n",
       "  </tbody>\n",
       "</table>\n",
       "</div>"
      ],
      "text/plain": [
       "                  Unnamed: 0        id       age  juv_fel_count  decile_score  \\\n",
       "Unnamed: 0          1.000000  1.000000  0.001331       0.005323      0.007277   \n",
       "id                  1.000000  1.000000  0.001331       0.005323      0.007277   \n",
       "age                 0.001331  0.001331  1.000000      -0.061385     -0.376641   \n",
       "juv_fel_count       0.005323  0.005323 -0.061385       1.000000      0.180830   \n",
       "decile_score        0.007277  0.007277 -0.376641       0.180830      1.000000   \n",
       "juv_misd_count      0.006339  0.006339 -0.104723       0.102755      0.198759   \n",
       "juv_other_count     0.002258  0.002258 -0.147641       0.065665      0.170072   \n",
       "priors_count        0.005788  0.005788  0.129566       0.197984      0.424028   \n",
       "is_recid            0.002813  0.002813 -0.138273       0.080481      0.251125   \n",
       "is_violent_recid    0.001125  0.001125 -0.083107       0.050528      0.150537   \n",
       "v_decile_score      0.005061  0.005061 -0.565021       0.175257      0.773795   \n",
       "decile_score.1      0.007277  0.007277 -0.376641       0.180830      1.000000   \n",
       "\n",
       "                  juv_misd_count  juv_other_count  priors_count  is_recid  \\\n",
       "Unnamed: 0              0.006339         0.002258      0.005788  0.002813   \n",
       "id                      0.006339         0.002258      0.005788  0.002813   \n",
       "age                    -0.104723        -0.147641      0.129566 -0.138273   \n",
       "juv_fel_count           0.102755         0.065665      0.197984  0.080481   \n",
       "decile_score            0.198759         0.170072      0.424028  0.251125   \n",
       "juv_misd_count          1.000000         0.294255      0.248409  0.106061   \n",
       "juv_other_count         0.294255         1.000000      0.112558  0.102907   \n",
       "priors_count            0.248409         0.112558      1.000000  0.289822   \n",
       "is_recid                0.106061         0.102907      0.289822  1.000000   \n",
       "is_violent_recid        0.089695         0.053004      0.102265  0.380631   \n",
       "v_decile_score          0.187362         0.193398      0.221316  0.220425   \n",
       "decile_score.1          0.198759         0.170072      0.424028  0.251125   \n",
       "\n",
       "                  is_violent_recid  v_decile_score  decile_score.1  \n",
       "Unnamed: 0                0.001125        0.005061        0.007277  \n",
       "id                        0.001125        0.005061        0.007277  \n",
       "age                      -0.083107       -0.565021       -0.376641  \n",
       "juv_fel_count             0.050528        0.175257        0.180830  \n",
       "decile_score              0.150537        0.773795        1.000000  \n",
       "juv_misd_count            0.089695        0.187362        0.198759  \n",
       "juv_other_count           0.053004        0.193398        0.170072  \n",
       "priors_count              0.102265        0.221316        0.424028  \n",
       "is_recid                  0.380631        0.220425        0.251125  \n",
       "is_violent_recid          1.000000        0.155343        0.150537  \n",
       "v_decile_score            0.155343        1.000000        0.773795  \n",
       "decile_score.1            0.150537        0.773795        1.000000  "
      ]
     },
     "execution_count": 524,
     "metadata": {},
     "output_type": "execute_result"
    }
   ],
   "source": [
    "corrmat"
   ]
  },
  {
   "cell_type": "code",
<<<<<<< HEAD
   "execution_count": 525,
=======
   "execution_count": 2,
>>>>>>> f250a880cb3a3e8a96ad65aab4dcdb968de2b335
   "metadata": {},
   "outputs": [
    {
     "data": {
      "text/plain": [
       "Index(['id', 'name', 'first', 'last', 'compas_screening_date', 'sex', 'dob',\n",
       "       'age', 'age_cat', 'race', 'juv_fel_count', 'decile_score',\n",
       "       'juv_misd_count', 'juv_other_count', 'priors_count',\n",
       "       'days_b_screening_arrest', 'c_jail_in', 'c_jail_out', 'c_case_number',\n",
       "       'c_offense_date', 'c_arrest_date', 'c_days_from_compas',\n",
       "       'c_charge_degree', 'c_charge_desc', 'is_recid', 'r_case_number',\n",
       "       'r_charge_degree', 'r_days_from_arrest', 'r_offense_date',\n",
       "       'r_charge_desc', 'r_jail_in', 'r_jail_out', 'violent_recid',\n",
       "       'is_violent_recid', 'vr_case_number', 'vr_charge_degree',\n",
       "       'vr_offense_date', 'vr_charge_desc', 'type_of_assessment',\n",
       "       'decile_score.1', 'score_text', 'screening_date',\n",
       "       'v_type_of_assessment', 'v_decile_score', 'v_score_text',\n",
       "       'v_screening_date', 'in_custody', 'out_custody', 'priors_count.1',\n",
       "       'start', 'end', 'event', 'two_year_recid'],\n",
       "      dtype='object')"
      ]
     },
<<<<<<< HEAD
     "execution_count": 525,
=======
     "execution_count": 2,
>>>>>>> f250a880cb3a3e8a96ad65aab4dcdb968de2b335
     "metadata": {},
     "output_type": "execute_result"
    }
   ],
   "source": [
    "compas2 = pd.read_csv(\"compas-scores-two-years.csv\")\n",
    "compas2.columns"
   ]
  },
  {
   "cell_type": "markdown",
   "metadata": {},
   "source": []
  },
  {
   "cell_type": "code",
<<<<<<< HEAD
   "execution_count": 526,
=======
   "execution_count": 3,
>>>>>>> f250a880cb3a3e8a96ad65aab4dcdb968de2b335
   "metadata": {},
   "outputs": [],
   "source": [
    "colremove = ['id', 'name', 'first', 'last', 'compas_screening_date','dob','age_cat',\n",
    "             'days_b_screening_arrest', 'c_jail_in', 'c_jail_out', 'c_case_number',\n",
    "       'c_offense_date', 'c_arrest_date', 'c_days_from_compas','r_case_number',\n",
    "       'r_charge_degree', 'r_days_from_arrest', 'r_offense_date',\n",
    "       'r_charge_desc', 'r_jail_in', 'r_jail_out','vr_case_number', 'vr_charge_degree',\n",
    "       'vr_offense_date', 'vr_charge_desc', 'type_of_assessment','screening_date',\n",
    "       'v_type_of_assessment','v_screening_date', 'in_custody', 'out_custody','start', 'end', 'event',\n",
    "       'c_charge_degree', 'c_charge_desc', \"priors_count.1\", \"violent_recid\"]\n",
    "compasml = compas2.drop(colremove, axis =1)"
   ]
  },
  {
   "cell_type": "code",
<<<<<<< HEAD
   "execution_count": 527,
=======
   "execution_count": 4,
>>>>>>> f250a880cb3a3e8a96ad65aab4dcdb968de2b335
   "metadata": {},
   "outputs": [
    {
     "data": {
      "text/html": [
       "<div>\n",
       "<style scoped>\n",
       "    .dataframe tbody tr th:only-of-type {\n",
       "        vertical-align: middle;\n",
       "    }\n",
       "\n",
       "    .dataframe tbody tr th {\n",
       "        vertical-align: top;\n",
       "    }\n",
       "\n",
       "    .dataframe thead th {\n",
       "        text-align: right;\n",
       "    }\n",
       "</style>\n",
       "<table border=\"1\" class=\"dataframe\">\n",
       "  <thead>\n",
       "    <tr style=\"text-align: right;\">\n",
       "      <th></th>\n",
       "      <th>sex</th>\n",
       "      <th>age</th>\n",
       "      <th>race</th>\n",
       "      <th>juv_fel_count</th>\n",
       "      <th>decile_score</th>\n",
       "      <th>juv_misd_count</th>\n",
       "      <th>juv_other_count</th>\n",
       "      <th>priors_count</th>\n",
       "      <th>is_recid</th>\n",
       "      <th>is_violent_recid</th>\n",
       "      <th>decile_score.1</th>\n",
       "      <th>score_text</th>\n",
       "      <th>v_decile_score</th>\n",
       "      <th>v_score_text</th>\n",
       "      <th>two_year_recid</th>\n",
       "    </tr>\n",
       "  </thead>\n",
       "  <tbody>\n",
       "    <tr>\n",
       "      <th>0</th>\n",
       "      <td>Male</td>\n",
       "      <td>69</td>\n",
       "      <td>Other</td>\n",
       "      <td>0</td>\n",
       "      <td>1</td>\n",
       "      <td>0</td>\n",
       "      <td>0</td>\n",
       "      <td>0</td>\n",
       "      <td>0</td>\n",
       "      <td>0</td>\n",
       "      <td>1</td>\n",
       "      <td>Low</td>\n",
       "      <td>1</td>\n",
       "      <td>Low</td>\n",
       "      <td>0</td>\n",
       "    </tr>\n",
       "    <tr>\n",
       "      <th>1</th>\n",
       "      <td>Male</td>\n",
       "      <td>34</td>\n",
       "      <td>African-American</td>\n",
       "      <td>0</td>\n",
       "      <td>3</td>\n",
       "      <td>0</td>\n",
       "      <td>0</td>\n",
       "      <td>0</td>\n",
       "      <td>1</td>\n",
       "      <td>1</td>\n",
       "      <td>3</td>\n",
       "      <td>Low</td>\n",
       "      <td>1</td>\n",
       "      <td>Low</td>\n",
       "      <td>1</td>\n",
       "    </tr>\n",
       "    <tr>\n",
       "      <th>2</th>\n",
       "      <td>Male</td>\n",
       "      <td>24</td>\n",
       "      <td>African-American</td>\n",
       "      <td>0</td>\n",
       "      <td>4</td>\n",
       "      <td>0</td>\n",
       "      <td>1</td>\n",
       "      <td>4</td>\n",
       "      <td>1</td>\n",
       "      <td>0</td>\n",
       "      <td>4</td>\n",
       "      <td>Low</td>\n",
       "      <td>3</td>\n",
       "      <td>Low</td>\n",
       "      <td>1</td>\n",
       "    </tr>\n",
       "    <tr>\n",
       "      <th>3</th>\n",
       "      <td>Male</td>\n",
       "      <td>23</td>\n",
       "      <td>African-American</td>\n",
       "      <td>0</td>\n",
       "      <td>8</td>\n",
       "      <td>1</td>\n",
       "      <td>0</td>\n",
       "      <td>1</td>\n",
       "      <td>0</td>\n",
       "      <td>0</td>\n",
       "      <td>8</td>\n",
       "      <td>High</td>\n",
       "      <td>6</td>\n",
       "      <td>Medium</td>\n",
       "      <td>0</td>\n",
       "    </tr>\n",
       "    <tr>\n",
       "      <th>4</th>\n",
       "      <td>Male</td>\n",
       "      <td>43</td>\n",
       "      <td>Other</td>\n",
       "      <td>0</td>\n",
       "      <td>1</td>\n",
       "      <td>0</td>\n",
       "      <td>0</td>\n",
       "      <td>2</td>\n",
       "      <td>0</td>\n",
       "      <td>0</td>\n",
       "      <td>1</td>\n",
       "      <td>Low</td>\n",
       "      <td>1</td>\n",
       "      <td>Low</td>\n",
       "      <td>0</td>\n",
       "    </tr>\n",
       "  </tbody>\n",
       "</table>\n",
       "</div>"
      ],
      "text/plain": [
       "    sex  age              race  juv_fel_count  decile_score  juv_misd_count  \\\n",
       "0  Male   69             Other              0             1               0   \n",
       "1  Male   34  African-American              0             3               0   \n",
       "2  Male   24  African-American              0             4               0   \n",
       "3  Male   23  African-American              0             8               1   \n",
       "4  Male   43             Other              0             1               0   \n",
       "\n",
       "   juv_other_count  priors_count  is_recid  is_violent_recid  decile_score.1  \\\n",
       "0                0             0         0                 0               1   \n",
       "1                0             0         1                 1               3   \n",
       "2                1             4         1                 0               4   \n",
       "3                0             1         0                 0               8   \n",
       "4                0             2         0                 0               1   \n",
       "\n",
       "  score_text  v_decile_score v_score_text  two_year_recid  \n",
       "0        Low               1          Low               0  \n",
       "1        Low               1          Low               1  \n",
       "2        Low               3          Low               1  \n",
       "3       High               6       Medium               0  \n",
       "4        Low               1          Low               0  "
      ]
     },
<<<<<<< HEAD
     "execution_count": 527,
=======
     "execution_count": 4,
>>>>>>> f250a880cb3a3e8a96ad65aab4dcdb968de2b335
     "metadata": {},
     "output_type": "execute_result"
    }
   ],
   "source": [
    "compasml.head()"
   ]
  },
  {
   "cell_type": "code",
   "execution_count": 528,
   "metadata": {},
   "outputs": [
    {
     "data": {
      "text/plain": [
       "African-American    0.512337\n",
       "Caucasian           0.340172\n",
       "Hispanic            0.088301\n",
       "Other               0.052259\n",
       "Asian               0.004436\n",
       "Native American     0.002495\n",
       "Name: race, dtype: float64"
      ]
     },
     "execution_count": 528,
     "metadata": {},
     "output_type": "execute_result"
    }
   ],
   "source": [
    "compasml.race.value_counts(True)"
   ]
  },
  {
   "cell_type": "code",
<<<<<<< HEAD
   "execution_count": 529,
=======
   "execution_count": 8,
>>>>>>> f250a880cb3a3e8a96ad65aab4dcdb968de2b335
   "metadata": {},
   "outputs": [
    {
     "data": {
      "text/plain": [
       "array(['Other', 'African-American', 'Caucasian', 'Hispanic',\n",
       "       'Native American', 'Asian'], dtype=object)"
      ]
     },
<<<<<<< HEAD
     "execution_count": 529,
=======
     "execution_count": 8,
>>>>>>> f250a880cb3a3e8a96ad65aab4dcdb968de2b335
     "metadata": {},
     "output_type": "execute_result"
    }
   ],
   "source": [
    "races = compasml.race.unique()\n",
    "races"
   ]
  },
  {
   "cell_type": "code",
<<<<<<< HEAD
   "execution_count": 530,
=======
   "execution_count": 9,
>>>>>>> f250a880cb3a3e8a96ad65aab4dcdb968de2b335
   "metadata": {},
   "outputs": [],
   "source": [
    "compasml[\"is_male\"] = (compasml.sex == \"Male\")\n",
    "compasml[\"is_female\"] = (compasml.sex == \"Female\")\n",
    "\n",
    "for x in races:\n",
    "    compasml[x]= (compasml.race == x)"
   ]
  },
  {
   "cell_type": "code",
<<<<<<< HEAD
   "execution_count": 531,
=======
   "execution_count": 10,
>>>>>>> f250a880cb3a3e8a96ad65aab4dcdb968de2b335
   "metadata": {},
   "outputs": [
    {
     "data": {
      "text/html": [
       "<div>\n",
       "<style scoped>\n",
       "    .dataframe tbody tr th:only-of-type {\n",
       "        vertical-align: middle;\n",
       "    }\n",
       "\n",
       "    .dataframe tbody tr th {\n",
       "        vertical-align: top;\n",
       "    }\n",
       "\n",
       "    .dataframe thead th {\n",
       "        text-align: right;\n",
       "    }\n",
       "</style>\n",
       "<table border=\"1\" class=\"dataframe\">\n",
       "  <thead>\n",
       "    <tr style=\"text-align: right;\">\n",
       "      <th></th>\n",
       "      <th>sex</th>\n",
       "      <th>age</th>\n",
       "      <th>race</th>\n",
       "      <th>juv_fel_count</th>\n",
       "      <th>decile_score</th>\n",
       "      <th>juv_misd_count</th>\n",
       "      <th>juv_other_count</th>\n",
       "      <th>priors_count</th>\n",
       "      <th>is_recid</th>\n",
       "      <th>is_violent_recid</th>\n",
       "      <th>decile_score.1</th>\n",
       "      <th>score_text</th>\n",
       "      <th>v_decile_score</th>\n",
       "      <th>v_score_text</th>\n",
       "      <th>two_year_recid</th>\n",
       "      <th>is_male</th>\n",
       "      <th>is_female</th>\n",
       "      <th>Other</th>\n",
       "      <th>African-American</th>\n",
       "      <th>Caucasian</th>\n",
       "      <th>Hispanic</th>\n",
       "      <th>Native American</th>\n",
       "      <th>Asian</th>\n",
       "    </tr>\n",
       "  </thead>\n",
       "  <tbody>\n",
       "    <tr>\n",
       "      <th>0</th>\n",
       "      <td>Male</td>\n",
       "      <td>69</td>\n",
       "      <td>Other</td>\n",
       "      <td>0</td>\n",
       "      <td>1</td>\n",
       "      <td>0</td>\n",
       "      <td>0</td>\n",
       "      <td>0</td>\n",
       "      <td>0</td>\n",
       "      <td>0</td>\n",
       "      <td>1</td>\n",
       "      <td>Low</td>\n",
       "      <td>1</td>\n",
       "      <td>Low</td>\n",
       "      <td>0</td>\n",
       "      <td>True</td>\n",
       "      <td>False</td>\n",
       "      <td>True</td>\n",
       "      <td>False</td>\n",
       "      <td>False</td>\n",
       "      <td>False</td>\n",
       "      <td>False</td>\n",
       "      <td>False</td>\n",
       "    </tr>\n",
       "    <tr>\n",
       "      <th>1</th>\n",
       "      <td>Male</td>\n",
       "      <td>34</td>\n",
       "      <td>African-American</td>\n",
       "      <td>0</td>\n",
       "      <td>3</td>\n",
       "      <td>0</td>\n",
       "      <td>0</td>\n",
       "      <td>0</td>\n",
       "      <td>1</td>\n",
       "      <td>1</td>\n",
       "      <td>3</td>\n",
       "      <td>Low</td>\n",
       "      <td>1</td>\n",
       "      <td>Low</td>\n",
       "      <td>1</td>\n",
       "      <td>True</td>\n",
       "      <td>False</td>\n",
       "      <td>False</td>\n",
       "      <td>True</td>\n",
       "      <td>False</td>\n",
       "      <td>False</td>\n",
       "      <td>False</td>\n",
       "      <td>False</td>\n",
       "    </tr>\n",
       "    <tr>\n",
       "      <th>2</th>\n",
       "      <td>Male</td>\n",
       "      <td>24</td>\n",
       "      <td>African-American</td>\n",
       "      <td>0</td>\n",
       "      <td>4</td>\n",
       "      <td>0</td>\n",
       "      <td>1</td>\n",
       "      <td>4</td>\n",
       "      <td>1</td>\n",
       "      <td>0</td>\n",
       "      <td>4</td>\n",
       "      <td>Low</td>\n",
       "      <td>3</td>\n",
       "      <td>Low</td>\n",
       "      <td>1</td>\n",
       "      <td>True</td>\n",
       "      <td>False</td>\n",
       "      <td>False</td>\n",
       "      <td>True</td>\n",
       "      <td>False</td>\n",
       "      <td>False</td>\n",
       "      <td>False</td>\n",
       "      <td>False</td>\n",
       "    </tr>\n",
       "    <tr>\n",
       "      <th>3</th>\n",
       "      <td>Male</td>\n",
       "      <td>23</td>\n",
       "      <td>African-American</td>\n",
       "      <td>0</td>\n",
       "      <td>8</td>\n",
       "      <td>1</td>\n",
       "      <td>0</td>\n",
       "      <td>1</td>\n",
       "      <td>0</td>\n",
       "      <td>0</td>\n",
       "      <td>8</td>\n",
       "      <td>High</td>\n",
       "      <td>6</td>\n",
       "      <td>Medium</td>\n",
       "      <td>0</td>\n",
       "      <td>True</td>\n",
       "      <td>False</td>\n",
       "      <td>False</td>\n",
       "      <td>True</td>\n",
       "      <td>False</td>\n",
       "      <td>False</td>\n",
       "      <td>False</td>\n",
       "      <td>False</td>\n",
       "    </tr>\n",
       "    <tr>\n",
       "      <th>4</th>\n",
       "      <td>Male</td>\n",
       "      <td>43</td>\n",
       "      <td>Other</td>\n",
       "      <td>0</td>\n",
       "      <td>1</td>\n",
       "      <td>0</td>\n",
       "      <td>0</td>\n",
       "      <td>2</td>\n",
       "      <td>0</td>\n",
       "      <td>0</td>\n",
       "      <td>1</td>\n",
       "      <td>Low</td>\n",
       "      <td>1</td>\n",
       "      <td>Low</td>\n",
       "      <td>0</td>\n",
       "      <td>True</td>\n",
       "      <td>False</td>\n",
       "      <td>True</td>\n",
       "      <td>False</td>\n",
       "      <td>False</td>\n",
       "      <td>False</td>\n",
       "      <td>False</td>\n",
       "      <td>False</td>\n",
       "    </tr>\n",
       "  </tbody>\n",
       "</table>\n",
       "</div>"
      ],
      "text/plain": [
       "    sex  age              race  juv_fel_count  decile_score  juv_misd_count  \\\n",
       "0  Male   69             Other              0             1               0   \n",
       "1  Male   34  African-American              0             3               0   \n",
       "2  Male   24  African-American              0             4               0   \n",
       "3  Male   23  African-American              0             8               1   \n",
       "4  Male   43             Other              0             1               0   \n",
       "\n",
       "   juv_other_count  priors_count  is_recid  is_violent_recid  decile_score.1  \\\n",
       "0                0             0         0                 0               1   \n",
       "1                0             0         1                 1               3   \n",
       "2                1             4         1                 0               4   \n",
       "3                0             1         0                 0               8   \n",
       "4                0             2         0                 0               1   \n",
       "\n",
       "  score_text  v_decile_score v_score_text  two_year_recid  is_male  is_female  \\\n",
       "0        Low               1          Low               0     True      False   \n",
       "1        Low               1          Low               1     True      False   \n",
       "2        Low               3          Low               1     True      False   \n",
       "3       High               6       Medium               0     True      False   \n",
       "4        Low               1          Low               0     True      False   \n",
       "\n",
       "   Other  African-American  Caucasian  Hispanic  Native American  Asian  \n",
       "0   True             False      False     False            False  False  \n",
       "1  False              True      False     False            False  False  \n",
       "2  False              True      False     False            False  False  \n",
       "3  False              True      False     False            False  False  \n",
       "4   True             False      False     False            False  False  "
      ]
     },
<<<<<<< HEAD
     "execution_count": 531,
=======
     "execution_count": 10,
>>>>>>> f250a880cb3a3e8a96ad65aab4dcdb968de2b335
     "metadata": {},
     "output_type": "execute_result"
    }
   ],
   "source": [
    "\n",
    "pd.set_option('display.max_columns', None)\n",
    "compasml.head()"
   ]
  },
  {
   "cell_type": "code",
<<<<<<< HEAD
   "execution_count": 532,
=======
   "execution_count": 15,
>>>>>>> f250a880cb3a3e8a96ad65aab4dcdb968de2b335
   "metadata": {},
   "outputs": [],
   "source": [
    "compasml = pd.DataFrame(compasml*1)"
   ]
  },
  {
   "cell_type": "code",
<<<<<<< HEAD
   "execution_count": 533,
=======
   "execution_count": 16,
>>>>>>> f250a880cb3a3e8a96ad65aab4dcdb968de2b335
   "metadata": {},
   "outputs": [
    {
     "data": {
      "text/plain": [
       "sex                 object\n",
       "age                  int64\n",
       "race                object\n",
       "juv_fel_count        int64\n",
       "decile_score         int64\n",
       "juv_misd_count       int64\n",
       "juv_other_count      int64\n",
       "priors_count         int64\n",
       "is_recid             int64\n",
       "is_violent_recid     int64\n",
       "decile_score.1       int64\n",
       "score_text          object\n",
       "v_decile_score       int64\n",
       "v_score_text        object\n",
       "two_year_recid       int64\n",
       "is_male              int64\n",
       "is_female            int64\n",
       "Other                int64\n",
       "African-American     int64\n",
       "Caucasian            int64\n",
       "Hispanic             int64\n",
       "Native American      int64\n",
       "Asian                int64\n",
       "dtype: object"
      ]
     },
<<<<<<< HEAD
     "execution_count": 533,
=======
     "execution_count": 16,
>>>>>>> f250a880cb3a3e8a96ad65aab4dcdb968de2b335
     "metadata": {},
     "output_type": "execute_result"
    }
   ],
   "source": [
    "compasml.head()\n",
    "compasml.dtypes"
   ]
  },
  {
   "cell_type": "code",
   "execution_count": 17,
   "metadata": {},
   "outputs": [],
   "source": [
    "compasml.to_csv(\"compasml.csv\")"
   ]
  },
  {
   "cell_type": "code",
   "execution_count": 534,
   "metadata": {},
   "outputs": [
    {
     "data": {
      "text/html": [
       "<div>\n",
       "<style scoped>\n",
       "    .dataframe tbody tr th:only-of-type {\n",
       "        vertical-align: middle;\n",
       "    }\n",
       "\n",
       "    .dataframe tbody tr th {\n",
       "        vertical-align: top;\n",
       "    }\n",
       "\n",
       "    .dataframe thead th {\n",
       "        text-align: right;\n",
       "    }\n",
       "</style>\n",
       "<table border=\"1\" class=\"dataframe\">\n",
       "  <thead>\n",
       "    <tr style=\"text-align: right;\">\n",
       "      <th></th>\n",
       "      <th>age</th>\n",
       "      <th>juv_fel_count</th>\n",
       "      <th>decile_score</th>\n",
       "      <th>juv_misd_count</th>\n",
       "      <th>juv_other_count</th>\n",
       "      <th>priors_count</th>\n",
       "      <th>is_recid</th>\n",
       "      <th>is_violent_recid</th>\n",
       "      <th>decile_score.1</th>\n",
       "      <th>v_decile_score</th>\n",
       "      <th>two_year_recid</th>\n",
       "      <th>is_male</th>\n",
       "      <th>is_female</th>\n",
       "      <th>Other</th>\n",
       "      <th>African-American</th>\n",
       "      <th>Caucasian</th>\n",
       "      <th>Hispanic</th>\n",
       "      <th>Native American</th>\n",
       "      <th>Asian</th>\n",
       "    </tr>\n",
       "  </thead>\n",
       "  <tbody>\n",
       "    <tr>\n",
       "      <th>0</th>\n",
       "      <td>69</td>\n",
       "      <td>0</td>\n",
       "      <td>1</td>\n",
       "      <td>0</td>\n",
       "      <td>0</td>\n",
       "      <td>0</td>\n",
       "      <td>0</td>\n",
       "      <td>0</td>\n",
       "      <td>1</td>\n",
       "      <td>1</td>\n",
       "      <td>0</td>\n",
       "      <td>1</td>\n",
       "      <td>0</td>\n",
       "      <td>1</td>\n",
       "      <td>0</td>\n",
       "      <td>0</td>\n",
       "      <td>0</td>\n",
       "      <td>0</td>\n",
       "      <td>0</td>\n",
       "    </tr>\n",
       "    <tr>\n",
       "      <th>1</th>\n",
       "      <td>34</td>\n",
       "      <td>0</td>\n",
       "      <td>3</td>\n",
       "      <td>0</td>\n",
       "      <td>0</td>\n",
       "      <td>0</td>\n",
       "      <td>1</td>\n",
       "      <td>1</td>\n",
       "      <td>3</td>\n",
       "      <td>1</td>\n",
       "      <td>1</td>\n",
       "      <td>1</td>\n",
       "      <td>0</td>\n",
       "      <td>0</td>\n",
       "      <td>1</td>\n",
       "      <td>0</td>\n",
       "      <td>0</td>\n",
       "      <td>0</td>\n",
       "      <td>0</td>\n",
       "    </tr>\n",
       "    <tr>\n",
       "      <th>2</th>\n",
       "      <td>24</td>\n",
       "      <td>0</td>\n",
       "      <td>4</td>\n",
       "      <td>0</td>\n",
       "      <td>1</td>\n",
       "      <td>4</td>\n",
       "      <td>1</td>\n",
       "      <td>0</td>\n",
       "      <td>4</td>\n",
       "      <td>3</td>\n",
       "      <td>1</td>\n",
       "      <td>1</td>\n",
       "      <td>0</td>\n",
       "      <td>0</td>\n",
       "      <td>1</td>\n",
       "      <td>0</td>\n",
       "      <td>0</td>\n",
       "      <td>0</td>\n",
       "      <td>0</td>\n",
       "    </tr>\n",
       "    <tr>\n",
       "      <th>3</th>\n",
       "      <td>23</td>\n",
       "      <td>0</td>\n",
       "      <td>8</td>\n",
       "      <td>1</td>\n",
       "      <td>0</td>\n",
       "      <td>1</td>\n",
       "      <td>0</td>\n",
       "      <td>0</td>\n",
       "      <td>8</td>\n",
       "      <td>6</td>\n",
       "      <td>0</td>\n",
       "      <td>1</td>\n",
       "      <td>0</td>\n",
       "      <td>0</td>\n",
       "      <td>1</td>\n",
       "      <td>0</td>\n",
       "      <td>0</td>\n",
       "      <td>0</td>\n",
       "      <td>0</td>\n",
       "    </tr>\n",
       "    <tr>\n",
       "      <th>4</th>\n",
       "      <td>43</td>\n",
       "      <td>0</td>\n",
       "      <td>1</td>\n",
       "      <td>0</td>\n",
       "      <td>0</td>\n",
       "      <td>2</td>\n",
       "      <td>0</td>\n",
       "      <td>0</td>\n",
       "      <td>1</td>\n",
       "      <td>1</td>\n",
       "      <td>0</td>\n",
       "      <td>1</td>\n",
       "      <td>0</td>\n",
       "      <td>1</td>\n",
       "      <td>0</td>\n",
       "      <td>0</td>\n",
       "      <td>0</td>\n",
       "      <td>0</td>\n",
       "      <td>0</td>\n",
       "    </tr>\n",
       "  </tbody>\n",
       "</table>\n",
       "</div>"
      ],
      "text/plain": [
       "   age  juv_fel_count  decile_score  juv_misd_count  juv_other_count  \\\n",
       "0   69              0             1               0                0   \n",
       "1   34              0             3               0                0   \n",
       "2   24              0             4               0                1   \n",
       "3   23              0             8               1                0   \n",
       "4   43              0             1               0                0   \n",
       "\n",
       "   priors_count  is_recid  is_violent_recid  decile_score.1  v_decile_score  \\\n",
       "0             0         0                 0               1               1   \n",
       "1             0         1                 1               3               1   \n",
       "2             4         1                 0               4               3   \n",
       "3             1         0                 0               8               6   \n",
       "4             2         0                 0               1               1   \n",
       "\n",
       "   two_year_recid  is_male  is_female  Other  African-American  Caucasian  \\\n",
       "0               0        1          0      1                 0          0   \n",
       "1               1        1          0      0                 1          0   \n",
       "2               1        1          0      0                 1          0   \n",
       "3               0        1          0      0                 1          0   \n",
       "4               0        1          0      1                 0          0   \n",
       "\n",
       "   Hispanic  Native American  Asian  \n",
       "0         0                0      0  \n",
       "1         0                0      0  \n",
       "2         0                0      0  \n",
       "3         0                0      0  \n",
       "4         0                0      0  "
      ]
     },
     "execution_count": 534,
     "metadata": {},
     "output_type": "execute_result"
    }
   ],
   "source": [
    "numerical_data = compasml.select_dtypes(np.number)\n",
    "numerical_data.head()"
   ]
  },
  {
   "cell_type": "code",
   "execution_count": 535,
   "metadata": {},
   "outputs": [],
   "source": [
    "numerical_data = numerical_data.drop([\"is_recid\", \"is_violent_recid\", \"decile_score.1\",\n",
    "                                      \"v_decile_score\", \"two_year_recid\"], axis = 1)"
   ]
  },
  {
   "cell_type": "code",
   "execution_count": 536,
   "metadata": {},
   "outputs": [
    {
     "data": {
      "text/html": [
       "<div>\n",
       "<style scoped>\n",
       "    .dataframe tbody tr th:only-of-type {\n",
       "        vertical-align: middle;\n",
       "    }\n",
       "\n",
       "    .dataframe tbody tr th {\n",
       "        vertical-align: top;\n",
       "    }\n",
       "\n",
       "    .dataframe thead th {\n",
       "        text-align: right;\n",
       "    }\n",
       "</style>\n",
       "<table border=\"1\" class=\"dataframe\">\n",
       "  <thead>\n",
       "    <tr style=\"text-align: right;\">\n",
       "      <th></th>\n",
       "      <th>age</th>\n",
       "      <th>juv_fel_count</th>\n",
       "      <th>decile_score</th>\n",
       "      <th>juv_misd_count</th>\n",
       "      <th>juv_other_count</th>\n",
       "      <th>priors_count</th>\n",
       "      <th>is_male</th>\n",
       "      <th>is_female</th>\n",
       "      <th>Other</th>\n",
       "      <th>African-American</th>\n",
       "      <th>Caucasian</th>\n",
       "      <th>Hispanic</th>\n",
       "      <th>Native American</th>\n",
       "      <th>Asian</th>\n",
       "    </tr>\n",
       "  </thead>\n",
       "  <tbody>\n",
       "    <tr>\n",
       "      <th>0</th>\n",
       "      <td>69</td>\n",
       "      <td>0</td>\n",
       "      <td>1</td>\n",
       "      <td>0</td>\n",
       "      <td>0</td>\n",
       "      <td>0</td>\n",
       "      <td>1</td>\n",
       "      <td>0</td>\n",
       "      <td>1</td>\n",
       "      <td>0</td>\n",
       "      <td>0</td>\n",
       "      <td>0</td>\n",
       "      <td>0</td>\n",
       "      <td>0</td>\n",
       "    </tr>\n",
       "    <tr>\n",
       "      <th>1</th>\n",
       "      <td>34</td>\n",
       "      <td>0</td>\n",
       "      <td>3</td>\n",
       "      <td>0</td>\n",
       "      <td>0</td>\n",
       "      <td>0</td>\n",
       "      <td>1</td>\n",
       "      <td>0</td>\n",
       "      <td>0</td>\n",
       "      <td>1</td>\n",
       "      <td>0</td>\n",
       "      <td>0</td>\n",
       "      <td>0</td>\n",
       "      <td>0</td>\n",
       "    </tr>\n",
       "    <tr>\n",
       "      <th>2</th>\n",
       "      <td>24</td>\n",
       "      <td>0</td>\n",
       "      <td>4</td>\n",
       "      <td>0</td>\n",
       "      <td>1</td>\n",
       "      <td>4</td>\n",
       "      <td>1</td>\n",
       "      <td>0</td>\n",
       "      <td>0</td>\n",
       "      <td>1</td>\n",
       "      <td>0</td>\n",
       "      <td>0</td>\n",
       "      <td>0</td>\n",
       "      <td>0</td>\n",
       "    </tr>\n",
       "    <tr>\n",
       "      <th>3</th>\n",
       "      <td>23</td>\n",
       "      <td>0</td>\n",
       "      <td>8</td>\n",
       "      <td>1</td>\n",
       "      <td>0</td>\n",
       "      <td>1</td>\n",
       "      <td>1</td>\n",
       "      <td>0</td>\n",
       "      <td>0</td>\n",
       "      <td>1</td>\n",
       "      <td>0</td>\n",
       "      <td>0</td>\n",
       "      <td>0</td>\n",
       "      <td>0</td>\n",
       "    </tr>\n",
       "    <tr>\n",
       "      <th>4</th>\n",
       "      <td>43</td>\n",
       "      <td>0</td>\n",
       "      <td>1</td>\n",
       "      <td>0</td>\n",
       "      <td>0</td>\n",
       "      <td>2</td>\n",
       "      <td>1</td>\n",
       "      <td>0</td>\n",
       "      <td>1</td>\n",
       "      <td>0</td>\n",
       "      <td>0</td>\n",
       "      <td>0</td>\n",
       "      <td>0</td>\n",
       "      <td>0</td>\n",
       "    </tr>\n",
       "  </tbody>\n",
       "</table>\n",
       "</div>"
      ],
      "text/plain": [
       "   age  juv_fel_count  decile_score  juv_misd_count  juv_other_count  \\\n",
       "0   69              0             1               0                0   \n",
       "1   34              0             3               0                0   \n",
       "2   24              0             4               0                1   \n",
       "3   23              0             8               1                0   \n",
       "4   43              0             1               0                0   \n",
       "\n",
       "   priors_count  is_male  is_female  Other  African-American  Caucasian  \\\n",
       "0             0        1          0      1                 0          0   \n",
       "1             0        1          0      0                 1          0   \n",
       "2             4        1          0      0                 1          0   \n",
       "3             1        1          0      0                 1          0   \n",
       "4             2        1          0      1                 0          0   \n",
       "\n",
       "   Hispanic  Native American  Asian  \n",
       "0         0                0      0  \n",
       "1         0                0      0  \n",
       "2         0                0      0  \n",
       "3         0                0      0  \n",
       "4         0                0      0  "
      ]
     },
     "execution_count": 536,
     "metadata": {},
     "output_type": "execute_result"
    }
   ],
   "source": [
    "numerical_data.head()"
   ]
  },
  {
   "cell_type": "code",
   "execution_count": 537,
   "metadata": {},
   "outputs": [],
   "source": [
    "from sklearn.model_selection import train_test_split\n",
    "from sklearn.linear_model import LinearRegression"
   ]
  },
  {
   "cell_type": "code",
   "execution_count": 538,
   "metadata": {},
   "outputs": [],
   "source": [
    "target_variable = \"decile_score\"\n",
    "independent_variables = numerical_data.drop(columns=\"decile_score\").columns\n",
    "\n",
    "X = numerical_data[independent_variables]  # numpy array\n",
    "y = numerical_data[target_variable]                 # numpy array\n",
    "X_train, X_test, y_train, y_test = train_test_split(X,y,test_size=0.2)"
   ]
  },
  {
   "cell_type": "code",
   "execution_count": 539,
   "metadata": {},
   "outputs": [
    {
     "data": {
      "text/plain": [
       "LinearRegression(copy_X=True, fit_intercept=True, n_jobs=None, normalize=False)"
      ]
     },
     "execution_count": 539,
     "metadata": {},
     "output_type": "execute_result"
    }
   ],
   "source": [
    "model = LinearRegression()\n",
    "model.fit(X=X_train, y=y_train)"
   ]
  },
  {
   "cell_type": "code",
   "execution_count": 540,
   "metadata": {},
   "outputs": [],
   "source": [
    "predictions = pd.DataFrame(model.predict(X_test))"
   ]
  },
  {
   "cell_type": "code",
   "execution_count": 541,
   "metadata": {},
   "outputs": [],
   "source": [
    "diff = pd.concat([numerical_data.decile_score, predictions], axis=1)"
   ]
  },
  {
   "cell_type": "code",
   "execution_count": 542,
   "metadata": {},
   "outputs": [
    {
     "data": {
      "text/html": [
       "<div>\n",
       "<style scoped>\n",
       "    .dataframe tbody tr th:only-of-type {\n",
       "        vertical-align: middle;\n",
       "    }\n",
       "\n",
       "    .dataframe tbody tr th {\n",
       "        vertical-align: top;\n",
       "    }\n",
       "\n",
       "    .dataframe thead th {\n",
       "        text-align: right;\n",
       "    }\n",
       "</style>\n",
       "<table border=\"1\" class=\"dataframe\">\n",
       "  <thead>\n",
       "    <tr style=\"text-align: right;\">\n",
       "      <th></th>\n",
       "      <th>decile_score</th>\n",
       "      <th>0</th>\n",
       "    </tr>\n",
       "  </thead>\n",
       "  <tbody>\n",
       "    <tr>\n",
       "      <th>0</th>\n",
       "      <td>1</td>\n",
       "      <td>2.820279</td>\n",
       "    </tr>\n",
       "    <tr>\n",
       "      <th>1</th>\n",
       "      <td>3</td>\n",
       "      <td>5.742403</td>\n",
       "    </tr>\n",
       "    <tr>\n",
       "      <th>2</th>\n",
       "      <td>4</td>\n",
       "      <td>3.920871</td>\n",
       "    </tr>\n",
       "    <tr>\n",
       "      <th>3</th>\n",
       "      <td>8</td>\n",
       "      <td>5.308025</td>\n",
       "    </tr>\n",
       "    <tr>\n",
       "      <th>4</th>\n",
       "      <td>1</td>\n",
       "      <td>3.168599</td>\n",
       "    </tr>\n",
       "  </tbody>\n",
       "</table>\n",
       "</div>"
      ],
      "text/plain": [
       "   decile_score         0\n",
       "0             1  2.820279\n",
       "1             3  5.742403\n",
       "2             4  3.920871\n",
       "3             8  5.308025\n",
       "4             1  3.168599"
      ]
     },
     "execution_count": 542,
     "metadata": {},
     "output_type": "execute_result"
    }
   ],
   "source": [
    "diff = pd.DataFrame(diff)\n",
    "diff.head()"
   ]
  },
  {
   "cell_type": "code",
   "execution_count": 543,
   "metadata": {},
   "outputs": [],
   "source": [
    "from sklearn import metrics"
   ]
  },
  {
   "cell_type": "code",
   "execution_count": 544,
   "metadata": {},
   "outputs": [
    {
     "name": "stdout",
     "output_type": "stream",
     "text": [
      "the Mean Absolute Error is 1.7150147089032444\n"
     ]
    }
   ],
   "source": [
    "mae = metrics.mean_absolute_error(y_test, predictions)\n",
    "print(f\"the Mean Absolute Error is {mae}\")"
   ]
  },
  {
   "cell_type": "code",
   "execution_count": 545,
   "metadata": {},
   "outputs": [
    {
     "data": {
      "text/plain": [
       "0.4475397692481312"
      ]
     },
     "execution_count": 545,
     "metadata": {},
     "output_type": "execute_result"
    }
   ],
   "source": [
    "model_r2 = metrics.r2_score(y_test, predictions)\n",
    "model_r2"
   ]
  },
  {
   "cell_type": "code",
   "execution_count": 546,
   "metadata": {},
   "outputs": [],
   "source": [
    "def linreg(independent_variables, target_variable):\n",
    "    X = numerical_data[independent_variables]  \n",
    "    y = numerical_data[target_variable]                 \n",
    "    X_train, X_test, y_train, y_test = train_test_split(X,y,test_size=0.2)\n",
    "    model.fit(X=X_train, y=y_train)\n",
    "    predictions = pd.DataFrame(model.predict(X_test))\n",
    "    mae = metrics.mean_absolute_error(y_test, predictions)\n",
    "    model_r2 = metrics.r2_score(y_test, predictions)\n",
    "    return (mae, model_r2)"
   ]
  },
  {
   "cell_type": "code",
   "execution_count": 547,
   "metadata": {},
   "outputs": [],
   "source": [
    "iv = [\"juv_fel_count\", \"juv_misd_count\", \"juv_other_count\", \"priors_count\"]\n",
    "iv2 = [\"is_male\",\"is_female\", \"Other\", \"African-American\", \"Caucasian\", \"Hispanic\",\"Native American\", \"Asian\"]\n",
    "iv3 = [\"juv_fel_count\", \"juv_misd_count\", \"juv_other_count\", \"priors_count\", \"is_male\",\"is_female\"]"
   ]
  },
  {
   "cell_type": "code",
   "execution_count": 548,
   "metadata": {},
   "outputs": [
    {
     "data": {
      "text/plain": [
       "(2.0917618430270895, 0.22134743266870682)"
      ]
     },
     "execution_count": 548,
     "metadata": {},
     "output_type": "execute_result"
    }
   ],
   "source": [
    "linreg(iv, target_variable)"
   ]
  },
  {
   "cell_type": "code",
   "execution_count": 549,
   "metadata": {},
   "outputs": [
    {
     "data": {
      "text/plain": [
       "(2.3361594767844767, 0.10301354350144132)"
      ]
     },
     "execution_count": 549,
     "metadata": {},
     "output_type": "execute_result"
    }
   ],
   "source": [
    "linreg(iv2, target_variable)"
   ]
  },
  {
   "cell_type": "code",
   "execution_count": 550,
   "metadata": {},
   "outputs": [
    {
     "data": {
      "text/plain": [
       "(2.119317737840487, 0.23141225528510623)"
      ]
     },
     "execution_count": 550,
     "metadata": {},
     "output_type": "execute_result"
    }
   ],
   "source": [
    "linreg(iv3, target_variable)"
   ]
  },
  {
   "cell_type": "markdown",
   "metadata": {},
   "source": [
    "# Years Between Offenses/Arrests"
   ]
  },
  {
   "cell_type": "code",
   "execution_count": 551,
   "metadata": {},
   "outputs": [
    {
     "name": "stdout",
     "output_type": "stream",
     "text": [
      "id                           int64\n",
      "name                        object\n",
      "first                       object\n",
      "last                        object\n",
      "compas_screening_date       object\n",
      "sex                         object\n",
      "dob                         object\n",
      "age                          int64\n",
      "age_cat                     object\n",
      "race                        object\n",
      "juv_fel_count                int64\n",
      "decile_score                 int64\n",
      "juv_misd_count               int64\n",
      "juv_other_count              int64\n",
      "priors_count                 int64\n",
      "days_b_screening_arrest    float64\n",
      "c_jail_in                   object\n",
      "c_jail_out                  object\n",
      "c_case_number               object\n",
      "c_offense_date              object\n",
      "c_arrest_date               object\n",
      "c_days_from_compas         float64\n",
      "c_charge_degree             object\n",
      "c_charge_desc               object\n",
      "is_recid                     int64\n",
      "r_case_number               object\n",
      "r_charge_degree             object\n",
      "r_days_from_arrest         float64\n",
      "r_offense_date              object\n",
      "r_charge_desc               object\n",
      "r_jail_in                   object\n",
      "r_jail_out                  object\n",
      "violent_recid              float64\n",
      "is_violent_recid             int64\n",
      "vr_case_number              object\n",
      "vr_charge_degree            object\n",
      "vr_offense_date             object\n",
      "vr_charge_desc              object\n",
      "type_of_assessment          object\n",
      "decile_score.1               int64\n",
      "score_text                  object\n",
      "screening_date              object\n",
      "v_type_of_assessment        object\n",
      "v_decile_score               int64\n",
      "v_score_text                object\n",
      "v_screening_date            object\n",
      "in_custody                  object\n",
      "out_custody                 object\n",
      "priors_count.1               int64\n",
      "start                        int64\n",
      "end                          int64\n",
      "event                        int64\n",
      "two_year_recid               int64\n",
      "dtype: object\n"
     ]
    }
   ],
   "source": [
    "#Remove columns\n",
    "colremove = ['id', 'name', 'first', 'last', 'compas_screening_date','dob','age_cat',\n",
    "             'days_b_screening_arrest', 'c_jail_in', 'c_jail_out', 'c_case_number',\n",
    "            'c_days_from_compas','r_case_number','r_charge_degree', 'r_days_from_arrest', \n",
    "             'r_charge_desc', 'r_jail_in', 'r_jail_out', 'vr_case_number', 'vr_charge_degree',\n",
    "        'vr_charge_desc', 'type_of_assessment','screening_date', 'v_type_of_assessment',\n",
    "             'v_screening_date', 'in_custody', 'out_custody','start', 'end', 'event',\n",
    "       'c_charge_degree', 'c_charge_desc', \"priors_count.1\", \"violent_recid\", 'juv_fel_count', \n",
    "            'juv_misd_count', 'juv_other_count', 'decile_score.1']\n",
    "compas0 = compas2\n",
    "print(compas0.dtypes)"
   ]
  },
  {
   "cell_type": "code",
   "execution_count": 552,
   "metadata": {},
   "outputs": [
    {
     "name": "stdout",
     "output_type": "stream",
     "text": [
      "Average # years between offenses:  0.8239751980709611\n",
      "Average # years between arrest and offense:  1.0746812386156648\n"
     ]
    }
   ],
   "source": [
    "#Extract years from offenses/arrests\n",
    "compas0['c_offense_date'] = pd.to_datetime(compas0['c_offense_date'], errors='coerce')\n",
    "compas0['c_offense_year'] = compas0['c_offense_date'].dt.strftime(\"%Y%m%d\").dropna().astype(int).apply(lambda x:x / 10000).apply(np.floor)\n",
    "\n",
    "compas0['c_arrest_date'] = pd.to_datetime(compas0['c_arrest_date'], errors='coerce')\n",
    "compas0['c_arrest_year'] = compas0['c_arrest_date'].dt.strftime(\"%Y%m%d\").dropna().astype(int).apply(lambda x:x/10000).apply(np.floor)\n",
    "\n",
    "compas0['r_offense_date'] = pd.to_datetime(compas0['r_offense_date'], errors='coerce')\n",
    "compas0['r_offense_year'] = compas0['r_offense_date'].dt.strftime(\"%Y%m%d\").dropna().astype(int).apply(lambda x:x/10000).apply(np.floor)\n",
    "\n",
    "#years between offenses = difference between c offense/arrest date minus r offense date\n",
    "compas0[\"y_since_offense\"] = compas0.r_offense_year - compas0.c_offense_year\n",
    "compas0[\"y_since_arrest\"] = compas0.r_offense_year - compas0.c_arrest_year\n",
    "print(\"Average # years between offenses: \", np.mean(compas0[\"y_since_offense\"]))\n",
    "print(\"Average # years between arrest and offense: \", np.mean(compas0[\"y_since_arrest\"]))"
   ]
  },
  {
   "cell_type": "code",
   "execution_count": 553,
   "metadata": {},
   "outputs": [
    {
     "data": {
      "text/html": [
       "<div>\n",
       "<style scoped>\n",
       "    .dataframe tbody tr th:only-of-type {\n",
       "        vertical-align: middle;\n",
       "    }\n",
       "\n",
       "    .dataframe tbody tr th {\n",
       "        vertical-align: top;\n",
       "    }\n",
       "\n",
       "    .dataframe thead th {\n",
       "        text-align: right;\n",
       "    }\n",
       "</style>\n",
       "<table border=\"1\" class=\"dataframe\">\n",
       "  <thead>\n",
       "    <tr style=\"text-align: right;\">\n",
       "      <th></th>\n",
       "      <th>id</th>\n",
       "      <th>name</th>\n",
       "      <th>first</th>\n",
       "      <th>last</th>\n",
       "      <th>compas_screening_date</th>\n",
       "      <th>sex</th>\n",
       "      <th>dob</th>\n",
       "      <th>age</th>\n",
       "      <th>age_cat</th>\n",
       "      <th>race</th>\n",
       "      <th>juv_fel_count</th>\n",
       "      <th>decile_score</th>\n",
       "      <th>juv_misd_count</th>\n",
       "      <th>juv_other_count</th>\n",
       "      <th>priors_count</th>\n",
       "      <th>days_b_screening_arrest</th>\n",
       "      <th>c_jail_in</th>\n",
       "      <th>c_jail_out</th>\n",
       "      <th>c_case_number</th>\n",
       "      <th>c_offense_date</th>\n",
       "      <th>c_arrest_date</th>\n",
       "      <th>c_days_from_compas</th>\n",
       "      <th>c_charge_degree</th>\n",
       "      <th>c_charge_desc</th>\n",
       "      <th>is_recid</th>\n",
       "      <th>r_case_number</th>\n",
       "      <th>r_charge_degree</th>\n",
       "      <th>r_days_from_arrest</th>\n",
       "      <th>r_offense_date</th>\n",
       "      <th>r_charge_desc</th>\n",
       "      <th>r_jail_in</th>\n",
       "      <th>r_jail_out</th>\n",
       "      <th>violent_recid</th>\n",
       "      <th>is_violent_recid</th>\n",
       "      <th>vr_case_number</th>\n",
       "      <th>vr_charge_degree</th>\n",
       "      <th>vr_offense_date</th>\n",
       "      <th>vr_charge_desc</th>\n",
       "      <th>type_of_assessment</th>\n",
       "      <th>decile_score.1</th>\n",
       "      <th>score_text</th>\n",
       "      <th>screening_date</th>\n",
       "      <th>v_type_of_assessment</th>\n",
       "      <th>v_decile_score</th>\n",
       "      <th>v_score_text</th>\n",
       "      <th>v_screening_date</th>\n",
       "      <th>in_custody</th>\n",
       "      <th>out_custody</th>\n",
       "      <th>priors_count.1</th>\n",
       "      <th>start</th>\n",
       "      <th>end</th>\n",
       "      <th>event</th>\n",
       "      <th>two_year_recid</th>\n",
       "      <th>c_offense_year</th>\n",
       "      <th>c_arrest_year</th>\n",
       "      <th>r_offense_year</th>\n",
       "      <th>y_since_offense</th>\n",
       "      <th>y_since_arrest</th>\n",
       "    </tr>\n",
       "  </thead>\n",
       "  <tbody>\n",
       "    <tr>\n",
       "      <th>0</th>\n",
       "      <td>1</td>\n",
       "      <td>miguel hernandez</td>\n",
       "      <td>miguel</td>\n",
       "      <td>hernandez</td>\n",
       "      <td>2013-08-14</td>\n",
       "      <td>Male</td>\n",
       "      <td>1947-04-18</td>\n",
       "      <td>69</td>\n",
       "      <td>Greater than 45</td>\n",
       "      <td>Other</td>\n",
       "      <td>0</td>\n",
       "      <td>1</td>\n",
       "      <td>0</td>\n",
       "      <td>0</td>\n",
       "      <td>0</td>\n",
       "      <td>-1.0</td>\n",
       "      <td>2013-08-13 06:03:42</td>\n",
       "      <td>2013-08-14 05:41:20</td>\n",
       "      <td>13011352CF10A</td>\n",
       "      <td>2013-08-13</td>\n",
       "      <td>NaT</td>\n",
       "      <td>1.0</td>\n",
       "      <td>F</td>\n",
       "      <td>Aggravated Assault w/Firearm</td>\n",
       "      <td>0</td>\n",
       "      <td>NaN</td>\n",
       "      <td>NaN</td>\n",
       "      <td>NaN</td>\n",
       "      <td>NaT</td>\n",
       "      <td>NaN</td>\n",
       "      <td>NaN</td>\n",
       "      <td>NaN</td>\n",
       "      <td>NaN</td>\n",
       "      <td>0</td>\n",
       "      <td>NaN</td>\n",
       "      <td>NaN</td>\n",
       "      <td>NaN</td>\n",
       "      <td>NaN</td>\n",
       "      <td>Risk of Recidivism</td>\n",
       "      <td>1</td>\n",
       "      <td>Low</td>\n",
       "      <td>2013-08-14</td>\n",
       "      <td>Risk of Violence</td>\n",
       "      <td>1</td>\n",
       "      <td>Low</td>\n",
       "      <td>2013-08-14</td>\n",
       "      <td>2014-07-07</td>\n",
       "      <td>2014-07-14</td>\n",
       "      <td>0</td>\n",
       "      <td>0</td>\n",
       "      <td>327</td>\n",
       "      <td>0</td>\n",
       "      <td>0</td>\n",
       "      <td>2013.0</td>\n",
       "      <td>NaN</td>\n",
       "      <td>NaN</td>\n",
       "      <td>NaN</td>\n",
       "      <td>NaN</td>\n",
       "    </tr>\n",
       "    <tr>\n",
       "      <th>1</th>\n",
       "      <td>3</td>\n",
       "      <td>kevon dixon</td>\n",
       "      <td>kevon</td>\n",
       "      <td>dixon</td>\n",
       "      <td>2013-01-27</td>\n",
       "      <td>Male</td>\n",
       "      <td>1982-01-22</td>\n",
       "      <td>34</td>\n",
       "      <td>25 - 45</td>\n",
       "      <td>African-American</td>\n",
       "      <td>0</td>\n",
       "      <td>3</td>\n",
       "      <td>0</td>\n",
       "      <td>0</td>\n",
       "      <td>0</td>\n",
       "      <td>-1.0</td>\n",
       "      <td>2013-01-26 03:45:27</td>\n",
       "      <td>2013-02-05 05:36:53</td>\n",
       "      <td>13001275CF10A</td>\n",
       "      <td>2013-01-26</td>\n",
       "      <td>NaT</td>\n",
       "      <td>1.0</td>\n",
       "      <td>F</td>\n",
       "      <td>Felony Battery w/Prior Convict</td>\n",
       "      <td>1</td>\n",
       "      <td>13009779CF10A</td>\n",
       "      <td>(F3)</td>\n",
       "      <td>NaN</td>\n",
       "      <td>2013-07-05</td>\n",
       "      <td>Felony Battery (Dom Strang)</td>\n",
       "      <td>NaN</td>\n",
       "      <td>NaN</td>\n",
       "      <td>NaN</td>\n",
       "      <td>1</td>\n",
       "      <td>13009779CF10A</td>\n",
       "      <td>(F3)</td>\n",
       "      <td>2013-07-05</td>\n",
       "      <td>Felony Battery (Dom Strang)</td>\n",
       "      <td>Risk of Recidivism</td>\n",
       "      <td>3</td>\n",
       "      <td>Low</td>\n",
       "      <td>2013-01-27</td>\n",
       "      <td>Risk of Violence</td>\n",
       "      <td>1</td>\n",
       "      <td>Low</td>\n",
       "      <td>2013-01-27</td>\n",
       "      <td>2013-01-26</td>\n",
       "      <td>2013-02-05</td>\n",
       "      <td>0</td>\n",
       "      <td>9</td>\n",
       "      <td>159</td>\n",
       "      <td>1</td>\n",
       "      <td>1</td>\n",
       "      <td>2013.0</td>\n",
       "      <td>NaN</td>\n",
       "      <td>2013.0</td>\n",
       "      <td>0.0</td>\n",
       "      <td>NaN</td>\n",
       "    </tr>\n",
       "    <tr>\n",
       "      <th>2</th>\n",
       "      <td>4</td>\n",
       "      <td>ed philo</td>\n",
       "      <td>ed</td>\n",
       "      <td>philo</td>\n",
       "      <td>2013-04-14</td>\n",
       "      <td>Male</td>\n",
       "      <td>1991-05-14</td>\n",
       "      <td>24</td>\n",
       "      <td>Less than 25</td>\n",
       "      <td>African-American</td>\n",
       "      <td>0</td>\n",
       "      <td>4</td>\n",
       "      <td>0</td>\n",
       "      <td>1</td>\n",
       "      <td>4</td>\n",
       "      <td>-1.0</td>\n",
       "      <td>2013-04-13 04:58:34</td>\n",
       "      <td>2013-04-14 07:02:04</td>\n",
       "      <td>13005330CF10A</td>\n",
       "      <td>2013-04-13</td>\n",
       "      <td>NaT</td>\n",
       "      <td>1.0</td>\n",
       "      <td>F</td>\n",
       "      <td>Possession of Cocaine</td>\n",
       "      <td>1</td>\n",
       "      <td>13011511MM10A</td>\n",
       "      <td>(M1)</td>\n",
       "      <td>0.0</td>\n",
       "      <td>2013-06-16</td>\n",
       "      <td>Driving Under The Influence</td>\n",
       "      <td>2013-06-16</td>\n",
       "      <td>2013-06-16</td>\n",
       "      <td>NaN</td>\n",
       "      <td>0</td>\n",
       "      <td>NaN</td>\n",
       "      <td>NaN</td>\n",
       "      <td>NaN</td>\n",
       "      <td>NaN</td>\n",
       "      <td>Risk of Recidivism</td>\n",
       "      <td>4</td>\n",
       "      <td>Low</td>\n",
       "      <td>2013-04-14</td>\n",
       "      <td>Risk of Violence</td>\n",
       "      <td>3</td>\n",
       "      <td>Low</td>\n",
       "      <td>2013-04-14</td>\n",
       "      <td>2013-06-16</td>\n",
       "      <td>2013-06-16</td>\n",
       "      <td>4</td>\n",
       "      <td>0</td>\n",
       "      <td>63</td>\n",
       "      <td>0</td>\n",
       "      <td>1</td>\n",
       "      <td>2013.0</td>\n",
       "      <td>NaN</td>\n",
       "      <td>2013.0</td>\n",
       "      <td>0.0</td>\n",
       "      <td>NaN</td>\n",
       "    </tr>\n",
       "    <tr>\n",
       "      <th>3</th>\n",
       "      <td>5</td>\n",
       "      <td>marcu brown</td>\n",
       "      <td>marcu</td>\n",
       "      <td>brown</td>\n",
       "      <td>2013-01-13</td>\n",
       "      <td>Male</td>\n",
       "      <td>1993-01-21</td>\n",
       "      <td>23</td>\n",
       "      <td>Less than 25</td>\n",
       "      <td>African-American</td>\n",
       "      <td>0</td>\n",
       "      <td>8</td>\n",
       "      <td>1</td>\n",
       "      <td>0</td>\n",
       "      <td>1</td>\n",
       "      <td>NaN</td>\n",
       "      <td>NaN</td>\n",
       "      <td>NaN</td>\n",
       "      <td>13000570CF10A</td>\n",
       "      <td>2013-01-12</td>\n",
       "      <td>NaT</td>\n",
       "      <td>1.0</td>\n",
       "      <td>F</td>\n",
       "      <td>Possession of Cannabis</td>\n",
       "      <td>0</td>\n",
       "      <td>NaN</td>\n",
       "      <td>NaN</td>\n",
       "      <td>NaN</td>\n",
       "      <td>NaT</td>\n",
       "      <td>NaN</td>\n",
       "      <td>NaN</td>\n",
       "      <td>NaN</td>\n",
       "      <td>NaN</td>\n",
       "      <td>0</td>\n",
       "      <td>NaN</td>\n",
       "      <td>NaN</td>\n",
       "      <td>NaN</td>\n",
       "      <td>NaN</td>\n",
       "      <td>Risk of Recidivism</td>\n",
       "      <td>8</td>\n",
       "      <td>High</td>\n",
       "      <td>2013-01-13</td>\n",
       "      <td>Risk of Violence</td>\n",
       "      <td>6</td>\n",
       "      <td>Medium</td>\n",
       "      <td>2013-01-13</td>\n",
       "      <td>NaN</td>\n",
       "      <td>NaN</td>\n",
       "      <td>1</td>\n",
       "      <td>0</td>\n",
       "      <td>1174</td>\n",
       "      <td>0</td>\n",
       "      <td>0</td>\n",
       "      <td>2013.0</td>\n",
       "      <td>NaN</td>\n",
       "      <td>NaN</td>\n",
       "      <td>NaN</td>\n",
       "      <td>NaN</td>\n",
       "    </tr>\n",
       "    <tr>\n",
       "      <th>4</th>\n",
       "      <td>6</td>\n",
       "      <td>bouthy pierrelouis</td>\n",
       "      <td>bouthy</td>\n",
       "      <td>pierrelouis</td>\n",
       "      <td>2013-03-26</td>\n",
       "      <td>Male</td>\n",
       "      <td>1973-01-22</td>\n",
       "      <td>43</td>\n",
       "      <td>25 - 45</td>\n",
       "      <td>Other</td>\n",
       "      <td>0</td>\n",
       "      <td>1</td>\n",
       "      <td>0</td>\n",
       "      <td>0</td>\n",
       "      <td>2</td>\n",
       "      <td>NaN</td>\n",
       "      <td>NaN</td>\n",
       "      <td>NaN</td>\n",
       "      <td>12014130CF10A</td>\n",
       "      <td>NaT</td>\n",
       "      <td>2013-01-09</td>\n",
       "      <td>76.0</td>\n",
       "      <td>F</td>\n",
       "      <td>arrest case no charge</td>\n",
       "      <td>0</td>\n",
       "      <td>NaN</td>\n",
       "      <td>NaN</td>\n",
       "      <td>NaN</td>\n",
       "      <td>NaT</td>\n",
       "      <td>NaN</td>\n",
       "      <td>NaN</td>\n",
       "      <td>NaN</td>\n",
       "      <td>NaN</td>\n",
       "      <td>0</td>\n",
       "      <td>NaN</td>\n",
       "      <td>NaN</td>\n",
       "      <td>NaN</td>\n",
       "      <td>NaN</td>\n",
       "      <td>Risk of Recidivism</td>\n",
       "      <td>1</td>\n",
       "      <td>Low</td>\n",
       "      <td>2013-03-26</td>\n",
       "      <td>Risk of Violence</td>\n",
       "      <td>1</td>\n",
       "      <td>Low</td>\n",
       "      <td>2013-03-26</td>\n",
       "      <td>NaN</td>\n",
       "      <td>NaN</td>\n",
       "      <td>2</td>\n",
       "      <td>0</td>\n",
       "      <td>1102</td>\n",
       "      <td>0</td>\n",
       "      <td>0</td>\n",
       "      <td>NaN</td>\n",
       "      <td>2013.0</td>\n",
       "      <td>NaN</td>\n",
       "      <td>NaN</td>\n",
       "      <td>NaN</td>\n",
       "    </tr>\n",
       "  </tbody>\n",
       "</table>\n",
       "</div>"
      ],
      "text/plain": [
       "   id                name   first         last compas_screening_date   sex  \\\n",
       "0   1    miguel hernandez  miguel    hernandez            2013-08-14  Male   \n",
       "1   3         kevon dixon   kevon        dixon            2013-01-27  Male   \n",
       "2   4            ed philo      ed        philo            2013-04-14  Male   \n",
       "3   5         marcu brown   marcu        brown            2013-01-13  Male   \n",
       "4   6  bouthy pierrelouis  bouthy  pierrelouis            2013-03-26  Male   \n",
       "\n",
       "          dob  age          age_cat              race  juv_fel_count  \\\n",
       "0  1947-04-18   69  Greater than 45             Other              0   \n",
       "1  1982-01-22   34          25 - 45  African-American              0   \n",
       "2  1991-05-14   24     Less than 25  African-American              0   \n",
       "3  1993-01-21   23     Less than 25  African-American              0   \n",
       "4  1973-01-22   43          25 - 45             Other              0   \n",
       "\n",
       "   decile_score  juv_misd_count  juv_other_count  priors_count  \\\n",
       "0             1               0                0             0   \n",
       "1             3               0                0             0   \n",
       "2             4               0                1             4   \n",
       "3             8               1                0             1   \n",
       "4             1               0                0             2   \n",
       "\n",
       "   days_b_screening_arrest            c_jail_in           c_jail_out  \\\n",
       "0                     -1.0  2013-08-13 06:03:42  2013-08-14 05:41:20   \n",
       "1                     -1.0  2013-01-26 03:45:27  2013-02-05 05:36:53   \n",
       "2                     -1.0  2013-04-13 04:58:34  2013-04-14 07:02:04   \n",
       "3                      NaN                  NaN                  NaN   \n",
       "4                      NaN                  NaN                  NaN   \n",
       "\n",
       "   c_case_number c_offense_date c_arrest_date  c_days_from_compas  \\\n",
       "0  13011352CF10A     2013-08-13           NaT                 1.0   \n",
       "1  13001275CF10A     2013-01-26           NaT                 1.0   \n",
       "2  13005330CF10A     2013-04-13           NaT                 1.0   \n",
       "3  13000570CF10A     2013-01-12           NaT                 1.0   \n",
       "4  12014130CF10A            NaT    2013-01-09                76.0   \n",
       "\n",
       "  c_charge_degree                   c_charge_desc  is_recid  r_case_number  \\\n",
       "0               F    Aggravated Assault w/Firearm         0            NaN   \n",
       "1               F  Felony Battery w/Prior Convict         1  13009779CF10A   \n",
       "2               F           Possession of Cocaine         1  13011511MM10A   \n",
       "3               F          Possession of Cannabis         0            NaN   \n",
       "4               F           arrest case no charge         0            NaN   \n",
       "\n",
       "  r_charge_degree  r_days_from_arrest r_offense_date  \\\n",
       "0             NaN                 NaN            NaT   \n",
       "1            (F3)                 NaN     2013-07-05   \n",
       "2            (M1)                 0.0     2013-06-16   \n",
       "3             NaN                 NaN            NaT   \n",
       "4             NaN                 NaN            NaT   \n",
       "\n",
       "                 r_charge_desc   r_jail_in  r_jail_out  violent_recid  \\\n",
       "0                          NaN         NaN         NaN            NaN   \n",
       "1  Felony Battery (Dom Strang)         NaN         NaN            NaN   \n",
       "2  Driving Under The Influence  2013-06-16  2013-06-16            NaN   \n",
       "3                          NaN         NaN         NaN            NaN   \n",
       "4                          NaN         NaN         NaN            NaN   \n",
       "\n",
       "   is_violent_recid vr_case_number vr_charge_degree vr_offense_date  \\\n",
       "0                 0            NaN              NaN             NaN   \n",
       "1                 1  13009779CF10A             (F3)      2013-07-05   \n",
       "2                 0            NaN              NaN             NaN   \n",
       "3                 0            NaN              NaN             NaN   \n",
       "4                 0            NaN              NaN             NaN   \n",
       "\n",
       "                vr_charge_desc  type_of_assessment  decile_score.1 score_text  \\\n",
       "0                          NaN  Risk of Recidivism               1        Low   \n",
       "1  Felony Battery (Dom Strang)  Risk of Recidivism               3        Low   \n",
       "2                          NaN  Risk of Recidivism               4        Low   \n",
       "3                          NaN  Risk of Recidivism               8       High   \n",
       "4                          NaN  Risk of Recidivism               1        Low   \n",
       "\n",
       "  screening_date v_type_of_assessment  v_decile_score v_score_text  \\\n",
       "0     2013-08-14     Risk of Violence               1          Low   \n",
       "1     2013-01-27     Risk of Violence               1          Low   \n",
       "2     2013-04-14     Risk of Violence               3          Low   \n",
       "3     2013-01-13     Risk of Violence               6       Medium   \n",
       "4     2013-03-26     Risk of Violence               1          Low   \n",
       "\n",
       "  v_screening_date  in_custody out_custody  priors_count.1  start   end  \\\n",
       "0       2013-08-14  2014-07-07  2014-07-14               0      0   327   \n",
       "1       2013-01-27  2013-01-26  2013-02-05               0      9   159   \n",
       "2       2013-04-14  2013-06-16  2013-06-16               4      0    63   \n",
       "3       2013-01-13         NaN         NaN               1      0  1174   \n",
       "4       2013-03-26         NaN         NaN               2      0  1102   \n",
       "\n",
       "   event  two_year_recid  c_offense_year  c_arrest_year  r_offense_year  \\\n",
       "0      0               0          2013.0            NaN             NaN   \n",
       "1      1               1          2013.0            NaN          2013.0   \n",
       "2      0               1          2013.0            NaN          2013.0   \n",
       "3      0               0          2013.0            NaN             NaN   \n",
       "4      0               0             NaN         2013.0             NaN   \n",
       "\n",
       "   y_since_offense  y_since_arrest  \n",
       "0              NaN             NaN  \n",
       "1              0.0             NaN  \n",
       "2              0.0             NaN  \n",
       "3              NaN             NaN  \n",
       "4              NaN             NaN  "
      ]
     },
     "execution_count": 553,
     "metadata": {},
     "output_type": "execute_result"
    },
    {
     "data": {
      "image/png": "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\n",
      "text/plain": [
       "<Figure size 360x360 with 1 Axes>"
      ]
     },
     "metadata": {
      "needs_background": "light"
     },
     "output_type": "display_data"
    },
    {
     "data": {
      "image/png": "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\n",
      "text/plain": [
       "<Figure size 360x360 with 2 Axes>"
      ]
     },
     "metadata": {
      "needs_background": "light"
     },
     "output_type": "display_data"
    }
   ],
   "source": [
    "compas9 = compas0.drop(colremove, axis=1)\n",
    "sinceOffense = sns.relplot(x=\"decile_score\", y=\"y_since_offense\", data=compas9)\n",
    "sinceArrest = sns.relplot(x=\"decile_score\", y=\"y_since_arrest\", data=compas9)\n",
    "\n",
    "sns.heatmap(compas0.select_dtypes([int,float]).corr())\n",
    "compas0.head()\n"
   ]
  },
  {
   "cell_type": "code",
   "execution_count": 554,
   "metadata": {},
   "outputs": [
    {
     "data": {
      "text/plain": [
       "<seaborn.axisgrid.FacetGrid at 0x7fd66fbef190>"
      ]
     },
     "execution_count": 554,
     "metadata": {},
     "output_type": "execute_result"
    },
    {
     "data": {
      "image/png": "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\n",
      "text/plain": [
       "<Figure size 425.925x360 with 1 Axes>"
      ]
     },
     "metadata": {
      "needs_background": "light"
     },
     "output_type": "display_data"
    }
   ],
   "source": [
    "sns.catplot(x=\"y_since_arrest\", y=\"priors_count\", hue=\"decile_score\", data=compas9, kind=\"strip\", \n",
    "            jitter=False, color='navy', dodge=True)"
   ]
  },
  {
   "cell_type": "code",
   "execution_count": 555,
   "metadata": {},
   "outputs": [
    {
     "data": {
      "text/plain": [
       "<seaborn.axisgrid.FacetGrid at 0x7fd671d81ed0>"
      ]
     },
     "execution_count": 555,
     "metadata": {},
     "output_type": "execute_result"
    },
    {
     "data": {
      "image/png": "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\n",
      "text/plain": [
       "<Figure size 436.675x360 with 1 Axes>"
      ]
     },
     "metadata": {
      "needs_background": "light"
     },
     "output_type": "display_data"
    }
   ],
   "source": [
    "sns.catplot(x=\"y_since_arrest\", y=\"priors_count\", hue=\"v_decile_score\", data=compas9, kind=\"strip\", \n",
    "            jitter=False, color='green', dodge=True)"
   ]
  },
  {
   "cell_type": "code",
   "execution_count": 556,
   "metadata": {},
   "outputs": [
    {
     "data": {
      "text/html": [
       "<div>\n",
       "<style scoped>\n",
       "    .dataframe tbody tr th:only-of-type {\n",
       "        vertical-align: middle;\n",
       "    }\n",
       "\n",
       "    .dataframe tbody tr th {\n",
       "        vertical-align: top;\n",
       "    }\n",
       "\n",
       "    .dataframe thead th {\n",
       "        text-align: right;\n",
       "    }\n",
       "</style>\n",
       "<table border=\"1\" class=\"dataframe\">\n",
       "  <thead>\n",
       "    <tr style=\"text-align: right;\">\n",
       "      <th></th>\n",
       "      <th>age</th>\n",
       "      <th>decile_score</th>\n",
       "      <th>priors_count</th>\n",
       "      <th>is_recid</th>\n",
       "      <th>is_violent_recid</th>\n",
       "      <th>v_decile_score</th>\n",
       "      <th>two_year_recid</th>\n",
       "      <th>y_since_offense</th>\n",
       "      <th>y_since_arrest</th>\n",
       "      <th>sex_Female</th>\n",
       "      <th>sex_Male</th>\n",
       "      <th>race_African-American</th>\n",
       "      <th>race_Asian</th>\n",
       "      <th>race_Caucasian</th>\n",
       "      <th>race_Hispanic</th>\n",
       "      <th>race_Native American</th>\n",
       "      <th>race_Other</th>\n",
       "      <th>score_text_High</th>\n",
       "      <th>score_text_Low</th>\n",
       "      <th>score_text_Medium</th>\n",
       "      <th>v_score_text_High</th>\n",
       "      <th>v_score_text_Low</th>\n",
       "      <th>v_score_text_Medium</th>\n",
       "    </tr>\n",
       "  </thead>\n",
       "  <tbody>\n",
       "    <tr>\n",
       "      <th>1</th>\n",
       "      <td>34</td>\n",
       "      <td>3</td>\n",
       "      <td>0</td>\n",
       "      <td>1</td>\n",
       "      <td>1</td>\n",
       "      <td>1</td>\n",
       "      <td>1</td>\n",
       "      <td>0.0</td>\n",
       "      <td>0.0</td>\n",
       "      <td>0</td>\n",
       "      <td>1</td>\n",
       "      <td>1</td>\n",
       "      <td>0</td>\n",
       "      <td>0</td>\n",
       "      <td>0</td>\n",
       "      <td>0</td>\n",
       "      <td>0</td>\n",
       "      <td>0</td>\n",
       "      <td>1</td>\n",
       "      <td>0</td>\n",
       "      <td>0</td>\n",
       "      <td>1</td>\n",
       "      <td>0</td>\n",
       "    </tr>\n",
       "    <tr>\n",
       "      <th>2</th>\n",
       "      <td>24</td>\n",
       "      <td>4</td>\n",
       "      <td>4</td>\n",
       "      <td>1</td>\n",
       "      <td>0</td>\n",
       "      <td>3</td>\n",
       "      <td>1</td>\n",
       "      <td>0.0</td>\n",
       "      <td>0.0</td>\n",
       "      <td>0</td>\n",
       "      <td>1</td>\n",
       "      <td>1</td>\n",
       "      <td>0</td>\n",
       "      <td>0</td>\n",
       "      <td>0</td>\n",
       "      <td>0</td>\n",
       "      <td>0</td>\n",
       "      <td>0</td>\n",
       "      <td>1</td>\n",
       "      <td>0</td>\n",
       "      <td>0</td>\n",
       "      <td>1</td>\n",
       "      <td>0</td>\n",
       "    </tr>\n",
       "    <tr>\n",
       "      <th>6</th>\n",
       "      <td>41</td>\n",
       "      <td>6</td>\n",
       "      <td>14</td>\n",
       "      <td>1</td>\n",
       "      <td>0</td>\n",
       "      <td>2</td>\n",
       "      <td>1</td>\n",
       "      <td>0.0</td>\n",
       "      <td>0.0</td>\n",
       "      <td>0</td>\n",
       "      <td>1</td>\n",
       "      <td>0</td>\n",
       "      <td>0</td>\n",
       "      <td>1</td>\n",
       "      <td>0</td>\n",
       "      <td>0</td>\n",
       "      <td>0</td>\n",
       "      <td>0</td>\n",
       "      <td>0</td>\n",
       "      <td>1</td>\n",
       "      <td>0</td>\n",
       "      <td>1</td>\n",
       "      <td>0</td>\n",
       "    </tr>\n",
       "    <tr>\n",
       "      <th>9</th>\n",
       "      <td>21</td>\n",
       "      <td>3</td>\n",
       "      <td>1</td>\n",
       "      <td>1</td>\n",
       "      <td>1</td>\n",
       "      <td>5</td>\n",
       "      <td>1</td>\n",
       "      <td>3.0</td>\n",
       "      <td>0.0</td>\n",
       "      <td>0</td>\n",
       "      <td>1</td>\n",
       "      <td>0</td>\n",
       "      <td>0</td>\n",
       "      <td>1</td>\n",
       "      <td>0</td>\n",
       "      <td>0</td>\n",
       "      <td>0</td>\n",
       "      <td>0</td>\n",
       "      <td>1</td>\n",
       "      <td>0</td>\n",
       "      <td>0</td>\n",
       "      <td>0</td>\n",
       "      <td>1</td>\n",
       "    </tr>\n",
       "    <tr>\n",
       "      <th>11</th>\n",
       "      <td>23</td>\n",
       "      <td>6</td>\n",
       "      <td>3</td>\n",
       "      <td>1</td>\n",
       "      <td>0</td>\n",
       "      <td>4</td>\n",
       "      <td>1</td>\n",
       "      <td>1.0</td>\n",
       "      <td>0.0</td>\n",
       "      <td>0</td>\n",
       "      <td>1</td>\n",
       "      <td>1</td>\n",
       "      <td>0</td>\n",
       "      <td>0</td>\n",
       "      <td>0</td>\n",
       "      <td>0</td>\n",
       "      <td>0</td>\n",
       "      <td>0</td>\n",
       "      <td>0</td>\n",
       "      <td>1</td>\n",
       "      <td>0</td>\n",
       "      <td>1</td>\n",
       "      <td>0</td>\n",
       "    </tr>\n",
       "    <tr>\n",
       "      <th>14</th>\n",
       "      <td>47</td>\n",
       "      <td>1</td>\n",
       "      <td>1</td>\n",
       "      <td>1</td>\n",
       "      <td>0</td>\n",
       "      <td>1</td>\n",
       "      <td>1</td>\n",
       "      <td>0.0</td>\n",
       "      <td>2.0</td>\n",
       "      <td>1</td>\n",
       "      <td>0</td>\n",
       "      <td>0</td>\n",
       "      <td>0</td>\n",
       "      <td>1</td>\n",
       "      <td>0</td>\n",
       "      <td>0</td>\n",
       "      <td>0</td>\n",
       "      <td>0</td>\n",
       "      <td>1</td>\n",
       "      <td>0</td>\n",
       "      <td>0</td>\n",
       "      <td>1</td>\n",
       "      <td>0</td>\n",
       "    </tr>\n",
       "    <tr>\n",
       "      <th>15</th>\n",
       "      <td>31</td>\n",
       "      <td>3</td>\n",
       "      <td>7</td>\n",
       "      <td>1</td>\n",
       "      <td>0</td>\n",
       "      <td>2</td>\n",
       "      <td>1</td>\n",
       "      <td>0.0</td>\n",
       "      <td>0.0</td>\n",
       "      <td>0</td>\n",
       "      <td>1</td>\n",
       "      <td>1</td>\n",
       "      <td>0</td>\n",
       "      <td>0</td>\n",
       "      <td>0</td>\n",
       "      <td>0</td>\n",
       "      <td>0</td>\n",
       "      <td>0</td>\n",
       "      <td>1</td>\n",
       "      <td>0</td>\n",
       "      <td>0</td>\n",
       "      <td>1</td>\n",
       "      <td>0</td>\n",
       "    </tr>\n",
       "    <tr>\n",
       "      <th>18</th>\n",
       "      <td>31</td>\n",
       "      <td>5</td>\n",
       "      <td>6</td>\n",
       "      <td>1</td>\n",
       "      <td>1</td>\n",
       "      <td>4</td>\n",
       "      <td>1</td>\n",
       "      <td>1.0</td>\n",
       "      <td>0.0</td>\n",
       "      <td>0</td>\n",
       "      <td>1</td>\n",
       "      <td>0</td>\n",
       "      <td>0</td>\n",
       "      <td>1</td>\n",
       "      <td>0</td>\n",
       "      <td>0</td>\n",
       "      <td>0</td>\n",
       "      <td>0</td>\n",
       "      <td>0</td>\n",
       "      <td>1</td>\n",
       "      <td>0</td>\n",
       "      <td>1</td>\n",
       "      <td>0</td>\n",
       "    </tr>\n",
       "    <tr>\n",
       "      <th>19</th>\n",
       "      <td>31</td>\n",
       "      <td>3</td>\n",
       "      <td>5</td>\n",
       "      <td>1</td>\n",
       "      <td>0</td>\n",
       "      <td>2</td>\n",
       "      <td>1</td>\n",
       "      <td>1.0</td>\n",
       "      <td>0.0</td>\n",
       "      <td>0</td>\n",
       "      <td>1</td>\n",
       "      <td>0</td>\n",
       "      <td>0</td>\n",
       "      <td>1</td>\n",
       "      <td>0</td>\n",
       "      <td>0</td>\n",
       "      <td>0</td>\n",
       "      <td>0</td>\n",
       "      <td>1</td>\n",
       "      <td>0</td>\n",
       "      <td>0</td>\n",
       "      <td>1</td>\n",
       "      <td>0</td>\n",
       "    </tr>\n",
       "    <tr>\n",
       "      <th>20</th>\n",
       "      <td>64</td>\n",
       "      <td>6</td>\n",
       "      <td>13</td>\n",
       "      <td>1</td>\n",
       "      <td>0</td>\n",
       "      <td>3</td>\n",
       "      <td>1</td>\n",
       "      <td>0.0</td>\n",
       "      <td>0.0</td>\n",
       "      <td>0</td>\n",
       "      <td>1</td>\n",
       "      <td>1</td>\n",
       "      <td>0</td>\n",
       "      <td>0</td>\n",
       "      <td>0</td>\n",
       "      <td>0</td>\n",
       "      <td>0</td>\n",
       "      <td>0</td>\n",
       "      <td>0</td>\n",
       "      <td>1</td>\n",
       "      <td>0</td>\n",
       "      <td>1</td>\n",
       "      <td>0</td>\n",
       "    </tr>\n",
       "    <tr>\n",
       "      <th>21</th>\n",
       "      <td>21</td>\n",
       "      <td>9</td>\n",
       "      <td>1</td>\n",
       "      <td>1</td>\n",
       "      <td>0</td>\n",
       "      <td>9</td>\n",
       "      <td>1</td>\n",
       "      <td>0.0</td>\n",
       "      <td>0.0</td>\n",
       "      <td>0</td>\n",
       "      <td>1</td>\n",
       "      <td>1</td>\n",
       "      <td>0</td>\n",
       "      <td>0</td>\n",
       "      <td>0</td>\n",
       "      <td>0</td>\n",
       "      <td>0</td>\n",
       "      <td>1</td>\n",
       "      <td>0</td>\n",
       "      <td>0</td>\n",
       "      <td>1</td>\n",
       "      <td>0</td>\n",
       "      <td>0</td>\n",
       "    </tr>\n",
       "    <tr>\n",
       "      <th>22</th>\n",
       "      <td>27</td>\n",
       "      <td>2</td>\n",
       "      <td>0</td>\n",
       "      <td>1</td>\n",
       "      <td>0</td>\n",
       "      <td>3</td>\n",
       "      <td>1</td>\n",
       "      <td>1.0</td>\n",
       "      <td>0.0</td>\n",
       "      <td>0</td>\n",
       "      <td>1</td>\n",
       "      <td>0</td>\n",
       "      <td>0</td>\n",
       "      <td>1</td>\n",
       "      <td>0</td>\n",
       "      <td>0</td>\n",
       "      <td>0</td>\n",
       "      <td>0</td>\n",
       "      <td>1</td>\n",
       "      <td>0</td>\n",
       "      <td>0</td>\n",
       "      <td>1</td>\n",
       "      <td>0</td>\n",
       "    </tr>\n",
       "    <tr>\n",
       "      <th>24</th>\n",
       "      <td>24</td>\n",
       "      <td>4</td>\n",
       "      <td>1</td>\n",
       "      <td>1</td>\n",
       "      <td>0</td>\n",
       "      <td>5</td>\n",
       "      <td>1</td>\n",
       "      <td>1.0</td>\n",
       "      <td>0.0</td>\n",
       "      <td>0</td>\n",
       "      <td>1</td>\n",
       "      <td>0</td>\n",
       "      <td>0</td>\n",
       "      <td>0</td>\n",
       "      <td>1</td>\n",
       "      <td>0</td>\n",
       "      <td>0</td>\n",
       "      <td>0</td>\n",
       "      <td>1</td>\n",
       "      <td>0</td>\n",
       "      <td>0</td>\n",
       "      <td>0</td>\n",
       "      <td>1</td>\n",
       "    </tr>\n",
       "    <tr>\n",
       "      <th>27</th>\n",
       "      <td>27</td>\n",
       "      <td>3</td>\n",
       "      <td>8</td>\n",
       "      <td>1</td>\n",
       "      <td>1</td>\n",
       "      <td>3</td>\n",
       "      <td>1</td>\n",
       "      <td>0.0</td>\n",
       "      <td>0.0</td>\n",
       "      <td>0</td>\n",
       "      <td>1</td>\n",
       "      <td>1</td>\n",
       "      <td>0</td>\n",
       "      <td>0</td>\n",
       "      <td>0</td>\n",
       "      <td>0</td>\n",
       "      <td>0</td>\n",
       "      <td>0</td>\n",
       "      <td>1</td>\n",
       "      <td>0</td>\n",
       "      <td>0</td>\n",
       "      <td>1</td>\n",
       "      <td>0</td>\n",
       "    </tr>\n",
       "    <tr>\n",
       "      <th>29</th>\n",
       "      <td>26</td>\n",
       "      <td>7</td>\n",
       "      <td>5</td>\n",
       "      <td>1</td>\n",
       "      <td>0</td>\n",
       "      <td>7</td>\n",
       "      <td>1</td>\n",
       "      <td>1.0</td>\n",
       "      <td>0.0</td>\n",
       "      <td>0</td>\n",
       "      <td>1</td>\n",
       "      <td>1</td>\n",
       "      <td>0</td>\n",
       "      <td>0</td>\n",
       "      <td>0</td>\n",
       "      <td>0</td>\n",
       "      <td>0</td>\n",
       "      <td>0</td>\n",
       "      <td>0</td>\n",
       "      <td>1</td>\n",
       "      <td>0</td>\n",
       "      <td>0</td>\n",
       "      <td>1</td>\n",
       "    </tr>\n",
       "    <tr>\n",
       "      <th>30</th>\n",
       "      <td>33</td>\n",
       "      <td>10</td>\n",
       "      <td>0</td>\n",
       "      <td>1</td>\n",
       "      <td>1</td>\n",
       "      <td>6</td>\n",
       "      <td>1</td>\n",
       "      <td>1.0</td>\n",
       "      <td>0.0</td>\n",
       "      <td>0</td>\n",
       "      <td>1</td>\n",
       "      <td>1</td>\n",
       "      <td>0</td>\n",
       "      <td>0</td>\n",
       "      <td>0</td>\n",
       "      <td>0</td>\n",
       "      <td>0</td>\n",
       "      <td>1</td>\n",
       "      <td>0</td>\n",
       "      <td>0</td>\n",
       "      <td>0</td>\n",
       "      <td>0</td>\n",
       "      <td>1</td>\n",
       "    </tr>\n",
       "    <tr>\n",
       "      <th>31</th>\n",
       "      <td>30</td>\n",
       "      <td>9</td>\n",
       "      <td>9</td>\n",
       "      <td>1</td>\n",
       "      <td>0</td>\n",
       "      <td>10</td>\n",
       "      <td>1</td>\n",
       "      <td>0.0</td>\n",
       "      <td>0.0</td>\n",
       "      <td>0</td>\n",
       "      <td>1</td>\n",
       "      <td>0</td>\n",
       "      <td>0</td>\n",
       "      <td>1</td>\n",
       "      <td>0</td>\n",
       "      <td>0</td>\n",
       "      <td>0</td>\n",
       "      <td>1</td>\n",
       "      <td>0</td>\n",
       "      <td>0</td>\n",
       "      <td>1</td>\n",
       "      <td>0</td>\n",
       "      <td>0</td>\n",
       "    </tr>\n",
       "    <tr>\n",
       "      <th>32</th>\n",
       "      <td>32</td>\n",
       "      <td>8</td>\n",
       "      <td>4</td>\n",
       "      <td>1</td>\n",
       "      <td>0</td>\n",
       "      <td>3</td>\n",
       "      <td>1</td>\n",
       "      <td>0.0</td>\n",
       "      <td>0.0</td>\n",
       "      <td>0</td>\n",
       "      <td>1</td>\n",
       "      <td>1</td>\n",
       "      <td>0</td>\n",
       "      <td>0</td>\n",
       "      <td>0</td>\n",
       "      <td>0</td>\n",
       "      <td>0</td>\n",
       "      <td>1</td>\n",
       "      <td>0</td>\n",
       "      <td>0</td>\n",
       "      <td>0</td>\n",
       "      <td>1</td>\n",
       "      <td>0</td>\n",
       "    </tr>\n",
       "    <tr>\n",
       "      <th>34</th>\n",
       "      <td>49</td>\n",
       "      <td>3</td>\n",
       "      <td>7</td>\n",
       "      <td>1</td>\n",
       "      <td>0</td>\n",
       "      <td>2</td>\n",
       "      <td>1</td>\n",
       "      <td>2.0</td>\n",
       "      <td>0.0</td>\n",
       "      <td>0</td>\n",
       "      <td>1</td>\n",
       "      <td>0</td>\n",
       "      <td>0</td>\n",
       "      <td>0</td>\n",
       "      <td>0</td>\n",
       "      <td>0</td>\n",
       "      <td>1</td>\n",
       "      <td>0</td>\n",
       "      <td>1</td>\n",
       "      <td>0</td>\n",
       "      <td>0</td>\n",
       "      <td>1</td>\n",
       "      <td>0</td>\n",
       "    </tr>\n",
       "    <tr>\n",
       "      <th>36</th>\n",
       "      <td>33</td>\n",
       "      <td>5</td>\n",
       "      <td>4</td>\n",
       "      <td>1</td>\n",
       "      <td>0</td>\n",
       "      <td>2</td>\n",
       "      <td>1</td>\n",
       "      <td>1.0</td>\n",
       "      <td>0.0</td>\n",
       "      <td>1</td>\n",
       "      <td>0</td>\n",
       "      <td>0</td>\n",
       "      <td>0</td>\n",
       "      <td>1</td>\n",
       "      <td>0</td>\n",
       "      <td>0</td>\n",
       "      <td>0</td>\n",
       "      <td>0</td>\n",
       "      <td>0</td>\n",
       "      <td>1</td>\n",
       "      <td>0</td>\n",
       "      <td>1</td>\n",
       "      <td>0</td>\n",
       "    </tr>\n",
       "    <tr>\n",
       "      <th>37</th>\n",
       "      <td>24</td>\n",
       "      <td>2</td>\n",
       "      <td>1</td>\n",
       "      <td>1</td>\n",
       "      <td>0</td>\n",
       "      <td>3</td>\n",
       "      <td>1</td>\n",
       "      <td>1.0</td>\n",
       "      <td>0.0</td>\n",
       "      <td>0</td>\n",
       "      <td>1</td>\n",
       "      <td>0</td>\n",
       "      <td>0</td>\n",
       "      <td>1</td>\n",
       "      <td>0</td>\n",
       "      <td>0</td>\n",
       "      <td>0</td>\n",
       "      <td>0</td>\n",
       "      <td>1</td>\n",
       "      <td>0</td>\n",
       "      <td>0</td>\n",
       "      <td>1</td>\n",
       "      <td>0</td>\n",
       "    </tr>\n",
       "    <tr>\n",
       "      <th>38</th>\n",
       "      <td>34</td>\n",
       "      <td>9</td>\n",
       "      <td>21</td>\n",
       "      <td>1</td>\n",
       "      <td>0</td>\n",
       "      <td>6</td>\n",
       "      <td>1</td>\n",
       "      <td>1.0</td>\n",
       "      <td>0.0</td>\n",
       "      <td>0</td>\n",
       "      <td>1</td>\n",
       "      <td>1</td>\n",
       "      <td>0</td>\n",
       "      <td>0</td>\n",
       "      <td>0</td>\n",
       "      <td>0</td>\n",
       "      <td>0</td>\n",
       "      <td>1</td>\n",
       "      <td>0</td>\n",
       "      <td>0</td>\n",
       "      <td>0</td>\n",
       "      <td>0</td>\n",
       "      <td>1</td>\n",
       "    </tr>\n",
       "    <tr>\n",
       "      <th>42</th>\n",
       "      <td>29</td>\n",
       "      <td>2</td>\n",
       "      <td>2</td>\n",
       "      <td>1</td>\n",
       "      <td>0</td>\n",
       "      <td>2</td>\n",
       "      <td>1</td>\n",
       "      <td>0.0</td>\n",
       "      <td>0.0</td>\n",
       "      <td>0</td>\n",
       "      <td>1</td>\n",
       "      <td>0</td>\n",
       "      <td>0</td>\n",
       "      <td>1</td>\n",
       "      <td>0</td>\n",
       "      <td>0</td>\n",
       "      <td>0</td>\n",
       "      <td>0</td>\n",
       "      <td>1</td>\n",
       "      <td>0</td>\n",
       "      <td>0</td>\n",
       "      <td>1</td>\n",
       "      <td>0</td>\n",
       "    </tr>\n",
       "    <tr>\n",
       "      <th>44</th>\n",
       "      <td>29</td>\n",
       "      <td>7</td>\n",
       "      <td>0</td>\n",
       "      <td>1</td>\n",
       "      <td>0</td>\n",
       "      <td>2</td>\n",
       "      <td>1</td>\n",
       "      <td>0.0</td>\n",
       "      <td>0.0</td>\n",
       "      <td>0</td>\n",
       "      <td>1</td>\n",
       "      <td>1</td>\n",
       "      <td>0</td>\n",
       "      <td>0</td>\n",
       "      <td>0</td>\n",
       "      <td>0</td>\n",
       "      <td>0</td>\n",
       "      <td>0</td>\n",
       "      <td>0</td>\n",
       "      <td>1</td>\n",
       "      <td>0</td>\n",
       "      <td>1</td>\n",
       "      <td>0</td>\n",
       "    </tr>\n",
       "    <tr>\n",
       "      <th>45</th>\n",
       "      <td>25</td>\n",
       "      <td>10</td>\n",
       "      <td>9</td>\n",
       "      <td>1</td>\n",
       "      <td>1</td>\n",
       "      <td>9</td>\n",
       "      <td>1</td>\n",
       "      <td>0.0</td>\n",
       "      <td>0.0</td>\n",
       "      <td>0</td>\n",
       "      <td>1</td>\n",
       "      <td>0</td>\n",
       "      <td>0</td>\n",
       "      <td>1</td>\n",
       "      <td>0</td>\n",
       "      <td>0</td>\n",
       "      <td>0</td>\n",
       "      <td>1</td>\n",
       "      <td>0</td>\n",
       "      <td>0</td>\n",
       "      <td>1</td>\n",
       "      <td>0</td>\n",
       "      <td>0</td>\n",
       "    </tr>\n",
       "    <tr>\n",
       "      <th>46</th>\n",
       "      <td>35</td>\n",
       "      <td>8</td>\n",
       "      <td>13</td>\n",
       "      <td>1</td>\n",
       "      <td>1</td>\n",
       "      <td>3</td>\n",
       "      <td>1</td>\n",
       "      <td>0.0</td>\n",
       "      <td>0.0</td>\n",
       "      <td>0</td>\n",
       "      <td>1</td>\n",
       "      <td>1</td>\n",
       "      <td>0</td>\n",
       "      <td>0</td>\n",
       "      <td>0</td>\n",
       "      <td>0</td>\n",
       "      <td>0</td>\n",
       "      <td>1</td>\n",
       "      <td>0</td>\n",
       "      <td>0</td>\n",
       "      <td>0</td>\n",
       "      <td>1</td>\n",
       "      <td>0</td>\n",
       "    </tr>\n",
       "    <tr>\n",
       "      <th>48</th>\n",
       "      <td>34</td>\n",
       "      <td>3</td>\n",
       "      <td>4</td>\n",
       "      <td>1</td>\n",
       "      <td>0</td>\n",
       "      <td>2</td>\n",
       "      <td>1</td>\n",
       "      <td>1.0</td>\n",
       "      <td>0.0</td>\n",
       "      <td>0</td>\n",
       "      <td>1</td>\n",
       "      <td>1</td>\n",
       "      <td>0</td>\n",
       "      <td>0</td>\n",
       "      <td>0</td>\n",
       "      <td>0</td>\n",
       "      <td>0</td>\n",
       "      <td>0</td>\n",
       "      <td>1</td>\n",
       "      <td>0</td>\n",
       "      <td>0</td>\n",
       "      <td>1</td>\n",
       "      <td>0</td>\n",
       "    </tr>\n",
       "    <tr>\n",
       "      <th>50</th>\n",
       "      <td>29</td>\n",
       "      <td>2</td>\n",
       "      <td>1</td>\n",
       "      <td>1</td>\n",
       "      <td>0</td>\n",
       "      <td>2</td>\n",
       "      <td>1</td>\n",
       "      <td>1.0</td>\n",
       "      <td>0.0</td>\n",
       "      <td>0</td>\n",
       "      <td>1</td>\n",
       "      <td>0</td>\n",
       "      <td>0</td>\n",
       "      <td>1</td>\n",
       "      <td>0</td>\n",
       "      <td>0</td>\n",
       "      <td>0</td>\n",
       "      <td>0</td>\n",
       "      <td>1</td>\n",
       "      <td>0</td>\n",
       "      <td>0</td>\n",
       "      <td>1</td>\n",
       "      <td>0</td>\n",
       "    </tr>\n",
       "    <tr>\n",
       "      <th>52</th>\n",
       "      <td>48</td>\n",
       "      <td>6</td>\n",
       "      <td>20</td>\n",
       "      <td>1</td>\n",
       "      <td>0</td>\n",
       "      <td>4</td>\n",
       "      <td>1</td>\n",
       "      <td>0.0</td>\n",
       "      <td>3.0</td>\n",
       "      <td>0</td>\n",
       "      <td>1</td>\n",
       "      <td>0</td>\n",
       "      <td>0</td>\n",
       "      <td>1</td>\n",
       "      <td>0</td>\n",
       "      <td>0</td>\n",
       "      <td>0</td>\n",
       "      <td>0</td>\n",
       "      <td>0</td>\n",
       "      <td>1</td>\n",
       "      <td>0</td>\n",
       "      <td>1</td>\n",
       "      <td>0</td>\n",
       "    </tr>\n",
       "    <tr>\n",
       "      <th>54</th>\n",
       "      <td>31</td>\n",
       "      <td>5</td>\n",
       "      <td>15</td>\n",
       "      <td>1</td>\n",
       "      <td>0</td>\n",
       "      <td>7</td>\n",
       "      <td>0</td>\n",
       "      <td>3.0</td>\n",
       "      <td>0.0</td>\n",
       "      <td>0</td>\n",
       "      <td>1</td>\n",
       "      <td>1</td>\n",
       "      <td>0</td>\n",
       "      <td>0</td>\n",
       "      <td>0</td>\n",
       "      <td>0</td>\n",
       "      <td>0</td>\n",
       "      <td>0</td>\n",
       "      <td>0</td>\n",
       "      <td>1</td>\n",
       "      <td>0</td>\n",
       "      <td>0</td>\n",
       "      <td>1</td>\n",
       "    </tr>\n",
       "    <tr>\n",
       "      <th>55</th>\n",
       "      <td>24</td>\n",
       "      <td>4</td>\n",
       "      <td>2</td>\n",
       "      <td>1</td>\n",
       "      <td>0</td>\n",
       "      <td>4</td>\n",
       "      <td>1</td>\n",
       "      <td>2.0</td>\n",
       "      <td>0.0</td>\n",
       "      <td>0</td>\n",
       "      <td>1</td>\n",
       "      <td>1</td>\n",
       "      <td>0</td>\n",
       "      <td>0</td>\n",
       "      <td>0</td>\n",
       "      <td>0</td>\n",
       "      <td>0</td>\n",
       "      <td>0</td>\n",
       "      <td>1</td>\n",
       "      <td>0</td>\n",
       "      <td>0</td>\n",
       "      <td>1</td>\n",
       "      <td>0</td>\n",
       "    </tr>\n",
       "    <tr>\n",
       "      <th>60</th>\n",
       "      <td>63</td>\n",
       "      <td>7</td>\n",
       "      <td>10</td>\n",
       "      <td>1</td>\n",
       "      <td>0</td>\n",
       "      <td>5</td>\n",
       "      <td>1</td>\n",
       "      <td>3.0</td>\n",
       "      <td>0.0</td>\n",
       "      <td>0</td>\n",
       "      <td>1</td>\n",
       "      <td>1</td>\n",
       "      <td>0</td>\n",
       "      <td>0</td>\n",
       "      <td>0</td>\n",
       "      <td>0</td>\n",
       "      <td>0</td>\n",
       "      <td>0</td>\n",
       "      <td>0</td>\n",
       "      <td>1</td>\n",
       "      <td>0</td>\n",
       "      <td>0</td>\n",
       "      <td>1</td>\n",
       "    </tr>\n",
       "    <tr>\n",
       "      <th>61</th>\n",
       "      <td>27</td>\n",
       "      <td>10</td>\n",
       "      <td>15</td>\n",
       "      <td>1</td>\n",
       "      <td>0</td>\n",
       "      <td>9</td>\n",
       "      <td>1</td>\n",
       "      <td>0.0</td>\n",
       "      <td>0.0</td>\n",
       "      <td>0</td>\n",
       "      <td>1</td>\n",
       "      <td>1</td>\n",
       "      <td>0</td>\n",
       "      <td>0</td>\n",
       "      <td>0</td>\n",
       "      <td>0</td>\n",
       "      <td>0</td>\n",
       "      <td>1</td>\n",
       "      <td>0</td>\n",
       "      <td>0</td>\n",
       "      <td>1</td>\n",
       "      <td>0</td>\n",
       "      <td>0</td>\n",
       "    </tr>\n",
       "    <tr>\n",
       "      <th>62</th>\n",
       "      <td>38</td>\n",
       "      <td>2</td>\n",
       "      <td>4</td>\n",
       "      <td>1</td>\n",
       "      <td>0</td>\n",
       "      <td>2</td>\n",
       "      <td>1</td>\n",
       "      <td>0.0</td>\n",
       "      <td>0.0</td>\n",
       "      <td>0</td>\n",
       "      <td>1</td>\n",
       "      <td>0</td>\n",
       "      <td>0</td>\n",
       "      <td>1</td>\n",
       "      <td>0</td>\n",
       "      <td>0</td>\n",
       "      <td>0</td>\n",
       "      <td>0</td>\n",
       "      <td>1</td>\n",
       "      <td>0</td>\n",
       "      <td>0</td>\n",
       "      <td>1</td>\n",
       "      <td>0</td>\n",
       "    </tr>\n",
       "    <tr>\n",
       "      <th>63</th>\n",
       "      <td>22</td>\n",
       "      <td>4</td>\n",
       "      <td>1</td>\n",
       "      <td>1</td>\n",
       "      <td>0</td>\n",
       "      <td>6</td>\n",
       "      <td>1</td>\n",
       "      <td>1.0</td>\n",
       "      <td>0.0</td>\n",
       "      <td>0</td>\n",
       "      <td>1</td>\n",
       "      <td>1</td>\n",
       "      <td>0</td>\n",
       "      <td>0</td>\n",
       "      <td>0</td>\n",
       "      <td>0</td>\n",
       "      <td>0</td>\n",
       "      <td>0</td>\n",
       "      <td>1</td>\n",
       "      <td>0</td>\n",
       "      <td>0</td>\n",
       "      <td>0</td>\n",
       "      <td>1</td>\n",
       "    </tr>\n",
       "    <tr>\n",
       "      <th>64</th>\n",
       "      <td>22</td>\n",
       "      <td>10</td>\n",
       "      <td>2</td>\n",
       "      <td>1</td>\n",
       "      <td>0</td>\n",
       "      <td>9</td>\n",
       "      <td>1</td>\n",
       "      <td>3.0</td>\n",
       "      <td>0.0</td>\n",
       "      <td>0</td>\n",
       "      <td>1</td>\n",
       "      <td>1</td>\n",
       "      <td>0</td>\n",
       "      <td>0</td>\n",
       "      <td>0</td>\n",
       "      <td>0</td>\n",
       "      <td>0</td>\n",
       "      <td>1</td>\n",
       "      <td>0</td>\n",
       "      <td>0</td>\n",
       "      <td>1</td>\n",
       "      <td>0</td>\n",
       "      <td>0</td>\n",
       "    </tr>\n",
       "    <tr>\n",
       "      <th>65</th>\n",
       "      <td>29</td>\n",
       "      <td>9</td>\n",
       "      <td>4</td>\n",
       "      <td>1</td>\n",
       "      <td>0</td>\n",
       "      <td>5</td>\n",
       "      <td>1</td>\n",
       "      <td>0.0</td>\n",
       "      <td>0.0</td>\n",
       "      <td>0</td>\n",
       "      <td>1</td>\n",
       "      <td>1</td>\n",
       "      <td>0</td>\n",
       "      <td>0</td>\n",
       "      <td>0</td>\n",
       "      <td>0</td>\n",
       "      <td>0</td>\n",
       "      <td>1</td>\n",
       "      <td>0</td>\n",
       "      <td>0</td>\n",
       "      <td>0</td>\n",
       "      <td>0</td>\n",
       "      <td>1</td>\n",
       "    </tr>\n",
       "    <tr>\n",
       "      <th>67</th>\n",
       "      <td>27</td>\n",
       "      <td>6</td>\n",
       "      <td>6</td>\n",
       "      <td>1</td>\n",
       "      <td>0</td>\n",
       "      <td>3</td>\n",
       "      <td>1</td>\n",
       "      <td>0.0</td>\n",
       "      <td>0.0</td>\n",
       "      <td>0</td>\n",
       "      <td>1</td>\n",
       "      <td>1</td>\n",
       "      <td>0</td>\n",
       "      <td>0</td>\n",
       "      <td>0</td>\n",
       "      <td>0</td>\n",
       "      <td>0</td>\n",
       "      <td>0</td>\n",
       "      <td>0</td>\n",
       "      <td>1</td>\n",
       "      <td>0</td>\n",
       "      <td>1</td>\n",
       "      <td>0</td>\n",
       "    </tr>\n",
       "    <tr>\n",
       "      <th>70</th>\n",
       "      <td>45</td>\n",
       "      <td>1</td>\n",
       "      <td>6</td>\n",
       "      <td>1</td>\n",
       "      <td>1</td>\n",
       "      <td>1</td>\n",
       "      <td>1</td>\n",
       "      <td>0.0</td>\n",
       "      <td>0.0</td>\n",
       "      <td>0</td>\n",
       "      <td>1</td>\n",
       "      <td>0</td>\n",
       "      <td>0</td>\n",
       "      <td>0</td>\n",
       "      <td>1</td>\n",
       "      <td>0</td>\n",
       "      <td>0</td>\n",
       "      <td>0</td>\n",
       "      <td>1</td>\n",
       "      <td>0</td>\n",
       "      <td>0</td>\n",
       "      <td>1</td>\n",
       "      <td>0</td>\n",
       "    </tr>\n",
       "    <tr>\n",
       "      <th>73</th>\n",
       "      <td>29</td>\n",
       "      <td>6</td>\n",
       "      <td>5</td>\n",
       "      <td>1</td>\n",
       "      <td>0</td>\n",
       "      <td>3</td>\n",
       "      <td>1</td>\n",
       "      <td>0.0</td>\n",
       "      <td>0.0</td>\n",
       "      <td>0</td>\n",
       "      <td>1</td>\n",
       "      <td>1</td>\n",
       "      <td>0</td>\n",
       "      <td>0</td>\n",
       "      <td>0</td>\n",
       "      <td>0</td>\n",
       "      <td>0</td>\n",
       "      <td>0</td>\n",
       "      <td>0</td>\n",
       "      <td>1</td>\n",
       "      <td>0</td>\n",
       "      <td>1</td>\n",
       "      <td>0</td>\n",
       "    </tr>\n",
       "    <tr>\n",
       "      <th>74</th>\n",
       "      <td>27</td>\n",
       "      <td>6</td>\n",
       "      <td>1</td>\n",
       "      <td>1</td>\n",
       "      <td>0</td>\n",
       "      <td>3</td>\n",
       "      <td>1</td>\n",
       "      <td>0.0</td>\n",
       "      <td>1.0</td>\n",
       "      <td>0</td>\n",
       "      <td>1</td>\n",
       "      <td>0</td>\n",
       "      <td>0</td>\n",
       "      <td>1</td>\n",
       "      <td>0</td>\n",
       "      <td>0</td>\n",
       "      <td>0</td>\n",
       "      <td>0</td>\n",
       "      <td>0</td>\n",
       "      <td>1</td>\n",
       "      <td>0</td>\n",
       "      <td>1</td>\n",
       "      <td>0</td>\n",
       "    </tr>\n",
       "    <tr>\n",
       "      <th>76</th>\n",
       "      <td>22</td>\n",
       "      <td>3</td>\n",
       "      <td>1</td>\n",
       "      <td>1</td>\n",
       "      <td>0</td>\n",
       "      <td>3</td>\n",
       "      <td>1</td>\n",
       "      <td>1.0</td>\n",
       "      <td>0.0</td>\n",
       "      <td>0</td>\n",
       "      <td>1</td>\n",
       "      <td>1</td>\n",
       "      <td>0</td>\n",
       "      <td>0</td>\n",
       "      <td>0</td>\n",
       "      <td>0</td>\n",
       "      <td>0</td>\n",
       "      <td>0</td>\n",
       "      <td>1</td>\n",
       "      <td>0</td>\n",
       "      <td>0</td>\n",
       "      <td>1</td>\n",
       "      <td>0</td>\n",
       "    </tr>\n",
       "    <tr>\n",
       "      <th>78</th>\n",
       "      <td>26</td>\n",
       "      <td>4</td>\n",
       "      <td>1</td>\n",
       "      <td>1</td>\n",
       "      <td>1</td>\n",
       "      <td>3</td>\n",
       "      <td>1</td>\n",
       "      <td>0.0</td>\n",
       "      <td>0.0</td>\n",
       "      <td>1</td>\n",
       "      <td>0</td>\n",
       "      <td>1</td>\n",
       "      <td>0</td>\n",
       "      <td>0</td>\n",
       "      <td>0</td>\n",
       "      <td>0</td>\n",
       "      <td>0</td>\n",
       "      <td>0</td>\n",
       "      <td>1</td>\n",
       "      <td>0</td>\n",
       "      <td>0</td>\n",
       "      <td>1</td>\n",
       "      <td>0</td>\n",
       "    </tr>\n",
       "    <tr>\n",
       "      <th>79</th>\n",
       "      <td>27</td>\n",
       "      <td>7</td>\n",
       "      <td>1</td>\n",
       "      <td>1</td>\n",
       "      <td>1</td>\n",
       "      <td>8</td>\n",
       "      <td>1</td>\n",
       "      <td>1.0</td>\n",
       "      <td>0.0</td>\n",
       "      <td>0</td>\n",
       "      <td>1</td>\n",
       "      <td>0</td>\n",
       "      <td>0</td>\n",
       "      <td>1</td>\n",
       "      <td>0</td>\n",
       "      <td>0</td>\n",
       "      <td>0</td>\n",
       "      <td>0</td>\n",
       "      <td>0</td>\n",
       "      <td>1</td>\n",
       "      <td>1</td>\n",
       "      <td>0</td>\n",
       "      <td>0</td>\n",
       "    </tr>\n",
       "    <tr>\n",
       "      <th>82</th>\n",
       "      <td>30</td>\n",
       "      <td>10</td>\n",
       "      <td>8</td>\n",
       "      <td>1</td>\n",
       "      <td>1</td>\n",
       "      <td>9</td>\n",
       "      <td>1</td>\n",
       "      <td>0.0</td>\n",
       "      <td>0.0</td>\n",
       "      <td>0</td>\n",
       "      <td>1</td>\n",
       "      <td>1</td>\n",
       "      <td>0</td>\n",
       "      <td>0</td>\n",
       "      <td>0</td>\n",
       "      <td>0</td>\n",
       "      <td>0</td>\n",
       "      <td>1</td>\n",
       "      <td>0</td>\n",
       "      <td>0</td>\n",
       "      <td>1</td>\n",
       "      <td>0</td>\n",
       "      <td>0</td>\n",
       "    </tr>\n",
       "    <tr>\n",
       "      <th>83</th>\n",
       "      <td>50</td>\n",
       "      <td>1</td>\n",
       "      <td>0</td>\n",
       "      <td>1</td>\n",
       "      <td>0</td>\n",
       "      <td>2</td>\n",
       "      <td>1</td>\n",
       "      <td>0.0</td>\n",
       "      <td>1.0</td>\n",
       "      <td>0</td>\n",
       "      <td>1</td>\n",
       "      <td>0</td>\n",
       "      <td>0</td>\n",
       "      <td>0</td>\n",
       "      <td>0</td>\n",
       "      <td>0</td>\n",
       "      <td>1</td>\n",
       "      <td>0</td>\n",
       "      <td>1</td>\n",
       "      <td>0</td>\n",
       "      <td>0</td>\n",
       "      <td>1</td>\n",
       "      <td>0</td>\n",
       "    </tr>\n",
       "    <tr>\n",
       "      <th>84</th>\n",
       "      <td>25</td>\n",
       "      <td>10</td>\n",
       "      <td>14</td>\n",
       "      <td>1</td>\n",
       "      <td>1</td>\n",
       "      <td>10</td>\n",
       "      <td>1</td>\n",
       "      <td>0.0</td>\n",
       "      <td>0.0</td>\n",
       "      <td>0</td>\n",
       "      <td>1</td>\n",
       "      <td>1</td>\n",
       "      <td>0</td>\n",
       "      <td>0</td>\n",
       "      <td>0</td>\n",
       "      <td>0</td>\n",
       "      <td>0</td>\n",
       "      <td>1</td>\n",
       "      <td>0</td>\n",
       "      <td>0</td>\n",
       "      <td>1</td>\n",
       "      <td>0</td>\n",
       "      <td>0</td>\n",
       "    </tr>\n",
       "    <tr>\n",
       "      <th>85</th>\n",
       "      <td>20</td>\n",
       "      <td>5</td>\n",
       "      <td>0</td>\n",
       "      <td>1</td>\n",
       "      <td>1</td>\n",
       "      <td>8</td>\n",
       "      <td>1</td>\n",
       "      <td>1.0</td>\n",
       "      <td>0.0</td>\n",
       "      <td>0</td>\n",
       "      <td>1</td>\n",
       "      <td>0</td>\n",
       "      <td>0</td>\n",
       "      <td>0</td>\n",
       "      <td>0</td>\n",
       "      <td>0</td>\n",
       "      <td>1</td>\n",
       "      <td>0</td>\n",
       "      <td>0</td>\n",
       "      <td>1</td>\n",
       "      <td>1</td>\n",
       "      <td>0</td>\n",
       "      <td>0</td>\n",
       "    </tr>\n",
       "    <tr>\n",
       "      <th>86</th>\n",
       "      <td>22</td>\n",
       "      <td>9</td>\n",
       "      <td>2</td>\n",
       "      <td>1</td>\n",
       "      <td>0</td>\n",
       "      <td>10</td>\n",
       "      <td>1</td>\n",
       "      <td>0.0</td>\n",
       "      <td>0.0</td>\n",
       "      <td>0</td>\n",
       "      <td>1</td>\n",
       "      <td>1</td>\n",
       "      <td>0</td>\n",
       "      <td>0</td>\n",
       "      <td>0</td>\n",
       "      <td>0</td>\n",
       "      <td>0</td>\n",
       "      <td>1</td>\n",
       "      <td>0</td>\n",
       "      <td>0</td>\n",
       "      <td>1</td>\n",
       "      <td>0</td>\n",
       "      <td>0</td>\n",
       "    </tr>\n",
       "    <tr>\n",
       "      <th>87</th>\n",
       "      <td>23</td>\n",
       "      <td>7</td>\n",
       "      <td>2</td>\n",
       "      <td>1</td>\n",
       "      <td>0</td>\n",
       "      <td>8</td>\n",
       "      <td>1</td>\n",
       "      <td>0.0</td>\n",
       "      <td>1.0</td>\n",
       "      <td>0</td>\n",
       "      <td>1</td>\n",
       "      <td>1</td>\n",
       "      <td>0</td>\n",
       "      <td>0</td>\n",
       "      <td>0</td>\n",
       "      <td>0</td>\n",
       "      <td>0</td>\n",
       "      <td>0</td>\n",
       "      <td>0</td>\n",
       "      <td>1</td>\n",
       "      <td>1</td>\n",
       "      <td>0</td>\n",
       "      <td>0</td>\n",
       "    </tr>\n",
       "  </tbody>\n",
       "</table>\n",
       "</div>"
      ],
      "text/plain": [
       "    age  decile_score  priors_count  is_recid  is_violent_recid  \\\n",
       "1    34             3             0         1                 1   \n",
       "2    24             4             4         1                 0   \n",
       "6    41             6            14         1                 0   \n",
       "9    21             3             1         1                 1   \n",
       "11   23             6             3         1                 0   \n",
       "14   47             1             1         1                 0   \n",
       "15   31             3             7         1                 0   \n",
       "18   31             5             6         1                 1   \n",
       "19   31             3             5         1                 0   \n",
       "20   64             6            13         1                 0   \n",
       "21   21             9             1         1                 0   \n",
       "22   27             2             0         1                 0   \n",
       "24   24             4             1         1                 0   \n",
       "27   27             3             8         1                 1   \n",
       "29   26             7             5         1                 0   \n",
       "30   33            10             0         1                 1   \n",
       "31   30             9             9         1                 0   \n",
       "32   32             8             4         1                 0   \n",
       "34   49             3             7         1                 0   \n",
       "36   33             5             4         1                 0   \n",
       "37   24             2             1         1                 0   \n",
       "38   34             9            21         1                 0   \n",
       "42   29             2             2         1                 0   \n",
       "44   29             7             0         1                 0   \n",
       "45   25            10             9         1                 1   \n",
       "46   35             8            13         1                 1   \n",
       "48   34             3             4         1                 0   \n",
       "50   29             2             1         1                 0   \n",
       "52   48             6            20         1                 0   \n",
       "54   31             5            15         1                 0   \n",
       "55   24             4             2         1                 0   \n",
       "60   63             7            10         1                 0   \n",
       "61   27            10            15         1                 0   \n",
       "62   38             2             4         1                 0   \n",
       "63   22             4             1         1                 0   \n",
       "64   22            10             2         1                 0   \n",
       "65   29             9             4         1                 0   \n",
       "67   27             6             6         1                 0   \n",
       "70   45             1             6         1                 1   \n",
       "73   29             6             5         1                 0   \n",
       "74   27             6             1         1                 0   \n",
       "76   22             3             1         1                 0   \n",
       "78   26             4             1         1                 1   \n",
       "79   27             7             1         1                 1   \n",
       "82   30            10             8         1                 1   \n",
       "83   50             1             0         1                 0   \n",
       "84   25            10            14         1                 1   \n",
       "85   20             5             0         1                 1   \n",
       "86   22             9             2         1                 0   \n",
       "87   23             7             2         1                 0   \n",
       "\n",
       "    v_decile_score  two_year_recid  y_since_offense  y_since_arrest  \\\n",
       "1                1               1              0.0             0.0   \n",
       "2                3               1              0.0             0.0   \n",
       "6                2               1              0.0             0.0   \n",
       "9                5               1              3.0             0.0   \n",
       "11               4               1              1.0             0.0   \n",
       "14               1               1              0.0             2.0   \n",
       "15               2               1              0.0             0.0   \n",
       "18               4               1              1.0             0.0   \n",
       "19               2               1              1.0             0.0   \n",
       "20               3               1              0.0             0.0   \n",
       "21               9               1              0.0             0.0   \n",
       "22               3               1              1.0             0.0   \n",
       "24               5               1              1.0             0.0   \n",
       "27               3               1              0.0             0.0   \n",
       "29               7               1              1.0             0.0   \n",
       "30               6               1              1.0             0.0   \n",
       "31              10               1              0.0             0.0   \n",
       "32               3               1              0.0             0.0   \n",
       "34               2               1              2.0             0.0   \n",
       "36               2               1              1.0             0.0   \n",
       "37               3               1              1.0             0.0   \n",
       "38               6               1              1.0             0.0   \n",
       "42               2               1              0.0             0.0   \n",
       "44               2               1              0.0             0.0   \n",
       "45               9               1              0.0             0.0   \n",
       "46               3               1              0.0             0.0   \n",
       "48               2               1              1.0             0.0   \n",
       "50               2               1              1.0             0.0   \n",
       "52               4               1              0.0             3.0   \n",
       "54               7               0              3.0             0.0   \n",
       "55               4               1              2.0             0.0   \n",
       "60               5               1              3.0             0.0   \n",
       "61               9               1              0.0             0.0   \n",
       "62               2               1              0.0             0.0   \n",
       "63               6               1              1.0             0.0   \n",
       "64               9               1              3.0             0.0   \n",
       "65               5               1              0.0             0.0   \n",
       "67               3               1              0.0             0.0   \n",
       "70               1               1              0.0             0.0   \n",
       "73               3               1              0.0             0.0   \n",
       "74               3               1              0.0             1.0   \n",
       "76               3               1              1.0             0.0   \n",
       "78               3               1              0.0             0.0   \n",
       "79               8               1              1.0             0.0   \n",
       "82               9               1              0.0             0.0   \n",
       "83               2               1              0.0             1.0   \n",
       "84              10               1              0.0             0.0   \n",
       "85               8               1              1.0             0.0   \n",
       "86              10               1              0.0             0.0   \n",
       "87               8               1              0.0             1.0   \n",
       "\n",
       "    sex_Female  sex_Male  race_African-American  race_Asian  race_Caucasian  \\\n",
       "1            0         1                      1           0               0   \n",
       "2            0         1                      1           0               0   \n",
       "6            0         1                      0           0               1   \n",
       "9            0         1                      0           0               1   \n",
       "11           0         1                      1           0               0   \n",
       "14           1         0                      0           0               1   \n",
       "15           0         1                      1           0               0   \n",
       "18           0         1                      0           0               1   \n",
       "19           0         1                      0           0               1   \n",
       "20           0         1                      1           0               0   \n",
       "21           0         1                      1           0               0   \n",
       "22           0         1                      0           0               1   \n",
       "24           0         1                      0           0               0   \n",
       "27           0         1                      1           0               0   \n",
       "29           0         1                      1           0               0   \n",
       "30           0         1                      1           0               0   \n",
       "31           0         1                      0           0               1   \n",
       "32           0         1                      1           0               0   \n",
       "34           0         1                      0           0               0   \n",
       "36           1         0                      0           0               1   \n",
       "37           0         1                      0           0               1   \n",
       "38           0         1                      1           0               0   \n",
       "42           0         1                      0           0               1   \n",
       "44           0         1                      1           0               0   \n",
       "45           0         1                      0           0               1   \n",
       "46           0         1                      1           0               0   \n",
       "48           0         1                      1           0               0   \n",
       "50           0         1                      0           0               1   \n",
       "52           0         1                      0           0               1   \n",
       "54           0         1                      1           0               0   \n",
       "55           0         1                      1           0               0   \n",
       "60           0         1                      1           0               0   \n",
       "61           0         1                      1           0               0   \n",
       "62           0         1                      0           0               1   \n",
       "63           0         1                      1           0               0   \n",
       "64           0         1                      1           0               0   \n",
       "65           0         1                      1           0               0   \n",
       "67           0         1                      1           0               0   \n",
       "70           0         1                      0           0               0   \n",
       "73           0         1                      1           0               0   \n",
       "74           0         1                      0           0               1   \n",
       "76           0         1                      1           0               0   \n",
       "78           1         0                      1           0               0   \n",
       "79           0         1                      0           0               1   \n",
       "82           0         1                      1           0               0   \n",
       "83           0         1                      0           0               0   \n",
       "84           0         1                      1           0               0   \n",
       "85           0         1                      0           0               0   \n",
       "86           0         1                      1           0               0   \n",
       "87           0         1                      1           0               0   \n",
       "\n",
       "    race_Hispanic  race_Native American  race_Other  score_text_High  \\\n",
       "1               0                     0           0                0   \n",
       "2               0                     0           0                0   \n",
       "6               0                     0           0                0   \n",
       "9               0                     0           0                0   \n",
       "11              0                     0           0                0   \n",
       "14              0                     0           0                0   \n",
       "15              0                     0           0                0   \n",
       "18              0                     0           0                0   \n",
       "19              0                     0           0                0   \n",
       "20              0                     0           0                0   \n",
       "21              0                     0           0                1   \n",
       "22              0                     0           0                0   \n",
       "24              1                     0           0                0   \n",
       "27              0                     0           0                0   \n",
       "29              0                     0           0                0   \n",
       "30              0                     0           0                1   \n",
       "31              0                     0           0                1   \n",
       "32              0                     0           0                1   \n",
       "34              0                     0           1                0   \n",
       "36              0                     0           0                0   \n",
       "37              0                     0           0                0   \n",
       "38              0                     0           0                1   \n",
       "42              0                     0           0                0   \n",
       "44              0                     0           0                0   \n",
       "45              0                     0           0                1   \n",
       "46              0                     0           0                1   \n",
       "48              0                     0           0                0   \n",
       "50              0                     0           0                0   \n",
       "52              0                     0           0                0   \n",
       "54              0                     0           0                0   \n",
       "55              0                     0           0                0   \n",
       "60              0                     0           0                0   \n",
       "61              0                     0           0                1   \n",
       "62              0                     0           0                0   \n",
       "63              0                     0           0                0   \n",
       "64              0                     0           0                1   \n",
       "65              0                     0           0                1   \n",
       "67              0                     0           0                0   \n",
       "70              1                     0           0                0   \n",
       "73              0                     0           0                0   \n",
       "74              0                     0           0                0   \n",
       "76              0                     0           0                0   \n",
       "78              0                     0           0                0   \n",
       "79              0                     0           0                0   \n",
       "82              0                     0           0                1   \n",
       "83              0                     0           1                0   \n",
       "84              0                     0           0                1   \n",
       "85              0                     0           1                0   \n",
       "86              0                     0           0                1   \n",
       "87              0                     0           0                0   \n",
       "\n",
       "    score_text_Low  score_text_Medium  v_score_text_High  v_score_text_Low  \\\n",
       "1                1                  0                  0                 1   \n",
       "2                1                  0                  0                 1   \n",
       "6                0                  1                  0                 1   \n",
       "9                1                  0                  0                 0   \n",
       "11               0                  1                  0                 1   \n",
       "14               1                  0                  0                 1   \n",
       "15               1                  0                  0                 1   \n",
       "18               0                  1                  0                 1   \n",
       "19               1                  0                  0                 1   \n",
       "20               0                  1                  0                 1   \n",
       "21               0                  0                  1                 0   \n",
       "22               1                  0                  0                 1   \n",
       "24               1                  0                  0                 0   \n",
       "27               1                  0                  0                 1   \n",
       "29               0                  1                  0                 0   \n",
       "30               0                  0                  0                 0   \n",
       "31               0                  0                  1                 0   \n",
       "32               0                  0                  0                 1   \n",
       "34               1                  0                  0                 1   \n",
       "36               0                  1                  0                 1   \n",
       "37               1                  0                  0                 1   \n",
       "38               0                  0                  0                 0   \n",
       "42               1                  0                  0                 1   \n",
       "44               0                  1                  0                 1   \n",
       "45               0                  0                  1                 0   \n",
       "46               0                  0                  0                 1   \n",
       "48               1                  0                  0                 1   \n",
       "50               1                  0                  0                 1   \n",
       "52               0                  1                  0                 1   \n",
       "54               0                  1                  0                 0   \n",
       "55               1                  0                  0                 1   \n",
       "60               0                  1                  0                 0   \n",
       "61               0                  0                  1                 0   \n",
       "62               1                  0                  0                 1   \n",
       "63               1                  0                  0                 0   \n",
       "64               0                  0                  1                 0   \n",
       "65               0                  0                  0                 0   \n",
       "67               0                  1                  0                 1   \n",
       "70               1                  0                  0                 1   \n",
       "73               0                  1                  0                 1   \n",
       "74               0                  1                  0                 1   \n",
       "76               1                  0                  0                 1   \n",
       "78               1                  0                  0                 1   \n",
       "79               0                  1                  1                 0   \n",
       "82               0                  0                  1                 0   \n",
       "83               1                  0                  0                 1   \n",
       "84               0                  0                  1                 0   \n",
       "85               0                  1                  1                 0   \n",
       "86               0                  0                  1                 0   \n",
       "87               0                  1                  1                 0   \n",
       "\n",
       "    v_score_text_Medium  \n",
       "1                     0  \n",
       "2                     0  \n",
       "6                     0  \n",
       "9                     1  \n",
       "11                    0  \n",
       "14                    0  \n",
       "15                    0  \n",
       "18                    0  \n",
       "19                    0  \n",
       "20                    0  \n",
       "21                    0  \n",
       "22                    0  \n",
       "24                    1  \n",
       "27                    0  \n",
       "29                    1  \n",
       "30                    1  \n",
       "31                    0  \n",
       "32                    0  \n",
       "34                    0  \n",
       "36                    0  \n",
       "37                    0  \n",
       "38                    1  \n",
       "42                    0  \n",
       "44                    0  \n",
       "45                    0  \n",
       "46                    0  \n",
       "48                    0  \n",
       "50                    0  \n",
       "52                    0  \n",
       "54                    1  \n",
       "55                    0  \n",
       "60                    1  \n",
       "61                    0  \n",
       "62                    0  \n",
       "63                    1  \n",
       "64                    0  \n",
       "65                    1  \n",
       "67                    0  \n",
       "70                    0  \n",
       "73                    0  \n",
       "74                    0  \n",
       "76                    0  \n",
       "78                    0  \n",
       "79                    0  \n",
       "82                    0  \n",
       "83                    0  \n",
       "84                    0  \n",
       "85                    0  \n",
       "86                    0  \n",
       "87                    0  "
      ]
     },
     "execution_count": 556,
     "metadata": {},
     "output_type": "execute_result"
    }
   ],
   "source": [
    "targetV = \"y_since_arrest\"\n",
    "colsremove = ['id', 'name', 'first', 'last', 'compas_screening_date','dob','age_cat',\n",
    "             'days_b_screening_arrest', 'c_jail_in', 'c_jail_out', 'c_case_number',\n",
    "            'c_days_from_compas','r_case_number','r_charge_degree', 'r_days_from_arrest', \n",
    "             'r_charge_desc', 'r_jail_in', 'r_jail_out', 'vr_case_number', 'vr_charge_degree',\n",
    "        'vr_charge_desc', 'r_offense_date', 'type_of_assessment','screening_date', 'v_type_of_assessment',\n",
    "             'v_screening_date','c_offense_date', 'c_arrest_date', 'vr_offense_date', 'in_custody', 'out_custody','start', 'end', 'event',\n",
    "       'c_charge_degree', 'c_charge_desc','c_offense_year', 'c_arrest_year', \"priors_count.1\", \"violent_recid\", 'juv_fel_count', \n",
    "            'juv_misd_count','r_offense_year', 'juv_other_count', 'decile_score.1']\n",
    "comp = compas2.drop(columns=colsremove, axis=1)\n",
    "comp = pd.get_dummies(comp)\n",
    "\n",
    "ind_vars = comp.drop(columns=targetV).columns\n",
    "\n",
    "comp = comp[comp.is_recid != 0]\n",
    "comp = comp.fillna(0)\n",
    "comp.head(50)"
   ]
  },
  {
   "cell_type": "code",
   "execution_count": 557,
   "metadata": {},
   "outputs": [],
   "source": [
    "aX_train, aX_test, ay_train, ay_test = train_test_split(\n",
    "     comp[ind_vars],\n",
    "     comp[targetV], \n",
    "     test_size=0.2,\n",
    "    random_state = 13)"
   ]
  },
  {
   "cell_type": "code",
   "execution_count": 558,
   "metadata": {},
   "outputs": [
    {
     "name": "stdout",
     "output_type": "stream",
     "text": [
      "(695, 22)\n",
      "      age  decile_score  priors_count  is_recid  is_violent_recid  \\\n",
      "5115   26             8             8         1                 0   \n",
      "5579   22             7             0         1                 1   \n",
      "2043   23             6             3         1                 0   \n",
      "2321   25             2             0         1                 1   \n",
      "4330   29             4             1         1                 0   \n",
      "...   ...           ...           ...       ...               ...   \n",
      "5935   63             6             9         1                 0   \n",
      "1928   34             5             7         1                 0   \n",
      "3854   29             7             2         1                 0   \n",
      "6413   21             5             0         1                 0   \n",
      "3639   51             4             0         1                 0   \n",
      "\n",
      "      v_decile_score  two_year_recid  y_since_offense  sex_Female  sex_Male  \\\n",
      "5115               7               1              0.0           0         1   \n",
      "5579               7               1              0.0           0         1   \n",
      "2043               5               1              1.0           0         1   \n",
      "2321               3               1              0.0           0         1   \n",
      "4330               6               1              1.0           0         1   \n",
      "...              ...             ...              ...         ...       ...   \n",
      "5935               1               1              0.0           0         1   \n",
      "1928               3               1              0.0           0         1   \n",
      "3854               4               1              1.0           1         0   \n",
      "6413               6               1              1.0           1         0   \n",
      "3639               1               1              1.0           0         1   \n",
      "\n",
      "      race_African-American  race_Asian  race_Caucasian  race_Hispanic  \\\n",
      "5115                      1           0               0              0   \n",
      "5579                      1           0               0              0   \n",
      "2043                      1           0               0              0   \n",
      "2321                      0           0               1              0   \n",
      "4330                      0           0               1              0   \n",
      "...                     ...         ...             ...            ...   \n",
      "5935                      1           0               0              0   \n",
      "1928                      1           0               0              0   \n",
      "3854                      0           0               1              0   \n",
      "6413                      1           0               0              0   \n",
      "3639                      1           0               0              0   \n",
      "\n",
      "      race_Native American  race_Other  score_text_High  score_text_Low  \\\n",
      "5115                     0           0                1               0   \n",
      "5579                     0           0                0               0   \n",
      "2043                     0           0                0               0   \n",
      "2321                     0           0                0               1   \n",
      "4330                     0           0                0               1   \n",
      "...                    ...         ...              ...             ...   \n",
      "5935                     0           0                0               0   \n",
      "1928                     0           0                0               0   \n",
      "3854                     0           0                0               0   \n",
      "6413                     0           0                0               0   \n",
      "3639                     0           0                0               1   \n",
      "\n",
      "      score_text_Medium  v_score_text_High  v_score_text_Low  \\\n",
      "5115                  0                  0                 0   \n",
      "5579                  1                  0                 0   \n",
      "2043                  1                  0                 0   \n",
      "2321                  0                  0                 1   \n",
      "4330                  0                  0                 0   \n",
      "...                 ...                ...               ...   \n",
      "5935                  1                  0                 1   \n",
      "1928                  1                  0                 1   \n",
      "3854                  1                  0                 1   \n",
      "6413                  1                  0                 0   \n",
      "3639                  0                  0                 1   \n",
      "\n",
      "      v_score_text_Medium  \n",
      "5115                    1  \n",
      "5579                    1  \n",
      "2043                    1  \n",
      "2321                    0  \n",
      "4330                    1  \n",
      "...                   ...  \n",
      "5935                    0  \n",
      "1928                    0  \n",
      "3854                    0  \n",
      "6413                    1  \n",
      "3639                    0  \n",
      "\n",
      "[695 rows x 22 columns]\n"
     ]
    }
   ],
   "source": [
    "model9 = LinearRegression()\n",
    "model9.fit(aX_train, ay_train)\n",
    "print(aX_test.shape)\n",
    "print(aX_test)"
   ]
  },
  {
   "cell_type": "code",
   "execution_count": 559,
   "metadata": {},
   "outputs": [
    {
     "name": "stdout",
     "output_type": "stream",
     "text": [
      "(2776, 22)\n",
      "      age  decile_score  priors_count  is_recid  is_violent_recid  \\\n",
      "2698   56             6             7         1                 0   \n",
      "2766   30             9             9         1                 1   \n",
      "4857   28             6             4         1                 0   \n",
      "144    38             8             9         1                 0   \n",
      "7067   47             1             7         1                 1   \n",
      "...   ...           ...           ...       ...               ...   \n",
      "1893   33             2             2         1                 0   \n",
      "5826   29             3             7         1                 0   \n",
      "137    32             7             3         1                 0   \n",
      "4678   22             4             1         1                 0   \n",
      "704    60             3             9         1                 0   \n",
      "\n",
      "      v_decile_score  two_year_recid  y_since_offense  sex_Female  sex_Male  \\\n",
      "2698               8               1              0.0           0         1   \n",
      "2766               5               1              1.0           1         0   \n",
      "4857               3               1              1.0           0         1   \n",
      "144                4               1              0.0           0         1   \n",
      "7067               1               1              0.0           0         1   \n",
      "...              ...             ...              ...         ...       ...   \n",
      "1893               2               1              1.0           0         1   \n",
      "5826               2               0              2.0           0         1   \n",
      "137                3               1              1.0           0         1   \n",
      "4678               5               0              2.0           0         1   \n",
      "704                1               1              0.0           1         0   \n",
      "\n",
      "      race_African-American  race_Asian  race_Caucasian  race_Hispanic  \\\n",
      "2698                      0           0               1              0   \n",
      "2766                      1           0               0              0   \n",
      "4857                      0           0               1              0   \n",
      "144                       1           0               0              0   \n",
      "7067                      1           0               0              0   \n",
      "...                     ...         ...             ...            ...   \n",
      "1893                      1           0               0              0   \n",
      "5826                      1           0               0              0   \n",
      "137                       1           0               0              0   \n",
      "4678                      0           0               1              0   \n",
      "704                       0           0               1              0   \n",
      "\n",
      "      race_Native American  race_Other  score_text_High  score_text_Low  \\\n",
      "2698                     0           0                0               0   \n",
      "2766                     0           0                1               0   \n",
      "4857                     0           0                0               0   \n",
      "144                      0           0                1               0   \n",
      "7067                     0           0                0               1   \n",
      "...                    ...         ...              ...             ...   \n",
      "1893                     0           0                0               1   \n",
      "5826                     0           0                0               1   \n",
      "137                      0           0                0               0   \n",
      "4678                     0           0                0               1   \n",
      "704                      0           0                0               1   \n",
      "\n",
      "      score_text_Medium  v_score_text_High  v_score_text_Low  \\\n",
      "2698                  1                  1                 0   \n",
      "2766                  0                  0                 0   \n",
      "4857                  1                  0                 1   \n",
      "144                   0                  0                 1   \n",
      "7067                  0                  0                 1   \n",
      "...                 ...                ...               ...   \n",
      "1893                  0                  0                 1   \n",
      "5826                  0                  0                 1   \n",
      "137                   1                  0                 1   \n",
      "4678                  0                  0                 0   \n",
      "704                   0                  0                 1   \n",
      "\n",
      "      v_score_text_Medium  \n",
      "2698                    0  \n",
      "2766                    1  \n",
      "4857                    0  \n",
      "144                     0  \n",
      "7067                    0  \n",
      "...                   ...  \n",
      "1893                    0  \n",
      "5826                    0  \n",
      "137                     0  \n",
      "4678                    1  \n",
      "704                     0  \n",
      "\n",
      "[2776 rows x 22 columns]\n"
     ]
    }
   ],
   "source": [
    "print(aX_train.shape)\n",
    "print(aX_train)"
   ]
  },
  {
   "cell_type": "code",
   "execution_count": 560,
   "metadata": {},
   "outputs": [],
   "source": [
    "predicts = model9.predict(aX_test)"
   ]
  },
  {
   "cell_type": "code",
   "execution_count": 561,
   "metadata": {},
   "outputs": [],
   "source": [
    "huh = aX_test.reset_index().copy() \n",
    "huh[\"y_since_arrest\"] = ay_test.tolist()\n",
    "huh[\"predicts\"] = predicts"
   ]
  },
  {
   "cell_type": "code",
   "execution_count": 562,
   "metadata": {},
   "outputs": [
    {
     "data": {
      "text/plain": [
       "<seaborn.axisgrid.FacetGrid at 0x7fd67220a590>"
      ]
     },
     "execution_count": 562,
     "metadata": {},
     "output_type": "execute_result"
    },
    {
     "data": {
      "image/png": "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\n",
      "text/plain": [
       "<Figure size 360x360 with 1 Axes>"
      ]
     },
     "metadata": {
      "needs_background": "light"
     },
     "output_type": "display_data"
    }
   ],
   "source": [
    "sns.relplot(x=\"y_since_arrest\", y=\"predicts\", data=huh, kind=\"scatter\")"
   ]
  },
  {
   "cell_type": "markdown",
   "metadata": {},
   "source": [
    "# Predict Decile Score: Entire Dataset"
   ]
  },
  {
   "cell_type": "code",
   "execution_count": 563,
   "metadata": {},
   "outputs": [],
   "source": [
    "import numpy as np\n",
    "import pandas as pd\n",
    "import matplotlib.pyplot as plt\n",
    "from sklearn import datasets\n",
    "from sklearn.ensemble import AdaBoostClassifier\n",
    "from sklearn.ensemble import BaggingClassifier \n",
    "from sklearn.ensemble import AdaBoostClassifier\n",
    "from xgboost import XGBClassifier\n",
    "from sklearn.ensemble import RandomForestClassifier\n",
    "from mlxtend.classifier import StackingClassifier\n",
    "from sklearn.ensemble import BaggingRegressor, BaggingClassifier\n",
    "\n",
    "from sklearn.model_selection import cross_val_score\n",
    "from sklearn.model_selection import cross_validate\n",
    "\n",
    "from sklearn.metrics import SCORERS\n",
    "\n",
    "import seaborn as sns\n",
    "sns.set(rc={'figure.figsize':(6,6)}) \n",
    "import warnings\n",
    "warnings.simplefilter(\"ignore\")\n",
    "\n",
    "%matplotlib inline"
   ]
  },
  {
   "cell_type": "code",
   "execution_count": 564,
   "metadata": {},
   "outputs": [
    {
     "data": {
      "text/plain": [
       "Index(['age', 'juv_fel_count', 'juv_misd_count', 'juv_other_count',\n",
       "       'priors_count', 'is_recid', 'is_violent_recid', 'sex_Female',\n",
       "       'sex_Male', 'age_cat_25 - 45', 'age_cat_Greater than 45',\n",
       "       'age_cat_Less than 25', 'race_African_American', 'race_Asian',\n",
       "       'race_Caucasian', 'race_Hispanic', 'race_Native_American',\n",
       "       'race_Other'],\n",
       "      dtype='object')"
      ]
     },
     "execution_count": 564,
     "metadata": {},
     "output_type": "execute_result"
    }
   ],
   "source": [
    "nc = compas.drop([\"first\",\"decile_score.1\",\"id\",\"Unnamed: 0\",\"last\",\"v_score_text\",\"score_text\",\"v_decile_score\"], axis = 1)\n",
    "nc = pd.get_dummies(nc)\n",
    "nc = nc.rename(columns ={'race_African-American':\"race_African_American\", 'race_Native American': \"race_Native_American\"})\n",
    "targetvariable = \"decile_score\"\n",
    "independentvariables = nc.drop(columns=[targetvariable, \"decile_score\"]).columns\n",
    "independentvariables"
   ]
  },
  {
   "cell_type": "code",
   "execution_count": 565,
   "metadata": {},
   "outputs": [],
   "source": [
    "def evaluate_model(estimator):\n",
    "    cv_results = cross_validate(estimator,\n",
    "                    X = nc[independentvariables],\n",
    "                    y = nc[targetvariable],\n",
    "                    scoring=\"neg_mean_absolute_error\",\n",
    "                          n_jobs=-1, cv=3,\n",
    "                     return_train_score=True)\n",
    "    return pd.DataFrame(cv_results).abs().mean().to_dict()"
   ]
  },
  {
   "cell_type": "code",
   "execution_count": 566,
   "metadata": {},
   "outputs": [],
   "source": [
    "def display_results(results):\n",
    "    results_df  = pd.DataFrame(results).T\n",
    "    results_cols = results_df.columns\n",
    "    for col in results_df:\n",
    "        results_df[col] = results_df[col].apply(np.mean)\n",
    "    return results_df"
   ]
  },
  {
   "cell_type": "code",
   "execution_count": 567,
   "metadata": {},
   "outputs": [],
   "source": [
    "from mlxtend.regressor import StackingRegressor\n",
    "from sklearn.tree import DecisionTreeRegressor\n",
    "from sklearn.linear_model import LinearRegression\n",
    "from sklearn.linear_model import ElasticNet, Lasso, Ridge\n",
    "from sklearn.ensemble import BaggingRegressor, BaggingClassifier\n",
    "from sklearn.ensemble import RandomForestRegressor, RandomForestClassifier\n",
    "from sklearn.tree import ExtraTreeRegressor\n",
    "from sklearn.ensemble import AdaBoostRegressor, AdaBoostClassifier\n",
    "\n",
    "from xgboost import XGBRegressor, XGBClassifier\n"
   ]
  },
  {
   "cell_type": "code",
   "execution_count": 568,
   "metadata": {},
   "outputs": [],
   "source": [
    "estimator_bagging  = BaggingClassifier(n_estimators=5, random_state=42) #  DTs\n",
    "estimator_randomforest = RandomForestClassifier(n_estimators=5, random_state=42)\n",
    "estimator_adaboost = AdaBoostClassifier(n_estimators=5, random_state=42)\n",
    "estimator_bagging_10 = BaggingRegressor(n_estimators=10)\n",
    "estimator_bagging_100 = BaggingRegressor(n_estimators=100)\n",
    "estimator_randomforest = RandomForestRegressor(n_estimators=100)\n",
    "estimator_bagging_elnet = BaggingRegressor(n_estimators=100, \n",
    "                                           base_estimator=ElasticNet())\n",
    "estimator_bagging_random_tree = BaggingRegressor(n_estimators=100,\n",
    "                                    base_estimator=ExtraTreeRegressor())\n",
    "estimator_adaboost = AdaBoostRegressor(n_estimators=100)\n",
    "estimator_xgboost = XGBRegressor(n_estimators=500)\n"
   ]
  },
  {
   "cell_type": "code",
   "execution_count": 569,
   "metadata": {},
   "outputs": [],
   "source": [
    "results = {}"
   ]
  },
  {
   "cell_type": "code",
   "execution_count": 570,
   "metadata": {
    "scrolled": true
   },
   "outputs": [
    {
     "data": {
      "text/html": [
       "<div>\n",
       "<style scoped>\n",
       "    .dataframe tbody tr th:only-of-type {\n",
       "        vertical-align: middle;\n",
       "    }\n",
       "\n",
       "    .dataframe tbody tr th {\n",
       "        vertical-align: top;\n",
       "    }\n",
       "\n",
       "    .dataframe thead th {\n",
       "        text-align: right;\n",
       "    }\n",
       "</style>\n",
       "<table border=\"1\" class=\"dataframe\">\n",
       "  <thead>\n",
       "    <tr style=\"text-align: right;\">\n",
       "      <th></th>\n",
       "      <th>fit_time</th>\n",
       "      <th>score_time</th>\n",
       "      <th>test_score</th>\n",
       "      <th>train_score</th>\n",
       "    </tr>\n",
       "  </thead>\n",
       "  <tbody>\n",
       "    <tr>\n",
       "      <th>Bagging</th>\n",
       "      <td>0.103106</td>\n",
       "      <td>0.009841</td>\n",
       "      <td>2.052054</td>\n",
       "      <td>1.039551</td>\n",
       "    </tr>\n",
       "    <tr>\n",
       "      <th>randomforest</th>\n",
       "      <td>1.799045</td>\n",
       "      <td>0.178416</td>\n",
       "      <td>1.795232</td>\n",
       "      <td>1.152768</td>\n",
       "    </tr>\n",
       "    <tr>\n",
       "      <th>adaboost</th>\n",
       "      <td>0.157875</td>\n",
       "      <td>0.008376</td>\n",
       "      <td>1.971514</td>\n",
       "      <td>1.967193</td>\n",
       "    </tr>\n",
       "    <tr>\n",
       "      <th>bagging_tree_10</th>\n",
       "      <td>0.173722</td>\n",
       "      <td>0.010263</td>\n",
       "      <td>1.822594</td>\n",
       "      <td>1.171437</td>\n",
       "    </tr>\n",
       "    <tr>\n",
       "      <th>bagging_tree_100</th>\n",
       "      <td>2.338116</td>\n",
       "      <td>0.189028</td>\n",
       "      <td>1.799223</td>\n",
       "      <td>1.153700</td>\n",
       "    </tr>\n",
       "    <tr>\n",
       "      <th>randomforest_100</th>\n",
       "      <td>2.486555</td>\n",
       "      <td>0.127052</td>\n",
       "      <td>1.797899</td>\n",
       "      <td>1.153995</td>\n",
       "    </tr>\n",
       "    <tr>\n",
       "      <th>bagging_elnet</th>\n",
       "      <td>0.489591</td>\n",
       "      <td>0.035931</td>\n",
       "      <td>1.882404</td>\n",
       "      <td>1.882341</td>\n",
       "    </tr>\n",
       "    <tr>\n",
       "      <th>bagging_random_tree</th>\n",
       "      <td>2.721304</td>\n",
       "      <td>0.434089</td>\n",
       "      <td>1.791926</td>\n",
       "      <td>1.151355</td>\n",
       "    </tr>\n",
       "    <tr>\n",
       "      <th>adaboost_100</th>\n",
       "      <td>0.300487</td>\n",
       "      <td>0.016574</td>\n",
       "      <td>1.988940</td>\n",
       "      <td>1.977003</td>\n",
       "    </tr>\n",
       "    <tr>\n",
       "      <th>xgboost_500</th>\n",
       "      <td>8.134395</td>\n",
       "      <td>0.050913</td>\n",
       "      <td>1.674848</td>\n",
       "      <td>1.587261</td>\n",
       "    </tr>\n",
       "  </tbody>\n",
       "</table>\n",
       "</div>"
      ],
      "text/plain": [
       "                     fit_time  score_time  test_score  train_score\n",
       "Bagging              0.103106    0.009841    2.052054     1.039551\n",
       "randomforest         1.799045    0.178416    1.795232     1.152768\n",
       "adaboost             0.157875    0.008376    1.971514     1.967193\n",
       "bagging_tree_10      0.173722    0.010263    1.822594     1.171437\n",
       "bagging_tree_100     2.338116    0.189028    1.799223     1.153700\n",
       "randomforest_100     2.486555    0.127052    1.797899     1.153995\n",
       "bagging_elnet        0.489591    0.035931    1.882404     1.882341\n",
       "bagging_random_tree  2.721304    0.434089    1.791926     1.151355\n",
       "adaboost_100         0.300487    0.016574    1.988940     1.977003\n",
       "xgboost_500          8.134395    0.050913    1.674848     1.587261"
      ]
     },
     "execution_count": 570,
     "metadata": {},
     "output_type": "execute_result"
    }
   ],
   "source": [
    "results[\"Bagging\"] = evaluate_model(estimator_bagging)\n",
    "results[\"randomforest\"] = evaluate_model(estimator_randomforest)\n",
    "results['adaboost'] = evaluate_model(estimator_adaboost)\n",
    "results[\"bagging_tree_10\"] = evaluate_model(estimator_bagging_10)\n",
    "results[\"bagging_tree_100\"] = evaluate_model(estimator_bagging_100)\n",
    "results[\"randomforest_100\"] = evaluate_model(estimator_randomforest)\n",
    "results[\"bagging_elnet\"] = evaluate_model(estimator_bagging_elnet)\n",
    "results[\"bagging_random_tree\"] = evaluate_model(estimator_bagging_random_tree)\n",
    "results[\"adaboost_100\"]  = evaluate_model(estimator_adaboost)\n",
    "results[\"xgboost_500\"] = evaluate_model(estimator_xgboost)\n",
    "\n",
    "display_results(results)"
   ]
  },
  {
   "cell_type": "markdown",
   "metadata": {},
   "source": [
    "# Predict Decile Score: African American"
   ]
  },
  {
   "cell_type": "code",
   "execution_count": 571,
   "metadata": {},
   "outputs": [],
   "source": [
    "\n",
    "ncAfr = nc[nc.race_African_American == True]\n",
    "targetvariable = \"decile_score\"\n",
    "independentvariables = ncAfr.drop(columns=[targetvariable, \"decile_score\"]).columns"
   ]
  },
  {
   "cell_type": "code",
   "execution_count": 572,
   "metadata": {},
   "outputs": [],
   "source": [
    "def evaluate_modelAfr(estimator):\n",
    "    cv_results = cross_validate(estimator,\n",
    "                    X = ncAfr[independentvariables],\n",
    "                    y = ncAfr[targetvariable],\n",
    "                    scoring=\"neg_mean_absolute_error\",\n",
    "                          n_jobs=-1, cv=3,\n",
    "                     return_train_score=True)\n",
    "    return pd.DataFrame(cv_results).abs().mean().to_dict()"
   ]
  },
  {
   "cell_type": "code",
   "execution_count": 573,
   "metadata": {},
   "outputs": [],
   "source": [
    "resultsAfr = {}"
   ]
  },
  {
   "cell_type": "code",
   "execution_count": 574,
   "metadata": {},
   "outputs": [
    {
     "data": {
      "text/html": [
       "<div>\n",
       "<style scoped>\n",
       "    .dataframe tbody tr th:only-of-type {\n",
       "        vertical-align: middle;\n",
       "    }\n",
       "\n",
       "    .dataframe tbody tr th {\n",
       "        vertical-align: top;\n",
       "    }\n",
       "\n",
       "    .dataframe thead th {\n",
       "        text-align: right;\n",
       "    }\n",
       "</style>\n",
       "<table border=\"1\" class=\"dataframe\">\n",
       "  <thead>\n",
       "    <tr style=\"text-align: right;\">\n",
       "      <th></th>\n",
       "      <th>fit_time</th>\n",
       "      <th>score_time</th>\n",
       "      <th>test_score</th>\n",
       "      <th>train_score</th>\n",
       "    </tr>\n",
       "  </thead>\n",
       "  <tbody>\n",
       "    <tr>\n",
       "      <th>xgboost_500</th>\n",
       "      <td>2.877968</td>\n",
       "      <td>0.022916</td>\n",
       "      <td>1.903772</td>\n",
       "      <td>1.747582</td>\n",
       "    </tr>\n",
       "    <tr>\n",
       "      <th>bagging_random_tree</th>\n",
       "      <td>0.596153</td>\n",
       "      <td>0.045700</td>\n",
       "      <td>2.023033</td>\n",
       "      <td>1.338323</td>\n",
       "    </tr>\n",
       "  </tbody>\n",
       "</table>\n",
       "</div>"
      ],
      "text/plain": [
       "                     fit_time  score_time  test_score  train_score\n",
       "xgboost_500          2.877968    0.022916    1.903772     1.747582\n",
       "bagging_random_tree  0.596153    0.045700    2.023033     1.338323"
      ]
     },
     "execution_count": 574,
     "metadata": {},
     "output_type": "execute_result"
    }
   ],
   "source": [
    "resultsAfr[\"Bagging\"] = evaluate_modelAfr(estimator_bagging)\n",
    "resultsAfr[\"randomforest\"] = evaluate_modelAfr(estimator_randomforest)\n",
    "resultsAfr['adaboost'] = evaluate_modelAfr(estimator_adaboost)\n",
    "resultsAfr[\"bagging_tree_10\"] = evaluate_modelAfr(estimator_bagging_10)\n",
    "resultsAfr[\"bagging_tree_100\"] = evaluate_modelAfr(estimator_bagging_100)\n",
    "resultsAfr[\"randomforest_100\"] = evaluate_modelAfr(estimator_randomforest)\n",
    "resultsAfr[\"bagging_elnet\"] = evaluate_modelAfr(estimator_bagging_elnet)\n",
    "resultsAfr[\"bagging_random_tree\"] = evaluate_modelAfr(estimator_bagging_random_tree)\n",
    "resultsAfr[\"adaboost_100\"]  = evaluate_modelAfr(estimator_adaboost)\n",
    "resultsAfr[\"xgboost_500\"] = evaluate_modelAfr(estimator_xgboost)\n",
    "\n",
    "display_results(resultsAfr).sort_values(\"test_score\", ascending = True).head(2)"
   ]
  },
  {
   "cell_type": "markdown",
   "metadata": {},
   "source": [
    "# Predict Decile Score: Caucasian"
   ]
  },
  {
   "cell_type": "code",
   "execution_count": 576,
   "metadata": {},
   "outputs": [],
   "source": [
    "ncWh = nc[nc.race_Caucasian == True]\n",
    "targetvariable = \"decile_score\"\n",
    "independentvariables = ncWh.drop(columns=[targetvariable, \"decile_score\"]).columns"
   ]
  },
  {
   "cell_type": "code",
   "execution_count": 577,
   "metadata": {},
   "outputs": [],
   "source": [
    "def evaluate_modelWh(estimator):\n",
    "    cv_results = cross_validate(estimator,\n",
    "                    X = ncWh[independentvariables],\n",
    "                    y = ncWh[targetvariable],\n",
    "                    scoring=\"neg_mean_absolute_error\",\n",
    "                          n_jobs=-1, cv=3,\n",
    "                     return_train_score=True)\n",
    "    return pd.DataFrame(cv_results).abs().mean().to_dict()"
   ]
  },
  {
   "cell_type": "code",
   "execution_count": 578,
   "metadata": {},
   "outputs": [],
   "source": [
    "resultsWh = {}"
   ]
  },
  {
   "cell_type": "code",
   "execution_count": 579,
   "metadata": {},
   "outputs": [
    {
     "data": {
      "text/html": [
       "<div>\n",
       "<style scoped>\n",
       "    .dataframe tbody tr th:only-of-type {\n",
       "        vertical-align: middle;\n",
       "    }\n",
       "\n",
       "    .dataframe tbody tr th {\n",
       "        vertical-align: top;\n",
       "    }\n",
       "\n",
       "    .dataframe thead th {\n",
       "        text-align: right;\n",
       "    }\n",
       "</style>\n",
       "<table border=\"1\" class=\"dataframe\">\n",
       "  <thead>\n",
       "    <tr style=\"text-align: right;\">\n",
       "      <th></th>\n",
       "      <th>fit_time</th>\n",
       "      <th>score_time</th>\n",
       "      <th>test_score</th>\n",
       "      <th>train_score</th>\n",
       "    </tr>\n",
       "  </thead>\n",
       "  <tbody>\n",
       "    <tr>\n",
       "      <th>xgboost_500</th>\n",
       "      <td>2.45746</td>\n",
       "      <td>0.015972</td>\n",
       "      <td>1.562073</td>\n",
       "      <td>1.375347</td>\n",
       "    </tr>\n",
       "    <tr>\n",
       "      <th>bagging_random_tree</th>\n",
       "      <td>0.38001</td>\n",
       "      <td>0.031572</td>\n",
       "      <td>1.648716</td>\n",
       "      <td>1.059034</td>\n",
       "    </tr>\n",
       "  </tbody>\n",
       "</table>\n",
       "</div>"
      ],
      "text/plain": [
       "                     fit_time  score_time  test_score  train_score\n",
       "xgboost_500           2.45746    0.015972    1.562073     1.375347\n",
       "bagging_random_tree   0.38001    0.031572    1.648716     1.059034"
      ]
     },
     "execution_count": 579,
     "metadata": {},
     "output_type": "execute_result"
    }
   ],
   "source": [
    "resultsWh[\"Bagging\"] = evaluate_modelWh(estimator_bagging)\n",
    "resultsWh[\"randomforest\"] = evaluate_modelWh(estimator_randomforest)\n",
    "resultsWh['adaboost'] = evaluate_modelWh(estimator_adaboost)\n",
    "resultsWh[\"bagging_tree_10\"] = evaluate_modelWh(estimator_bagging_10)\n",
    "resultsWh[\"bagging_tree_100\"] = evaluate_modelWh(estimator_bagging_100)\n",
    "resultsWh[\"randomforest_100\"] = evaluate_modelWh(estimator_randomforest)\n",
    "resultsWh[\"bagging_elnet\"] = evaluate_modelWh(estimator_bagging_elnet)\n",
    "resultsWh[\"bagging_random_tree\"] = evaluate_modelWh(estimator_bagging_random_tree)\n",
    "resultsWh[\"adaboost_100\"]  = evaluate_modelWh(estimator_adaboost)\n",
    "resultsWh[\"xgboost_500\"] = evaluate_modelWh(estimator_xgboost)\n",
    "\n",
    "\n",
    "display_results(resultsWh).sort_values(\"test_score\", ascending = True).head(2)"
   ]
  },
  {
   "cell_type": "markdown",
   "metadata": {},
   "source": [
    "# ^Decile Score Seems to Be More Easy to Predict for White Than Black"
   ]
  },
  {
   "cell_type": "markdown",
   "metadata": {},
   "source": [
    "# Trying to Predict Race: Is this Person African American? \n",
    "## Definitely Didn't Work"
   ]
  },
  {
   "cell_type": "code",
   "execution_count": 580,
   "metadata": {},
   "outputs": [],
   "source": [
    "ncBlWh = compas.drop([\"first\",\"decile_score.1\",\"id\",\"Unnamed: 0\",\"last\",\"v_score_text\",\"score_text\",], axis = 1)\n",
    "ncBlWh = pd.get_dummies(ncBlWh)\n",
    "ncBlWh = ncBlWh.rename(columns ={'race_African-American':\"race_African_American\", 'race_Native American': \"race_Native_American\"})\n",
    "ncBlWh = ncBlWh[(ncBlWh.race_Caucasian == True) | (ncBlWh.race_African_American == True)]\n",
    "ncBlWh = ncBlWh.drop(['race_Asian','race_Caucasian', 'race_Hispanic', 'race_Native_American','race_Other'], axis =1)"
   ]
  },
  {
   "cell_type": "code",
   "execution_count": 581,
   "metadata": {},
   "outputs": [],
   "source": [
    "targetvariable = \"race_African_American\"\n",
    "independentvariables = ncBlWh.drop(columns=[targetvariable]).columns"
   ]
  },
  {
   "cell_type": "code",
   "execution_count": 582,
   "metadata": {},
   "outputs": [],
   "source": [
    "def evaluate_modelBlWh(estimator):\n",
    "    cv_results = cross_validate(estimator,\n",
    "                    X = ncBlWh[independentvariables],\n",
    "                    y = ncBlWh[targetvariable],\n",
    "                    scoring=\"accuracy\",\n",
    "                          n_jobs=-1, cv=3,\n",
    "                     return_train_score=True)\n",
    "    return pd.DataFrame(cv_results).abs().mean().to_dict()"
   ]
  },
  {
   "cell_type": "code",
   "execution_count": 583,
   "metadata": {},
   "outputs": [],
   "source": [
    "resultsBlWh = {}"
   ]
  },
  {
   "cell_type": "code",
   "execution_count": 584,
   "metadata": {},
   "outputs": [
    {
     "data": {
      "text/html": [
       "<div>\n",
       "<style scoped>\n",
       "    .dataframe tbody tr th:only-of-type {\n",
       "        vertical-align: middle;\n",
       "    }\n",
       "\n",
       "    .dataframe tbody tr th {\n",
       "        vertical-align: top;\n",
       "    }\n",
       "\n",
       "    .dataframe thead th {\n",
       "        text-align: right;\n",
       "    }\n",
       "</style>\n",
       "<table border=\"1\" class=\"dataframe\">\n",
       "  <thead>\n",
       "    <tr style=\"text-align: right;\">\n",
       "      <th></th>\n",
       "      <th>fit_time</th>\n",
       "      <th>score_time</th>\n",
       "      <th>test_score</th>\n",
       "      <th>train_score</th>\n",
       "    </tr>\n",
       "  </thead>\n",
       "  <tbody>\n",
       "    <tr>\n",
       "      <th>Bagging</th>\n",
       "      <td>0.10677</td>\n",
       "      <td>0.007426</td>\n",
       "      <td>0.595271</td>\n",
       "      <td>0.882299</td>\n",
       "    </tr>\n",
       "  </tbody>\n",
       "</table>\n",
       "</div>"
      ],
      "text/plain": [
       "         fit_time  score_time  test_score  train_score\n",
       "Bagging   0.10677    0.007426    0.595271     0.882299"
      ]
     },
     "execution_count": 584,
     "metadata": {},
     "output_type": "execute_result"
    }
   ],
   "source": [
    "resultsBlWh[\"Bagging\"] = evaluate_modelBlWh(estimator_bagging)\n",
    "\n",
    "\n",
    "display_results(resultsBlWh).sort_values(\"test_score\", ascending = True)"
   ]
  },
  {
   "cell_type": "code",
   "execution_count": 585,
   "metadata": {},
   "outputs": [
    {
     "data": {
      "text/plain": [
       "count    1980.000000\n",
       "mean        0.428450\n",
       "std         0.165325\n",
       "min         0.000022\n",
       "25%         0.318598\n",
       "50%         0.428171\n",
       "75%         0.538064\n",
       "max         0.919054\n",
       "Name: error, dtype: float64"
      ]
     },
     "execution_count": 585,
     "metadata": {},
     "output_type": "execute_result"
    }
   ],
   "source": [
    "from sklearn.model_selection import train_test_split\n",
    "X_trainBlWh, X_testBlWh, y_trainBlWh, y_testBlWh = train_test_split(\n",
    "     ncBlWh[independentvariables],\n",
    "     ncBlWh[targetvariable], \n",
    "     test_size=0.2,\n",
    "    random_state = 13,)\n",
    "\n",
    "modelBlWh = LinearRegression()\n",
    "modelBlWh.fit(X_trainBlWh, y_trainBlWh)\n",
    "\n",
    "predictionsBlWh = modelBlWh.predict(X_testBlWh)\n",
    "\n",
    "X = X_testBlWh.reset_index().copy() \n",
    "X[\"race_African_American\"] = y_testBlWh.tolist()\n",
    "X[\"prediction\"] = predictionsBlWh\n",
    "\n",
    "X[\"error\"] = abs(X[\"race_African_American\"]-X[\"prediction\"])\n",
    "res = X[[\"race_African_American\",\"prediction\",\"error\"]]\n",
    "\n",
    "res.error.describe()"
   ]
  },
  {
   "cell_type": "markdown",
   "metadata": {},
   "source": [
    "Yeah uh clearly this doesn't work this way"
   ]
  },
  {
   "cell_type": "markdown",
   "metadata": {},
   "source": [
    "# How Good is Decile Score at Predicting Recidivism (By Race)?"
   ]
  },
  {
   "cell_type": "markdown",
   "metadata": {},
   "source": [
    "# High Decile Score"
   ]
  },
  {
   "cell_type": "code",
   "execution_count": 586,
   "metadata": {},
   "outputs": [],
   "source": [
    "PredHigh = compas.drop(['Unnamed: 0', 'id', 'first', 'last', 'sex', 'age', 'age_cat', \n",
    "       'juv_fel_count', 'decile_score', 'juv_misd_count', 'juv_other_count',\n",
    "       'priors_count',  'is_violent_recid', 'v_decile_score',\n",
    "       'v_score_text', 'decile_score.1'], axis =1)\n",
    "\n",
    "PredHigh = PredHigh[(PredHigh.is_recid != -1)]\n",
    "PredHigh = pd.get_dummies(PredHigh)\n",
    "PredHigh = PredHigh.rename(columns ={'race_African-American':\"race_African_American\", 'race_Native American': \"race_Native_American\"})\n",
    "PredHigh = PredHigh[(PredHigh.race_Caucasian == True) | (PredHigh.race_African_American == True)]\n",
    "PredHigh = PredHigh.drop(['race_Asian','race_Caucasian', 'race_Hispanic', 'race_Native_American','race_Other', \"score_text_Low\", \"score_text_Medium\"], axis =1)\n",
    "\n"
   ]
  },
  {
   "cell_type": "code",
   "execution_count": 602,
   "metadata": {
    "scrolled": true
   },
   "outputs": [
    {
     "data": {
      "text/html": [
       "<div>\n",
       "<style scoped>\n",
       "    .dataframe tbody tr th:only-of-type {\n",
       "        vertical-align: middle;\n",
       "    }\n",
       "\n",
       "    .dataframe tbody tr th {\n",
       "        vertical-align: top;\n",
       "    }\n",
       "\n",
       "    .dataframe thead th {\n",
       "        text-align: right;\n",
       "    }\n",
       "</style>\n",
       "<table border=\"1\" class=\"dataframe\">\n",
       "  <thead>\n",
       "    <tr style=\"text-align: right;\">\n",
       "      <th></th>\n",
       "      <th>is_recid</th>\n",
       "      <th>race_African_American</th>\n",
       "      <th>score_text_High</th>\n",
       "    </tr>\n",
       "  </thead>\n",
       "  <tbody>\n",
       "    <tr>\n",
       "      <th>2</th>\n",
       "      <td>1</td>\n",
       "      <td>1</td>\n",
       "      <td>0</td>\n",
       "    </tr>\n",
       "    <tr>\n",
       "      <th>3</th>\n",
       "      <td>1</td>\n",
       "      <td>1</td>\n",
       "      <td>0</td>\n",
       "    </tr>\n",
       "    <tr>\n",
       "      <th>4</th>\n",
       "      <td>0</td>\n",
       "      <td>1</td>\n",
       "      <td>1</td>\n",
       "    </tr>\n",
       "    <tr>\n",
       "      <th>7</th>\n",
       "      <td>1</td>\n",
       "      <td>0</td>\n",
       "      <td>0</td>\n",
       "    </tr>\n",
       "    <tr>\n",
       "      <th>9</th>\n",
       "      <td>0</td>\n",
       "      <td>0</td>\n",
       "      <td>0</td>\n",
       "    </tr>\n",
       "  </tbody>\n",
       "</table>\n",
       "</div>"
      ],
      "text/plain": [
       "   is_recid  race_African_American  score_text_High\n",
       "2         1                      1                0\n",
       "3         1                      1                0\n",
       "4         0                      1                1\n",
       "7         1                      0                0\n",
       "9         0                      0                0"
      ]
     },
     "execution_count": 602,
     "metadata": {},
     "output_type": "execute_result"
    }
   ],
   "source": [
    "PredHigh.head()"
   ]
  },
  {
   "cell_type": "code",
   "execution_count": 588,
   "metadata": {},
   "outputs": [],
   "source": [
    "PredBlHigh = PredHigh[(PredHigh.race_African_American == True)]\n",
    "PredBlHigh = PredBlHigh.drop(\"race_African_American\", axis = 1)\n",
    "\n",
    "targetvariable = \"is_recid\"\n",
    "independentvariables = PredBlHigh.drop(columns=[targetvariable]).columns\n",
    "\n",
    "from sklearn.tree import DecisionTreeClassifier\n",
    "\n",
    "tree = DecisionTreeClassifier()\n",
    "\n",
    "tree.fit(PredBlHigh[independentvariables], PredBlHigh[targetvariable])\n",
    "\n",
    "AccuracyHighDecileScoreBlack = cross_val_score(tree, PredBlHigh[independentvariables],\n",
    "                PredBlHigh[targetvariable], scoring=\"accuracy\", \n",
    "                cv=3).mean()"
   ]
  },
  {
   "cell_type": "code",
   "execution_count": 589,
   "metadata": {},
   "outputs": [],
   "source": [
    "PredWhHigh = PredHigh[(PredHigh.race_African_American == False)]\n",
    "PredWhHigh = PredWhHigh.drop(\"race_African_American\", axis = 1)\n",
    "targetvariable = \"is_recid\"\n",
    "independentvariables = PredWhHigh.drop(columns=[targetvariable]).columns\n",
    "\n",
    "tree.fit(PredWhHigh[independentvariables], PredWhHigh[targetvariable])\n",
    "\n",
    "\n",
    "AccuracyHighDecileScoreWhite = cross_val_score(tree, PredWhHigh[independentvariables],\n",
    "                                           PredWhHigh[targetvariable], scoring=\"accuracy\", \n",
    "                                           cv=3).mean()"
   ]
  },
  {
   "cell_type": "code",
   "execution_count": 590,
   "metadata": {},
   "outputs": [],
   "source": [
    "DiffAcc = round(abs(AccuracyHighDecileScoreWhite - AccuracyHighDecileScoreBlack) *100,2)"
   ]
  },
  {
   "cell_type": "code",
   "execution_count": 591,
   "metadata": {},
   "outputs": [
    {
     "name": "stdout",
     "output_type": "stream",
     "text": [
      "A High Decile Score for White Criminals is 8.73% more accurate than Black Criminals\n"
     ]
    }
   ],
   "source": [
    "print(f\"A High Decile Score for White Criminals is {DiffAcc}% more accurate than Black Criminals\")"
   ]
  },
  {
   "cell_type": "code",
   "execution_count": 592,
   "metadata": {},
   "outputs": [],
   "source": [
    "df = pd.DataFrame({\"Race\": [\"Black\", \"White\"],\n",
    "                   'Accuracy': [AccuracyHighDecileScoreBlack, AccuracyHighDecileScoreWhite],\n",
    "                   })\n",
    "                   "
   ]
  },
  {
   "cell_type": "code",
   "execution_count": 605,
   "metadata": {},
   "outputs": [
    {
     "data": {
      "text/plain": [
       "(0.58, 0.725)"
      ]
     },
     "execution_count": 605,
     "metadata": {},
     "output_type": "execute_result"
    },
    {
     "data": {
      "image/png": "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\n",
      "text/plain": [
       "<Figure size 432x288 with 1 Axes>"
      ]
     },
     "metadata": {
      "needs_background": "light"
     },
     "output_type": "display_data"
    }
   ],
   "source": [
    "colors = [ \"#000005\",\"#FFFFF9\" ]\n",
    "customPalette = sns.set_palette(sns.color_palette(colors))\n",
    "sns.set_palette(sns.color_palette(colors))\n",
    "\n",
    "fig = sns.barplot(data = df,x = \"Race\", y= \"Accuracy\", palette=customPalette)\n",
    "fig.set(xlabel='Race', ylabel='Accuracy', Title = \"High Decile Score Accuracies By Race\")\n",
    "plt.ylim(.58, .725)"
   ]
  },
  {
   "cell_type": "markdown",
   "metadata": {},
   "source": [
    "### Jk I know that's not allowed"
   ]
  },
  {
   "cell_type": "code",
   "execution_count": 594,
   "metadata": {},
   "outputs": [
    {
     "data": {
      "text/plain": [
       "(0, 0.8)"
      ]
     },
     "execution_count": 594,
     "metadata": {},
     "output_type": "execute_result"
    },
    {
     "data": {
      "image/png": "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\n",
      "text/plain": [
       "<Figure size 432x288 with 1 Axes>"
      ]
     },
     "metadata": {
      "needs_background": "light"
     },
     "output_type": "display_data"
    }
   ],
   "source": [
    "fig = sns.barplot(data = df,x = \"Race\", y= \"Accuracy\", palette=customPalette)\n",
    "fig.set(xlabel='Race', ylabel='Accuracy', Title = \"High Decile Score Accuracies By Race\")\n",
    "plt.ylim(0, .8)"
   ]
  },
  {
   "cell_type": "markdown",
   "metadata": {},
   "source": [
    "# Low"
   ]
  },
  {
   "cell_type": "code",
   "execution_count": 595,
   "metadata": {},
   "outputs": [
    {
     "data": {
      "text/html": [
       "<div>\n",
       "<style scoped>\n",
       "    .dataframe tbody tr th:only-of-type {\n",
       "        vertical-align: middle;\n",
       "    }\n",
       "\n",
       "    .dataframe tbody tr th {\n",
       "        vertical-align: top;\n",
       "    }\n",
       "\n",
       "    .dataframe thead th {\n",
       "        text-align: right;\n",
       "    }\n",
       "</style>\n",
       "<table border=\"1\" class=\"dataframe\">\n",
       "  <thead>\n",
       "    <tr style=\"text-align: right;\">\n",
       "      <th></th>\n",
       "      <th>is_recid</th>\n",
       "      <th>race_African_American</th>\n",
       "      <th>score_text_Low</th>\n",
       "    </tr>\n",
       "  </thead>\n",
       "  <tbody>\n",
       "    <tr>\n",
       "      <th>2</th>\n",
       "      <td>1</td>\n",
       "      <td>1</td>\n",
       "      <td>0</td>\n",
       "    </tr>\n",
       "    <tr>\n",
       "      <th>3</th>\n",
       "      <td>1</td>\n",
       "      <td>1</td>\n",
       "      <td>0</td>\n",
       "    </tr>\n",
       "  </tbody>\n",
       "</table>\n",
       "</div>"
      ],
      "text/plain": [
       "   is_recid  race_African_American  score_text_Low\n",
       "2         1                      1               0\n",
       "3         1                      1               0"
      ]
     },
     "execution_count": 595,
     "metadata": {},
     "output_type": "execute_result"
    }
   ],
   "source": [
    "PredLow = compas.drop(['Unnamed: 0', 'id', 'first', 'last', 'sex', 'age', 'age_cat', \n",
    "       'juv_fel_count', 'decile_score', 'juv_misd_count', 'juv_other_count',\n",
    "       'priors_count',  'is_violent_recid', 'v_decile_score',\n",
    "       'v_score_text', 'decile_score.1'], axis =1)\n",
    "\n",
    "PredLow = PredLow[(PredLow.is_recid != -1)]\n",
    "PredLow = pd.get_dummies(PredLow)\n",
    "PredLow = PredLow.rename(columns ={'race_African-American':\"race_African_American\", 'race_Native American': \"race_Native_American\"})\n",
    "PredLow = PredLow[(PredLow.race_Caucasian == True) | (PredLow.race_African_American == True)]\n",
    "PredLow = PredLow.drop(['race_Asian','race_Caucasian', 'race_Hispanic', 'race_Native_American','race_Other', \"score_text_High\", \"score_text_Medium\"], axis =1)\n",
    "PredLow.score_text_Low = PredLow.score_text_Low.replace({0: 1, 1: 0})\n",
    "PredLow.head(2)\n"
   ]
  },
  {
   "cell_type": "code",
   "execution_count": 596,
   "metadata": {},
   "outputs": [
    {
     "data": {
      "text/plain": [
       "0.6046173161651479"
      ]
     },
     "execution_count": 596,
     "metadata": {},
     "output_type": "execute_result"
    }
   ],
   "source": [
    "PredBlLow = PredLow[(PredLow.race_African_American == True)]\n",
    "PredBlLow = PredBlLow.drop(\"race_African_American\", axis = 1)\n",
    "\n",
    "targetvariable = \"is_recid\"\n",
    "independentvariables = PredBlLow.drop(columns=[targetvariable]).columns\n",
    "\n",
    "from sklearn.tree import DecisionTreeClassifier\n",
    "\n",
    "tree = DecisionTreeClassifier()\n",
    "\n",
    "tree.fit(PredBlLow[independentvariables], PredBlLow[targetvariable])\n",
    "\n",
    "AccuracyLowDecileScoreBlack = cross_val_score(tree, PredBlLow[independentvariables],\n",
    "                PredBlLow[targetvariable], scoring=\"accuracy\", \n",
    "                cv=3).mean()\n",
    "AccuracyLowDecileScoreBlack"
   ]
  },
  {
   "cell_type": "code",
   "execution_count": 597,
   "metadata": {},
   "outputs": [
    {
     "data": {
      "text/plain": [
       "0.714772092862401"
      ]
     },
     "execution_count": 597,
     "metadata": {},
     "output_type": "execute_result"
    }
   ],
   "source": [
    "PredWhLow = PredLow[(PredLow.race_African_American == False)]\n",
    "PredWhLow = PredWhLow.drop(\"race_African_American\", axis = 1)\n",
    "targetvariable = \"is_recid\"\n",
    "independentvariables = PredWhLow.drop(columns=[targetvariable]).columns\n",
    "\n",
    "tree.fit(PredWhLow[independentvariables], PredWhLow[targetvariable])\n",
    "\n",
    "\n",
    "AccuracyLowDecileScoreWhite = cross_val_score(tree, PredWhLow[independentvariables],\n",
    "                                           PredWhLow[targetvariable], scoring=\"accuracy\", \n",
    "                                           cv=3).mean()\n",
    "AccuracyLowDecileScoreWhite"
   ]
  },
  {
   "cell_type": "code",
   "execution_count": 598,
   "metadata": {},
   "outputs": [],
   "source": [
    "DiffLowAcc = round(abs(AccuracyLowDecileScoreWhite - AccuracyLowDecileScoreBlack) *100,2)"
   ]
  },
  {
   "cell_type": "code",
   "execution_count": 599,
   "metadata": {},
   "outputs": [
    {
     "name": "stdout",
     "output_type": "stream",
     "text": [
      "A Low Decile Score for White Criminals is 11.02% more accurate than Black Criminals\n"
     ]
    }
   ],
   "source": [
    "print(f\"A Low Decile Score for White Criminals is {DiffLowAcc}% more accurate than Black Criminals\")"
   ]
  },
  {
   "cell_type": "code",
   "execution_count": 600,
   "metadata": {},
   "outputs": [
    {
     "data": {
      "text/html": [
       "<div>\n",
       "<style scoped>\n",
       "    .dataframe tbody tr th:only-of-type {\n",
       "        vertical-align: middle;\n",
       "    }\n",
       "\n",
       "    .dataframe tbody tr th {\n",
       "        vertical-align: top;\n",
       "    }\n",
       "\n",
       "    .dataframe thead th {\n",
       "        text-align: right;\n",
       "    }\n",
       "</style>\n",
       "<table border=\"1\" class=\"dataframe\">\n",
       "  <thead>\n",
       "    <tr style=\"text-align: right;\">\n",
       "      <th></th>\n",
       "      <th>Race</th>\n",
       "      <th>Accuracy</th>\n",
       "    </tr>\n",
       "  </thead>\n",
       "  <tbody>\n",
       "    <tr>\n",
       "      <th>0</th>\n",
       "      <td>Black</td>\n",
       "      <td>0.604617</td>\n",
       "    </tr>\n",
       "    <tr>\n",
       "      <th>1</th>\n",
       "      <td>White</td>\n",
       "      <td>0.714772</td>\n",
       "    </tr>\n",
       "  </tbody>\n",
       "</table>\n",
       "</div>"
      ],
      "text/plain": [
       "    Race  Accuracy\n",
       "0  Black  0.604617\n",
       "1  White  0.714772"
      ]
     },
     "execution_count": 600,
     "metadata": {},
     "output_type": "execute_result"
    }
   ],
   "source": [
    "df = pd.DataFrame({\"Race\": [\"Black\", \"White\"],\n",
    "                   'Accuracy': [AccuracyLowDecileScoreBlack, AccuracyLowDecileScoreWhite],\n",
    "                   })\n",
    "df"
   ]
  },
  {
   "cell_type": "code",
   "execution_count": 601,
   "metadata": {},
   "outputs": [
    {
     "data": {
      "text/plain": [
       "<matplotlib.axes._subplots.AxesSubplot at 0x7fd671df3b10>"
      ]
     },
     "execution_count": 601,
     "metadata": {},
     "output_type": "execute_result"
    },
    {
     "data": {
      "image/png": "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\n",
      "text/plain": [
       "<Figure size 432x288 with 1 Axes>"
      ]
     },
     "metadata": {
      "needs_background": "light"
     },
     "output_type": "display_data"
    }
   ],
   "source": [
    "colors = [ \"#000005\",\"#FFFFF9\" ]\n",
    "customPalette = sns.set_palette(sns.color_palette(colors))\n",
    "sns.set_palette(sns.color_palette(colors))\n",
    "\n",
    "fig = sns.barplot(data = df,x = \"Race\", y= \"Accuracy\", palette=customPalette)\n",
    "fig.set(xlabel='Race', ylabel='Accuracy', Title = \"Low Decile Score Accuracies By Race\")\n",
    "fig\n"
   ]
  }
 ],
 "metadata": {
  "kernelspec": {
   "display_name": "Python 3",
   "language": "python",
   "name": "python3"
  },
  "language_info": {
   "codemirror_mode": {
    "name": "ipython",
    "version": 3
   },
   "file_extension": ".py",
   "mimetype": "text/x-python",
   "name": "python",
   "nbconvert_exporter": "python",
   "pygments_lexer": "ipython3",
   "version": "3.7.4"
  }
 },
 "nbformat": 4,
 "nbformat_minor": 4
}
