{
 "cells": [
  {
   "cell_type": "markdown",
   "metadata": {},
   "source": [
    "- age\n",
    "    - younger vs. older people and decile scores, hypothesize with equivalent means\n",
    "    - age-specific, using percentage of those who reoffend and see where each age compares to the mean of all people\n",
    "    \n",
    "- decile score\n",
    "\n",
    "- years between offenses\n",
    "\n",
    "- race\n",
    "    - compared with decile score in more depth\n",
    "\n",
    "\n"
   ]
  }
 ],
 "metadata": {
  "kernelspec": {
   "display_name": "Python 3",
   "language": "python",
   "name": "python3"
  },
  "language_info": {
   "codemirror_mode": {
    "name": "ipython",
    "version": 3
   },
   "file_extension": ".py",
   "mimetype": "text/x-python",
   "name": "python",
   "nbconvert_exporter": "python",
   "pygments_lexer": "ipython3",
   "version": "3.8.2"
  }
 },
 "nbformat": 4,
 "nbformat_minor": 4
}
