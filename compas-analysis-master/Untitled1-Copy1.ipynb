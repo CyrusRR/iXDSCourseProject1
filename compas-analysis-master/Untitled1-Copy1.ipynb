{
 "cells": [
  {
   "cell_type": "code",
   "execution_count": 1,
   "metadata": {},
   "outputs": [],
   "source": [
    "import numpy as np\n",
    "import pandas as pd\n",
    "import matplotlib.pyplot as plt\n",
    "from sklearn import datasets\n",
    "from sklearn.ensemble import AdaBoostClassifier\n",
    "from sklearn.ensemble import BaggingClassifier \n",
    "from sklearn.ensemble import AdaBoostClassifier\n",
    "from xgboost import XGBClassifier\n",
    "from sklearn.ensemble import RandomForestClassifier\n",
    "from mlxtend.classifier import StackingClassifier\n",
    "from sklearn.ensemble import BaggingRegressor, BaggingClassifier\n",
    "\n",
    "from sklearn.model_selection import cross_val_score\n",
    "from sklearn.model_selection import cross_validate\n",
    "\n",
    "from sklearn.metrics import SCORERS\n",
    "\n",
    "import seaborn as sns\n",
    "sns.set(rc={'figure.figsize':(6,6)}) \n",
    "import warnings\n",
    "warnings.simplefilter(\"ignore\")\n",
    "\n",
    "%matplotlib inline"
   ]
  },
  {
   "cell_type": "code",
   "execution_count": null,
   "metadata": {},
   "outputs": [],
   "source": [
    "nc = compas.drop([\"first\",\"decile_score.1\",\"id\",\"Unnamed: 0\",\"last\",\"v_score_text\",\"score_text\",\"v_decile_score\"], axis = 1)\n",
    "nc = pd.get_dummies(nc)\n",
    "nc = nc.rename(columns ={'race_African-American':\"race_African_American\", 'race_Native American': \"race_Native_American\"})\n",
    "targetvariable = \"decile_score\"\n",
    "independentvariables = nc.drop(columns=[targetvariable, \"decile_score\"]).columns\n",
    "independentvariables"
   ]
  },
  {
   "cell_type": "code",
   "execution_count": null,
   "metadata": {},
   "outputs": [],
   "source": [
    "def evaluate_model(estimator):\n",
    "    cv_results = cross_validate(estimator,\n",
    "                    X = nc[independentvariables],\n",
    "                    y = nc[targetvariable],\n",
    "                    scoring=\"neg_mean_absolute_error\",\n",
    "                          n_jobs=-1, cv=3,\n",
    "                     return_train_score=True)\n",
    "    return pd.DataFrame(cv_results).abs().mean().to_dict()"
   ]
  },
  {
   "cell_type": "code",
   "execution_count": null,
   "metadata": {},
   "outputs": [],
   "source": [
    "def display_results(results):\n",
    "    results_df  = pd.DataFrame(results).T\n",
    "    results_cols = results_df.columns\n",
    "    for col in results_df:\n",
    "        results_df[col] = results_df[col].apply(np.mean)\n",
    "    return results_df"
   ]
  },
  {
   "cell_type": "code",
   "execution_count": null,
   "metadata": {},
   "outputs": [],
   "source": [
    "from mlxtend.regressor import StackingRegressor\n",
    "from sklearn.tree import DecisionTreeRegressor\n",
    "from sklearn.linear_model import LinearRegression\n",
    "from sklearn.linear_model import ElasticNet, Lasso, Ridge\n",
    "from sklearn.ensemble import BaggingRegressor, BaggingClassifier\n",
    "from sklearn.ensemble import RandomForestRegressor, RandomForestClassifier\n",
    "from sklearn.tree import ExtraTreeRegressor\n",
    "from sklearn.ensemble import AdaBoostRegressor, AdaBoostClassifier\n",
    "\n",
    "from xgboost import XGBRegressor, XGBClassifier\n"
   ]
  },
  {
   "cell_type": "code",
   "execution_count": null,
   "metadata": {},
   "outputs": [],
   "source": [
    "estimator_bagging  = BaggingClassifier(n_estimators=5, random_state=42) #  DTs\n",
    "estimator_randomforest = RandomForestClassifier(n_estimators=5, random_state=42)\n",
    "estimator_adaboost = AdaBoostClassifier(n_estimators=5, random_state=42)\n",
    "estimator_bagging_10 = BaggingRegressor(n_estimators=10)\n",
    "estimator_bagging_100 = BaggingRegressor(n_estimators=100)\n",
    "estimator_randomforest = RandomForestRegressor(n_estimators=100)\n",
    "estimator_bagging_elnet = BaggingRegressor(n_estimators=100, \n",
    "                                           base_estimator=ElasticNet())\n",
    "estimator_bagging_random_tree = BaggingRegressor(n_estimators=100,\n",
    "                                    base_estimator=ExtraTreeRegressor())\n",
    "estimator_adaboost = AdaBoostRegressor(n_estimators=100)\n",
    "estimator_xgboost = XGBRegressor(n_estimators=500)\n"
   ]
  },
  {
   "cell_type": "code",
   "execution_count": null,
   "metadata": {},
   "outputs": [],
   "source": [
    "results = {}"
   ]
  },
  {
   "cell_type": "code",
   "execution_count": null,
   "metadata": {},
   "outputs": [],
   "source": [
    "results[\"Bagging\"] = evaluate_model(estimator_bagging)\n",
    "results[\"randomforest\"] = evaluate_model(estimator_randomforest)\n",
    "results['adaboost'] = evaluate_model(estimator_adaboost)\n",
    "results[\"bagging_tree_10\"] = evaluate_model(estimator_bagging_10)\n",
    "results[\"bagging_tree_100\"] = evaluate_model(estimator_bagging_100)\n",
    "results[\"randomforest_100\"] = evaluate_model(estimator_randomforest)\n",
    "results[\"bagging_elnet\"] = evaluate_model(estimator_bagging_elnet)\n",
    "results[\"bagging_random_tree\"] = evaluate_model(estimator_bagging_random_tree)\n",
    "results[\"adaboost_100\"]  = evaluate_model(estimator_adaboost)\n",
    "results[\"xgboost_500\"] = evaluate_model(estimator_xgboost)\n",
    "\n",
    "display_results(results)"
   ]
  },
  {
   "cell_type": "markdown",
   "metadata": {},
   "source": [
    "# Predict Decile Score: African American"
   ]
  },
  {
   "cell_type": "code",
   "execution_count": null,
   "metadata": {},
   "outputs": [],
   "source": [
    "\n",
    "ncAfr = nc[nc.race_African_American == True]\n",
    "targetvariable = \"decile_score\"\n",
    "independentvariables = ncAfr.drop(columns=[targetvariable, \"decile_score\"]).columns"
   ]
  },
  {
   "cell_type": "code",
   "execution_count": null,
   "metadata": {},
   "outputs": [],
   "source": [
    "def evaluate_modelAfr(estimator):\n",
    "    cv_results = cross_validate(estimator,\n",
    "                    X = ncAfr[independentvariables],\n",
    "                    y = ncAfr[targetvariable],\n",
    "                    scoring=\"neg_mean_absolute_error\",\n",
    "                          n_jobs=-1, cv=3,\n",
    "                     return_train_score=True)\n",
    "    return pd.DataFrame(cv_results).abs().mean().to_dict()"
   ]
  },
  {
   "cell_type": "code",
   "execution_count": null,
   "metadata": {},
   "outputs": [],
   "source": [
    "resultsAfr = {}"
   ]
  },
  {
   "cell_type": "code",
   "execution_count": null,
   "metadata": {},
   "outputs": [],
   "source": [
    "resultsAfr[\"Bagging\"] = evaluate_modelAfr(estimator_bagging)\n",
    "resultsAfr[\"randomforest\"] = evaluate_modelAfr(estimator_randomforest)\n",
    "resultsAfr['adaboost'] = evaluate_modelAfr(estimator_adaboost)\n",
    "resultsAfr[\"bagging_tree_10\"] = evaluate_modelAfr(estimator_bagging_10)\n",
    "resultsAfr[\"bagging_tree_100\"] = evaluate_modelAfr(estimator_bagging_100)\n",
    "resultsAfr[\"randomforest_100\"] = evaluate_modelAfr(estimator_randomforest)\n",
    "resultsAfr[\"bagging_elnet\"] = evaluate_modelAfr(estimator_bagging_elnet)\n",
    "resultsAfr[\"bagging_random_tree\"] = evaluate_modelAfr(estimator_bagging_random_tree)\n",
    "resultsAfr[\"adaboost_100\"]  = evaluate_modelAfr(estimator_adaboost)\n",
    "resultsAfr[\"xgboost_500\"] = evaluate_modelAfr(estimator_xgboost)\n",
    "\n",
    "display_results(resultsAfr).sort_values(\"test_score\", ascending = True).head(2)"
   ]
  },
  {
   "cell_type": "markdown",
   "metadata": {},
   "source": [
    "# Predict Decile Score: Caucasian"
   ]
  },
  {
   "cell_type": "code",
   "execution_count": null,
   "metadata": {},
   "outputs": [],
   "source": [
    "ncWh = nc[nc.race_Caucasian == True]\n",
    "targetvariable = \"decile_score\"\n",
    "independentvariables = ncWh.drop(columns=[targetvariable, \"decile_score\"]).columns"
   ]
  },
  {
   "cell_type": "code",
   "execution_count": null,
   "metadata": {},
   "outputs": [],
   "source": [
    "def evaluate_modelWh(estimator):\n",
    "    cv_results = cross_validate(estimator,\n",
    "                    X = ncWh[independentvariables],\n",
    "                    y = ncWh[targetvariable],\n",
    "                    scoring=\"neg_mean_absolute_error\",\n",
    "                          n_jobs=-1, cv=3,\n",
    "                     return_train_score=True)\n",
    "    return pd.DataFrame(cv_results).abs().mean().to_dict()"
   ]
  },
  {
   "cell_type": "code",
   "execution_count": null,
   "metadata": {},
   "outputs": [],
   "source": [
    "resultsWh = {}"
   ]
  },
  {
   "cell_type": "code",
   "execution_count": null,
   "metadata": {},
   "outputs": [],
   "source": [
    "resultsWh[\"Bagging\"] = evaluate_modelWh(estimator_bagging)\n",
    "resultsWh[\"randomforest\"] = evaluate_modelWh(estimator_randomforest)\n",
    "resultsWh['adaboost'] = evaluate_modelWh(estimator_adaboost)\n",
    "resultsWh[\"bagging_tree_10\"] = evaluate_modelWh(estimator_bagging_10)\n",
    "resultsWh[\"bagging_tree_100\"] = evaluate_modelWh(estimator_bagging_100)\n",
    "resultsWh[\"randomforest_100\"] = evaluate_modelWh(estimator_randomforest)\n",
    "resultsWh[\"bagging_elnet\"] = evaluate_modelWh(estimator_bagging_elnet)\n",
    "resultsWh[\"bagging_random_tree\"] = evaluate_modelWh(estimator_bagging_random_tree)\n",
    "resultsWh[\"adaboost_100\"]  = evaluate_modelWh(estimator_adaboost)\n",
    "resultsWh[\"xgboost_500\"] = evaluate_modelWh(estimator_xgboost)\n",
    "\n",
    "\n",
    "display_results(resultsWh).sort_values(\"test_score\", ascending = True).head(2)"
   ]
  },
  {
   "cell_type": "markdown",
   "metadata": {},
   "source": [
    "# ^Decile Score Seems to Be More Easy to Predict for White Than Black"
   ]
  },
  {
   "cell_type": "markdown",
   "metadata": {},
   "source": [
    "# Trying to Predict Race: Is this Person African American? \n",
    "## Definitely Didn't Work"
   ]
  },
  {
   "cell_type": "code",
   "execution_count": null,
   "metadata": {},
   "outputs": [],
   "source": [
    "ncBlWh = compas.drop([\"first\",\"decile_score.1\",\"id\",\"Unnamed: 0\",\"last\",\"v_score_text\",\"score_text\",], axis = 1)\n",
    "ncBlWh = pd.get_dummies(ncBlWh)\n",
    "ncBlWh = ncBlWh.rename(columns ={'race_African-American':\"race_African_American\", 'race_Native American': \"race_Native_American\"})\n",
    "ncBlWh = ncBlWh[(ncBlWh.race_Caucasian == True) | (ncBlWh.race_African_American == True)]\n",
    "ncBlWh = ncBlWh.drop(['race_Asian','race_Caucasian', 'race_Hispanic', 'race_Native_American','race_Other'], axis =1)"
   ]
  },
  {
   "cell_type": "code",
   "execution_count": null,
   "metadata": {},
   "outputs": [],
   "source": [
    "targetvariable = \"race_African_American\"\n",
    "independentvariables = ncBlWh.drop(columns=[targetvariable]).columns"
   ]
  },
  {
   "cell_type": "code",
   "execution_count": null,
   "metadata": {},
   "outputs": [],
   "source": [
    "def evaluate_modelBlWh(estimator):\n",
    "    cv_results = cross_validate(estimator,\n",
    "                    X = ncBlWh[independentvariables],\n",
    "                    y = ncBlWh[targetvariable],\n",
    "                    scoring=\"accuracy\",\n",
    "                          n_jobs=-1, cv=3,\n",
    "                     return_train_score=True)\n",
    "    return pd.DataFrame(cv_results).abs().mean().to_dict()"
   ]
  },
  {
   "cell_type": "code",
   "execution_count": null,
   "metadata": {},
   "outputs": [],
   "source": [
    "resultsBlWh = {}"
   ]
  },
  {
   "cell_type": "code",
   "execution_count": null,
   "metadata": {},
   "outputs": [],
   "source": [
    "resultsBlWh[\"Bagging\"] = evaluate_modelBlWh(estimator_bagging)\n",
    "\n",
    "\n",
    "display_results(resultsBlWh).sort_values(\"test_score\", ascending = True)"
   ]
  },
  {
   "cell_type": "code",
   "execution_count": null,
   "metadata": {},
   "outputs": [],
   "source": [
    "from sklearn.model_selection import train_test_split\n",
    "X_trainBlWh, X_testBlWh, y_trainBlWh, y_testBlWh = train_test_split(\n",
    "     ncBlWh[independentvariables],\n",
    "     ncBlWh[targetvariable], \n",
    "     test_size=0.2,\n",
    "    random_state = 13,)\n",
    "\n",
    "modelBlWh = LinearRegression()\n",
    "modelBlWh.fit(X_trainBlWh, y_trainBlWh)\n",
    "\n",
    "predictionsBlWh = modelBlWh.predict(X_testBlWh)\n",
    "\n",
    "X = X_testBlWh.reset_index().copy() \n",
    "X[\"race_African_American\"] = y_testBlWh.tolist()\n",
    "X[\"prediction\"] = predictionsBlWh\n",
    "\n",
    "X[\"error\"] = abs(X[\"race_African_American\"]-X[\"prediction\"])\n",
    "res = X[[\"race_African_American\",\"prediction\",\"error\"]]\n",
    "\n",
    "res.error.describe()"
   ]
  },
  {
   "cell_type": "markdown",
   "metadata": {},
   "source": [
    "Yeah uh clearly this doesn't work this way"
   ]
  },
  {
   "cell_type": "markdown",
   "metadata": {},
   "source": [
    "# How Good is Decile Score at Predicting Recidivism (By Race)?"
   ]
  },
  {
   "cell_type": "markdown",
   "metadata": {},
   "source": [
    "# High Decile Score"
   ]
  },
  {
   "cell_type": "code",
   "execution_count": null,
   "metadata": {},
   "outputs": [],
   "source": [
    "PredHigh = compas.drop(['Unnamed: 0', 'id', 'first', 'last', 'sex', 'age', 'age_cat', \n",
    "       'juv_fel_count', 'decile_score', 'juv_misd_count', 'juv_other_count',\n",
    "       'priors_count',  'is_violent_recid', 'v_decile_score',\n",
    "       'v_score_text', 'decile_score.1'], axis =1)\n",
    "\n",
    "PredHigh = PredHigh[(PredHigh.is_recid != -1)]\n",
    "PredHigh = pd.get_dummies(PredHigh)\n",
    "PredHigh = PredHigh.rename(columns ={'race_African-American':\"race_African_American\", 'race_Native American': \"race_Native_American\"})\n",
    "PredHigh = PredHigh[(PredHigh.race_Caucasian == True) | (PredHigh.race_African_American == True)]\n",
    "PredHigh = PredHigh.drop(['race_Asian','race_Caucasian', 'race_Hispanic', 'race_Native_American','race_Other', \"score_text_Low\", \"score_text_Medium\"], axis =1)\n",
    "\n"
   ]
  },
  {
   "cell_type": "code",
   "execution_count": null,
   "metadata": {},
   "outputs": [],
   "source": [
    "PredHigh.head()"
   ]
  },
  {
   "cell_type": "code",
   "execution_count": null,
   "metadata": {},
   "outputs": [],
   "source": [
    "PredBlHigh = PredHigh[(PredHigh.race_African_American == True)]\n",
    "PredBlHigh = PredBlHigh.drop(\"race_African_American\", axis = 1)\n",
    "\n",
    "targetvariable = \"is_recid\"\n",
    "independentvariables = PredBlHigh.drop(columns=[targetvariable]).columns\n",
    "\n",
    "from sklearn.tree import DecisionTreeClassifier\n",
    "\n",
    "tree = DecisionTreeClassifier()\n",
    "\n",
    "tree.fit(PredBlHigh[independentvariables], PredBlHigh[targetvariable])\n",
    "\n",
    "AccuracyHighDecileScoreBlack = cross_val_score(tree, PredBlHigh[independentvariables],\n",
    "                PredBlHigh[targetvariable], scoring=\"accuracy\", \n",
    "                cv=3).mean()"
   ]
  },
  {
   "cell_type": "code",
   "execution_count": null,
   "metadata": {},
   "outputs": [],
   "source": [
    "PredWhHigh = PredHigh[(PredHigh.race_African_American == False)]\n",
    "PredWhHigh = PredWhHigh.drop(\"race_African_American\", axis = 1)\n",
    "targetvariable = \"is_recid\"\n",
    "independentvariables = PredWhHigh.drop(columns=[targetvariable]).columns\n",
    "\n",
    "tree.fit(PredWhHigh[independentvariables], PredWhHigh[targetvariable])\n",
    "\n",
    "\n",
    "AccuracyHighDecileScoreWhite = cross_val_score(tree, PredWhHigh[independentvariables],\n",
    "                                           PredWhHigh[targetvariable], scoring=\"accuracy\", \n",
    "                                           cv=3).mean()"
   ]
  },
  {
   "cell_type": "code",
   "execution_count": null,
   "metadata": {},
   "outputs": [],
   "source": [
    "DiffAcc = round(abs(AccuracyHighDecileScoreWhite - AccuracyHighDecileScoreBlack) *100,2)"
   ]
  },
  {
   "cell_type": "code",
   "execution_count": null,
   "metadata": {},
   "outputs": [],
   "source": [
    "print(f\"A High Decile Score for White Criminals is {DiffAcc}% more accurate than Black Criminals\")"
   ]
  },
  {
   "cell_type": "code",
   "execution_count": null,
   "metadata": {},
   "outputs": [],
   "source": [
    "df = pd.DataFrame({\"Race\": [\"Black\", \"White\"],\n",
    "                   'Accuracy': [AccuracyHighDecileScoreBlack, AccuracyHighDecileScoreWhite],\n",
    "                   })\n",
    "                   "
   ]
  },
  {
   "cell_type": "code",
   "execution_count": null,
   "metadata": {},
   "outputs": [],
   "source": [
    "colors = [ \"#000005\",\"#FFFFF9\" ]\n",
    "customPalette = sns.set_palette(sns.color_palette(colors))\n",
    "sns.set_palette(sns.color_palette(colors))\n",
    "\n",
    "fig = sns.barplot(data = df,x = \"Race\", y= \"Accuracy\", palette=customPalette)\n",
    "fig.set(xlabel='Race', ylabel='Accuracy', Title = \"High Decile Score Accuracies By Race\")\n",
    "plt.ylim(.58, .725)"
   ]
  },
  {
   "cell_type": "code",
   "execution_count": null,
   "metadata": {},
   "outputs": [],
   "source": [
    "### Jk I know that's not allowed"
   ]
  },
  {
   "cell_type": "code",
   "execution_count": null,
   "metadata": {},
   "outputs": [],
   "source": [
    "fig = sns.barplot(data = df,x = \"Race\", y= \"Accuracy\", palette=customPalette)\n",
    "fig.set(xlabel='Race', ylabel='Accuracy', Title = \"High Decile Score Accuracies By Race\")\n",
    "plt.ylim(0, .8)"
   ]
  },
  {
   "cell_type": "code",
   "execution_count": null,
   "metadata": {},
   "outputs": [],
   "source": [
    "# Low"
   ]
  },
  {
   "cell_type": "code",
   "execution_count": null,
   "metadata": {},
   "outputs": [],
   "source": [
    "PredLow = compas.drop(['Unnamed: 0', 'id', 'first', 'last', 'sex', 'age', 'age_cat', \n",
    "       'juv_fel_count', 'decile_score', 'juv_misd_count', 'juv_other_count',\n",
    "       'priors_count',  'is_violent_recid', 'v_decile_score',\n",
    "       'v_score_text', 'decile_score.1'], axis =1)\n",
    "\n",
    "PredLow = PredLow[(PredLow.is_recid != -1)]\n",
    "PredLow = pd.get_dummies(PredLow)\n",
    "PredLow = PredLow.rename(columns ={'race_African-American':\"race_African_American\", 'race_Native American': \"race_Native_American\"})\n",
    "PredLow = PredLow[(PredLow.race_Caucasian == True) | (PredLow.race_African_American == True)]\n",
    "PredLow = PredLow.drop(['race_Asian','race_Caucasian', 'race_Hispanic', 'race_Native_American','race_Other', \"score_text_High\", \"score_text_Medium\"], axis =1)\n",
    "PredLow.score_text_Low = PredLow.score_text_Low.replace({0: 1, 1: 0})\n",
    "PredLow.head(2)\n"
   ]
  },
  {
   "cell_type": "code",
   "execution_count": null,
   "metadata": {},
   "outputs": [],
   "source": [
    "PredBlLow = PredLow[(PredLow.race_African_American == True)]\n",
    "PredBlLow = PredBlLow.drop(\"race_African_American\", axis = 1)\n",
    "\n",
    "targetvariable = \"is_recid\"\n",
    "independentvariables = PredBlLow.drop(columns=[targetvariable]).columns\n",
    "\n",
    "from sklearn.tree import DecisionTreeClassifier\n",
    "\n",
    "tree = DecisionTreeClassifier()\n",
    "\n",
    "tree.fit(PredBlLow[independentvariables], PredBlLow[targetvariable])\n",
    "\n",
    "AccuracyLowDecileScoreBlack = cross_val_score(tree, PredBlLow[independentvariables],\n",
    "                PredBlLow[targetvariable], scoring=\"accuracy\", \n",
    "                cv=3).mean()\n",
    "AccuracyLowDecileScoreBlack"
   ]
  },
  {
   "cell_type": "code",
   "execution_count": null,
   "metadata": {},
   "outputs": [],
   "source": [
    "PredWhLow = PredLow[(PredLow.race_African_American == False)]\n",
    "PredWhLow = PredWhLow.drop(\"race_African_American\", axis = 1)\n",
    "targetvariable = \"is_recid\"\n",
    "independentvariables = PredWhLow.drop(columns=[targetvariable]).columns\n",
    "\n",
    "tree.fit(PredWhLow[independentvariables], PredWhLow[targetvariable])\n",
    "\n",
    "\n",
    "AccuracyLowDecileScoreWhite = cross_val_score(tree, PredWhLow[independentvariables],\n",
    "                                           PredWhLow[targetvariable], scoring=\"accuracy\", \n",
    "                                           cv=3).mean()\n",
    "AccuracyLowDecileScoreWhite"
   ]
  },
  {
   "cell_type": "code",
   "execution_count": null,
   "metadata": {},
   "outputs": [],
   "source": [
    "DiffLowAcc = round(abs(AccuracyLowDecileScoreWhite - AccuracyLowDecileScoreBlack) *100,2)"
   ]
  },
  {
   "cell_type": "code",
   "execution_count": null,
   "metadata": {},
   "outputs": [],
   "source": [
    "print(f\"A Low Decile Score for White Criminals is {DiffLowAcc}% more accurate than Black Criminals\")"
   ]
  },
  {
   "cell_type": "code",
   "execution_count": null,
   "metadata": {},
   "outputs": [],
   "source": [
    "df = pd.DataFrame({\"Race\": [\"Black\", \"White\"],\n",
    "                   'Accuracy': [AccuracyLowDecileScoreBlack, AccuracyLowDecileScoreWhite],\n",
    "                   })\n",
    "df"
   ]
  },
  {
   "cell_type": "code",
   "execution_count": null,
   "metadata": {},
   "outputs": [],
   "source": [
    "colors = [ \"#000005\",\"#FFFFF9\" ]\n",
    "customPalette = sns.set_palette(sns.color_palette(colors))\n",
    "sns.set_palette(sns.color_palette(colors))\n",
    "\n",
    "fig = sns.barplot(data = df,x = \"Race\", y= \"Accuracy\", palette=customPalette)\n",
    "fig.set(xlabel='Race', ylabel='Accuracy', Title = \"Low Decile Score Accuracies By Race\")\n",
    "fig\n"
   ]
  },
  {
   "cell_type": "code",
   "execution_count": null,
   "metadata": {},
   "outputs": [],
   "source": []
  },
  {
   "cell_type": "code",
   "execution_count": null,
   "metadata": {},
   "outputs": [],
   "source": []
  },
  {
   "cell_type": "code",
   "execution_count": null,
   "metadata": {},
   "outputs": [],
   "source": []
  },
  {
   "cell_type": "code",
   "execution_count": null,
   "metadata": {},
   "outputs": [],
   "source": []
  },
  {
   "cell_type": "code",
   "execution_count": null,
   "metadata": {},
   "outputs": [],
   "source": []
  }
 ],
 "metadata": {
  "kernelspec": {
   "display_name": "Python 3",
   "language": "python",
   "name": "python3"
  },
  "language_info": {
   "codemirror_mode": {
    "name": "ipython",
    "version": 3
   },
   "file_extension": ".py",
   "mimetype": "text/x-python",
   "name": "python",
   "nbconvert_exporter": "python",
   "pygments_lexer": "ipython3",
   "version": "3.7.6"
  }
 },
 "nbformat": 4,
 "nbformat_minor": 4
}
