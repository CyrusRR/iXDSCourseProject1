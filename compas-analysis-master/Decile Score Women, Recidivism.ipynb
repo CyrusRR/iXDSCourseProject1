{
 "cells": [
  {
   "cell_type": "code",
   "execution_count": 7,
   "metadata": {},
   "outputs": [],
   "source": [
    "import numpy as np\n",
    "import pandas as pd\n",
    "import matplotlib.pyplot as plt\n",
    "from sklearn import datasets\n",
    "from sklearn.ensemble import AdaBoostClassifier\n",
    "from sklearn.ensemble import BaggingClassifier \n",
    "from sklearn.ensemble import AdaBoostClassifier\n",
    "from xgboost import XGBClassifier\n",
    "from sklearn.ensemble import RandomForestClassifier\n",
    "from mlxtend.classifier import StackingClassifier\n",
    "from sklearn.ensemble import BaggingRegressor, BaggingClassifier\n",
    "\n",
    "from sklearn.model_selection import cross_val_score\n",
    "from sklearn.model_selection import cross_validate\n",
    "\n",
    "from sklearn.metrics import SCORERS\n",
    "\n",
    "import seaborn as sns\n",
    "sns.set(rc={'figure.figsize':(6,6)}) \n",
    "import warnings\n",
    "warnings.simplefilter(\"ignore\")\n",
    "\n",
    "%matplotlib inline"
   ]
  },
  {
   "cell_type": "code",
   "execution_count": 8,
   "metadata": {},
   "outputs": [],
   "source": [
    "from mlxtend.regressor import StackingRegressor\n",
    "from sklearn.tree import DecisionTreeRegressor\n",
    "from sklearn.linear_model import LinearRegression\n",
    "from sklearn.linear_model import ElasticNet, Lasso, Ridge\n",
    "from sklearn.ensemble import BaggingRegressor, BaggingClassifier\n",
    "from sklearn.ensemble import RandomForestRegressor, RandomForestClassifier\n",
    "from sklearn.tree import ExtraTreeRegressor\n",
    "from sklearn.ensemble import AdaBoostRegressor, AdaBoostClassifier\n",
    "\n",
    "from xgboost import XGBRegressor, XGBClassifier\n"
   ]
  },
  {
   "cell_type": "code",
   "execution_count": 9,
   "metadata": {},
   "outputs": [],
   "source": [
    "estimator_bagging  = BaggingClassifier(n_estimators=5, random_state=42) #  DTs\n",
    "estimator_randomforest = RandomForestClassifier(n_estimators=5, random_state=42)\n",
    "estimator_adaboost = AdaBoostClassifier(n_estimators=5, random_state=42)\n",
    "estimator_bagging_10 = BaggingRegressor(n_estimators=10)\n",
    "estimator_bagging_100 = BaggingRegressor(n_estimators=100)\n",
    "estimator_randomforest = RandomForestRegressor(n_estimators=100)\n",
    "estimator_bagging_elnet = BaggingRegressor(n_estimators=100, \n",
    "                                           base_estimator=ElasticNet())\n",
    "estimator_bagging_random_tree = BaggingRegressor(n_estimators=100,\n",
    "                                    base_estimator=ExtraTreeRegressor())\n",
    "estimator_adaboost = AdaBoostRegressor(n_estimators=100)\n",
    "estimator_xgboost = XGBRegressor(n_estimators=500)"
   ]
  },
  {
   "cell_type": "code",
   "execution_count": 10,
   "metadata": {},
   "outputs": [],
   "source": [
    "compas = pd.read_csv(\"Compas.csv\")"
   ]
  },
  {
   "cell_type": "code",
   "execution_count": 18,
   "metadata": {},
   "outputs": [
    {
     "name": "stdout",
     "output_type": "stream",
     "text": [
      "According to Decision Tree, Decile Score for White Criminals is 3.82% more accurate than Black Criminals\n",
      "According to the Bagging Tree, Decile Score for White Criminals is 3.72% more accurate than Black Criminals\n"
     ]
    }
   ],
   "source": [
    "Pred = compas.drop(['Unnamed: 0', 'id', 'first', 'last', 'age', 'age_cat', \n",
    "       'juv_fel_count', 'juv_misd_count', 'juv_other_count',\n",
    "       'priors_count',  'is_violent_recid', 'v_decile_score',\"score_text\",\n",
    "       'v_score_text', 'decile_score.1'], axis =1)\n",
    "\n",
    "Pred = Pred[(Pred.is_recid != -1)]\n",
    "Pred = pd.get_dummies(Pred)\n",
    "Pred = Pred.rename(columns ={'race_African-American':\"race_African_American\", 'race_Native American': \"race_Native_American\"})\n",
    "Pred = Pred[(Pred.race_Caucasian == True) | (Pred.race_African_American == True)]\n",
    "Pred = Pred.drop(['race_Asian','race_Caucasian', 'race_Hispanic', 'race_Native_American','race_Other'], axis =1)\n",
    "Pred = Pred[Pred.sex_Female == 1].drop([\"sex_Female\", \"sex_Male\"], axis =1)\n",
    "\n",
    "Pred.head()\n",
    "\n",
    "PredBl = Pred[(Pred.race_African_American == True)]\n",
    "PredBl = PredBl.drop(\"race_African_American\", axis = 1)\n",
    "\n",
    "targetvariable = \"is_recid\"\n",
    "independentvariables = PredBl.drop(columns=[targetvariable]).columns\n",
    "\n",
    "from sklearn.tree import DecisionTreeClassifier\n",
    "\n",
    "tree = DecisionTreeClassifier()\n",
    "\n",
    "tree.fit(PredBl[independentvariables], PredBl[targetvariable])\n",
    "\n",
    "TreeAccuracyDecileScoreBlack = cross_val_score(tree, PredBl[independentvariables],\n",
    "                PredBl[targetvariable], scoring=\"accuracy\", \n",
    "                cv=3).mean()\n",
    "\n",
    "def evaluate_modelBl(estimator):\n",
    "    cv_results = cross_validate(estimator,\n",
    "                    X = PredBl[independentvariables],\n",
    "                    y = PredBl[targetvariable],\n",
    "                    scoring=\"accuracy\",\n",
    "                          n_jobs=-1, cv=3,\n",
    "                     return_train_score=True)\n",
    "    return pd.DataFrame(cv_results).abs().mean().to_dict()\n",
    "\n",
    "def display_results(results):\n",
    "    results_df  = pd.DataFrame(results).T\n",
    "    results_cols = results_df.columns\n",
    "    for col in results_df:\n",
    "        results_df[col] = results_df[col].apply(np.mean)\n",
    "    return results_df\n",
    "\n",
    "resultsBl = {}\n",
    "\n",
    "resultsBl[\"Bagging\"] = evaluate_modelBl(estimator_bagging)\n",
    "resBl = display_results(resultsBl).iloc[[0][0]].test_score\n",
    "\n",
    "PredWh = Pred[(Pred.race_African_American == False)]\n",
    "PredWh = PredWh.drop(\"race_African_American\", axis = 1)\n",
    "targetvariable = \"is_recid\"\n",
    "independentvariables = PredWh.drop(columns=[targetvariable]).columns\n",
    "\n",
    "tree.fit(PredWh[independentvariables], PredWh[targetvariable])\n",
    "\n",
    "\n",
    "TreeAccuracyDecileScoreWhite = cross_val_score(tree, PredWh[independentvariables],\n",
    "                                           PredWh[targetvariable], scoring=\"accuracy\", \n",
    "                                           cv=3).mean()\n",
    "\n",
    "def evaluate_modelWh(estimator):\n",
    "    cv_results = cross_validate(estimator,\n",
    "                    X = PredWh[independentvariables],\n",
    "                    y = PredWh[targetvariable],\n",
    "                    scoring=\"accuracy\",\n",
    "                          n_jobs=-1, cv=3,\n",
    "                     return_train_score=True)\n",
    "    return pd.DataFrame(cv_results).abs().mean().to_dict()\n",
    "\n",
    "resultsWh = {}\n",
    "resultsWh[\"Bagging\"] = evaluate_modelWh(estimator_bagging)\n",
    "resWh = display_results(resultsWh).iloc[[0][0]].test_score\n",
    "\n",
    "\n",
    "BaggDiffAcc = round(abs(resWh- resBl) *100,2)\n",
    "\n",
    "TreeDiffAcc = round(abs(TreeAccuracyDecileScoreWhite - TreeAccuracyDecileScoreBlack) *100,2)\n",
    "\n",
    "\n",
    "[TreeAccuracyDecileScoreWhite,TreeAccuracyDecileScoreBlack]\n",
    "\n",
    "print(f\"According to Decision Tree, Decile Score for White Criminals is {TreeDiffAcc}% more accurate than Black Criminals\")\n",
    "\n",
    "print(f\"According to the Bagging Tree, Decile Score for White Criminals is {BaggDiffAcc}% more accurate than Black Criminals\")\n",
    "\n",
    "Treeresults = pd.DataFrame({\"Race\": [\"Black Women\", \"White Women\"],\n",
    "                   'Accuracy': [TreeAccuracyDecileScoreBlack, TreeAccuracyDecileScoreWhite],\n",
    "                   })\n",
    "                   \n",
    "\n",
    "Baggresults = pd.DataFrame({\"Race\": [\"Black Women\", \"White Women\"],\n",
    "                   'Accuracy': [resBl, resWh],\n",
    "                   })"
   ]
  },
  {
   "cell_type": "code",
   "execution_count": 19,
   "metadata": {},
   "outputs": [
    {
     "data": {
      "text/plain": [
       "[Text(0, 0.5, 'Accuracy'),\n",
       " Text(0.5, 0, 'Race'),\n",
       " Text(0.5, 1.0, ' Decile Score Accuracies By Race')]"
      ]
     },
     "execution_count": 19,
     "metadata": {},
     "output_type": "execute_result"
    },
    {
     "data": {
      "image/png": "[encoded data removed]",
      "text/plain": [
       "<Figure size 432x288 with 1 Axes>"
      ]
     },
     "metadata": {
      "needs_background": "light"
     },
     "output_type": "display_data"
    }
   ],
   "source": [
    "colors = [ \"#000005\",\"#C0C0C0\" ]\n",
    "customPalette = sns.set_palette(sns.color_palette(colors))\n",
    "sns.set_palette(sns.color_palette(colors))\n",
    "\n",
    "fig = sns.barplot(data = Treeresults,x = \"Race\", y= \"Accuracy\", palette=customPalette)\n",
    "fig.set(xlabel='Race', ylabel='Accuracy', Title = \" Decile Score Accuracies By Race\")"
   ]
  },
  {
   "cell_type": "code",
   "execution_count": 14,
   "metadata": {},
   "outputs": [
    {
     "data": {
      "text/plain": [
       "[Text(0, 0.5, 'Accuracy'),\n",
       " Text(0.5, 0, 'Race'),\n",
       " Text(0.5, 1.0, ' Decile Score Accuracies By Race')]"
      ]
     },
     "execution_count": 14,
     "metadata": {},
     "output_type": "execute_result"
    },
    {
     "data": {
      "image/png": "[encoded data removed]",
      "text/plain": [
       "<Figure size 432x288 with 1 Axes>"
      ]
     },
     "metadata": {
      "needs_background": "light"
     },
     "output_type": "display_data"
    }
   ],
   "source": [
    "colors = [ \"#000005\",\"#C0C0C0\" ]\n",
    "customPalette = sns.set_palette(sns.color_palette(colors))\n",
    "sns.set_palette(sns.color_palette(colors))\n",
    "\n",
    "fig = sns.barplot(data = Baggresults,x = \"Race\", y= \"Accuracy\", palette=customPalette)\n",
    "fig.set(xlabel='Race', ylabel='Accuracy', Title = \" Decile Score Accuracies By Race\")"
   ]
  },
  {
   "cell_type": "code",
   "execution_count": null,
   "metadata": {},
   "outputs": [],
   "source": []
  }
 ],
 "metadata": {
  "kernelspec": {
   "display_name": "Python 3",
   "language": "python",
   "name": "python3"
  },
  "language_info": {
   "codemirror_mode": {
    "name": "ipython",
    "version": 3
   },
   "file_extension": ".py",
   "mimetype": "text/x-python",
   "name": "python",
   "nbconvert_exporter": "python",
   "pygments_lexer": "ipython3",
   "version": "3.7.6"
  }
 },
 "nbformat": 4,
 "nbformat_minor": 4
}
