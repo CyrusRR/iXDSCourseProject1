{
 "cells": [
  {
   "cell_type": "markdown",
   "metadata": {},
   "source": [
    "# Using Male Violent Decile Score to Predict Violent Recidivism"
   ]
  },
  {
   "cell_type": "markdown",
   "metadata": {},
   "source": [
    "### This is all copied from the end of COMPAS Hypothesis Testing in section:\n",
    "### \"How Good is Decile Score at Predicting Recidivism (By Race)\" \n",
    "### Look there for annotations, I'm doing the exact same thing with slightly different variables for violent recidivism, instead of general is_recid"
   ]
  },
  {
   "cell_type": "code",
   "execution_count": 92,
   "metadata": {},
   "outputs": [],
   "source": [
    "import numpy as np\n",
    "import pandas as pd\n",
    "import matplotlib.pyplot as plt\n",
    "from sklearn import datasets\n",
    "from sklearn.ensemble import AdaBoostClassifier\n",
    "from sklearn.ensemble import BaggingClassifier \n",
    "from sklearn.ensemble import AdaBoostClassifier\n",
    "from xgboost import XGBClassifier\n",
    "from sklearn.ensemble import RandomForestClassifier\n",
    "from mlxtend.classifier import StackingClassifier\n",
    "from sklearn.ensemble import BaggingRegressor, BaggingClassifier\n",
    "\n",
    "from sklearn.model_selection import cross_val_score\n",
    "from sklearn.model_selection import cross_validate\n",
    "\n",
    "from sklearn.metrics import SCORERS\n",
    "\n",
    "import seaborn as sns\n",
    "sns.set(rc={'figure.figsize':(6,6)}) \n",
    "import warnings\n",
    "warnings.simplefilter(\"ignore\")\n",
    "\n",
    "%matplotlib inline"
   ]
  },
  {
   "cell_type": "code",
   "execution_count": 93,
   "metadata": {},
   "outputs": [],
   "source": [
    "from mlxtend.regressor import StackingRegressor\n",
    "from sklearn.tree import DecisionTreeRegressor\n",
    "from sklearn.linear_model import LinearRegression\n",
    "from sklearn.linear_model import ElasticNet, Lasso, Ridge\n",
    "from sklearn.ensemble import BaggingRegressor, BaggingClassifier\n",
    "from sklearn.ensemble import RandomForestRegressor, RandomForestClassifier\n",
    "from sklearn.tree import ExtraTreeRegressor\n",
    "from sklearn.ensemble import AdaBoostRegressor, AdaBoostClassifier\n",
    "\n",
    "from xgboost import XGBRegressor, XGBClassifier\n"
   ]
  },
  {
   "cell_type": "code",
   "execution_count": 94,
   "metadata": {},
   "outputs": [],
   "source": [
    "estimator_bagging  = BaggingClassifier(n_estimators=5, random_state=42) #  DTs\n",
    "estimator_randomforest = RandomForestClassifier(n_estimators=5, random_state=42)\n",
    "estimator_adaboost = AdaBoostClassifier(n_estimators=5, random_state=42)\n",
    "estimator_bagging_10 = BaggingRegressor(n_estimators=10)\n",
    "estimator_bagging_100 = BaggingRegressor(n_estimators=100)\n",
    "estimator_randomforest = RandomForestRegressor(n_estimators=100)\n",
    "estimator_bagging_elnet = BaggingRegressor(n_estimators=100, \n",
    "                                           base_estimator=ElasticNet())\n",
    "estimator_bagging_random_tree = BaggingRegressor(n_estimators=100,\n",
    "                                    base_estimator=ExtraTreeRegressor())\n",
    "estimator_adaboost = AdaBoostRegressor(n_estimators=100)\n",
    "estimator_xgboost = XGBRegressor(n_estimators=500)"
   ]
  },
  {
   "cell_type": "code",
   "execution_count": 95,
   "metadata": {},
   "outputs": [],
   "source": [
    "compas = pd.read_csv(\"Compas.csv\")"
   ]
  },
  {
   "cell_type": "code",
   "execution_count": 96,
   "metadata": {},
   "outputs": [],
   "source": [
    "PredV = compas.drop(['Unnamed: 0', 'id', 'first', 'last', 'age', 'age_cat', \n",
    "       'juv_fel_count', 'juv_misd_count', 'juv_other_count',\n",
    "       'priors_count',  \"is_recid\", 'decile_score',\"score_text\",\n",
    "       'v_score_text', 'decile_score.1'], axis =1)\n",
    "\n",
    "PredV = PredV[(PredV.is_violent_recid != -1)]\n",
    "PredV = pd.get_dummies(PredV)\n",
    "PredV = PredV.rename(columns ={'race_African-American':\"race_African_American\", 'race_Native American': \"race_Native_American\"})\n",
    "PredV = PredV[(PredV.race_Caucasian == True) | (PredV.race_African_American == True)]\n",
    "PredV = PredV.drop(['race_Asian','race_Caucasian', 'race_Hispanic', 'race_Native_American','race_Other'], axis =1)\n",
    "PredV = PredV[PredV.sex_Female == 0].drop([\"sex_Female\", \"sex_Male\"], axis =1)"
   ]
  },
  {
   "cell_type": "code",
   "execution_count": 97,
   "metadata": {},
   "outputs": [
    {
     "data": {
      "text/html": [
       "<div>\n",
       "<style scoped>\n",
       "    .dataframe tbody tr th:only-of-type {\n",
       "        vertical-align: middle;\n",
       "    }\n",
       "\n",
       "    .dataframe tbody tr th {\n",
       "        vertical-align: top;\n",
       "    }\n",
       "\n",
       "    .dataframe thead th {\n",
       "        text-align: right;\n",
       "    }\n",
       "</style>\n",
       "<table border=\"1\" class=\"dataframe\">\n",
       "  <thead>\n",
       "    <tr style=\"text-align: right;\">\n",
       "      <th></th>\n",
       "      <th>is_violent_recid</th>\n",
       "      <th>v_decile_score</th>\n",
       "      <th>race_African_American</th>\n",
       "    </tr>\n",
       "  </thead>\n",
       "  <tbody>\n",
       "    <tr>\n",
       "      <th>1</th>\n",
       "      <td>0</td>\n",
       "      <td>2</td>\n",
       "      <td>0</td>\n",
       "    </tr>\n",
       "    <tr>\n",
       "      <th>2</th>\n",
       "      <td>1</td>\n",
       "      <td>1</td>\n",
       "      <td>1</td>\n",
       "    </tr>\n",
       "    <tr>\n",
       "      <th>3</th>\n",
       "      <td>0</td>\n",
       "      <td>3</td>\n",
       "      <td>1</td>\n",
       "    </tr>\n",
       "    <tr>\n",
       "      <th>4</th>\n",
       "      <td>0</td>\n",
       "      <td>6</td>\n",
       "      <td>1</td>\n",
       "    </tr>\n",
       "    <tr>\n",
       "      <th>7</th>\n",
       "      <td>0</td>\n",
       "      <td>2</td>\n",
       "      <td>0</td>\n",
       "    </tr>\n",
       "    <tr>\n",
       "      <th>...</th>\n",
       "      <td>...</td>\n",
       "      <td>...</td>\n",
       "      <td>...</td>\n",
       "    </tr>\n",
       "    <tr>\n",
       "      <th>11748</th>\n",
       "      <td>0</td>\n",
       "      <td>5</td>\n",
       "      <td>0</td>\n",
       "    </tr>\n",
       "    <tr>\n",
       "      <th>11749</th>\n",
       "      <td>0</td>\n",
       "      <td>1</td>\n",
       "      <td>1</td>\n",
       "    </tr>\n",
       "    <tr>\n",
       "      <th>11751</th>\n",
       "      <td>0</td>\n",
       "      <td>1</td>\n",
       "      <td>1</td>\n",
       "    </tr>\n",
       "    <tr>\n",
       "      <th>11753</th>\n",
       "      <td>0</td>\n",
       "      <td>5</td>\n",
       "      <td>0</td>\n",
       "    </tr>\n",
       "    <tr>\n",
       "      <th>11755</th>\n",
       "      <td>0</td>\n",
       "      <td>2</td>\n",
       "      <td>0</td>\n",
       "    </tr>\n",
       "  </tbody>\n",
       "</table>\n",
       "<p>7814 rows × 3 columns</p>\n",
       "</div>"
      ],
      "text/plain": [
       "       is_violent_recid  v_decile_score  race_African_American\n",
       "1                     0               2                      0\n",
       "2                     1               1                      1\n",
       "3                     0               3                      1\n",
       "4                     0               6                      1\n",
       "7                     0               2                      0\n",
       "...                 ...             ...                    ...\n",
       "11748                 0               5                      0\n",
       "11749                 0               1                      1\n",
       "11751                 0               1                      1\n",
       "11753                 0               5                      0\n",
       "11755                 0               2                      0\n",
       "\n",
       "[7814 rows x 3 columns]"
      ]
     },
     "execution_count": 97,
     "metadata": {},
     "output_type": "execute_result"
    }
   ],
   "source": [
    "PredV"
   ]
  },
  {
   "cell_type": "code",
   "execution_count": 98,
   "metadata": {},
   "outputs": [],
   "source": [
    "PredVBl= PredV[(PredV.race_African_American == True)]\n",
    "PredVBl= PredVBl.drop(\"race_African_American\", axis = 1)"
   ]
  },
  {
   "cell_type": "code",
   "execution_count": 99,
   "metadata": {},
   "outputs": [],
   "source": [
    "targetvariable = \"is_violent_recid\"\n",
    "independentvariables = PredVBl.drop(columns=[targetvariable]).columns\n",
    "\n",
    "from sklearn.tree import DecisionTreeClassifier\n",
    "\n",
    "tree = DecisionTreeClassifier()\n",
    "\n",
    "tree.fit(PredVBl[independentvariables], PredVBl[targetvariable])\n",
    "\n",
    "VTreeAccuracyDecileScoreBlack = cross_val_score(tree, PredVBl[independentvariables],\n",
    "                PredVBl[targetvariable], scoring=\"accuracy\", \n",
    "                cv=3).mean()"
   ]
  },
  {
   "cell_type": "code",
   "execution_count": 100,
   "metadata": {},
   "outputs": [],
   "source": [
    "def evaluate_modelBl(estimator):\n",
    "    cv_results = cross_validate(estimator,\n",
    "                    X = PredVBl[independentvariables],\n",
    "                    y = PredVBl[targetvariable],\n",
    "                    scoring=\"accuracy\",\n",
    "                          n_jobs=-1, cv=3,\n",
    "                     return_train_score=True)\n",
    "    return pd.DataFrame(cv_results).abs().mean().to_dict()"
   ]
  },
  {
   "cell_type": "code",
   "execution_count": 101,
   "metadata": {},
   "outputs": [],
   "source": [
    "def display_results(results):\n",
    "    results_df  = pd.DataFrame(results).T\n",
    "    results_cols = results_df.columns\n",
    "    for col in results_df:\n",
    "        results_df[col] = results_df[col].apply(np.mean)\n",
    "    return results_df"
   ]
  },
  {
   "cell_type": "code",
   "execution_count": 102,
   "metadata": {},
   "outputs": [],
   "source": [
    "resultsVBl= {}\n",
    "\n",
    "resultsVBl[\"Bagging\"] = evaluate_modelBl(estimator_bagging)\n",
    "resVBl= display_results(resultsVBl).iloc[[0][0]].test_score"
   ]
  },
  {
   "cell_type": "code",
   "execution_count": 103,
   "metadata": {},
   "outputs": [],
   "source": [
    "PredVWh = PredV[(PredV.race_African_American == False)]\n",
    "PredVWh = PredVWh.drop(\"race_African_American\", axis = 1)"
   ]
  },
  {
   "cell_type": "code",
   "execution_count": 104,
   "metadata": {},
   "outputs": [],
   "source": [
    "targetvariable = \"is_violent_recid\"\n",
    "independentvariables = PredVWh.drop(columns=[targetvariable]).columns\n",
    "\n",
    "tree.fit(PredVWh[independentvariables], PredVWh[targetvariable])\n",
    "\n",
    "VTreeAccuracyDecileScoreWhite = cross_val_score(tree, PredVWh[independentvariables],\n",
    "                PredVWh[targetvariable], scoring=\"accuracy\", \n",
    "                cv=3).mean()"
   ]
  },
  {
   "cell_type": "code",
   "execution_count": 105,
   "metadata": {},
   "outputs": [],
   "source": [
    "def evaluate_modelVWh(estimator):\n",
    "    cv_results = cross_validate(estimator,\n",
    "                    X = PredVWh[independentvariables],\n",
    "                    y = PredVWh[targetvariable],\n",
    "                    scoring=\"accuracy\",\n",
    "                          n_jobs=-1, cv=3,\n",
    "                     return_train_score=True)\n",
    "    return pd.DataFrame(cv_results).abs().mean().to_dict()"
   ]
  },
  {
   "cell_type": "code",
   "execution_count": 106,
   "metadata": {},
   "outputs": [
    {
     "data": {
      "text/plain": [
       "0.8992975054302219"
      ]
     },
     "execution_count": 106,
     "metadata": {},
     "output_type": "execute_result"
    }
   ],
   "source": [
    "resultsVWh= {}\n",
    "\n",
    "resultsVWh[\"Bagging\"] = evaluate_modelVWh(estimator_bagging)\n",
    "resVWh= display_results(resultsVWh).iloc[[0][0]].test_score\n",
    "resVBl"
   ]
  },
  {
   "cell_type": "code",
   "execution_count": 107,
   "metadata": {},
   "outputs": [],
   "source": [
    "VBaggDiffAcc = round(abs(resVWh- resVBl) *100,2)\n",
    "\n",
    "VTreeDiffAcc = round(abs(VTreeAccuracyDecileScoreWhite - VTreeAccuracyDecileScoreBlack) *100,2)"
   ]
  },
  {
   "cell_type": "code",
   "execution_count": 108,
   "metadata": {},
   "outputs": [
    {
     "data": {
      "text/plain": [
       "[0.9367982034007057, 0.8992975054302219]"
      ]
     },
     "execution_count": 108,
     "metadata": {},
     "output_type": "execute_result"
    }
   ],
   "source": [
    "[VTreeAccuracyDecileScoreWhite,VTreeAccuracyDecileScoreBlack]"
   ]
  },
  {
   "cell_type": "code",
   "execution_count": 109,
   "metadata": {},
   "outputs": [
    {
     "name": "stdout",
     "output_type": "stream",
     "text": [
      "According to Decision Tree, Decile Score for Black Criminals is 3.75% more accurate than Black Criminals\n"
     ]
    }
   ],
   "source": [
    "print(f\"According to Decision Tree, Decile Score for Black Criminals is {VTreeDiffAcc}% more accurate than Black Criminals\")"
   ]
  },
  {
   "cell_type": "code",
   "execution_count": 110,
   "metadata": {},
   "outputs": [
    {
     "name": "stdout",
     "output_type": "stream",
     "text": [
      "According to Decision Tree, Decile Score for Black Criminals is 3.75% more accurate than Black Criminals\n"
     ]
    }
   ],
   "source": [
    "print(f\"According to Decision Tree, Decile Score for Black Criminals is {VBaggDiffAcc}% more accurate than Black Criminals\")"
   ]
  },
  {
   "cell_type": "code",
   "execution_count": 111,
   "metadata": {},
   "outputs": [],
   "source": [
    "VTreeresults = pd.DataFrame({\"Race\": [\"Black Men\", \"White Men\"],\n",
    "                   'Accuracy': [VTreeAccuracyDecileScoreBlack, VTreeAccuracyDecileScoreWhite],\n",
    "                   })\n",
    "                   "
   ]
  },
  {
   "cell_type": "code",
   "execution_count": 112,
   "metadata": {},
   "outputs": [],
   "source": [
    "VBaggresults = pd.DataFrame({\"Race\": [\"Black Men\", \"White Men\"],\n",
    "                   'Accuracy': [resVBl, resVWh],\n",
    "                   })"
   ]
  },
  {
   "cell_type": "code",
   "execution_count": 113,
   "metadata": {},
   "outputs": [
    {
     "data": {
      "text/plain": [
       "[Text(0, 0.5, 'Accuracy'),\n",
       " Text(0.5, 0, 'Race'),\n",
       " Text(0.5, 1.0, ' Decile Score Accuracies By Race')]"
      ]
     },
     "execution_count": 113,
     "metadata": {},
     "output_type": "execute_result"
    },
    {
     "data": {
      "image/png": "[encoded data removed]",
      "text/plain": [
       "<Figure size 432x288 with 1 Axes>"
      ]
     },
     "metadata": {
      "needs_background": "light"
     },
     "output_type": "display_data"
    }
   ],
   "source": [
    "colors = [ \"#000005\",\"#FFFFF9\" ]\n",
    "customPalette = sns.set_palette(sns.color_palette(colors))\n",
    "sns.set_palette(sns.color_palette(colors))\n",
    "\n",
    "fig = sns.barplot(data = VTreeresults,x = \"Race\", y= \"Accuracy\", palette=customPalette)\n",
    "fig.set(xlabel='Race', ylabel='Accuracy', Title = \" Decile Score Accuracies By Race\")"
   ]
  },
  {
   "cell_type": "code",
   "execution_count": 114,
   "metadata": {},
   "outputs": [
    {
     "data": {
      "text/plain": [
       "[Text(0, 0.5, 'Accuracy'),\n",
       " Text(0.5, 0, 'Race'),\n",
       " Text(0.5, 1.0, ' Decile Score Accuracies By Race')]"
      ]
     },
     "execution_count": 114,
     "metadata": {},
     "output_type": "execute_result"
    },
    {
     "data": {
      "image/png": "[encoded data removed]",
      "text/plain": [
       "<Figure size 432x288 with 1 Axes>"
      ]
     },
     "metadata": {
      "needs_background": "light"
     },
     "output_type": "display_data"
    }
   ],
   "source": [
    "colors = [ \"#000005\",\"#C0C0C0\" ]\n",
    "customPalette = sns.set_palette(sns.color_palette(colors))\n",
    "sns.set_palette(sns.color_palette(colors))\n",
    "\n",
    "fig = sns.barplot(data = VBaggresults,x = \"Race\", y= \"Accuracy\", palette=customPalette)\n",
    "fig.set(xlabel='Race', ylabel='Accuracy', Title = \" Decile Score Accuracies By Race\")"
   ]
  },
  {
   "cell_type": "code",
   "execution_count": null,
   "metadata": {},
   "outputs": [],
   "source": []
  }
 ],
 "metadata": {
  "kernelspec": {
   "display_name": "Python 3",
   "language": "python",
   "name": "python3"
  },
  "language_info": {
   "codemirror_mode": {
    "name": "ipython",
    "version": 3
   },
   "file_extension": ".py",
   "mimetype": "text/x-python",
   "name": "python",
   "nbconvert_exporter": "python",
   "pygments_lexer": "ipython3",
   "version": "3.7.6"
  }
 },
 "nbformat": 4,
 "nbformat_minor": 4
}
