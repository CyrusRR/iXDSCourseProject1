{
 "cells": [
  {
   "cell_type": "markdown",
   "metadata": {},
   "source": [
    "- age\n",
    "    - younger vs. older people and decile scores, hypothesize with equivalent means\n",
    "    - age-specific, using percentage of those who reoffend and see where each age compares to the mean of all people\n",
    "    \n",
    "- decile score\n",
    "\n",
    "- years between offenses\n",
    "\n",
    "- race\n",
    "    - compared with decile score in more depth\n",
    "\n",
    "\n"
   ]
  },
  {
   "cell_type": "code",
   "execution_count": 190,
   "metadata": {},
   "outputs": [],
   "source": [
    "import numpy as np\n",
    "import pandas as pd\n",
    "\n",
    "from IPython.display import Image\n",
    "\n",
    "import warnings\n",
    "warnings.simplefilter(\"ignore\")"
   ]
  },
  {
   "cell_type": "code",
   "execution_count": 191,
   "metadata": {},
   "outputs": [],
   "source": [
    "compas = pd.read_csv(\"Compas.csv\")"
   ]
  },
  {
   "cell_type": "code",
   "execution_count": 192,
   "metadata": {},
   "outputs": [
    {
     "data": {
      "text/html": [
       "<div>\n",
       "<style scoped>\n",
       "    .dataframe tbody tr th:only-of-type {\n",
       "        vertical-align: middle;\n",
       "    }\n",
       "\n",
       "    .dataframe tbody tr th {\n",
       "        vertical-align: top;\n",
       "    }\n",
       "\n",
       "    .dataframe thead th {\n",
       "        text-align: right;\n",
       "    }\n",
       "</style>\n",
       "<table border=\"1\" class=\"dataframe\">\n",
       "  <thead>\n",
       "    <tr style=\"text-align: right;\">\n",
       "      <th></th>\n",
       "      <th>Unnamed: 0</th>\n",
       "      <th>id</th>\n",
       "      <th>first</th>\n",
       "      <th>last</th>\n",
       "      <th>sex</th>\n",
       "      <th>age</th>\n",
       "      <th>age_cat</th>\n",
       "      <th>race</th>\n",
       "      <th>juv_fel_count</th>\n",
       "      <th>decile_score</th>\n",
       "      <th>juv_misd_count</th>\n",
       "      <th>juv_other_count</th>\n",
       "      <th>priors_count</th>\n",
       "      <th>is_recid</th>\n",
       "      <th>is_violent_recid</th>\n",
       "      <th>v_decile_score</th>\n",
       "      <th>v_score_text</th>\n",
       "      <th>decile_score.1</th>\n",
       "      <th>score_text</th>\n",
       "    </tr>\n",
       "  </thead>\n",
       "  <tbody>\n",
       "    <tr>\n",
       "      <th>0</th>\n",
       "      <td>0</td>\n",
       "      <td>1</td>\n",
       "      <td>miguel</td>\n",
       "      <td>hernandez</td>\n",
       "      <td>Male</td>\n",
       "      <td>69</td>\n",
       "      <td>Greater than 45</td>\n",
       "      <td>Other</td>\n",
       "      <td>0</td>\n",
       "      <td>1</td>\n",
       "      <td>0</td>\n",
       "      <td>0</td>\n",
       "      <td>0</td>\n",
       "      <td>0</td>\n",
       "      <td>0</td>\n",
       "      <td>1</td>\n",
       "      <td>Low</td>\n",
       "      <td>1</td>\n",
       "      <td>Low</td>\n",
       "    </tr>\n",
       "    <tr>\n",
       "      <th>1</th>\n",
       "      <td>1</td>\n",
       "      <td>2</td>\n",
       "      <td>michael</td>\n",
       "      <td>ryan</td>\n",
       "      <td>Male</td>\n",
       "      <td>31</td>\n",
       "      <td>25 - 45</td>\n",
       "      <td>Caucasian</td>\n",
       "      <td>0</td>\n",
       "      <td>5</td>\n",
       "      <td>0</td>\n",
       "      <td>0</td>\n",
       "      <td>0</td>\n",
       "      <td>-1</td>\n",
       "      <td>0</td>\n",
       "      <td>2</td>\n",
       "      <td>Low</td>\n",
       "      <td>5</td>\n",
       "      <td>Medium</td>\n",
       "    </tr>\n",
       "    <tr>\n",
       "      <th>2</th>\n",
       "      <td>2</td>\n",
       "      <td>3</td>\n",
       "      <td>kevon</td>\n",
       "      <td>dixon</td>\n",
       "      <td>Male</td>\n",
       "      <td>34</td>\n",
       "      <td>25 - 45</td>\n",
       "      <td>African-American</td>\n",
       "      <td>0</td>\n",
       "      <td>3</td>\n",
       "      <td>0</td>\n",
       "      <td>0</td>\n",
       "      <td>0</td>\n",
       "      <td>1</td>\n",
       "      <td>1</td>\n",
       "      <td>1</td>\n",
       "      <td>Low</td>\n",
       "      <td>3</td>\n",
       "      <td>Low</td>\n",
       "    </tr>\n",
       "    <tr>\n",
       "      <th>3</th>\n",
       "      <td>3</td>\n",
       "      <td>4</td>\n",
       "      <td>ed</td>\n",
       "      <td>philo</td>\n",
       "      <td>Male</td>\n",
       "      <td>24</td>\n",
       "      <td>Less than 25</td>\n",
       "      <td>African-American</td>\n",
       "      <td>0</td>\n",
       "      <td>4</td>\n",
       "      <td>0</td>\n",
       "      <td>1</td>\n",
       "      <td>4</td>\n",
       "      <td>1</td>\n",
       "      <td>0</td>\n",
       "      <td>3</td>\n",
       "      <td>Low</td>\n",
       "      <td>4</td>\n",
       "      <td>Low</td>\n",
       "    </tr>\n",
       "    <tr>\n",
       "      <th>4</th>\n",
       "      <td>4</td>\n",
       "      <td>5</td>\n",
       "      <td>marcu</td>\n",
       "      <td>brown</td>\n",
       "      <td>Male</td>\n",
       "      <td>23</td>\n",
       "      <td>Less than 25</td>\n",
       "      <td>African-American</td>\n",
       "      <td>0</td>\n",
       "      <td>8</td>\n",
       "      <td>1</td>\n",
       "      <td>0</td>\n",
       "      <td>1</td>\n",
       "      <td>0</td>\n",
       "      <td>0</td>\n",
       "      <td>6</td>\n",
       "      <td>Medium</td>\n",
       "      <td>8</td>\n",
       "      <td>High</td>\n",
       "    </tr>\n",
       "  </tbody>\n",
       "</table>\n",
       "</div>"
      ],
      "text/plain": [
       "   Unnamed: 0  id    first       last   sex  age          age_cat  \\\n",
       "0           0   1   miguel  hernandez  Male   69  Greater than 45   \n",
       "1           1   2  michael       ryan  Male   31          25 - 45   \n",
       "2           2   3    kevon      dixon  Male   34          25 - 45   \n",
       "3           3   4       ed      philo  Male   24     Less than 25   \n",
       "4           4   5    marcu      brown  Male   23     Less than 25   \n",
       "\n",
       "               race  juv_fel_count  decile_score  juv_misd_count  \\\n",
       "0             Other              0             1               0   \n",
       "1         Caucasian              0             5               0   \n",
       "2  African-American              0             3               0   \n",
       "3  African-American              0             4               0   \n",
       "4  African-American              0             8               1   \n",
       "\n",
       "   juv_other_count  priors_count  is_recid  is_violent_recid  v_decile_score  \\\n",
       "0                0             0         0                 0               1   \n",
       "1                0             0        -1                 0               2   \n",
       "2                0             0         1                 1               1   \n",
       "3                1             4         1                 0               3   \n",
       "4                0             1         0                 0               6   \n",
       "\n",
       "  v_score_text  decile_score.1 score_text  \n",
       "0          Low               1        Low  \n",
       "1          Low               5     Medium  \n",
       "2          Low               3        Low  \n",
       "3          Low               4        Low  \n",
       "4       Medium               8       High  "
      ]
     },
     "execution_count": 192,
     "metadata": {},
     "output_type": "execute_result"
    }
   ],
   "source": [
    "compas.head()"
   ]
  },
  {
   "cell_type": "code",
   "execution_count": 193,
   "metadata": {},
   "outputs": [
    {
     "data": {
      "text/html": [
       "<div>\n",
       "<style scoped>\n",
       "    .dataframe tbody tr th:only-of-type {\n",
       "        vertical-align: middle;\n",
       "    }\n",
       "\n",
       "    .dataframe tbody tr th {\n",
       "        vertical-align: top;\n",
       "    }\n",
       "\n",
       "    .dataframe thead th {\n",
       "        text-align: right;\n",
       "    }\n",
       "</style>\n",
       "<table border=\"1\" class=\"dataframe\">\n",
       "  <thead>\n",
       "    <tr style=\"text-align: right;\">\n",
       "      <th></th>\n",
       "      <th>id</th>\n",
       "      <th>first</th>\n",
       "      <th>last</th>\n",
       "      <th>sex</th>\n",
       "      <th>age</th>\n",
       "      <th>age_cat</th>\n",
       "      <th>race</th>\n",
       "      <th>juv_fel_count</th>\n",
       "      <th>decile_score</th>\n",
       "      <th>juv_misd_count</th>\n",
       "      <th>juv_other_count</th>\n",
       "      <th>priors_count</th>\n",
       "      <th>is_recid</th>\n",
       "      <th>is_violent_recid</th>\n",
       "      <th>v_decile_score</th>\n",
       "      <th>v_score_text</th>\n",
       "      <th>decile_score.1</th>\n",
       "      <th>score_text</th>\n",
       "    </tr>\n",
       "  </thead>\n",
       "  <tbody>\n",
       "    <tr>\n",
       "      <th>0</th>\n",
       "      <td>1</td>\n",
       "      <td>miguel</td>\n",
       "      <td>hernandez</td>\n",
       "      <td>Male</td>\n",
       "      <td>69</td>\n",
       "      <td>Greater than 45</td>\n",
       "      <td>Other</td>\n",
       "      <td>0</td>\n",
       "      <td>1</td>\n",
       "      <td>0</td>\n",
       "      <td>0</td>\n",
       "      <td>0</td>\n",
       "      <td>0</td>\n",
       "      <td>0</td>\n",
       "      <td>1</td>\n",
       "      <td>Low</td>\n",
       "      <td>1</td>\n",
       "      <td>Low</td>\n",
       "    </tr>\n",
       "    <tr>\n",
       "      <th>1</th>\n",
       "      <td>2</td>\n",
       "      <td>michael</td>\n",
       "      <td>ryan</td>\n",
       "      <td>Male</td>\n",
       "      <td>31</td>\n",
       "      <td>25 - 45</td>\n",
       "      <td>Caucasian</td>\n",
       "      <td>0</td>\n",
       "      <td>5</td>\n",
       "      <td>0</td>\n",
       "      <td>0</td>\n",
       "      <td>0</td>\n",
       "      <td>-1</td>\n",
       "      <td>0</td>\n",
       "      <td>2</td>\n",
       "      <td>Low</td>\n",
       "      <td>5</td>\n",
       "      <td>Medium</td>\n",
       "    </tr>\n",
       "    <tr>\n",
       "      <th>2</th>\n",
       "      <td>3</td>\n",
       "      <td>kevon</td>\n",
       "      <td>dixon</td>\n",
       "      <td>Male</td>\n",
       "      <td>34</td>\n",
       "      <td>25 - 45</td>\n",
       "      <td>African-American</td>\n",
       "      <td>0</td>\n",
       "      <td>3</td>\n",
       "      <td>0</td>\n",
       "      <td>0</td>\n",
       "      <td>0</td>\n",
       "      <td>1</td>\n",
       "      <td>1</td>\n",
       "      <td>1</td>\n",
       "      <td>Low</td>\n",
       "      <td>3</td>\n",
       "      <td>Low</td>\n",
       "    </tr>\n",
       "    <tr>\n",
       "      <th>3</th>\n",
       "      <td>4</td>\n",
       "      <td>ed</td>\n",
       "      <td>philo</td>\n",
       "      <td>Male</td>\n",
       "      <td>24</td>\n",
       "      <td>Less than 25</td>\n",
       "      <td>African-American</td>\n",
       "      <td>0</td>\n",
       "      <td>4</td>\n",
       "      <td>0</td>\n",
       "      <td>1</td>\n",
       "      <td>4</td>\n",
       "      <td>1</td>\n",
       "      <td>0</td>\n",
       "      <td>3</td>\n",
       "      <td>Low</td>\n",
       "      <td>4</td>\n",
       "      <td>Low</td>\n",
       "    </tr>\n",
       "    <tr>\n",
       "      <th>4</th>\n",
       "      <td>5</td>\n",
       "      <td>marcu</td>\n",
       "      <td>brown</td>\n",
       "      <td>Male</td>\n",
       "      <td>23</td>\n",
       "      <td>Less than 25</td>\n",
       "      <td>African-American</td>\n",
       "      <td>0</td>\n",
       "      <td>8</td>\n",
       "      <td>1</td>\n",
       "      <td>0</td>\n",
       "      <td>1</td>\n",
       "      <td>0</td>\n",
       "      <td>0</td>\n",
       "      <td>6</td>\n",
       "      <td>Medium</td>\n",
       "      <td>8</td>\n",
       "      <td>High</td>\n",
       "    </tr>\n",
       "    <tr>\n",
       "      <th>...</th>\n",
       "      <td>...</td>\n",
       "      <td>...</td>\n",
       "      <td>...</td>\n",
       "      <td>...</td>\n",
       "      <td>...</td>\n",
       "      <td>...</td>\n",
       "      <td>...</td>\n",
       "      <td>...</td>\n",
       "      <td>...</td>\n",
       "      <td>...</td>\n",
       "      <td>...</td>\n",
       "      <td>...</td>\n",
       "      <td>...</td>\n",
       "      <td>...</td>\n",
       "      <td>...</td>\n",
       "      <td>...</td>\n",
       "      <td>...</td>\n",
       "      <td>...</td>\n",
       "    </tr>\n",
       "    <tr>\n",
       "      <th>11752</th>\n",
       "      <td>11753</td>\n",
       "      <td>patrick</td>\n",
       "      <td>hamilton</td>\n",
       "      <td>Male</td>\n",
       "      <td>47</td>\n",
       "      <td>Greater than 45</td>\n",
       "      <td>Other</td>\n",
       "      <td>0</td>\n",
       "      <td>3</td>\n",
       "      <td>0</td>\n",
       "      <td>0</td>\n",
       "      <td>1</td>\n",
       "      <td>0</td>\n",
       "      <td>0</td>\n",
       "      <td>1</td>\n",
       "      <td>Low</td>\n",
       "      <td>3</td>\n",
       "      <td>Low</td>\n",
       "    </tr>\n",
       "    <tr>\n",
       "      <th>11753</th>\n",
       "      <td>11754</td>\n",
       "      <td>raymond</td>\n",
       "      <td>hernandez</td>\n",
       "      <td>Male</td>\n",
       "      <td>22</td>\n",
       "      <td>Less than 25</td>\n",
       "      <td>Caucasian</td>\n",
       "      <td>0</td>\n",
       "      <td>7</td>\n",
       "      <td>3</td>\n",
       "      <td>5</td>\n",
       "      <td>3</td>\n",
       "      <td>1</td>\n",
       "      <td>0</td>\n",
       "      <td>5</td>\n",
       "      <td>Medium</td>\n",
       "      <td>7</td>\n",
       "      <td>Medium</td>\n",
       "    </tr>\n",
       "    <tr>\n",
       "      <th>11754</th>\n",
       "      <td>11755</td>\n",
       "      <td>dieuseul</td>\n",
       "      <td>pierre-gilles</td>\n",
       "      <td>Male</td>\n",
       "      <td>35</td>\n",
       "      <td>25 - 45</td>\n",
       "      <td>Other</td>\n",
       "      <td>0</td>\n",
       "      <td>4</td>\n",
       "      <td>0</td>\n",
       "      <td>0</td>\n",
       "      <td>0</td>\n",
       "      <td>0</td>\n",
       "      <td>0</td>\n",
       "      <td>3</td>\n",
       "      <td>Low</td>\n",
       "      <td>4</td>\n",
       "      <td>Low</td>\n",
       "    </tr>\n",
       "    <tr>\n",
       "      <th>11755</th>\n",
       "      <td>11756</td>\n",
       "      <td>scott</td>\n",
       "      <td>lomagistro</td>\n",
       "      <td>Male</td>\n",
       "      <td>29</td>\n",
       "      <td>25 - 45</td>\n",
       "      <td>Caucasian</td>\n",
       "      <td>0</td>\n",
       "      <td>3</td>\n",
       "      <td>0</td>\n",
       "      <td>0</td>\n",
       "      <td>2</td>\n",
       "      <td>0</td>\n",
       "      <td>0</td>\n",
       "      <td>2</td>\n",
       "      <td>Low</td>\n",
       "      <td>3</td>\n",
       "      <td>Low</td>\n",
       "    </tr>\n",
       "    <tr>\n",
       "      <th>11756</th>\n",
       "      <td>11757</td>\n",
       "      <td>chin</td>\n",
       "      <td>yan</td>\n",
       "      <td>Male</td>\n",
       "      <td>34</td>\n",
       "      <td>25 - 45</td>\n",
       "      <td>Asian</td>\n",
       "      <td>0</td>\n",
       "      <td>1</td>\n",
       "      <td>0</td>\n",
       "      <td>0</td>\n",
       "      <td>0</td>\n",
       "      <td>0</td>\n",
       "      <td>0</td>\n",
       "      <td>1</td>\n",
       "      <td>Low</td>\n",
       "      <td>1</td>\n",
       "      <td>Low</td>\n",
       "    </tr>\n",
       "  </tbody>\n",
       "</table>\n",
       "<p>11757 rows × 18 columns</p>\n",
       "</div>"
      ],
      "text/plain": [
       "          id     first           last   sex  age          age_cat  \\\n",
       "0          1    miguel      hernandez  Male   69  Greater than 45   \n",
       "1          2   michael           ryan  Male   31          25 - 45   \n",
       "2          3     kevon          dixon  Male   34          25 - 45   \n",
       "3          4        ed          philo  Male   24     Less than 25   \n",
       "4          5     marcu          brown  Male   23     Less than 25   \n",
       "...      ...       ...            ...   ...  ...              ...   \n",
       "11752  11753   patrick       hamilton  Male   47  Greater than 45   \n",
       "11753  11754   raymond      hernandez  Male   22     Less than 25   \n",
       "11754  11755  dieuseul  pierre-gilles  Male   35          25 - 45   \n",
       "11755  11756     scott     lomagistro  Male   29          25 - 45   \n",
       "11756  11757      chin            yan  Male   34          25 - 45   \n",
       "\n",
       "                   race  juv_fel_count  decile_score  juv_misd_count  \\\n",
       "0                 Other              0             1               0   \n",
       "1             Caucasian              0             5               0   \n",
       "2      African-American              0             3               0   \n",
       "3      African-American              0             4               0   \n",
       "4      African-American              0             8               1   \n",
       "...                 ...            ...           ...             ...   \n",
       "11752             Other              0             3               0   \n",
       "11753         Caucasian              0             7               3   \n",
       "11754             Other              0             4               0   \n",
       "11755         Caucasian              0             3               0   \n",
       "11756             Asian              0             1               0   \n",
       "\n",
       "       juv_other_count  priors_count  is_recid  is_violent_recid  \\\n",
       "0                    0             0         0                 0   \n",
       "1                    0             0        -1                 0   \n",
       "2                    0             0         1                 1   \n",
       "3                    1             4         1                 0   \n",
       "4                    0             1         0                 0   \n",
       "...                ...           ...       ...               ...   \n",
       "11752                0             1         0                 0   \n",
       "11753                5             3         1                 0   \n",
       "11754                0             0         0                 0   \n",
       "11755                0             2         0                 0   \n",
       "11756                0             0         0                 0   \n",
       "\n",
       "       v_decile_score v_score_text  decile_score.1 score_text  \n",
       "0                   1          Low               1        Low  \n",
       "1                   2          Low               5     Medium  \n",
       "2                   1          Low               3        Low  \n",
       "3                   3          Low               4        Low  \n",
       "4                   6       Medium               8       High  \n",
       "...               ...          ...             ...        ...  \n",
       "11752               1          Low               3        Low  \n",
       "11753               5       Medium               7     Medium  \n",
       "11754               3          Low               4        Low  \n",
       "11755               2          Low               3        Low  \n",
       "11756               1          Low               1        Low  \n",
       "\n",
       "[11757 rows x 18 columns]"
      ]
     },
     "execution_count": 193,
     "metadata": {},
     "output_type": "execute_result"
    }
   ],
   "source": [
    "compas.drop(compas.columns[0], axis = 1)"
   ]
  },
  {
   "cell_type": "code",
   "execution_count": 194,
   "metadata": {},
   "outputs": [],
   "source": [
    "young = compas[compas.age_cat == \"Less than 25\"].v_decile_score\n",
    "middle = compas[compas.age_cat == \"25 - 45\"].v_decile_score\n",
    "old = compas[compas.age_cat == \"Greater than 45\"].v_decile_score"
   ]
  },
  {
   "cell_type": "code",
   "execution_count": 195,
   "metadata": {},
   "outputs": [],
   "source": [
    "from statsmodels.stats.weightstats import ttest_ind\n",
    "from scipy import stats"
   ]
  },
  {
   "cell_type": "markdown",
   "metadata": {},
   "source": [
    "These tests are just checking if one age group has a higher risk of violence than the other"
   ]
  },
  {
   "cell_type": "code",
   "execution_count": 196,
   "metadata": {},
   "outputs": [
    {
     "name": "stdout",
     "output_type": "stream",
     "text": [
      "6.049180327868853 3.3771995788840425 1.7897301349325336\n"
     ]
    }
   ],
   "source": [
    "print(young.mean(), middle.mean(), old.mean())"
   ]
  },
  {
   "cell_type": "code",
   "execution_count": 197,
   "metadata": {},
   "outputs": [
    {
     "name": "stdout",
     "output_type": "stream",
     "text": [
      "56.21398274904184 0.0 5172.47658225915\n"
     ]
    }
   ],
   "source": [
    "tstat, pvalue, ddof = ttest_ind(\n",
    "                                young,\n",
    "                                middle,\n",
    "                                alternative=\"larger\",\n",
    "                                usevar=\"unequal\"\n",
    ")\n",
    "print(tstat, pvalue, ddof)"
   ]
  },
  {
   "cell_type": "code",
   "execution_count": 198,
   "metadata": {},
   "outputs": [
    {
     "name": "stdout",
     "output_type": "stream",
     "text": [
      "38.63847158703123 5.2422454240000335e-297 7127.205606761121\n"
     ]
    }
   ],
   "source": [
    " tstat, pvalue, ddof = ttest_ind(\n",
    "                                middle,\n",
    "                                old,\n",
    "                                alternative=\"larger\",\n",
    "                                usevar=\"unequal\"\n",
    " )\n",
    "print(tstat, pvalue, ddof)    "
   ]
  },
  {
   "cell_type": "code",
   "execution_count": 199,
   "metadata": {},
   "outputs": [
    {
     "name": "stdout",
     "output_type": "stream",
     "text": [
      "87.24747908351314 0.0 4723.302717729157\n"
     ]
    }
   ],
   "source": [
    "tstat, pvalue, ddof = ttest_ind(\n",
    "                                young,\n",
    "                                old,\n",
    "                                alternative=\"larger\",\n",
    "                                usevar=\"unequal\"\n",
    " )\n",
    "print(tstat, pvalue, ddof) "
   ]
  },
  {
   "cell_type": "code",
   "execution_count": 200,
   "metadata": {},
   "outputs": [],
   "source": [
    "highrisk = compas[compas.score_text == \"High\"]\n",
    "highrisk = highrisk[(highrisk.is_recid != -1) & (highrisk.decile_score != -1)]\n",
    "## -1 = unknown, so those were deleted"
   ]
  },
  {
   "cell_type": "code",
   "execution_count": 201,
   "metadata": {},
   "outputs": [],
   "source": [
    "highrisk[\"accuracy\"] = (highrisk.is_recid == 1)\n",
    "##checked if is_recid is True with high risk decile score to determine accuracy"
   ]
  },
  {
   "cell_type": "code",
   "execution_count": 202,
   "metadata": {},
   "outputs": [],
   "source": [
    "young2 = highrisk[highrisk.age_cat == \"Less than 25\"].accuracy\n",
    "middle2 = highrisk[highrisk.age_cat == \"25 - 45\"].accuracy\n",
    "old2 = highrisk[highrisk.age_cat == \"Greater than 45\"].accuracy\n",
    "##subset by age"
   ]
  },
  {
   "cell_type": "code",
   "execution_count": 203,
   "metadata": {},
   "outputs": [
    {
     "name": "stdout",
     "output_type": "stream",
     "text": [
      "0.5481927710843374 0.5325732899022801 0.4251207729468599\n"
     ]
    }
   ],
   "source": [
    "print(young2.mean(), middle2.mean(), old2.mean())"
   ]
  },
  {
   "cell_type": "code",
   "execution_count": 204,
   "metadata": {},
   "outputs": [
    {
     "name": "stdout",
     "output_type": "stream",
     "text": [
      "0.6505547751165384 0.5154436817845576 1361.6788657477787\n"
     ]
    }
   ],
   "source": [
    " tstat, pvalue, ddof = ttest_ind(\n",
    "                                young2,\n",
    "                                middle2,\n",
    "                                alternative=\"two-sided\",\n",
    "                                usevar=\"unequal\"\n",
    " )\n",
    "print(tstat, pvalue, ddof) "
   ]
  },
  {
   "cell_type": "code",
   "execution_count": 205,
   "metadata": {},
   "outputs": [
    {
     "name": "stdout",
     "output_type": "stream",
     "text": [
      "3.116051265304813 0.001986434026815587 345.5133605030412\n"
     ]
    }
   ],
   "source": [
    " tstat, pvalue, ddof = ttest_ind(\n",
    "                                young2,\n",
    "                                old2,\n",
    "                                alternative=\"two-sided\",\n",
    "                                usevar=\"unequal\"\n",
    " )\n",
    "print(tstat, pvalue, ddof) "
   ]
  },
  {
   "cell_type": "code",
   "execution_count": 206,
   "metadata": {},
   "outputs": [
    {
     "name": "stdout",
     "output_type": "stream",
     "text": [
      "2.882869983424161 0.004244991793179706 281.10125290631083\n"
     ]
    }
   ],
   "source": [
    " tstat, pvalue, ddof = ttest_ind(\n",
    "                                middle2,\n",
    "                                old2,\n",
    "                                alternative=\"two-sided\",\n",
    "                                usevar=\"unequal\"\n",
    " )\n",
    "print(tstat, pvalue, ddof) "
   ]
  },
  {
   "cell_type": "markdown",
   "metadata": {},
   "source": [
    "These hypothesis tests were checking if there was a significant difference between the age groups accuracy. \n",
    "It seems as though there is a signifcant difference between the younger two groups and the oldest group.\n",
    "It would also be a good idea to look at low risk. "
   ]
  },
  {
   "cell_type": "code",
   "execution_count": 207,
   "metadata": {},
   "outputs": [],
   "source": [
    "##same procedure but with low risk\n",
    "lowrisk = compas[compas.score_text == \"Low\"]\n",
    "lowrisk = lowrisk[(lowrisk.is_recid != -1) & (lowrisk.decile_score != -1)]"
   ]
  },
  {
   "cell_type": "code",
   "execution_count": 208,
   "metadata": {},
   "outputs": [],
   "source": [
    "lowrisk[\"accuracy\"] = (lowrisk.is_recid == 0)\n",
    "##accurate if is_recid == 0"
   ]
  },
  {
   "cell_type": "code",
   "execution_count": 209,
   "metadata": {},
   "outputs": [],
   "source": [
    "young3 = lowrisk[lowrisk.age_cat == \"Less than 25\"].accuracy\n",
    "middle3 = lowrisk[lowrisk.age_cat == \"25 - 45\"].accuracy\n",
    "old3 = lowrisk[lowrisk.age_cat == \"Greater than 45\"].accuracy"
   ]
  },
  {
   "cell_type": "code",
   "execution_count": 210,
   "metadata": {},
   "outputs": [
    {
     "name": "stdout",
     "output_type": "stream",
     "text": [
      "0.690734055354994 0.7607060185185185 0.8178879310344828\n"
     ]
    }
   ],
   "source": [
    "print(young3.mean(), middle3.mean(), old3.mean())"
   ]
  },
  {
   "cell_type": "code",
   "execution_count": 211,
   "metadata": {},
   "outputs": [
    {
     "name": "stdout",
     "output_type": "stream",
     "text": [
      "-3.9737509848699326 7.499325893430174e-05 1192.5917089874865\n"
     ]
    }
   ],
   "source": [
    " tstat, pvalue, ddof = ttest_ind(\n",
    "                                young3,\n",
    "                                middle3,\n",
    "                                alternative=\"two-sided\",\n",
    "                                usevar=\"unequal\"\n",
    " )\n",
    "print(tstat, pvalue, ddof) "
   ]
  },
  {
   "cell_type": "code",
   "execution_count": 212,
   "metadata": {},
   "outputs": [
    {
     "name": "stdout",
     "output_type": "stream",
     "text": [
      "-6.919646610619877 6.9337001458953706e-12 1369.0461762834632\n"
     ]
    }
   ],
   "source": [
    " tstat, pvalue, ddof = ttest_ind(\n",
    "                                young3,\n",
    "                                old3,\n",
    "                                alternative=\"two-sided\",\n",
    "                                usevar=\"unequal\"\n",
    " )\n",
    "print(tstat, pvalue, ddof) "
   ]
  },
  {
   "cell_type": "code",
   "execution_count": 213,
   "metadata": {},
   "outputs": [
    {
     "name": "stdout",
     "output_type": "stream",
     "text": [
      "-4.958642361248988 7.383646858476191e-07 4132.705113743328\n"
     ]
    }
   ],
   "source": [
    " tstat, pvalue, ddof = ttest_ind(\n",
    "                                middle3,\n",
    "                                old3,\n",
    "                                alternative=\"two-sided\",\n",
    "                                usevar=\"unequal\"\n",
    " )\n",
    "print(tstat, pvalue, ddof) "
   ]
  },
  {
   "cell_type": "markdown",
   "metadata": {},
   "source": [
    "The low risk accuracy for the oldest group is much higher.\n",
    "The differences in accuracy are significant between all groups. They likely do not have the same average accuracy. \n",
    "Since the average accuracy for the oldest group is significantly lower for high risk and higher for low risk, this may mean this algorithm may give the older group lower scores in general. "
   ]
  },
  {
   "cell_type": "code",
   "execution_count": 281,
   "metadata": {},
   "outputs": [],
   "source": [
    "highriskrace = compas[compas.score_text == \"High\"]\n",
    "highriskrace = highriskrace[(highriskrace.is_recid != -1) & (highriskrace.decile_score != -1)]\n",
    "highriskrace[\"accuracyhigh\"] = (highriskrace.is_recid == 1)\n",
    "\n",
    "lowriskrace = compas[compas.score_text == \"Low\"]\n",
    "lowriskrace = lowriskrace[(lowriskrace.is_recid != -1) & (lowriskrace.decile_score != -1)]\n",
    "lowriskrace[\"accuracylow\"] = (lowriskrace.is_recid == 0)"
   ]
  },
  {
   "cell_type": "code",
   "execution_count": 282,
   "metadata": {},
   "outputs": [],
   "source": [
    "hrr = highriskrace[(highriskrace.race == \"African-American\") |(highriskrace.race == \"Caucasian\") ]\n",
    "hrr = hrr[(hrr.is_recid != -1) & (hrr.decile_score != -1)]\n",
    "\n",
    "lrr = lowriskrace[(lowriskrace.race == \"African-American\") |(lowriskrace.race == \"Caucasian\") ]\n",
    "lrr = lrr[(LCo2.is_recid != -1) & (lrr.decile_score != -1)]"
   ]
  },
  {
   "cell_type": "code",
   "execution_count": 283,
   "metadata": {},
   "outputs": [],
   "source": [
    "HWhitt = hrr[(hrr.race==\"Caucasian\")&(hrr.score_text==\"High\")].accuracyhigh\n",
    "HWhitemen = hrr[(hrr.race==\"Caucasian\")&(hrr.sex==\"Male\")&(hrr.score_text==\"High\")].accuracyhigh\n",
    "HWhitewomen = hrr[(hrr.race==\"Caucasian\")&(hrr.sex==\"Female\")&(hrr.score_text==\"High\")].accuracyhigh\n",
    "HBlakk = hrr[(hrr.race==\"African-American\")&(hrr.score_text==\"High\")].accuracyhigh\n",
    "HBlackmen = hrr[(hrr.race==\"African-American\")&(hrr.sex==\"Male\")&(hrr.score_text==\"High\")].accuracyhigh\n",
    "HBlackwomen = hrr[(hrr.race==\"African-American\")&(hrr.sex==\"Female\")&(hrr.score_text==\"High\")].accuracyhigh\n",
    "\n",
    "LWhitt = lrr[(lrr.race==\"Caucasian\")&(lrr.score_text==\"Low\")].accuracylow\n",
    "LWhitemen = lrr[(lrr.race==\"Caucasian\")&(lrr.sex==\"Male\")&(lrr.score_text==\"Low\")].accuracylow\n",
    "LWhitewomen = lrr[(lrr.race==\"Caucasian\")&(lrr.sex==\"Female\")&(lrr.score_text==\"Low\")].accuracylow\n",
    "LBlakk = lrr[(lrr.race==\"African-American\")&(lrr.score_text==\"Low\")].accuracylow\n",
    "LBlackmen = lrr[(lrr.race==\"African-American\")&(lrr.sex==\"Male\")&(lrr.score_text==\"Low\")].accuracylow\n",
    "LBlackwomen = lrr[(lrr.race==\"African-American\")&(lrr.sex==\"Female\")&(lrr.score_text==\"Low\")].accuracylow"
   ]
  },
  {
   "cell_type": "code",
   "execution_count": 284,
   "metadata": {},
   "outputs": [],
   "source": [
    "tstat, pvalue, ddof = ttest_ind(HWhitt,HBlakk,alternative=\"smaller\",usevar=\"unequal\")\n",
    "tstat1, pvalue1, ddof1 = ttest_ind(HWhitemen,HBlackmen,alternative=\"smaller\",usevar=\"unequal\")\n",
    "tstat2, pvalue2, ddof2 = ttest_ind(HWhitewomen,HBlackwomen,alternative=\"smaller\",usevar=\"unequal\")\n",
    "tstat3, pvalue3, ddof3 = ttest_ind(HBlackwomen,HWhitemen,alternative=\"smaller\",usevar=\"unequal\")\n",
    "tstat4, pvalue4, ddof4 = ttest_ind(HWhitewomen,HBlackmen,alternative=\"smaller\",usevar=\"unequal\")\n",
    "tstat5, pvalue5, ddof5 = ttest_ind(HWhitewomen,HWhitemen,alternative=\"smaller\",usevar=\"unequal\")\n",
    "tstat6, pvalue6, ddof6 = ttest_ind(HBlackwomen,HBlackmen,alternative=\"smaller\",usevar=\"unequal\")\n",
    "\n",
    "Ltstat, Lpvalue, Lddof = ttest_ind(LWhitt,LBlakk,alternative=\"larger\",usevar=\"unequal\")\n",
    "Ltstat1, Lpvalue1, Lddof1 = ttest_ind(LWhitemen,LBlackmen,alternative=\"larger\",usevar=\"unequal\")\n",
    "Ltstat2, Lpvalue2, Lddof2 = ttest_ind(LWhitewomen,LBlackwomen,alternative=\"larger\",usevar=\"unequal\")\n",
    "Ltstat3, Lpvalue3, Lddof3 = ttest_ind(LBlackwomen,LWhitemen,alternative=\"larger\",usevar=\"unequal\")\n",
    "Ltstat4, Lpvalue4, Lddof4 = ttest_ind(LWhitewomen,LBlackmen,alternative=\"larger\",usevar=\"unequal\")\n",
    "Ltstat5, Lpvalue5, Lddof4 = ttest_ind(LWhitewomen,LWhitemen,alternative=\"larger\",usevar=\"unequal\")\n",
    "Ltstat6, Lpvalue6, Lddof5 = ttest_ind(LBlackwomen,LBlackmen,alternative=\"larger\",usevar=\"unequal\")"
   ]
  },
  {
   "cell_type": "code",
   "execution_count": 285,
   "metadata": {},
   "outputs": [
    {
     "name": "stdout",
     "output_type": "stream",
     "text": [
      "High risk accuracy p-value \n",
      " \n",
      "White and Black p-value: 0.0557 \n",
      "White men and Black men p-value: 0.251 \n",
      "White women and Black women p-value: 0.1496 \n",
      "Black women and White men p-value: 0.033 \n",
      "White women and Black men p-value: 0.0005 \n",
      "White women and White men p-value: 0.0048 \n",
      "Black women and Black men p-value: 0.0032 \n",
      "\n",
      "Low risk accuracy p-value \n",
      " \n",
      "White and Black p-value: 0.0 \n",
      "White men and Black men p-value: 0.0 \n",
      "White women and Black women p-value: 0.5392 \n",
      "Black women and White men p-value: 0.0031 \n",
      "White women and Black men p-value: 0.0 \n",
      "White women and White men p-value: 0.0035 \n",
      "Black women and Black men p-value: 0.0 \n",
      "\n"
     ]
    }
   ],
   "source": [
    "print(\"High risk accuracy p-value\", \"\\n\",\"\\n\"\n",
    "      \"White and Black p-value:\", round(pvalue, 4), \"\\n\" \n",
    "      \"White men and Black men p-value:\", round(pvalue1, 4),\"\\n\"\n",
    "      \"White women and Black women p-value:\", round(pvalue2, 4),\"\\n\"\n",
    "      \"Black women and White men p-value:\", round(pvalue3, 4), \"\\n\"\n",
    "      \"White women and Black men p-value:\",round(pvalue4, 4), \"\\n\"\n",
    "      \"White women and White men p-value:\", round(pvalue5, 4), \"\\n\"\n",
    "      \"Black women and Black men p-value:\", round(pvalue6, 4), \"\\n\" \"\\n\"\n",
    "\n",
    "      \"Low risk accuracy p-value\", \"\\n\",\"\\n\"\n",
    "      \"White and Black p-value:\", round(Lpvalue, 4), \"\\n\" \n",
    "      \"White men and Black men p-value:\", round(Lpvalue1, 4),\"\\n\"\n",
    "      \"White women and Black women p-value:\", round(Lpvalue2, 4),\"\\n\"\n",
    "      \"Black women and White men p-value:\", round(Lpvalue3, 4), \"\\n\"\n",
    "      \"White women and Black men p-value:\", round(Lpvalue4, 4), \"\\n\"\n",
    "      \"White women and White men p-value:\", round(Lpvalue5, 4), \"\\n\"\n",
    "      \"Black women and Black men p-value:\", round(Lpvalue6, 4), \"\\n\")\n"
   ]
  },
  {
   "cell_type": "markdown",
   "metadata": {},
   "source": [
    "# Findings\n",
    "\n",
    "### There is a statistically significant discrepancy in the accuracies of \"High\" predictive values for recidivism when comparing:\n",
    "- Black women and White men\n",
    "- White women and Black men \n",
    "- White women and White men  \n",
    "- Black women and Black men \n",
    "\n",
    "### There is a statistically significant discrepancy in the accuracies of \"Low\" predictive values for recidivism when comparing:\n",
    "- White and Black overall population\n",
    "- White men and Black men \n",
    "- White men and Black women \n",
    "- White women and Black men\n",
    "- White women and White men\n",
    "- Black women and Black men"
   ]
  },
  {
   "cell_type": "code",
   "execution_count": 242,
   "metadata": {},
   "outputs": [
    {
     "data": {
      "text/html": [
       "<div>\n",
       "<style scoped>\n",
       "    .dataframe tbody tr th:only-of-type {\n",
       "        vertical-align: middle;\n",
       "    }\n",
       "\n",
       "    .dataframe tbody tr th {\n",
       "        vertical-align: top;\n",
       "    }\n",
       "\n",
       "    .dataframe thead th {\n",
       "        text-align: right;\n",
       "    }\n",
       "</style>\n",
       "<table border=\"1\" class=\"dataframe\">\n",
       "  <thead>\n",
       "    <tr style=\"text-align: right;\">\n",
       "      <th></th>\n",
       "      <th></th>\n",
       "      <th></th>\n",
       "      <th>accuracyhigh</th>\n",
       "    </tr>\n",
       "    <tr>\n",
       "      <th>race</th>\n",
       "      <th>sex</th>\n",
       "      <th>score_text</th>\n",
       "      <th></th>\n",
       "    </tr>\n",
       "  </thead>\n",
       "  <tbody>\n",
       "    <tr>\n",
       "      <th rowspan=\"2\" valign=\"top\">African-American</th>\n",
       "      <th>Female</th>\n",
       "      <th>High</th>\n",
       "      <td>0.446701</td>\n",
       "    </tr>\n",
       "    <tr>\n",
       "      <th>Male</th>\n",
       "      <th>High</th>\n",
       "      <td>0.551416</td>\n",
       "    </tr>\n",
       "    <tr>\n",
       "      <th rowspan=\"2\" valign=\"top\">Caucasian</th>\n",
       "      <th>Female</th>\n",
       "      <th>High</th>\n",
       "      <td>0.384615</td>\n",
       "    </tr>\n",
       "    <tr>\n",
       "      <th>Male</th>\n",
       "      <th>High</th>\n",
       "      <td>0.530351</td>\n",
       "    </tr>\n",
       "  </tbody>\n",
       "</table>\n",
       "</div>"
      ],
      "text/plain": [
       "                                    accuracyhigh\n",
       "race             sex    score_text              \n",
       "African-American Female High            0.446701\n",
       "                 Male   High            0.551416\n",
       "Caucasian        Female High            0.384615\n",
       "                 Male   High            0.530351"
      ]
     },
     "execution_count": 242,
     "metadata": {},
     "output_type": "execute_result"
    }
   ],
   "source": [
    "highvisual = hrr.groupby([\"race\", \"sex\", \"score_text\"])[[\"accuracyhigh\"]].mean()\n",
    "lowvisual = lrr.groupby([\"race\", \"sex\", \"score_text\"])[[\"accuracylow\"]].mean()\n",
    "highvisual"
   ]
  },
  {
   "cell_type": "code",
   "execution_count": 243,
   "metadata": {},
   "outputs": [
    {
     "data": {
      "text/html": [
       "<div>\n",
       "<style scoped>\n",
       "    .dataframe tbody tr th:only-of-type {\n",
       "        vertical-align: middle;\n",
       "    }\n",
       "\n",
       "    .dataframe tbody tr th {\n",
       "        vertical-align: top;\n",
       "    }\n",
       "\n",
       "    .dataframe thead th {\n",
       "        text-align: right;\n",
       "    }\n",
       "</style>\n",
       "<table border=\"1\" class=\"dataframe\">\n",
       "  <thead>\n",
       "    <tr style=\"text-align: right;\">\n",
       "      <th></th>\n",
       "      <th></th>\n",
       "      <th></th>\n",
       "      <th>accuracylow</th>\n",
       "    </tr>\n",
       "    <tr>\n",
       "      <th>race</th>\n",
       "      <th>sex</th>\n",
       "      <th>score_text</th>\n",
       "      <th></th>\n",
       "    </tr>\n",
       "  </thead>\n",
       "  <tbody>\n",
       "    <tr>\n",
       "      <th rowspan=\"2\" valign=\"top\">African-American</th>\n",
       "      <th>Female</th>\n",
       "      <th>Low</th>\n",
       "      <td>0.829175</td>\n",
       "    </tr>\n",
       "    <tr>\n",
       "      <th>Male</th>\n",
       "      <th>Low</th>\n",
       "      <td>0.698218</td>\n",
       "    </tr>\n",
       "    <tr>\n",
       "      <th rowspan=\"2\" valign=\"top\">Caucasian</th>\n",
       "      <th>Female</th>\n",
       "      <th>Low</th>\n",
       "      <td>0.826923</td>\n",
       "    </tr>\n",
       "    <tr>\n",
       "      <th>Male</th>\n",
       "      <th>Low</th>\n",
       "      <td>0.777157</td>\n",
       "    </tr>\n",
       "  </tbody>\n",
       "</table>\n",
       "</div>"
      ],
      "text/plain": [
       "                                    accuracylow\n",
       "race             sex    score_text             \n",
       "African-American Female Low            0.829175\n",
       "                 Male   Low            0.698218\n",
       "Caucasian        Female Low            0.826923\n",
       "                 Male   Low            0.777157"
      ]
     },
     "execution_count": 243,
     "metadata": {},
     "output_type": "execute_result"
    }
   ],
   "source": [
    "lowvisual"
   ]
  }
 ],
 "metadata": {
  "kernelspec": {
   "display_name": "Python 3",
   "language": "python",
   "name": "python3"
  },
  "language_info": {
   "codemirror_mode": {
    "name": "ipython",
    "version": 3
   },
   "file_extension": ".py",
   "mimetype": "text/x-python",
   "name": "python",
   "nbconvert_exporter": "python",
   "pygments_lexer": "ipython3",
   "version": "3.7.6"
  }
 },
 "nbformat": 4,
 "nbformat_minor": 4
}
