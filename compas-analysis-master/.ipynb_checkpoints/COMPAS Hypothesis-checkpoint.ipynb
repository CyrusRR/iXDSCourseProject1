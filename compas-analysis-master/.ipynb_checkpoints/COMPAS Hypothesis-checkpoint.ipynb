{
 "cells": [
  {
   "cell_type": "markdown",
   "metadata": {},
   "source": [
    "- age\n",
    "    - younger vs. older people and decile scores, hypothesize with equivalent means\n",
    "    - age-specific, using percentage of those who reoffend and see where each age compares to the mean of all people\n",
    "    \n",
    "- decile score\n",
    "\n",
    "- years between offenses\n",
    "\n",
    "- race\n",
    "    - compared with decile score in more depth\n",
    "\n",
    "\n"
   ]
  },
  {
   "cell_type": "code",
   "execution_count": 1,
   "metadata": {},
   "outputs": [],
   "source": [
    "import numpy as np\n",
    "import pandas as pd\n",
    "\n",
    "from IPython.display import Image\n",
    "\n",
    "import warnings\n",
    "warnings.simplefilter(\"ignore\")"
   ]
  },
  {
   "cell_type": "code",
   "execution_count": 2,
   "metadata": {},
   "outputs": [],
   "source": [
    "compas = pd.read_csv(\"Compas.csv\")"
   ]
  },
  {
   "cell_type": "code",
   "execution_count": 3,
   "metadata": {},
   "outputs": [
    {
     "data": {
      "text/html": [
       "<div>\n",
       "<style scoped>\n",
       "    .dataframe tbody tr th:only-of-type {\n",
       "        vertical-align: middle;\n",
       "    }\n",
       "\n",
       "    .dataframe tbody tr th {\n",
       "        vertical-align: top;\n",
       "    }\n",
       "\n",
       "    .dataframe thead th {\n",
       "        text-align: right;\n",
       "    }\n",
       "</style>\n",
       "<table border=\"1\" class=\"dataframe\">\n",
       "  <thead>\n",
       "    <tr style=\"text-align: right;\">\n",
       "      <th></th>\n",
       "      <th>Unnamed: 0</th>\n",
       "      <th>id</th>\n",
       "      <th>first</th>\n",
       "      <th>last</th>\n",
       "      <th>sex</th>\n",
       "      <th>age</th>\n",
       "      <th>age_cat</th>\n",
       "      <th>race</th>\n",
       "      <th>juv_fel_count</th>\n",
       "      <th>decile_score</th>\n",
       "      <th>juv_misd_count</th>\n",
       "      <th>juv_other_count</th>\n",
       "      <th>priors_count</th>\n",
       "      <th>is_recid</th>\n",
       "      <th>is_violent_recid</th>\n",
       "      <th>v_decile_score</th>\n",
       "      <th>v_score_text</th>\n",
       "      <th>decile_score.1</th>\n",
       "      <th>score_text</th>\n",
       "    </tr>\n",
       "  </thead>\n",
       "  <tbody>\n",
       "    <tr>\n",
       "      <th>0</th>\n",
       "      <td>0</td>\n",
       "      <td>1</td>\n",
       "      <td>miguel</td>\n",
       "      <td>hernandez</td>\n",
       "      <td>Male</td>\n",
       "      <td>69</td>\n",
       "      <td>Greater than 45</td>\n",
       "      <td>Other</td>\n",
       "      <td>0</td>\n",
       "      <td>1</td>\n",
       "      <td>0</td>\n",
       "      <td>0</td>\n",
       "      <td>0</td>\n",
       "      <td>0</td>\n",
       "      <td>0</td>\n",
       "      <td>1</td>\n",
       "      <td>Low</td>\n",
       "      <td>1</td>\n",
       "      <td>Low</td>\n",
       "    </tr>\n",
       "    <tr>\n",
       "      <th>1</th>\n",
       "      <td>1</td>\n",
       "      <td>2</td>\n",
       "      <td>michael</td>\n",
       "      <td>ryan</td>\n",
       "      <td>Male</td>\n",
       "      <td>31</td>\n",
       "      <td>25 - 45</td>\n",
       "      <td>Caucasian</td>\n",
       "      <td>0</td>\n",
       "      <td>5</td>\n",
       "      <td>0</td>\n",
       "      <td>0</td>\n",
       "      <td>0</td>\n",
       "      <td>-1</td>\n",
       "      <td>0</td>\n",
       "      <td>2</td>\n",
       "      <td>Low</td>\n",
       "      <td>5</td>\n",
       "      <td>Medium</td>\n",
       "    </tr>\n",
       "    <tr>\n",
       "      <th>2</th>\n",
       "      <td>2</td>\n",
       "      <td>3</td>\n",
       "      <td>kevon</td>\n",
       "      <td>dixon</td>\n",
       "      <td>Male</td>\n",
       "      <td>34</td>\n",
       "      <td>25 - 45</td>\n",
       "      <td>African-American</td>\n",
       "      <td>0</td>\n",
       "      <td>3</td>\n",
       "      <td>0</td>\n",
       "      <td>0</td>\n",
       "      <td>0</td>\n",
       "      <td>1</td>\n",
       "      <td>1</td>\n",
       "      <td>1</td>\n",
       "      <td>Low</td>\n",
       "      <td>3</td>\n",
       "      <td>Low</td>\n",
       "    </tr>\n",
       "    <tr>\n",
       "      <th>3</th>\n",
       "      <td>3</td>\n",
       "      <td>4</td>\n",
       "      <td>ed</td>\n",
       "      <td>philo</td>\n",
       "      <td>Male</td>\n",
       "      <td>24</td>\n",
       "      <td>Less than 25</td>\n",
       "      <td>African-American</td>\n",
       "      <td>0</td>\n",
       "      <td>4</td>\n",
       "      <td>0</td>\n",
       "      <td>1</td>\n",
       "      <td>4</td>\n",
       "      <td>1</td>\n",
       "      <td>0</td>\n",
       "      <td>3</td>\n",
       "      <td>Low</td>\n",
       "      <td>4</td>\n",
       "      <td>Low</td>\n",
       "    </tr>\n",
       "    <tr>\n",
       "      <th>4</th>\n",
       "      <td>4</td>\n",
       "      <td>5</td>\n",
       "      <td>marcu</td>\n",
       "      <td>brown</td>\n",
       "      <td>Male</td>\n",
       "      <td>23</td>\n",
       "      <td>Less than 25</td>\n",
       "      <td>African-American</td>\n",
       "      <td>0</td>\n",
       "      <td>8</td>\n",
       "      <td>1</td>\n",
       "      <td>0</td>\n",
       "      <td>1</td>\n",
       "      <td>0</td>\n",
       "      <td>0</td>\n",
       "      <td>6</td>\n",
       "      <td>Medium</td>\n",
       "      <td>8</td>\n",
       "      <td>High</td>\n",
       "    </tr>\n",
       "  </tbody>\n",
       "</table>\n",
       "</div>"
      ],
      "text/plain": [
       "   Unnamed: 0  id    first       last   sex  age          age_cat  \\\n",
       "0           0   1   miguel  hernandez  Male   69  Greater than 45   \n",
       "1           1   2  michael       ryan  Male   31          25 - 45   \n",
       "2           2   3    kevon      dixon  Male   34          25 - 45   \n",
       "3           3   4       ed      philo  Male   24     Less than 25   \n",
       "4           4   5    marcu      brown  Male   23     Less than 25   \n",
       "\n",
       "               race  juv_fel_count  decile_score  juv_misd_count  \\\n",
       "0             Other              0             1               0   \n",
       "1         Caucasian              0             5               0   \n",
       "2  African-American              0             3               0   \n",
       "3  African-American              0             4               0   \n",
       "4  African-American              0             8               1   \n",
       "\n",
       "   juv_other_count  priors_count  is_recid  is_violent_recid  v_decile_score  \\\n",
       "0                0             0         0                 0               1   \n",
       "1                0             0        -1                 0               2   \n",
       "2                0             0         1                 1               1   \n",
       "3                1             4         1                 0               3   \n",
       "4                0             1         0                 0               6   \n",
       "\n",
       "  v_score_text  decile_score.1 score_text  \n",
       "0          Low               1        Low  \n",
       "1          Low               5     Medium  \n",
       "2          Low               3        Low  \n",
       "3          Low               4        Low  \n",
       "4       Medium               8       High  "
      ]
     },
     "execution_count": 3,
     "metadata": {},
     "output_type": "execute_result"
    }
   ],
   "source": [
    "compas.head()"
   ]
  },
  {
   "cell_type": "code",
   "execution_count": 6,
   "metadata": {},
   "outputs": [
    {
     "data": {
      "text/html": [
       "<div>\n",
       "<style scoped>\n",
       "    .dataframe tbody tr th:only-of-type {\n",
       "        vertical-align: middle;\n",
       "    }\n",
       "\n",
       "    .dataframe tbody tr th {\n",
       "        vertical-align: top;\n",
       "    }\n",
       "\n",
       "    .dataframe thead th {\n",
       "        text-align: right;\n",
       "    }\n",
       "</style>\n",
       "<table border=\"1\" class=\"dataframe\">\n",
       "  <thead>\n",
       "    <tr style=\"text-align: right;\">\n",
       "      <th></th>\n",
       "      <th>id</th>\n",
       "      <th>first</th>\n",
       "      <th>last</th>\n",
       "      <th>sex</th>\n",
       "      <th>age</th>\n",
       "      <th>age_cat</th>\n",
       "      <th>race</th>\n",
       "      <th>juv_fel_count</th>\n",
       "      <th>decile_score</th>\n",
       "      <th>juv_misd_count</th>\n",
       "      <th>juv_other_count</th>\n",
       "      <th>priors_count</th>\n",
       "      <th>is_recid</th>\n",
       "      <th>is_violent_recid</th>\n",
       "      <th>v_decile_score</th>\n",
       "      <th>v_score_text</th>\n",
       "      <th>decile_score.1</th>\n",
       "      <th>score_text</th>\n",
       "    </tr>\n",
       "  </thead>\n",
       "  <tbody>\n",
       "    <tr>\n",
       "      <th>0</th>\n",
       "      <td>1</td>\n",
       "      <td>miguel</td>\n",
       "      <td>hernandez</td>\n",
       "      <td>Male</td>\n",
       "      <td>69</td>\n",
       "      <td>Greater than 45</td>\n",
       "      <td>Other</td>\n",
       "      <td>0</td>\n",
       "      <td>1</td>\n",
       "      <td>0</td>\n",
       "      <td>0</td>\n",
       "      <td>0</td>\n",
       "      <td>0</td>\n",
       "      <td>0</td>\n",
       "      <td>1</td>\n",
       "      <td>Low</td>\n",
       "      <td>1</td>\n",
       "      <td>Low</td>\n",
       "    </tr>\n",
       "    <tr>\n",
       "      <th>1</th>\n",
       "      <td>2</td>\n",
       "      <td>michael</td>\n",
       "      <td>ryan</td>\n",
       "      <td>Male</td>\n",
       "      <td>31</td>\n",
       "      <td>25 - 45</td>\n",
       "      <td>Caucasian</td>\n",
       "      <td>0</td>\n",
       "      <td>5</td>\n",
       "      <td>0</td>\n",
       "      <td>0</td>\n",
       "      <td>0</td>\n",
       "      <td>-1</td>\n",
       "      <td>0</td>\n",
       "      <td>2</td>\n",
       "      <td>Low</td>\n",
       "      <td>5</td>\n",
       "      <td>Medium</td>\n",
       "    </tr>\n",
       "    <tr>\n",
       "      <th>2</th>\n",
       "      <td>3</td>\n",
       "      <td>kevon</td>\n",
       "      <td>dixon</td>\n",
       "      <td>Male</td>\n",
       "      <td>34</td>\n",
       "      <td>25 - 45</td>\n",
       "      <td>African-American</td>\n",
       "      <td>0</td>\n",
       "      <td>3</td>\n",
       "      <td>0</td>\n",
       "      <td>0</td>\n",
       "      <td>0</td>\n",
       "      <td>1</td>\n",
       "      <td>1</td>\n",
       "      <td>1</td>\n",
       "      <td>Low</td>\n",
       "      <td>3</td>\n",
       "      <td>Low</td>\n",
       "    </tr>\n",
       "    <tr>\n",
       "      <th>3</th>\n",
       "      <td>4</td>\n",
       "      <td>ed</td>\n",
       "      <td>philo</td>\n",
       "      <td>Male</td>\n",
       "      <td>24</td>\n",
       "      <td>Less than 25</td>\n",
       "      <td>African-American</td>\n",
       "      <td>0</td>\n",
       "      <td>4</td>\n",
       "      <td>0</td>\n",
       "      <td>1</td>\n",
       "      <td>4</td>\n",
       "      <td>1</td>\n",
       "      <td>0</td>\n",
       "      <td>3</td>\n",
       "      <td>Low</td>\n",
       "      <td>4</td>\n",
       "      <td>Low</td>\n",
       "    </tr>\n",
       "    <tr>\n",
       "      <th>4</th>\n",
       "      <td>5</td>\n",
       "      <td>marcu</td>\n",
       "      <td>brown</td>\n",
       "      <td>Male</td>\n",
       "      <td>23</td>\n",
       "      <td>Less than 25</td>\n",
       "      <td>African-American</td>\n",
       "      <td>0</td>\n",
       "      <td>8</td>\n",
       "      <td>1</td>\n",
       "      <td>0</td>\n",
       "      <td>1</td>\n",
       "      <td>0</td>\n",
       "      <td>0</td>\n",
       "      <td>6</td>\n",
       "      <td>Medium</td>\n",
       "      <td>8</td>\n",
       "      <td>High</td>\n",
       "    </tr>\n",
       "    <tr>\n",
       "      <th>...</th>\n",
       "      <td>...</td>\n",
       "      <td>...</td>\n",
       "      <td>...</td>\n",
       "      <td>...</td>\n",
       "      <td>...</td>\n",
       "      <td>...</td>\n",
       "      <td>...</td>\n",
       "      <td>...</td>\n",
       "      <td>...</td>\n",
       "      <td>...</td>\n",
       "      <td>...</td>\n",
       "      <td>...</td>\n",
       "      <td>...</td>\n",
       "      <td>...</td>\n",
       "      <td>...</td>\n",
       "      <td>...</td>\n",
       "      <td>...</td>\n",
       "      <td>...</td>\n",
       "    </tr>\n",
       "    <tr>\n",
       "      <th>11752</th>\n",
       "      <td>11753</td>\n",
       "      <td>patrick</td>\n",
       "      <td>hamilton</td>\n",
       "      <td>Male</td>\n",
       "      <td>47</td>\n",
       "      <td>Greater than 45</td>\n",
       "      <td>Other</td>\n",
       "      <td>0</td>\n",
       "      <td>3</td>\n",
       "      <td>0</td>\n",
       "      <td>0</td>\n",
       "      <td>1</td>\n",
       "      <td>0</td>\n",
       "      <td>0</td>\n",
       "      <td>1</td>\n",
       "      <td>Low</td>\n",
       "      <td>3</td>\n",
       "      <td>Low</td>\n",
       "    </tr>\n",
       "    <tr>\n",
       "      <th>11753</th>\n",
       "      <td>11754</td>\n",
       "      <td>raymond</td>\n",
       "      <td>hernandez</td>\n",
       "      <td>Male</td>\n",
       "      <td>22</td>\n",
       "      <td>Less than 25</td>\n",
       "      <td>Caucasian</td>\n",
       "      <td>0</td>\n",
       "      <td>7</td>\n",
       "      <td>3</td>\n",
       "      <td>5</td>\n",
       "      <td>3</td>\n",
       "      <td>1</td>\n",
       "      <td>0</td>\n",
       "      <td>5</td>\n",
       "      <td>Medium</td>\n",
       "      <td>7</td>\n",
       "      <td>Medium</td>\n",
       "    </tr>\n",
       "    <tr>\n",
       "      <th>11754</th>\n",
       "      <td>11755</td>\n",
       "      <td>dieuseul</td>\n",
       "      <td>pierre-gilles</td>\n",
       "      <td>Male</td>\n",
       "      <td>35</td>\n",
       "      <td>25 - 45</td>\n",
       "      <td>Other</td>\n",
       "      <td>0</td>\n",
       "      <td>4</td>\n",
       "      <td>0</td>\n",
       "      <td>0</td>\n",
       "      <td>0</td>\n",
       "      <td>0</td>\n",
       "      <td>0</td>\n",
       "      <td>3</td>\n",
       "      <td>Low</td>\n",
       "      <td>4</td>\n",
       "      <td>Low</td>\n",
       "    </tr>\n",
       "    <tr>\n",
       "      <th>11755</th>\n",
       "      <td>11756</td>\n",
       "      <td>scott</td>\n",
       "      <td>lomagistro</td>\n",
       "      <td>Male</td>\n",
       "      <td>29</td>\n",
       "      <td>25 - 45</td>\n",
       "      <td>Caucasian</td>\n",
       "      <td>0</td>\n",
       "      <td>3</td>\n",
       "      <td>0</td>\n",
       "      <td>0</td>\n",
       "      <td>2</td>\n",
       "      <td>0</td>\n",
       "      <td>0</td>\n",
       "      <td>2</td>\n",
       "      <td>Low</td>\n",
       "      <td>3</td>\n",
       "      <td>Low</td>\n",
       "    </tr>\n",
       "    <tr>\n",
       "      <th>11756</th>\n",
       "      <td>11757</td>\n",
       "      <td>chin</td>\n",
       "      <td>yan</td>\n",
       "      <td>Male</td>\n",
       "      <td>34</td>\n",
       "      <td>25 - 45</td>\n",
       "      <td>Asian</td>\n",
       "      <td>0</td>\n",
       "      <td>1</td>\n",
       "      <td>0</td>\n",
       "      <td>0</td>\n",
       "      <td>0</td>\n",
       "      <td>0</td>\n",
       "      <td>0</td>\n",
       "      <td>1</td>\n",
       "      <td>Low</td>\n",
       "      <td>1</td>\n",
       "      <td>Low</td>\n",
       "    </tr>\n",
       "  </tbody>\n",
       "</table>\n",
       "<p>11757 rows × 18 columns</p>\n",
       "</div>"
      ],
      "text/plain": [
       "          id     first           last   sex  age          age_cat  \\\n",
       "0          1    miguel      hernandez  Male   69  Greater than 45   \n",
       "1          2   michael           ryan  Male   31          25 - 45   \n",
       "2          3     kevon          dixon  Male   34          25 - 45   \n",
       "3          4        ed          philo  Male   24     Less than 25   \n",
       "4          5     marcu          brown  Male   23     Less than 25   \n",
       "...      ...       ...            ...   ...  ...              ...   \n",
       "11752  11753   patrick       hamilton  Male   47  Greater than 45   \n",
       "11753  11754   raymond      hernandez  Male   22     Less than 25   \n",
       "11754  11755  dieuseul  pierre-gilles  Male   35          25 - 45   \n",
       "11755  11756     scott     lomagistro  Male   29          25 - 45   \n",
       "11756  11757      chin            yan  Male   34          25 - 45   \n",
       "\n",
       "                   race  juv_fel_count  decile_score  juv_misd_count  \\\n",
       "0                 Other              0             1               0   \n",
       "1             Caucasian              0             5               0   \n",
       "2      African-American              0             3               0   \n",
       "3      African-American              0             4               0   \n",
       "4      African-American              0             8               1   \n",
       "...                 ...            ...           ...             ...   \n",
       "11752             Other              0             3               0   \n",
       "11753         Caucasian              0             7               3   \n",
       "11754             Other              0             4               0   \n",
       "11755         Caucasian              0             3               0   \n",
       "11756             Asian              0             1               0   \n",
       "\n",
       "       juv_other_count  priors_count  is_recid  is_violent_recid  \\\n",
       "0                    0             0         0                 0   \n",
       "1                    0             0        -1                 0   \n",
       "2                    0             0         1                 1   \n",
       "3                    1             4         1                 0   \n",
       "4                    0             1         0                 0   \n",
       "...                ...           ...       ...               ...   \n",
       "11752                0             1         0                 0   \n",
       "11753                5             3         1                 0   \n",
       "11754                0             0         0                 0   \n",
       "11755                0             2         0                 0   \n",
       "11756                0             0         0                 0   \n",
       "\n",
       "       v_decile_score v_score_text  decile_score.1 score_text  \n",
       "0                   1          Low               1        Low  \n",
       "1                   2          Low               5     Medium  \n",
       "2                   1          Low               3        Low  \n",
       "3                   3          Low               4        Low  \n",
       "4                   6       Medium               8       High  \n",
       "...               ...          ...             ...        ...  \n",
       "11752               1          Low               3        Low  \n",
       "11753               5       Medium               7     Medium  \n",
       "11754               3          Low               4        Low  \n",
       "11755               2          Low               3        Low  \n",
       "11756               1          Low               1        Low  \n",
       "\n",
       "[11757 rows x 18 columns]"
      ]
     },
     "execution_count": 6,
     "metadata": {},
     "output_type": "execute_result"
    }
   ],
   "source": [
    "compas.drop(compas.columns[0], axis = 1)"
   ]
  },
  {
   "cell_type": "code",
   "execution_count": 7,
   "metadata": {},
   "outputs": [],
   "source": [
    "young = compas[compas.age_cat == \"Less than 25\"].v_decile_score\n",
    "middle = compas[compas.age_cat == \"25 - 45\"].v_decile_score\n",
    "old = compas[compas.age_cat == \"Greater than 45\"].v_decile_score"
   ]
  },
  {
   "cell_type": "code",
   "execution_count": 8,
   "metadata": {},
   "outputs": [],
   "source": [
    "from statsmodels.stats.weightstats import ttest_ind\n",
    "from scipy import stats"
   ]
  },
  {
   "cell_type": "markdown",
   "metadata": {},
   "source": [
    "These tests are just checking if one age group has a higher risk of violence than the other"
   ]
  },
  {
   "cell_type": "code",
   "execution_count": 65,
   "metadata": {},
   "outputs": [
    {
     "name": "stdout",
     "output_type": "stream",
     "text": [
      "6.049180327868853 3.3771995788840425 1.7897301349325336\n"
     ]
    }
   ],
   "source": [
    "print(young.mean(), middle.mean(), old.mean())"
   ]
  },
  {
   "cell_type": "code",
   "execution_count": 15,
   "metadata": {},
   "outputs": [
    {
     "name": "stdout",
     "output_type": "stream",
     "text": [
      "56.21398274904184 0.0 5172.47658225915\n"
     ]
    }
   ],
   "source": [
    "tstat, pvalue, ddof = ttest_ind(\n",
    "                                young,\n",
    "                                middle,\n",
    "                                alternative=\"larger\",\n",
    "                                usevar=\"unequal\"\n",
    ")\n",
    "print(tstat, pvalue, ddof)"
   ]
  },
  {
   "cell_type": "code",
   "execution_count": 12,
   "metadata": {},
   "outputs": [
    {
     "name": "stdout",
     "output_type": "stream",
     "text": [
      "38.63847158703123 5.2422454240000335e-297 7127.205606761121\n"
     ]
    }
   ],
   "source": [
    " tstat, pvalue, ddof = ttest_ind(\n",
    "                                middle,\n",
    "                                old,\n",
    "                                alternative=\"larger\",\n",
    "                                usevar=\"unequal\"\n",
    " )\n",
    "print(tstat, pvalue, ddof)    "
   ]
  },
  {
   "cell_type": "code",
   "execution_count": 13,
   "metadata": {},
   "outputs": [
    {
     "name": "stdout",
     "output_type": "stream",
     "text": [
      "87.24747908351314 0.0 4723.302717729157\n"
     ]
    }
   ],
   "source": [
    "tstat, pvalue, ddof = ttest_ind(\n",
    "                                young,\n",
    "                                old,\n",
    "                                alternative=\"larger\",\n",
    "                                usevar=\"unequal\"\n",
    " )\n",
    "print(tstat, pvalue, ddof) "
   ]
  },
  {
   "cell_type": "code",
   "execution_count": 29,
   "metadata": {},
   "outputs": [
    {
     "data": {
      "text/plain": [
       "Unnamed: 0           int64\n",
       "id                   int64\n",
       "first               object\n",
       "last                object\n",
       "sex                 object\n",
       "age                  int64\n",
       "age_cat             object\n",
       "race                object\n",
       "juv_fel_count        int64\n",
       "decile_score         int64\n",
       "juv_misd_count       int64\n",
       "juv_other_count      int64\n",
       "priors_count         int64\n",
       "is_recid             int64\n",
       "is_violent_recid     int64\n",
       "v_decile_score       int64\n",
       "v_score_text        object\n",
       "decile_score.1       int64\n",
       "score_text          object\n",
       "accuracy              bool\n",
       "dtype: object"
      ]
     },
     "execution_count": 29,
     "metadata": {},
     "output_type": "execute_result"
    }
   ],
   "source": [
    "highrisk.dtypes"
   ]
  },
  {
   "cell_type": "code",
   "execution_count": 45,
   "metadata": {},
   "outputs": [],
   "source": [
    "highrisk = compas[compas.score_text == \"High\"]\n",
    "highrisk = highrisk[(highrisk.is_recid != -1) & (highrisk.decile_score != -1)]\n",
    "## -1 = unknown, so those were deleted"
   ]
  },
  {
   "cell_type": "code",
   "execution_count": 46,
   "metadata": {},
   "outputs": [],
   "source": [
    "highrisk[\"accuracy\"] = (highrisk.is_recid == 1)\n",
    "##checked if is_recid is True with high risk decile score to determine accuracy"
   ]
  },
  {
   "cell_type": "code",
   "execution_count": 47,
   "metadata": {},
   "outputs": [],
   "source": [
    "young2 = highrisk[highrisk.age_cat == \"Less than 25\"].accuracy\n",
    "middle2 = highrisk[highrisk.age_cat == \"25 - 45\"].accuracy\n",
    "old2 = highrisk[highrisk.age_cat == \"Greater than 45\"].accuracy\n",
    "##subset by age"
   ]
  },
  {
   "cell_type": "code",
   "execution_count": 48,
   "metadata": {},
   "outputs": [
    {
     "name": "stdout",
     "output_type": "stream",
     "text": [
      "0.5481927710843374 0.5325732899022801 0.4251207729468599\n"
     ]
    }
   ],
   "source": [
    "print(young2.mean(), middle2.mean(), old2.mean())"
   ]
  },
  {
   "cell_type": "code",
   "execution_count": 49,
   "metadata": {},
   "outputs": [
    {
     "name": "stdout",
     "output_type": "stream",
     "text": [
      "0.6505547751165384 0.5154436817845576 1361.6788657477787\n"
     ]
    }
   ],
   "source": [
    " tstat, pvalue, ddof = ttest_ind(\n",
    "                                young2,\n",
    "                                middle2,\n",
    "                                alternative=\"two-sided\",\n",
    "                                usevar=\"unequal\"\n",
    " )\n",
    "print(tstat, pvalue, ddof) "
   ]
  },
  {
   "cell_type": "code",
   "execution_count": 51,
   "metadata": {},
   "outputs": [
    {
     "name": "stdout",
     "output_type": "stream",
     "text": [
      "3.116051265304813 0.001986434026815587 345.5133605030412\n"
     ]
    }
   ],
   "source": [
    " tstat, pvalue, ddof = ttest_ind(\n",
    "                                young2,\n",
    "                                old2,\n",
    "                                alternative=\"two-sided\",\n",
    "                                usevar=\"unequal\"\n",
    " )\n",
    "print(tstat, pvalue, ddof) "
   ]
  },
  {
   "cell_type": "code",
   "execution_count": 52,
   "metadata": {},
   "outputs": [
    {
     "name": "stdout",
     "output_type": "stream",
     "text": [
      "2.882869983424161 0.004244991793179706 281.10125290631083\n"
     ]
    }
   ],
   "source": [
    " tstat, pvalue, ddof = ttest_ind(\n",
    "                                middle2,\n",
    "                                old2,\n",
    "                                alternative=\"two-sided\",\n",
    "                                usevar=\"unequal\"\n",
    " )\n",
    "print(tstat, pvalue, ddof) "
   ]
  },
  {
   "cell_type": "markdown",
   "metadata": {},
   "source": [
    "These hypothesis tests were checking if there was a significant difference between the age groups accuracy. \n",
    "It seems as though there is a signifcant difference between the younger two groups and the oldest group.\n",
    "It would also be a good idea to look at low risk. "
   ]
  },
  {
   "cell_type": "code",
   "execution_count": 57,
   "metadata": {},
   "outputs": [],
   "source": [
    "##same procedure but with low risk\n",
    "lowrisk = compas[compas.score_text == \"Low\"]\n",
    "lowrisk = lowrisk[(lowrisk.is_recid != -1) & (lowrisk.decile_score != -1)]"
   ]
  },
  {
   "cell_type": "code",
   "execution_count": 58,
   "metadata": {},
   "outputs": [],
   "source": [
    "lowrisk[\"accuracy\"] = (lowrisk.is_recid == 0)\n",
    "##accurate if is_recid == 0"
   ]
  },
  {
   "cell_type": "code",
   "execution_count": 59,
   "metadata": {},
   "outputs": [],
   "source": [
    "young3 = lowrisk[lowrisk.age_cat == \"Less than 25\"].accuracy\n",
    "middle3 = lowrisk[lowrisk.age_cat == \"25 - 45\"].accuracy\n",
    "old3 = lowrisk[lowrisk.age_cat == \"Greater than 45\"].accuracy"
   ]
  },
  {
   "cell_type": "code",
   "execution_count": 60,
   "metadata": {},
   "outputs": [
    {
     "name": "stdout",
     "output_type": "stream",
     "text": [
      "0.690734055354994 0.7607060185185185 0.8178879310344828\n"
     ]
    }
   ],
   "source": [
    "print(young3.mean(), middle3.mean(), old3.mean())"
   ]
  },
  {
   "cell_type": "code",
   "execution_count": 64,
   "metadata": {},
   "outputs": [
    {
     "name": "stdout",
     "output_type": "stream",
     "text": [
      "-3.9737509848699326 7.499325893430174e-05 1192.5917089874865\n"
     ]
    }
   ],
   "source": [
    " tstat, pvalue, ddof = ttest_ind(\n",
    "                                young3,\n",
    "                                middle3,\n",
    "                                alternative=\"two-sided\",\n",
    "                                usevar=\"unequal\"\n",
    " )\n",
    "print(tstat, pvalue, ddof) "
   ]
  },
  {
   "cell_type": "code",
   "execution_count": 62,
   "metadata": {},
   "outputs": [
    {
     "name": "stdout",
     "output_type": "stream",
     "text": [
      "-6.919646610619877 6.9337001458953706e-12 1369.0461762834632\n"
     ]
    }
   ],
   "source": [
    " tstat, pvalue, ddof = ttest_ind(\n",
    "                                young3,\n",
    "                                old3,\n",
    "                                alternative=\"two-sided\",\n",
    "                                usevar=\"unequal\"\n",
    " )\n",
    "print(tstat, pvalue, ddof) "
   ]
  },
  {
   "cell_type": "code",
   "execution_count": 63,
   "metadata": {},
   "outputs": [
    {
     "name": "stdout",
     "output_type": "stream",
     "text": [
      "-4.958642361248988 7.383646858476191e-07 4132.705113743328\n"
     ]
    }
   ],
   "source": [
    " tstat, pvalue, ddof = ttest_ind(\n",
    "                                middle3,\n",
    "                                old3,\n",
    "                                alternative=\"two-sided\",\n",
    "                                usevar=\"unequal\"\n",
    " )\n",
    "print(tstat, pvalue, ddof) "
   ]
  },
  {
   "cell_type": "markdown",
   "metadata": {},
   "source": [
    "The low risk accuracy for the oldest group is much higher.\n",
    "The differences in accuracy are significant between all groups. They likely do not have the same average accuracy. \n",
    "Since the average accuracy for the oldest group is significantly lower for high risk and higher for low risk, this may mean this algorithm may give the older group lower scores in general. "
   ]
  },
  {
   "cell_type": "code",
   "execution_count": null,
   "metadata": {},
   "outputs": [],
   "source": []
  }
 ],
 "metadata": {
  "kernelspec": {
   "display_name": "Python 3",
   "language": "python",
   "name": "python3"
  },
  "language_info": {
   "codemirror_mode": {
    "name": "ipython",
    "version": 3
   },
   "file_extension": ".py",
   "mimetype": "text/x-python",
   "name": "python",
   "nbconvert_exporter": "python",
   "pygments_lexer": "ipython3",
   "version": "3.7.4"
  }
 },
 "nbformat": 4,
 "nbformat_minor": 4
}
